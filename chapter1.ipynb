{
 "cells": [
  {
   "cell_type": "markdown",
   "metadata": {},
   "source": [
    "# Tutorial on ensemble history matching and optimisation (TODO)\n",
    "\n",
    "Copyright Patrick N. Raanes, NORCE, 2020.\n",
    "\n",
    "This (Jupyter/Python) notebook presents\n",
    "a tutorial on history matching (HM) using ensemble methods.\n",
    "\n",
    "This is a work in progress.\n",
    "Details may be lacking.\n",
    "Don't hesitate to send me an email with any questions you have."
   ]
  },
  {
   "cell_type": "markdown",
   "metadata": {},
   "source": [
    "## Jupyter notebooks\n",
    "the format used for these tutorials.\n",
    "Notebooks combine **cells** of code (Python) with cells of text (markdown).\n",
    "The exercises in these tutorials only require light Python experience.\n",
    "For example, edit the cell below (double-click it),\n",
    "insert your name,\n",
    "and run it (press \"Run\" in the toolbar)."
   ]
  },
  {
   "cell_type": "code",
   "execution_count": null,
   "metadata": {},
   "outputs": [],
   "source": [
    "name = \"Batman\"\n",
    "print(\"Hello world! I'm \" + name)\n",
    "for i, c in enumerate(name):\n",
    "    print(i, c)"
   ]
  },
  {
   "cell_type": "markdown",
   "metadata": {},
   "source": [
    "You will likely be more efficient if you know these\n",
    "**keyboard shortcuts** to interact with cells:\n",
    "\n",
    "| Navigate                      |    | Edit              |    | Exit           |    | Run                              |    | Run & go to next                  |\n",
    "| -------------                 | -- | ----------------- | -- | --------       | -- | -------                          | -- | -----------------                 |\n",
    "| <kbd>↓</kbd> and <kbd>↑</kbd> |    | <kbd>Enter</kbd>  |    | <kbd>Esc</kbd> |    | <kbd>Ctrl</kbd>+<kbd>Enter</kbd> |    | <kbd>Shift</kbd>+<kbd>Enter</kbd> |\n",
    "\n",
    "When you open a notebook it starts a **session (kernel/runtime)**\n",
    "of Python in the background.\n",
    "All of the Python code cells (in a given notebook) are connected\n",
    "(they use the same Python kernel and thus share variables, functions, and classes).\n",
    "Thus, the **order** in which you run the cells matters."
   ]
  },
  {
   "cell_type": "markdown",
   "metadata": {},
   "source": [
    "One thing you must know is how to **restart** the Python session,\n",
    "which clears all of your variables, functions, etc,\n",
    "so that you can start over.\n",
    "Test this now by going through the top menu bar:\n",
    "`Kernel` → `Restart & Clear Output`.\n",
    "But rembember to run the above cell again!"
   ]
  },
  {
   "cell_type": "markdown",
   "metadata": {},
   "source": [
    "There is a huge amount of libraries available in **Python**,\n",
    "including the popular `scipy` (with `numpy` at its core) and `matplotlib` packages.\n",
    "These are imported (and abbreviated) as `sp`, `np`, and `mpl` and `plt`.\n",
    "Try them out by running the following, which illustrates some algebra\n",
    "using syntax reminiscent of Matlab."
   ]
  },
  {
   "cell_type": "code",
   "execution_count": null,
   "metadata": {},
   "outputs": [],
   "source": [
    "import numpy as np\n",
    "from matplotlib import pyplot as plt"
   ]
  },
  {
   "cell_type": "code",
   "execution_count": null,
   "metadata": {},
   "outputs": [],
   "source": [
    "# Use numpy's arrays for vectors and matrices. Example constructions:\n",
    "a  = np.arange(10)  # Alternatively: np.array([0,1,2,3,4,5,6,7,8,9])\n",
    "Id = 2*np.eye(10)   # Alternatively: np.diag(2*np.ones(10))"
   ]
  },
  {
   "cell_type": "code",
   "execution_count": null,
   "metadata": {},
   "outputs": [],
   "source": [
    "print(\"Indexing examples:\")\n",
    "print(\"a         =\", a)\n",
    "print(\"a[3]      =\", a[3])\n",
    "print(\"a[0:3]    =\", a[0:3])\n",
    "print(\"a[:3]     =\", a[:3])\n",
    "print(\"a[3:]     =\", a[3:])\n",
    "print(\"a[-1]     =\", a[-1])\n",
    "print(\"Id[:3,:3] =\", Id[:3, :3], sep=\"\\n\")"
   ]
  },
  {
   "cell_type": "code",
   "execution_count": null,
   "metadata": {},
   "outputs": [],
   "source": [
    "print(\"\\nLinear algebra examples:\")\n",
    "print(\"100+a  =\", 100+a)\n",
    "print(\"Id@a   =\", Id@a)\n",
    "print(\"Id*a   =\", Id*a, sep=\"\\n\")"
   ]
  },
  {
   "cell_type": "code",
   "execution_count": null,
   "metadata": {},
   "outputs": [],
   "source": [
    "plt.title(\"Plotting example\")\n",
    "plt.ylabel(\"$i \\\\, x^2$\")\n",
    "for i in range(4):\n",
    "    plt.plot(i * a**2, label=\"i = %d\" % i)\n",
    "plt.legend();"
   ]
  },
  {
   "cell_type": "markdown",
   "metadata": {},
   "source": [
    "## Setup\n",
    "Run the following cells to import some tools..."
   ]
  },
  {
   "cell_type": "code",
   "execution_count": null,
   "metadata": {},
   "outputs": [],
   "source": [
    "from copy import deepcopy"
   ]
  },
  {
   "cell_type": "code",
   "execution_count": null,
   "metadata": {},
   "outputs": [],
   "source": [
    "import numpy as np\n",
    "import scipy.linalg as sla\n",
    "from matplotlib import pyplot as plt\n",
    "from mpl_tools.misc import freshfig\n",
    "from numpy.random import randn\n",
    "from patlib.dict_tools import DotDict\n",
    "from tqdm.auto import tqdm as progbar"
   ]
  },
  {
   "cell_type": "markdown",
   "metadata": {},
   "source": [
    "and the model, ..."
   ]
  },
  {
   "cell_type": "code",
   "execution_count": null,
   "metadata": {
    "lines_to_next_cell": 2
   },
   "outputs": [],
   "source": [
    "import geostat\n",
    "import simulator\n",
    "import simulator.plotting as plots\n",
    "from simulator import simulate\n",
    "from tools import RMS, center"
   ]
  },
  {
   "cell_type": "code",
   "execution_count": null,
   "metadata": {},
   "outputs": [],
   "source": [
    "plots.COORD_TYPE = \"rel\"\n",
    "plots.setup()"
   ]
  },
  {
   "cell_type": "markdown",
   "metadata": {},
   "source": [
    "... and initialize some data containers."
   ]
  },
  {
   "cell_type": "code",
   "execution_count": null,
   "metadata": {},
   "outputs": [],
   "source": [
    "# Permeability\n",
    "perm = DotDict()\n",
    "\n",
    "# Production (water saturation)\n",
    "prod = DotDict(\n",
    "    past=DotDict(),\n",
    "    future=DotDict(),\n",
    ")\n",
    "\n",
    "# Water saturation\n",
    "wsat = DotDict(\n",
    "    initial=DotDict(),\n",
    "    past=DotDict(),\n",
    "    future=DotDict(),\n",
    ")"
   ]
  },
  {
   "cell_type": "markdown",
   "metadata": {},
   "source": [
    "Enable exact reproducibility by setting random generator seed."
   ]
  },
  {
   "cell_type": "code",
   "execution_count": null,
   "metadata": {},
   "outputs": [],
   "source": [
    "# seed = np.random.seed(10)  # easy\n",
    "# seed = np.random.seed(22)  # easy\n",
    "# seed = np.random.seed(30)  # easy\n",
    "seed = np.random.seed(5)  # harder"
   ]
  },
  {
   "cell_type": "markdown",
   "metadata": {},
   "source": [
    "## Model and case specification\n",
    "The reservoir model, which takes up about 100 lines of python code,\n",
    "is a 2D, two-phase, immiscible, incompressible simulator using TPFA.\n",
    "It was translated from the matlab code here\n",
    "http://folk.ntnu.no/andreas/papers/ResSimMatlab.pdf\n",
    "\n",
    "We will estimate the log permeability field and (TODO).\n",
    "The data will consist in the production saturations."
   ]
  },
  {
   "cell_type": "code",
   "execution_count": null,
   "metadata": {
    "lines_to_next_cell": 1
   },
   "outputs": [],
   "source": [
    "model = simulator.ResSim(Nx=20, Ny=20, Lx=2, Ly=1)"
   ]
  },
  {
   "cell_type": "markdown",
   "metadata": {},
   "source": [
    "#### Permeability sampling\n",
    "We work with log permeabilities, which can (in principle) be Gaussian."
   ]
  },
  {
   "cell_type": "code",
   "execution_count": null,
   "metadata": {
    "lines_to_next_cell": 1
   },
   "outputs": [],
   "source": [
    "def sample_log_perm(N=1):\n",
    "    lperms = geostat.gaussian_fields(model.mesh(), N, 0.8)\n",
    "    return lperms"
   ]
  },
  {
   "cell_type": "code",
   "execution_count": null,
   "metadata": {
    "lines_to_next_cell": 1
   },
   "outputs": [],
   "source": [
    "def log2perm(lperms):\n",
    "    # return np.exp(3*lperms)\n",
    "    return 0.5 + .1*lperms"
   ]
  },
  {
   "cell_type": "markdown",
   "metadata": {},
   "source": [
    "The transformation of the parameters to model input is effectively part of the forward model."
   ]
  },
  {
   "cell_type": "code",
   "execution_count": null,
   "metadata": {
    "lines_to_next_cell": 1
   },
   "outputs": [],
   "source": [
    "def set_perm(model, log_perm_array):\n",
    "    # p = np.exp(3*log_perm_array)\n",
    "    p = 0.5 + .1*log_perm_array\n",
    "    p = p.reshape(model.shape)\n",
    "    model.Gridded.K = np.stack([p, p])"
   ]
  },
  {
   "cell_type": "markdown",
   "metadata": {},
   "source": [
    "Here we sample the permeabilitiy of the (synthetic) truth."
   ]
  },
  {
   "cell_type": "code",
   "execution_count": null,
   "metadata": {},
   "outputs": [],
   "source": [
    "perm.Truth = sample_log_perm()\n",
    "set_perm(model, perm.Truth)"
   ]
  },
  {
   "cell_type": "markdown",
   "metadata": {},
   "source": [
    "#### Well specification\n",
    "We here specify the wells as point sources and sinks,\n",
    "giving their placement and flux.\n",
    "\n",
    "The boundary conditions are of the Dirichlet type, specifying zero flux.\n",
    "The source terms must therefore equal the sink terms.\n",
    "This is ensured by the `init_Q` function used below."
   ]
  },
  {
   "cell_type": "code",
   "execution_count": null,
   "metadata": {},
   "outputs": [],
   "source": [
    "# Manual well specification\n",
    "# model.init_Q(\n",
    "#     #     x    y     rate\n",
    "#     inj =[\n",
    "#         [0.50, 0.50, 1.00],\n",
    "#     ],\n",
    "#     prod=[\n",
    "#         [0.10, 0.10, 1.00],\n",
    "#         # [0.10, 0.50, 1.00],\n",
    "#         [0.10, 0.90, 1.00],\n",
    "#         # [0.50, 0.10, 1.00],\n",
    "#         # [0.50, 0.50, 1.00],\n",
    "#         # [0.50, 0.90, 1.00],\n",
    "#         [0.90, 0.10, 1.00],\n",
    "#         # [0.90, 0.50, 1.00],\n",
    "#         [0.90, 0.90, 1.00],\n",
    "#     ]\n",
    "# );\n",
    "\n",
    "# Wells on a grid\n",
    "well_grid = np.linspace(0.1, .9, 6)\n",
    "well_grid = np.meshgrid(well_grid, well_grid)\n",
    "well_grid = np.stack(well_grid + [np.ones_like(well_grid[0])])\n",
    "well_grid = well_grid.T.reshape((-1, 3))\n",
    "model.init_Q(\n",
    "    inj =[[0.50, 0.50, 1.00]],\n",
    "    prod=well_grid\n",
    ");\n",
    "\n",
    "# # Random setting\n",
    "# model.init_Q(\n",
    "#     inj =rand(1, 3),\n",
    "#     prod=rand(8, 3)\n",
    "# );"
   ]
  },
  {
   "cell_type": "markdown",
   "metadata": {},
   "source": [
    "#### Plot true field"
   ]
  },
  {
   "cell_type": "code",
   "execution_count": null,
   "metadata": {
    "lines_to_next_cell": 2
   },
   "outputs": [],
   "source": [
    "fig, ax = freshfig(110)\n",
    "cs = plots.field(model, ax, perm.Truth)\n",
    "# cs = plots.field(model, ax, log2perm(perm.Truth), locator=ticker.LogLocator())\n",
    "plots.well_scatter(model, ax, model.producers, inj=False)\n",
    "plots.well_scatter(model, ax, model.injectors, inj=True)\n",
    "fig.colorbar(cs)\n",
    "fig.suptitle(\"True field\");"
   ]
  },
  {
   "cell_type": "markdown",
   "metadata": {},
   "source": [
    "#### Define obs operator"
   ]
  },
  {
   "cell_type": "code",
   "execution_count": null,
   "metadata": {},
   "outputs": [],
   "source": [
    "obs_inds = [model.xy2ind(x, y) for (x, y, _) in model.producers]\n",
    "def obs(water_sat):\n",
    "    return [water_sat[i] for i in obs_inds]\n",
    "obs.length = len(obs_inds)"
   ]
  },
  {
   "cell_type": "markdown",
   "metadata": {},
   "source": [
    "#### Simulation to generate the synthetic truth evolution and data"
   ]
  },
  {
   "cell_type": "code",
   "execution_count": null,
   "metadata": {},
   "outputs": [],
   "source": [
    "wsat.initial.Truth = np.zeros(model.M)\n",
    "# wsat.initial.Truth = log2perm(perm.Truth.squeeze())  # TODO rm\n",
    "nTime = 50\n",
    "dt = 0.025\n",
    "wsat.past.Truth, prod.past.Truth = simulate(\n",
    "    model.step, nTime, wsat.initial.Truth, dt, obs)"
   ]
  },
  {
   "cell_type": "markdown",
   "metadata": {},
   "source": [
    "##### Animation\n",
    "Run the code cell below to get an animation of the oil saturation evoluation.\n",
    "Injection (resp. production) wells are marked with triangles pointing down (resp. up).\n",
    "\n",
    "<mark><font size=\"-1\">\n",
    "<em>Note:</em> takes a while to load.\n",
    "</font></mark>"
   ]
  },
  {
   "cell_type": "code",
   "execution_count": null,
   "metadata": {
    "lines_to_next_cell": 2
   },
   "outputs": [],
   "source": [
    "ani = plots.dashboard(model, wsat.past.Truth, prod.past.Truth, animate=True, title=\"Truth\")\n",
    "plots.display(ani);"
   ]
  },
  {
   "cell_type": "markdown",
   "metadata": {},
   "source": [
    "#### Noisy obs\n",
    "In reality, observations are never perfect.\n",
    "To reflect this, we corrupt the observations by adding a bit of noise."
   ]
  },
  {
   "cell_type": "code",
   "execution_count": null,
   "metadata": {
    "lines_to_next_cell": 2
   },
   "outputs": [],
   "source": [
    "prod.past.Noisy = prod.past.Truth.copy()\n",
    "nProd = len(model.producers)  # num. of obs (per time)\n",
    "R = 1e-6 * np.eye(nProd)\n",
    "for iT in range(nTime):\n",
    "    prod.past.Noisy[iT] += R @ randn(nProd)"
   ]
  },
  {
   "cell_type": "markdown",
   "metadata": {},
   "source": [
    "Plot of observations (and their noise):"
   ]
  },
  {
   "cell_type": "code",
   "execution_count": null,
   "metadata": {},
   "outputs": [],
   "source": [
    "fig, ax = freshfig(120)\n",
    "hh_y = plots.production1(ax, prod.past.Truth, obs=prod.past.Noisy)"
   ]
  },
  {
   "cell_type": "markdown",
   "metadata": {},
   "source": [
    "## Prior\n",
    "The prior ensemble is generated in the same manner as the (synthetic) truth,\n",
    "using the same mean and covariance.\n",
    "Thus, the members are \"statistically indistinguishable\" to the truth.\n",
    "This assumption underlies ensemble methods."
   ]
  },
  {
   "cell_type": "code",
   "execution_count": null,
   "metadata": {},
   "outputs": [],
   "source": [
    "N = 100\n",
    "perm.Prior = sample_log_perm(N)"
   ]
  },
  {
   "cell_type": "markdown",
   "metadata": {},
   "source": [
    "Depending on the parameter type, transformations may be in order that will yield non-Gaussian distributions. Inspect the density by the histograms below."
   ]
  },
  {
   "cell_type": "code",
   "execution_count": null,
   "metadata": {},
   "outputs": [],
   "source": [
    "fig, ax = freshfig(130, figsize=(12, 3))\n",
    "for label, data in perm.items():\n",
    "    ax.hist(data.ravel(), label=label, alpha=0.4, density=True)\n",
    "ax.set(ylabel=\"rel. frequency\")\n",
    "ax.legend();"
   ]
  },
  {
   "cell_type": "markdown",
   "metadata": {},
   "source": [
    "Below we can see some realizations (members) from the ensemble."
   ]
  },
  {
   "cell_type": "code",
   "execution_count": null,
   "metadata": {},
   "outputs": [],
   "source": [
    "plots.subplots(model, 140, plots.field, perm.Prior,\n",
    "               figsize=(14, 5), title=\"Prior -- some realizations\");"
   ]
  },
  {
   "cell_type": "markdown",
   "metadata": {},
   "source": [
    "#### Eigenvalue specturm\n",
    "In practice, of course, we would not be using an explicit `Cov` matrix when generating the prior ensemble, because it would be too large.  However, since this synthetic case in being made that way, let's inspect its spectrum."
   ]
  },
  {
   "cell_type": "code",
   "execution_count": null,
   "metadata": {},
   "outputs": [],
   "source": [
    "U, svals, VT = sla.svd(perm.Prior)\n",
    "ii = 1+np.arange(len(svals))\n",
    "fig, ax = freshfig(150, figsize=(12, 5))\n",
    "ax.loglog(ii, svals)\n",
    "# ax.semilogx(ii, svals)\n",
    "ax.grid(True, \"minor\", axis=\"x\")\n",
    "ax.grid(True, \"major\", axis=\"y\")\n",
    "ax.set(xlabel=\"eigenvalue #\", ylabel=\"var.\",\n",
    "       title=\"Spectrum of initial, true cov\");"
   ]
  },
  {
   "cell_type": "markdown",
   "metadata": {},
   "source": [
    "Finally, we set the prior for the state variable to a single (i.e. deterministic) field. This means that there is no uncertainty in the state variable."
   ]
  },
  {
   "cell_type": "code",
   "execution_count": null,
   "metadata": {
    "lines_to_next_cell": 2
   },
   "outputs": [],
   "source": [
    "wsat.initial.Prior = np.tile(wsat.initial.Truth, (N, 1))\n",
    "# wsat.initial.Prior = log2perm(perm.Prior)  # TODO rm"
   ]
  },
  {
   "cell_type": "markdown",
   "metadata": {},
   "source": [
    "## Assimilation"
   ]
  },
  {
   "cell_type": "markdown",
   "metadata": {},
   "source": [
    "#### Propagation\n",
    "Ensemble methods obtain observation-parameter sensitivities from the covariances of the ensemble run through the model. Note that this for-loop is \"embarrasingly parallelizable\", because each iterate is complete indepdendent (requires no communication) from the others."
   ]
  },
  {
   "cell_type": "code",
   "execution_count": null,
   "metadata": {
    "lines_to_next_cell": 1
   },
   "outputs": [],
   "source": [
    "def forecast(nSteps, wsats0, perms):\n",
    "    \"\"\"Forecast for an ensemble.\"\"\"\n",
    "\n",
    "    # Allocate\n",
    "    production = np.zeros((N, nSteps, nProd))\n",
    "    saturation = np.zeros((N, nSteps+1, model.M))\n",
    "\n",
    "    for n, (wsat0, perm) in enumerate(progbar(list(zip(wsats0, perms)), \"Members\")):\n",
    "\n",
    "        # Set ensemble\n",
    "        model_n = deepcopy(model)\n",
    "        set_perm(model_n, perm)\n",
    "\n",
    "        # Simulate\n",
    "        s, p = simulate(model_n.step, nSteps, wsat0, dt, obs, pbar=False)\n",
    "\n",
    "        # Write\n",
    "        # Note: we only really need the last entry in the saturation series.\n",
    "        production[n] = p\n",
    "        saturation[n] = s\n",
    "\n",
    "    return saturation, production"
   ]
  },
  {
   "cell_type": "code",
   "execution_count": null,
   "metadata": {
    "lines_to_next_cell": 1
   },
   "outputs": [],
   "source": [
    "wsat.past.Prior, prod.past.Prior = forecast(\n",
    "    nTime, wsat.initial.Prior, perm.Prior)"
   ]
  },
  {
   "cell_type": "markdown",
   "metadata": {},
   "source": [
    "### Ensemble smoother"
   ]
  },
  {
   "cell_type": "code",
   "execution_count": null,
   "metadata": {},
   "outputs": [],
   "source": [
    "def ES(ensemble, obs_ens, observation, obs_err_cov, infl=1.0):\n",
    "    \"\"\"Update/conditioning (Bayes' rule) for an ensemble,\n",
    "\n",
    "    according to the \"ensemble smoother\" algorithm,\n",
    "\n",
    "    given a (vector) observations an an ensemble (matrix).\n",
    "\n",
    "    NB: obs_err_cov is treated as diagonal.\n",
    "    Alternative: use `sla.sqrtm`.\n",
    "    \"\"\"\n",
    "\n",
    "    Y           = infl*center(obs_ens)\n",
    "    obs_cov     = obs_err_cov*(N-1) + Y.T@Y\n",
    "    obs_pert    = randn(N, len(observation)) @ np.sqrt(obs_err_cov)\n",
    "    innovations = observation - (obs_ens + obs_pert)\n",
    "\n",
    "    # (pre-) Kalman gain * Innovations\n",
    "    KGdY = innovations @ sla.pinv2(obs_cov) @ Y.T\n",
    "    # Note: formula is transposed, and reversed (vs. literature standards),\n",
    "    # because the members are here stacked as rows (vs. columns).\n",
    "\n",
    "    E = ensemble\n",
    "\n",
    "    # Inflate\n",
    "    E = E.mean(axis=0) + infl*(E - E.mean(axis=0))\n",
    "\n",
    "    # Update\n",
    "    E = E + KGdY @ center(E)\n",
    "    return E"
   ]
  },
  {
   "cell_type": "markdown",
   "metadata": {},
   "source": [
    "### Iterative ensemble smoother\n",
    "TODO"
   ]
  },
  {
   "cell_type": "markdown",
   "metadata": {},
   "source": [
    "#### Update"
   ]
  },
  {
   "cell_type": "code",
   "execution_count": null,
   "metadata": {},
   "outputs": [],
   "source": [
    "perm.ES = ES(\n",
    "    ensemble    = perm.Prior,\n",
    "    obs_ens     = prod.past.Prior.reshape((N, -1)),\n",
    "    observation = prod.past.Noisy.reshape(-1),\n",
    "    obs_err_cov = sla.block_diag(*[R]*nTime),\n",
    ")"
   ]
  },
  {
   "cell_type": "markdown",
   "metadata": {},
   "source": [
    "Let's plot the updated, initial ensemble."
   ]
  },
  {
   "cell_type": "code",
   "execution_count": null,
   "metadata": {
    "lines_to_next_cell": 2
   },
   "outputs": [],
   "source": [
    "plots.subplots(model, 160, plots.field, perm.ES,\n",
    "               figsize=(14, 5), title=\"ES posterior -- some realizations\");"
   ]
  },
  {
   "cell_type": "markdown",
   "metadata": {},
   "source": [
    "#### Diagnostics"
   ]
  },
  {
   "cell_type": "code",
   "execution_count": null,
   "metadata": {},
   "outputs": [],
   "source": [
    "print(\"Stats vs. true field\")\n",
    "print(\"Prior: \", RMS(perm.Truth, perm.Prior))\n",
    "print(\"ES   : \", RMS(perm.Truth, perm.ES))"
   ]
  },
  {
   "cell_type": "markdown",
   "metadata": {},
   "source": [
    "#### Plot of means\n",
    "Let's plot mean fields.\n",
    "\n",
    "NB: Caution! Mean fields are liable to be less rugged than the truth.\n",
    "As such, their importance must not be overstated\n",
    "(they're just one esitmator out of many).\n",
    "Instead, whenever a decision is to be made,\n",
    "all of the members should be included in the decision-making process."
   ]
  },
  {
   "cell_type": "code",
   "execution_count": null,
   "metadata": {},
   "outputs": [],
   "source": [
    "perm._means = DotDict((k, perm[k].mean(axis=0)) for k in perm\n",
    "                      if not k.startswith(\"_\"))"
   ]
  },
  {
   "cell_type": "code",
   "execution_count": null,
   "metadata": {},
   "outputs": [],
   "source": [
    "plots.subplots(model, 170, plots.field, perm._means,\n",
    "               figsize=(14, 4), title=\"Particular fields.\");"
   ]
  },
  {
   "cell_type": "markdown",
   "metadata": {},
   "source": [
    "## Correlations\n",
    "NB: Correlations are just one part of the update (gain) operation (matrix),\n",
    "which also involves:\n",
    "- the sensitivity matrix (the obs. operator)\n",
    "- the inter-dependence of elements.\n",
    "- the relative sizes of the errors (prior vs. likelihood,\n",
    "  as well as one vector element vs. another)."
   ]
  },
  {
   "cell_type": "code",
   "execution_count": null,
   "metadata": {
    "lines_to_next_cell": 2
   },
   "outputs": [],
   "source": [
    "# Not very interesting coz its perm-perm\n",
    "# iWell = 2\n",
    "# xy_coord = model.producers[iWell, :2]\n",
    "# plots.correlation_fields(\n",
    "#    model, 180, intersect(perm, [\"Prior\", \"ES\"]),\n",
    "#    xy_coord, \"Initial corr.\")"
   ]
  },
  {
   "cell_type": "markdown",
   "metadata": {},
   "source": [
    "## Past production (data mismatch)"
   ]
  },
  {
   "cell_type": "markdown",
   "metadata": {},
   "source": [
    "We already have the past true and prior production profiles.\n",
    "Let's add to that the production profiles of the posterior."
   ]
  },
  {
   "cell_type": "code",
   "execution_count": null,
   "metadata": {},
   "outputs": [],
   "source": [
    "wsat.past.ES, prod.past.ES = forecast(nTime, wsat.initial.Prior, perm.ES)"
   ]
  },
  {
   "cell_type": "markdown",
   "metadata": {},
   "source": [
    "Plot them all together:"
   ]
  },
  {
   "cell_type": "code",
   "execution_count": null,
   "metadata": {},
   "outputs": [],
   "source": [
    "plots.productions(190, prod.past, figsize=(14, 5), title=\"-- Past\");"
   ]
  },
  {
   "cell_type": "markdown",
   "metadata": {},
   "source": [
    "##### Comment on prior\n",
    "Note that the prior \"surrounds\" the data. This the likely situation in our synthetic case, where the truth was generated by the same random draw process as the ensemble.\n",
    "\n",
    "In practice, this is often not the case. If so, you might want to go back to your geologists and tell them that something is amiss. You should then produce a revised prior with better properties.\n",
    "\n",
    "Note: the above instructions sound like statistical heresy. We are using the data twice over (on the prior, and later to update/condition the prior). However, this is justified to the extent that prior information is difficult to quantify and encode. Too much prior adaptation, however, and you risk overfitting! Ineed, it is a delicate matter."
   ]
  },
  {
   "cell_type": "markdown",
   "metadata": {},
   "source": [
    "##### Comment on posterior\n",
    "If the assumptions (statistical indistinguishability, Gaussianity) are not too far off, then the ensemble posteriors (ES, EnKS, ES_direct) should also surround the data, but with a tighter fit."
   ]
  },
  {
   "cell_type": "markdown",
   "metadata": {},
   "source": [
    "#### Data mismatch"
   ]
  },
  {
   "cell_type": "code",
   "execution_count": null,
   "metadata": {},
   "outputs": [],
   "source": [
    "print(\"Stats vs. past production (i.e. observations)\")\n",
    "print(\"Prior: \", RMS(prod.past.Noisy, prod.past.Prior))\n",
    "print(\"ES   : \", RMS(prod.past.Noisy, prod.past.ES))"
   ]
  },
  {
   "cell_type": "markdown",
   "metadata": {},
   "source": [
    "Note that the standard deviation is much smaller than the RMSE. This may be remedied by inflation (which won't necessarily help with the RMSE), localisation (a powerful fix) and a bigger ensemble size (simple, but costly)."
   ]
  },
  {
   "cell_type": "markdown",
   "metadata": {},
   "source": [
    "## Prediction\n",
    "We now prediction the future production (and saturation fields) by forecasting using the (updated) estimates."
   ]
  },
  {
   "cell_type": "code",
   "execution_count": null,
   "metadata": {},
   "outputs": [],
   "source": [
    "wsat.future.Truth, prod.future.Truth = simulate(\n",
    "    model.step, nTime, wsat.past.Truth[-1], dt, obs)"
   ]
  },
  {
   "cell_type": "code",
   "execution_count": null,
   "metadata": {},
   "outputs": [],
   "source": [
    "wsat.future.Prior, prod.future.Prior = forecast(\n",
    "    nTime, wsat.past.Prior[:, -1, :], perm.Prior)"
   ]
  },
  {
   "cell_type": "code",
   "execution_count": null,
   "metadata": {},
   "outputs": [],
   "source": [
    "wsat.future.ES, prod.future.ES = forecast(\n",
    "    nTime, wsat.past.ES[:, -1, :], perm.ES)"
   ]
  },
  {
   "cell_type": "markdown",
   "metadata": {},
   "source": [
    "#### Plot future production"
   ]
  },
  {
   "cell_type": "code",
   "execution_count": null,
   "metadata": {},
   "outputs": [],
   "source": [
    "plots.productions(200, prod.future, figsize=(14, 5), title=\"-- Future\");"
   ]
  },
  {
   "cell_type": "code",
   "execution_count": null,
   "metadata": {},
   "outputs": [],
   "source": [
    "print(\"Stats vs. (supposedly unknown) future production\")\n",
    "print(\"Prior: \", RMS(prod.future.Truth, prod.future.Prior))\n",
    "print(\"ES   : \", RMS(prod.future.Truth, prod.future.ES))"
   ]
  }
 ],
 "metadata": {
  "jupytext": {
   "cell_metadata_filter": "-all",
   "encoding": "# -*- coding: utf-8 -*-",
   "formats": "py:light,ipynb",
   "main_language": "python",
   "notebook_metadata_filter": "-all"
  },
  "kernelspec": {
   "display_name": "Python 3",
   "language": "python",
   "name": "python3"
  },
  "language_info": {
   "codemirror_mode": {
    "name": "ipython",
    "version": 3
   },
   "file_extension": ".py",
   "mimetype": "text/x-python",
   "name": "python",
   "nbconvert_exporter": "python",
   "pygments_lexer": "ipython3",
   "version": "3.9.0"
  }
 },
 "nbformat": 4,
 "nbformat_minor": 4
}
