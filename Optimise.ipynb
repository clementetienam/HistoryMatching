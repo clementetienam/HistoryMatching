{
 "cells": [
  {
   "cell_type": "markdown",
   "id": "34513a2d",
   "metadata": {
    "lines_to_next_cell": 2
   },
   "source": [
    "# Production optimisation with ensembles – an interactive tutorial\n",
    "\n",
    "Copyright Patrick N. Raanes, NORCE, 2023.\n",
    "\n",
    "This is a self-contained tutorial on production optimisation using ensemble methods.\n",
    "- Please have a look at the [history matching (HM) tutorial](HistoryMatch.ipynb)\n",
    "  for an introduction to Python, Jupyter notebooks, and this reservoir simulator.\n",
    "\n",
    "TODO:\n",
    "- Handle set_perm so it's not necessary to put into new_mod\n",
    "- 1D: Plot ensemble of npv curves\n",
    "- Plot ensemble of pdfs of npvs, including\n",
    "  strategies: reactive control, nominal optimization, robust optimization\n",
    "- Use model with many injectors, producers ? jansen2010closed_prez\n",
    "- Cite essen, jansen, chen, fonseca, stordal, raanes"
   ]
  },
  {
   "cell_type": "markdown",
   "id": "2835db98",
   "metadata": {},
   "source": [
    "If you're on **Google Colab**, run the cell below to install the requirements.\n",
    "Otherwise (and assuming you have done the installation described in the README),\n",
    "you can skip/delete this cell."
   ]
  },
  {
   "cell_type": "code",
   "execution_count": null,
   "id": "845b37c5",
   "metadata": {
    "tags": []
   },
   "outputs": [],
   "source": [
    "remote = \"https://raw.githubusercontent.com/patnr/HistoryMatching\"\n",
    "!wget -qO- {remote}/master/colab_bootstrap.sh | bash -s"
   ]
  },
  {
   "cell_type": "markdown",
   "id": "ff3a8dc1",
   "metadata": {},
   "source": [
    "## Imports"
   ]
  },
  {
   "cell_type": "code",
   "execution_count": null,
   "id": "cbda0ba3",
   "metadata": {
    "tags": []
   },
   "outputs": [],
   "source": [
    "import copy"
   ]
  },
  {
   "cell_type": "code",
   "execution_count": null,
   "id": "7b309b9f",
   "metadata": {},
   "outputs": [],
   "source": [
    "import numpy as np\n",
    "from tqdm.auto import tqdm\n",
    "import numpy.random as rnd\n",
    "import TPFA_ResSim as simulator\n",
    "from mpl_tools.place import freshfig"
   ]
  },
  {
   "cell_type": "code",
   "execution_count": null,
   "id": "7e259476",
   "metadata": {},
   "outputs": [],
   "source": [
    "import tools.plotting as plotting\n",
    "from tools import geostat, utils, mpl_setup"
   ]
  },
  {
   "cell_type": "code",
   "execution_count": null,
   "id": "424623cf",
   "metadata": {},
   "outputs": [],
   "source": [
    "mpl_setup.init()\n",
    "np.set_printoptions(precision=6)"
   ]
  },
  {
   "cell_type": "markdown",
   "id": "39dc09ee",
   "metadata": {},
   "source": [
    "Could put this in npv() rather than copying the base model\n",
    "but it's useful to have a base model in the global namespace\n",
    "for plotting purposes."
   ]
  },
  {
   "cell_type": "markdown",
   "id": "3cf80a6a",
   "metadata": {},
   "source": [
    "## Define model\n",
    "We start with the same settings as in the previous tutorial (on history matching)."
   ]
  },
  {
   "cell_type": "code",
   "execution_count": null,
   "id": "71f24abc-f9bd-434f-81a0-f4a0b2d64348",
   "metadata": {
    "tags": []
   },
   "outputs": [],
   "source": [
    "model = simulator.ResSim(Nx=20, Ny=20, Lx=2, Ly=1)"
   ]
  },
  {
   "cell_type": "code",
   "execution_count": null,
   "id": "abff43ed",
   "metadata": {
    "lines_to_next_cell": 1,
    "tags": []
   },
   "outputs": [],
   "source": [
    "def sample_prior_perm(N):\n",
    "    lperms = geostat.gaussian_fields(model.mesh, N, r=0.8)\n",
    "    return lperms"
   ]
  },
  {
   "cell_type": "code",
   "execution_count": null,
   "id": "a5f8caad",
   "metadata": {
    "lines_to_next_cell": 1,
    "tags": []
   },
   "outputs": [],
   "source": [
    "def perm_transf(x):\n",
    "    return .1 + np.exp(5*x)"
   ]
  },
  {
   "cell_type": "code",
   "execution_count": null,
   "id": "b09b53e5",
   "metadata": {
    "tags": []
   },
   "outputs": [],
   "source": [
    "def set_perm(model, log_perm_array):\n",
    "    \"\"\"Set perm. in model code (both x and y components).\"\"\"\n",
    "    p = perm_transf(log_perm_array)\n",
    "    p = p.reshape(model.shape)\n",
    "    model.Gridded.K = np.stack([p, p])"
   ]
  },
  {
   "cell_type": "code",
   "execution_count": null,
   "id": "cad1e0f5",
   "metadata": {},
   "outputs": [],
   "source": [
    "seed = rnd.seed(3)\n",
    "pperm = sample_prior_perm(1)\n",
    "set_perm(model, pperm)"
   ]
  },
  {
   "cell_type": "markdown",
   "id": "15dd25b2-84ed-4b2c-a6aa-d7b16d2d9526",
   "metadata": {
    "tags": []
   },
   "source": [
    "Suggested total rate of production (total rate of injection must be the same)."
   ]
  },
  {
   "cell_type": "code",
   "execution_count": null,
   "id": "f9a4766b-805f-497d-b70b-5cb88f26e694",
   "metadata": {
    "tags": []
   },
   "outputs": [],
   "source": [
    "rate0 = 1.5"
   ]
  },
  {
   "cell_type": "markdown",
   "id": "ca0d14af-f2a4-4e88-90cd-9df4eb9fe216",
   "metadata": {
    "tags": []
   },
   "source": [
    "List of coordinates (x, y) of the 4 cornerns of the rectangular domain"
   ]
  },
  {
   "cell_type": "code",
   "execution_count": null,
   "id": "7f0c9a66-12d8-471e-998b-16f540904c16",
   "metadata": {
    "tags": []
   },
   "outputs": [],
   "source": [
    "xy_4corners = np.dstack(np.meshgrid(\n",
    "    np.array([.12, .87]) * model.Lx,\n",
    "    np.array([.12, .87]) * model.Ly,\n",
    ")).reshape((-1, 2))"
   ]
  },
  {
   "cell_type": "markdown",
   "id": "a9b536c9-eda5-45a7-96dd-b172cfc6e01f",
   "metadata": {},
   "source": [
    "We'll be altering the model quite a lot,\n",
    "so let's make a convenient factory function."
   ]
  },
  {
   "cell_type": "code",
   "execution_count": null,
   "id": "533909f1",
   "metadata": {
    "lines_to_next_cell": 1
   },
   "outputs": [],
   "source": [
    "def new_mod(**kwargs):\n",
    "    \"\"\"Create new model, based on `globals()['model']`.\"\"\"\n",
    "    # Init\n",
    "    new = copy.deepcopy(model)  # dont overwrite\n",
    "    # Set attrs from kwargs\n",
    "    for key, val in kwargs.items():\n",
    "        setattr(new, key, val)\n",
    "    # Sanitize\n",
    "    new.config_wells(new.inj_xy, new.inj_rates,\n",
    "                     new.prod_xy, new.prod_rates)\n",
    "    return new"
   ]
  },
  {
   "cell_type": "markdown",
   "id": "5d77e6d6",
   "metadata": {},
   "source": [
    "This will serve as our default model"
   ]
  },
  {
   "cell_type": "code",
   "execution_count": null,
   "id": "ab461a21",
   "metadata": {
    "tags": []
   },
   "outputs": [],
   "source": [
    "model = new_mod(\n",
    "    name = \"Base model\",\n",
    "    inj_xy  = [[model.Lx/2, model.Ly/2]],\n",
    "    prod_xy = xy_4corners,\n",
    "    inj_rates  = rate0 * np.ones((1, 1)) / 1,\n",
    "    prod_rates = rate0 * np.ones((4, 1)) / 4,\n",
    ")"
   ]
  },
  {
   "cell_type": "markdown",
   "id": "cd7adc7a",
   "metadata": {},
   "source": [
    "The global `model` is used by `new_mod` for defaults.\n",
    "Let's store its current state"
   ]
  },
  {
   "cell_type": "code",
   "execution_count": null,
   "id": "f7100773-1299-408c-9c7f-f0ad27879a9a",
   "metadata": {
    "tags": []
   },
   "outputs": [],
   "source": [
    "model0 = new_mod()"
   ]
  },
  {
   "cell_type": "markdown",
   "id": "3dbc6112",
   "metadata": {},
   "source": [
    "Plot"
   ]
  },
  {
   "cell_type": "code",
   "execution_count": null,
   "id": "d6d51377",
   "metadata": {
    "tags": []
   },
   "outputs": [],
   "source": [
    "fig, ax = freshfig(model.name, figsize=(1, .6), rel=True)\n",
    "model.plt_field(ax, pperm, \"pperm\", wells=True, colorbar=True);\n",
    "fig.tight_layout()"
   ]
  },
  {
   "cell_type": "markdown",
   "id": "bec9c0b4",
   "metadata": {},
   "source": [
    "## Define simulation"
   ]
  },
  {
   "cell_type": "code",
   "execution_count": null,
   "id": "beb5a6f8",
   "metadata": {
    "tags": []
   },
   "outputs": [],
   "source": [
    "wsat0 = np.zeros(model.Nxy)\n",
    "T = 1\n",
    "dt = 0.025\n",
    "nTime = round(T/dt)"
   ]
  },
  {
   "cell_type": "markdown",
   "id": "81c0fda0-9ef5-44e6-affe-3291f883ccc6",
   "metadata": {},
   "source": [
    "Multiprocessing. Only used in ensemble runs"
   ]
  },
  {
   "cell_type": "code",
   "execution_count": null,
   "id": "0958a988-ef3f-45f0-947c-3f4e1f56d9d9",
   "metadata": {
    "lines_to_next_cell": 1
   },
   "outputs": [],
   "source": [
    "utils.nCPU = True"
   ]
  },
  {
   "cell_type": "code",
   "execution_count": null,
   "id": "a4f45e71",
   "metadata": {},
   "outputs": [],
   "source": [
    "def apply(*args, **kwargs):\n",
    "    return utils.apply(*args, **kwargs, unzip=False, leave=False)"
   ]
  },
  {
   "cell_type": "markdown",
   "id": "2438e915",
   "metadata": {},
   "source": [
    "Like `forward_model` of the previous (history matching) tutorial, but w/o setting params"
   ]
  },
  {
   "cell_type": "code",
   "execution_count": null,
   "id": "d87b5399",
   "metadata": {
    "tags": []
   },
   "outputs": [],
   "source": [
    "def sim(model, wsat, pbar=False, leave=False):\n",
    "    \"\"\"Simulate reservoir.\"\"\"\n",
    "    integrator = model.time_stepper(dt)\n",
    "    wsats = simulator.recurse(integrator, nTime, wsat, pbar=pbar, leave=leave)\n",
    "    # Extract production time series from water saturation fields\n",
    "    wells = model.xy2ind(*model.prod_xy.T)\n",
    "    prods = np.array([wsat[wells] for wsat in wsats])\n",
    "    return wsats, prods"
   ]
  },
  {
   "cell_type": "code",
   "execution_count": null,
   "id": "5cdd32ff",
   "metadata": {},
   "outputs": [],
   "source": [
    "def plot_final_sweep(model):\n",
    "    \"\"\"Simulate reservoir, plot final oil saturation.\"\"\"\n",
    "    title = plotting.dash_join(f\"Final sweep\", getattr(model, \"name\", \"\"))\n",
    "    wsats, prods = sim(model, wsat0)\n",
    "    fig, ax = freshfig(title, figsize=(1, .6), rel=True)\n",
    "    model.plt_field(ax, wsats[-1], \"oil\", wells=True, colorbar=True)\n",
    "    fig.tight_layout()"
   ]
  },
  {
   "cell_type": "markdown",
   "id": "90334c45",
   "metadata": {},
   "source": [
    "Let us plot the final sweep given these well settings"
   ]
  },
  {
   "cell_type": "code",
   "execution_count": null,
   "id": "bdb5ed6d",
   "metadata": {
    "lines_to_next_cell": 1
   },
   "outputs": [],
   "source": [
    "plot_final_sweep(model)"
   ]
  },
  {
   "cell_type": "markdown",
   "id": "5846cfb8",
   "metadata": {},
   "source": [
    "## EnOpt\n",
    "`EnGrad` uses LLS regression to estimate gradients."
   ]
  },
  {
   "cell_type": "code",
   "execution_count": null,
   "id": "c3512997",
   "metadata": {
    "lines_to_next_cell": 1,
    "tags": []
   },
   "outputs": [],
   "source": [
    "def EnGrad(obj, u, chol, nEns, precond=False):\n",
    "    \"\"\"Compute ensemble gradient for `obj` centered on `u`.\"\"\"\n",
    "    U = rnd.randn(nEns, len(u)) @ chol.T\n",
    "    U, _ = utils.center(U)\n",
    "    J = obj(u + U, desc=f\"EnGrad of {obj.__name__}'s\")\n",
    "    J, _ = utils.center(J)\n",
    "    if precond:\n",
    "        g = U.T @ J / (nEns-1)\n",
    "    else:\n",
    "        g = utils.rinv(U, reg=.1, tikh=True) @ J\n",
    "    return g"
   ]
  },
  {
   "cell_type": "markdown",
   "id": "9d62b39c",
   "metadata": {},
   "source": [
    "*EnOpt*: Gradient descent using `EnGrad`.\n",
    "- `rtol` specified how large an improvement is required to update the iterate.\n",
    "  Large values makes backtracking more reluctant to accept an update,\n",
    "  resulting in *faster* declaration of convergence.\n",
    "  Setting to 0 is not recommended, because if the objective function is flat\n",
    "  in the neighborhood, then the path could just go in circles on that flat."
   ]
  },
  {
   "cell_type": "code",
   "execution_count": null,
   "id": "03c4370a",
   "metadata": {
    "tags": []
   },
   "outputs": [],
   "source": [
    "def EnOpt(\n",
    "    # Objective function, initial guess, cholesky factor for sampling ens:\n",
    "    obj, u, chol,\n",
    "    # Minimize or maximize:\n",
    "    sign=+1,\n",
    "    # Ensemble size\n",
    "    nEns=10,\n",
    "    # Step modifiers:\n",
    "    normed=True, precond=False,\n",
    "    # Backtracking (step lenghts):\n",
    "    xSteps=tuple(.4 * 1/2**i for i in range(8)),\n",
    "    # Stopping criteria:\n",
    "    nIter=100, rtol=1e-8\n",
    "):\n",
    "    \"\"\"Gradient/steepest *descent* using ensemble (LLS) gradient and backtracking.\"\"\"\n",
    "\n",
    "    def backtrack(base_step):\n",
    "        \"\"\"Line search by bisection.\"\"\"\n",
    "        with tqdm(total=len(xSteps), desc=\"Backtrack\", leave=False) as pbar:\n",
    "            for i, xStep in enumerate(xSteps):\n",
    "                pbar.update(1)\n",
    "                x = path[-1] + sign * xStep * base_step\n",
    "                J = obj(x)\n",
    "                if sign*(J - objs[-1]) > atol:\n",
    "                    pbar.update(len(xSteps))  # needed in Jupyter\n",
    "                    return x, J, i\n",
    "\n",
    "    J = obj(u)\n",
    "    atol = max(1e-8, abs(J)) * rtol\n",
    "    info, path, objs = {}, [], []\n",
    "\n",
    "    for itr in range(nIter):\n",
    "        path.append(u)\n",
    "        objs.append(J)\n",
    "\n",
    "        # Compute search direction\n",
    "        grad = EnGrad(obj, u, chol, nEns, precond=precond)\n",
    "        if normed:\n",
    "            grad /= utils.mnorm(grad)\n",
    "\n",
    "        # Update iterate\n",
    "        if not (updated := backtrack(grad)):\n",
    "            # Stop if lower J not found\n",
    "            status = \"Converged ✅\"\n",
    "            break\n",
    "        u, J, i = updated\n",
    "        info.setdefault('nDeclined', []).append(i)\n",
    "\n",
    "    else:\n",
    "        status = \"Ran out of iters ❌\"\n",
    "\n",
    "    print(f\"{status:<9} {itr=:<5}  {path[-1]=}  {objs[-1]=:.2f}\")\n",
    "    return np.array(path), np.array(objs), info"
   ]
  },
  {
   "cell_type": "markdown",
   "id": "bacdd99e",
   "metadata": {},
   "source": [
    "## NPV"
   ]
  },
  {
   "cell_type": "markdown",
   "id": "ab3119bf-5bd5-4e49-ba35-290b64cbb91f",
   "metadata": {},
   "source": [
    "Convert production saturations to monetary value."
   ]
  },
  {
   "cell_type": "code",
   "execution_count": null,
   "id": "be9935ee",
   "metadata": {
    "lines_to_next_cell": 1,
    "tags": []
   },
   "outputs": [],
   "source": [
    "def prod2npv(model, prods):\n",
    "    \"\"\"Net present value (NPV), i.e. discounted, total oil production.\"\"\"\n",
    "    discounts = .99 ** np.arange(nTime + 1)\n",
    "    prods = 1 - prods                   # water --> oil\n",
    "    prods = prods * model.prod_rates.T  # volume = saturation * rate\n",
    "    prods = np.sum(prods, -1)           # sum over wells\n",
    "    value = prods @ discounts           # sum in time, incld. discount factors\n",
    "    # Compute cost of water injection\n",
    "    # PS: We don't bother with cost of water production,\n",
    "    # since it is implicitly approximated by reduction in oil production.\n",
    "    inj_rates = model.inj_rates\n",
    "    if inj_rates.shape[1] == 1:\n",
    "        inj_rates = np.tile(inj_rates, (1, nTime))\n",
    "    cost = np.sum(inj_rates, 0)\n",
    "    cost = cost @ discounts[:-1]\n",
    "    return value - .5*cost"
   ]
  },
  {
   "cell_type": "markdown",
   "id": "0f62904f-fb58-4090-abf7-b539988b3d13",
   "metadata": {},
   "source": [
    "Objective function consists of model config, simulation, and conversion to money."
   ]
  },
  {
   "cell_type": "code",
   "execution_count": null,
   "id": "8cdf36ae",
   "metadata": {
    "tags": []
   },
   "outputs": [],
   "source": [
    "def npv(**kwargs):\n",
    "    \"\"\"NPV from model config.\"\"\"\n",
    "    try:\n",
    "        model = new_mod(**kwargs)\n",
    "        wsats, prods = sim(model, wsat0)\n",
    "    except Exception:\n",
    "        return 0  # Invalid model params. Penalize.\n",
    "        # Use `raise` for debugging.\n",
    "    return prod2npv(model, prods)"
   ]
  },
  {
   "cell_type": "markdown",
   "id": "11582931",
   "metadata": {},
   "source": [
    "## Optimize x-coordinate of single injector\n",
    "Let's try it out with a 1D optimisation case\n",
    "Input shape `(nEns, 1)` or `(1,)`."
   ]
  },
  {
   "cell_type": "code",
   "execution_count": null,
   "id": "d263ff30",
   "metadata": {
    "lines_to_next_cell": 1,
    "tags": []
   },
   "outputs": [],
   "source": [
    "def npv_in_x_of_inj0_with_fixed_y(x, **kws):\n",
    "    \"\"\"Optimize x coordinate of injector.\"\"\"\n",
    "    xs, singleton = utils.atleast_2d(x)\n",
    "    ys = np.full_like(xs, y)\n",
    "    xys = np.dstack([xs, ys])\n",
    "    Js = apply(npv, inj_xy=xys, pbar=not singleton, **kws)\n",
    "    return Js[0] if singleton else Js"
   ]
  },
  {
   "cell_type": "code",
   "execution_count": null,
   "id": "d73adf8f",
   "metadata": {
    "tags": []
   },
   "outputs": [],
   "source": [
    "y = model.Ly/2\n",
    "obj = npv_in_x_of_inj0_with_fixed_y"
   ]
  },
  {
   "cell_type": "markdown",
   "id": "21eb2ae4-1b39-4536-aeaa-6d2a4ea660fd",
   "metadata": {},
   "source": [
    "Compute entire objective"
   ]
  },
  {
   "cell_type": "code",
   "execution_count": null,
   "id": "0ec08d00-16f3-4006-b371-5db2fd7c65f9",
   "metadata": {},
   "outputs": [],
   "source": [
    "xx = np.linspace(0, model.Lx, 201)\n",
    "npvs = obj(np.atleast_2d(xx).T, desc=f\"Plot pts. of {obj.__name__}\")"
   ]
  },
  {
   "cell_type": "code",
   "execution_count": null,
   "id": "d7028613-44aa-4326-bffd-51262d9c0c81",
   "metadata": {},
   "outputs": [],
   "source": [
    "# Plot objective\n",
    "fig, ax = freshfig(f\"{obj.__name__}({y})\", figsize=(7, 3))\n",
    "ax.set(xlabel=\"x\", ylabel=\"NPV\")\n",
    "ax.plot(xx, npvs, \"slategrey\", lw=3);\n",
    "\n",
    "# Optimize, plot\n",
    "chol = .3 * np.eye(1)\n",
    "u0s = model.Lx * np.array([[.05, .1, .2, .8, .9, .95]]).T\n",
    "for i, u0 in enumerate(u0s):\n",
    "    path, objs, info = EnOpt(obj, u0, chol)\n",
    "    shift = .3*i  # for visual distinction\n",
    "    ax.plot(path, objs - shift, '-o', c=f'C{i+1}')\n",
    "fig.tight_layout()"
   ]
  },
  {
   "cell_type": "markdown",
   "id": "fe8af7de-46d2-45e9-ab05-154273454086",
   "metadata": {},
   "source": [
    "## Optimize both coordinates\n",
    "Input shape `(nEns, 2*nInj)`."
   ]
  },
  {
   "cell_type": "code",
   "execution_count": null,
   "id": "908b93d8-5d72-4a71-8ed9-67cf2fb3bdae",
   "metadata": {},
   "outputs": [],
   "source": [
    "def npv_in_injectors(xys, **kws):\n",
    "    \"\"\"`npv(inj_xy)`.\"\"\"\n",
    "    xys, singleton = utils.atleast_2d(xys)\n",
    "    xys = xys.reshape((len(xys), -1, 2))  # (nEns, 2*nInj) --> (nEns, nInj, 2)\n",
    "    Js = apply(npv, inj_xy=xys, pbar=not singleton, **kws)\n",
    "    return Js[0] if singleton else Js"
   ]
  },
  {
   "cell_type": "markdown",
   "id": "64f40b47-a9e7-444c-8986-5d064943be8c",
   "metadata": {},
   "source": [
    "Compute entire objective"
   ]
  },
  {
   "cell_type": "code",
   "execution_count": null,
   "id": "58d1fc6b-5c8c-4065-9572-6a576a01f134",
   "metadata": {},
   "outputs": [],
   "source": [
    "obj = npv_in_injectors\n",
    "X, Y = model.mesh\n",
    "XY = np.vstack([X.ravel(), Y.ravel()]).T\n",
    "npvs = obj(XY, desc=f\"Plot pts. of {obj.__name__}\")"
   ]
  },
  {
   "cell_type": "code",
   "execution_count": null,
   "id": "db103787-1afd-4686-9ac0-08c1a63ae9d0",
   "metadata": {},
   "outputs": [],
   "source": [
    "# Plot objective\n",
    "fig, axs = plotting.figure12(obj.__name__)\n",
    "model.plt_field(axs[0], npvs, \"NPV\", wells=True, argmax=True, colorbar=True);\n",
    "fig.tight_layout()\n",
    "\n",
    "# Optimize, plot\n",
    "chol = .1 * np.eye(2)\n",
    "for color in ['C0', 'C2', 'C7', 'C9']:\n",
    "    u0 = rnd.rand(2) * model.domain[1]\n",
    "    path, objs, info = EnOpt(obj, u0, chol)\n",
    "    plotting.add_path12(*axs, path, objs, color=color)"
   ]
  },
  {
   "cell_type": "markdown",
   "id": "06b7a1ee",
   "metadata": {},
   "source": [
    "##### Comments\n",
    "- Given the zig-zag optimization trajectories we see, it would appear\n",
    "  that the EnOpt gradient descent implementation could well benefit\n",
    "  from using an \"acceleration\" technique such as \"momentum\".\n",
    "  See git commit `9937d5b2` for a working implementation.\n",
    "- Some get stuck in local minima\n",
    "- Smaller steps towards end\n",
    "- Notice that discreteness of npv_in_injectors function means that\n",
    "  they dont all CV to exactly the same"
   ]
  },
  {
   "cell_type": "markdown",
   "id": "ae376dbc-ee35-4743-b6ee-e6036988441f",
   "metadata": {},
   "source": [
    "Plot of final sweep"
   ]
  },
  {
   "cell_type": "code",
   "execution_count": null,
   "id": "54d5ce6d",
   "metadata": {},
   "outputs": [],
   "source": [
    "model = new_mod(inj_xy=path[-1].reshape((-1, 2)),\n",
    "                name=f\"Optimized in {obj.__name__}\")\n",
    "plot_final_sweep(model)"
   ]
  },
  {
   "cell_type": "markdown",
   "id": "8dc52007-6547-4ee0-b3dd-7793d3bb5767",
   "metadata": {},
   "source": [
    "## Optimize coordinates of 2 injectors"
   ]
  },
  {
   "cell_type": "markdown",
   "id": "96b9ea9a-e60a-4922-b41e-1557ba22a822",
   "metadata": {},
   "source": [
    "With 2 injectors, it's more interesting (not necessary) to also only have 2 producers. So let's configure our model for that."
   ]
  },
  {
   "cell_type": "code",
   "execution_count": null,
   "id": "9aaa8b5e-68de-402c-a125-6e55a75a1023",
   "metadata": {},
   "outputs": [],
   "source": [
    "model = new_mod(\n",
    "    name = \"Lower 2 corners\",\n",
    "    prod_xy = xy_4corners[:2],\n",
    "    inj_xy  = model.inj_xy[:2], # dummy\n",
    "    prod_rates = rate0 * np.ones((2, 1)) / 2,\n",
    "    inj_rates  = rate0 * np.ones((2, 1)) / 2,\n",
    ")"
   ]
  },
  {
   "cell_type": "markdown",
   "id": "f42b2d71-bb6b-49fe-abfc-9494c7ab85c8",
   "metadata": {},
   "source": [
    "As you might imagine, with the 2 producers at the lower corners,\n",
    "the optimal 2 injector positions will be somewhere near the upper edge.\n",
    "But boundaries are a problem for basic EnOpt.\n",
    "Because of its Gaussian character, it will often sample points outside of the domain.\n",
    "This won't crash our optimisation, since the `npv` function penalizes invalid models,\n",
    "but the gradient near the border will seem to indicate that the border is a bad place to be,\n",
    "which is not necessarily the case.\n",
    "\n",
    "- One quickfix to this problem\n",
    "(but more technically challenging that the penalization already in place)\n",
    "is to truncate the ensemble members to the valid domain.\n",
    "- Another alternative (ref. Mathias) is to use a non-Gaussian generalisation of EnOpt that samples\n",
    "from a Beta (e.g.) distribution, and uses a different formula than LLS regression\n",
    "to estimate the average gradient.\n",
    "- Another alternative is to transform the control variables\n",
    "so that the domain is the whole of $\\mathcal{R}^d$.\n",
    "This is the approach taken below."
   ]
  },
  {
   "cell_type": "code",
   "execution_count": null,
   "id": "9b0f8f0a",
   "metadata": {},
   "outputs": [],
   "source": [
    "def transform_xys(xys):\n",
    "    \"\"\"Transform infinite plane to `(0, Lx) x (0, Ly)`.\"\"\"\n",
    "    def realline_to_0L(x, L, compress=1):\n",
    "        sigmoid = lambda z: 1/(1 + np.exp(-z))  # noqa\n",
    "        x = (x - L/2) * L * compress\n",
    "        return L * sigmoid(x)\n",
    "\n",
    "    xys = np.array(xys, dtype=float)\n",
    "\n",
    "    # Loop over (x, y)\n",
    "    for i0, L in zip([0, 1], model.domain[1]):\n",
    "        ii = slice(i0, None, 2)\n",
    "        xys[..., ii] = realline_to_0L(xys[..., ii], L, 1)\n",
    "    return xys"
   ]
  },
  {
   "cell_type": "code",
   "execution_count": null,
   "id": "189f74d7-2991-485a-b43f-e7d654154edb",
   "metadata": {},
   "outputs": [],
   "source": [
    "def npv_in_injectors_transformed(xys, **kws):\n",
    "    return npv_in_injectors(transform_xys(xys), **kws)\n",
    "\n",
    "obj = npv_in_injectors_transformed"
   ]
  },
  {
   "cell_type": "code",
   "execution_count": null,
   "id": "89cbc56e-c8cf-43d6-b17d-50d2a3456152",
   "metadata": {},
   "outputs": [],
   "source": [
    "# Plot perm field\n",
    "fig, axs = plotting.figure12(obj.__name__)\n",
    "model.plt_field(axs[0], pperm, \"pperm\", wells=True, colorbar=True)\n",
    "\n",
    "# Optimize\n",
    "u0 = np.array([0, 0] + [2, 0])\n",
    "chol = .1 * np.eye(len(u0))\n",
    "path, objs, info = EnOpt(obj, u0, chol)\n",
    "path = transform_xys(path)\n",
    "\n",
    "# Plot optimisation trajectory\n",
    "plotting.add_path12(*axs, path[:, :2], objs, color='C0')\n",
    "plotting.add_path12(*axs, path[:, 2:], color='C5')\n",
    "fig.tight_layout()"
   ]
  },
  {
   "cell_type": "markdown",
   "id": "48d29464",
   "metadata": {},
   "source": [
    "Let's plot the final sweep"
   ]
  },
  {
   "cell_type": "code",
   "execution_count": null,
   "id": "4706d601",
   "metadata": {
    "lines_to_next_cell": 1
   },
   "outputs": [],
   "source": [
    "model = new_mod(inj_xy=path[-1].reshape((-1, 2)),\n",
    "                name=f\"Optimzed in {obj.__name__}\")\n",
    "plot_final_sweep(model)"
   ]
  },
  {
   "cell_type": "markdown",
   "id": "2786bcee",
   "metadata": {},
   "source": [
    "## Optimize single rate"
   ]
  },
  {
   "cell_type": "markdown",
   "id": "4537ed13-4f19-4352-ac13-e4809701140e",
   "metadata": {},
   "source": [
    "When setting the injection rate(s), we must also\n",
    "set the total production rates to be the same (this is a model constraint).\n",
    "When there are multiple producers, we could distribute the production\n",
    "differently across the wells (somehow, our choice),\n",
    "but here we all set them all to be equal."
   ]
  },
  {
   "cell_type": "code",
   "execution_count": null,
   "id": "9399dd38",
   "metadata": {
    "lines_to_next_cell": 1
   },
   "outputs": [],
   "source": [
    "def npv_in_rates(inj_rates, **kws):\n",
    "    \"\"\"`npv(inj_rates)`.\"\"\"\n",
    "    inj_rates, singleton = utils.atleast_2d(inj_rates)\n",
    "    nEns = len(inj_rates)\n",
    "    inj_rates = inj_rates.reshape((nEns, -1, 1))  # (nEns, nInj) --> (nEns, nInj, 1)\n",
    "    total_rate = np.sum(inj_rates, axis=1).squeeze()  # (nEns,)\n",
    "    nProd = len(model.prod_rates)\n",
    "    prod_rates = (np.ones((1, nProd, nEns)) * total_rate/nProd).T\n",
    "    Js = apply(npv, inj_rates=inj_rates, prod_rates=prod_rates, pbar=not singleton, **kws)\n",
    "    return Js[0] if singleton else Js"
   ]
  },
  {
   "cell_type": "code",
   "execution_count": null,
   "id": "45587afc",
   "metadata": {
    "tags": []
   },
   "outputs": [],
   "source": [
    "obj = npv_in_rates"
   ]
  },
  {
   "cell_type": "markdown",
   "id": "0ec2e186",
   "metadata": {},
   "source": [
    "Note: input shape `(nEns, nInj)`.\n",
    "\n",
    "Restore default well config"
   ]
  },
  {
   "cell_type": "code",
   "execution_count": null,
   "id": "7f06f0b2-7826-42c7-ade7-dfe7f9d755ca",
   "metadata": {},
   "outputs": [],
   "source": [
    "model = model0"
   ]
  },
  {
   "cell_type": "markdown",
   "id": "c46cbf7b-fbbd-492b-a0d1-7dd89086de53",
   "metadata": {},
   "source": [
    "Optimize"
   ]
  },
  {
   "cell_type": "code",
   "execution_count": null,
   "id": "506c1ac0",
   "metadata": {},
   "outputs": [],
   "source": [
    "xx = np.linspace(0.1, 5, 21)\n",
    "npvs = obj(np.atleast_2d(xx).T)"
   ]
  },
  {
   "cell_type": "code",
   "execution_count": null,
   "id": "7c25a2b7-4c4c-4ce5-b89c-d9e0593b05df",
   "metadata": {},
   "outputs": [],
   "source": [
    "fig, ax = freshfig(obj.__name__, figsize=(1, .4), rel=True)\n",
    "ax.grid()\n",
    "ax.set(xlabel=\"rate\", ylabel=\"NPV\")\n",
    "ax.plot(xx, npvs, \"slategrey\")\n",
    "\n",
    "for i, u0 in enumerate(np.array([[.1, 5]]).T):\n",
    "    chol = .1 * np.eye(len(u0))\n",
    "    path, objs, info = EnOpt(obj, u0, chol)\n",
    "    shift = i+1  # for visual distinction\n",
    "    ax.plot(path, objs - shift, '-o', color=f'C{i+1}')\n",
    "fig.tight_layout()"
   ]
  },
  {
   "cell_type": "markdown",
   "id": "f5001767",
   "metadata": {},
   "source": [
    "## Interactive (manual) optimisation of multiple rates"
   ]
  },
  {
   "cell_type": "markdown",
   "id": "cb98c4cd-88be-4768-a43d-89c36889d403",
   "metadata": {},
   "source": [
    "Let's make the flow \"less orthogonal\" by not placing the wells on a rectilinear grid (i.e. the 4 corners)."
   ]
  },
  {
   "cell_type": "code",
   "execution_count": null,
   "id": "fa190150-ded7-4f92-b25a-0d396aef5fa0",
   "metadata": {
    "tags": []
   },
   "outputs": [],
   "source": [
    "triangle = [0, 135, -135]\n",
    "wells = dict(\n",
    "    inj_xy = ([[model.Lx/2, model.Ly/2]] +\n",
    "              [utils.xy_p_normed(th + 90, *model.domain[1]) for th in triangle]),\n",
    "    prod_xy = [utils.xy_p_normed(th - 90, *model.domain[1]) for th in triangle],\n",
    "    inj_rates  = rate0 * np.ones((4, 1)) / 4,\n",
    "    prod_rates = rate0 * np.ones((3, 1)) / 3,\n",
    ")\n",
    "model = new_mod(**wells)"
   ]
  },
  {
   "cell_type": "markdown",
   "id": "1ae872f7-e5de-453e-aeff-bc706bb34dee",
   "metadata": {},
   "source": [
    "Show well config"
   ]
  },
  {
   "cell_type": "code",
   "execution_count": null,
   "id": "605b220b",
   "metadata": {
    "tags": []
   },
   "outputs": [],
   "source": [
    "fig, ax = freshfig(\"Triangle case\", figsize=(1, .6), rel=True)\n",
    "model.plt_field(ax, pperm, \"pperm\", wells=True, colorbar=True);\n",
    "fig.tight_layout()"
   ]
  },
  {
   "cell_type": "markdown",
   "id": "62e1ab3d-4a67-4d5a-bb01-5ab394d83d34",
   "metadata": {},
   "source": [
    "Define function that takes injection rates and computes final sweep, i.e. saturation field."
   ]
  },
  {
   "cell_type": "code",
   "execution_count": null,
   "id": "105a5a95",
   "metadata": {
    "tags": []
   },
   "outputs": [],
   "source": [
    "def final_sweep_given_inj_rates(**kwargs):\n",
    "    inj_rates = np.array([list(kwargs.values())]).T\n",
    "    prod_rates = np.ones((3, 1)) / 3 * np.sum(inj_rates)\n",
    "    model = new_mod(inj_rates=inj_rates, prod_rates=prod_rates)\n",
    "    wsats, prods = sim(model, wsat0)\n",
    "    npv = prod2npv(model, prods)\n",
    "    print(f\"NPV for these injection_rates: {npv:.5f}\")\n",
    "    return wsats[-1]"
   ]
  },
  {
   "cell_type": "markdown",
   "id": "e0922b5e-e473-4bc5-9975-d9aac0c7007c",
   "metadata": {},
   "source": [
    "By assigning `controls` to this function (the rate of each injector)..."
   ]
  },
  {
   "cell_type": "code",
   "execution_count": null,
   "id": "6a737b69",
   "metadata": {},
   "outputs": [],
   "source": [
    "final_sweep_given_inj_rates.controls = dict(\n",
    "    i0 = (0, 1.4),\n",
    "    i1 = (0, 1.4),\n",
    "    i2 = (0, 1.4),\n",
    "    i3 = (0, 1.4),\n",
    ")"
   ]
  },
  {
   "cell_type": "markdown",
   "id": "96e97713-6aac-49e7-9c03-c19b6bb48f5a",
   "metadata": {},
   "source": [
    "... the following widget allows us to \"interactively\" (but manually) optimise the rates.\n",
    "This is of course only feasible because the model is so simple and runs so fast."
   ]
  },
  {
   "cell_type": "code",
   "execution_count": null,
   "id": "37e92712",
   "metadata": {},
   "outputs": [],
   "source": [
    "plotting.field_console(model, final_sweep_given_inj_rates, \"oil\", wells=True, figsize=(1, .6))"
   ]
  },
  {
   "cell_type": "markdown",
   "id": "a44ac819",
   "metadata": {},
   "source": [
    "## Automatic (EnOpt) optimisation\n",
    "Run EnOpt (below)."
   ]
  },
  {
   "cell_type": "code",
   "execution_count": null,
   "id": "f5a93f0a",
   "metadata": {
    "tags": []
   },
   "outputs": [],
   "source": [
    "u0 = .7*np.ones(len(model.inj_rates))\n",
    "chol = .1 * np.eye(len(u0))\n",
    "path, objs, info = EnOpt(obj, u0, chol)"
   ]
  },
  {
   "cell_type": "markdown",
   "id": "6913f083-4eda-4d30-810e-439ac6a83e77",
   "metadata": {},
   "source": [
    "Now try setting\n",
    "the resulting suggested values in the interactive widget above.\n",
    "Were you able to find equally good settings?"
   ]
  }
 ],
 "metadata": {
  "jupytext": {
   "cell_metadata_filter": "-all",
   "encoding": "# -*- coding: utf-8 -*-",
   "formats": "ipynb,auto:light",
   "main_language": "python",
   "notebook_metadata_filter": "-all"
  },
  "kernelspec": {
   "display_name": "Python 3 (ipykernel)",
   "language": "python",
   "name": "python3"
  },
  "language_info": {
   "codemirror_mode": {
    "name": "ipython",
    "version": 3
   },
   "file_extension": ".py",
   "mimetype": "text/x-python",
   "name": "python",
   "nbconvert_exporter": "python",
   "pygments_lexer": "ipython3",
   "version": "3.9.16"
  }
 },
 "nbformat": 4,
 "nbformat_minor": 5
}
