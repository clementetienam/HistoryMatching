{
 "cells": [
  {
   "cell_type": "markdown",
   "id": "34513a2d",
   "metadata": {
    "lines_to_next_cell": 2
   },
   "source": [
    "# Production optimisation with ensembles – an interactive tutorial\n",
    "\n",
    "Copyright Patrick N. Raanes, NORCE, 2023.\n",
    "\n",
    "This is a self-contained tutorial on production optimisation using ensemble methods.\n",
    "- Please have a look at the [history matching (HM) tutorial](MAIN.ipynb)\n",
    "  for an introduction to Python, Jupyter notebooks, and this reservoir simulator.\n",
    "\n",
    "TODO:\n",
    "- 1D: Plot ensemble of npv curves\n",
    "- Plot ensemble of pdfs of npvs, including\n",
    "  strategies: reactive control, nominal optimization, robust optimization\n",
    "- Use model with many injectors, producers ? jansen2010closed_prez\n",
    "- Cite essen, jansen, chen, fonseca, stordal, raanes"
   ]
  },
  {
   "cell_type": "markdown",
   "id": "2835db98",
   "metadata": {},
   "source": [
    "If you're on **Google Colab**, run the cell below to install the requirements.\n",
    "Otherwise (and assuming you have done the installation described in the README),\n",
    "you can skip/delete this cell."
   ]
  },
  {
   "cell_type": "code",
   "execution_count": 1,
   "id": "845b37c5",
   "metadata": {
    "tags": []
   },
   "outputs": [
    {
     "name": "stdout",
     "output_type": "stream",
     "text": [
      "Not running on Colab => Didn't do anything.\n"
     ]
    }
   ],
   "source": [
    "remote = \"https://raw.githubusercontent.com/patnr/HistoryMatching\"\n",
    "!wget -qO- {remote}/master/colab_bootstrap.sh | bash -s"
   ]
  },
  {
   "cell_type": "markdown",
   "id": "ff3a8dc1",
   "metadata": {},
   "source": [
    "# Imports"
   ]
  },
  {
   "cell_type": "code",
   "execution_count": 2,
   "id": "cbda0ba3",
   "metadata": {
    "tags": []
   },
   "outputs": [],
   "source": [
    "import copy\n",
    "from dataclasses import dataclass"
   ]
  },
  {
   "cell_type": "code",
   "execution_count": 3,
   "id": "7b309b9f",
   "metadata": {},
   "outputs": [],
   "source": [
    "import numpy as np\n",
    "from tqdm.auto import tqdm\n",
    "import numpy.random as rnd\n",
    "import TPFA_ResSim as simulator\n",
    "from mpl_tools.place import freshfig\n",
    "from struct_tools import DotDict as Dict"
   ]
  },
  {
   "cell_type": "code",
   "execution_count": 4,
   "id": "7e259476",
   "metadata": {},
   "outputs": [],
   "source": [
    "import tools.plotting as plotting\n",
    "from tools import geostat, utils, mpl_setup\n",
    "from tools.utils import apply"
   ]
  },
  {
   "cell_type": "code",
   "execution_count": 5,
   "id": "424623cf",
   "metadata": {
    "lines_to_next_cell": 1
   },
   "outputs": [],
   "source": [
    "mpl_setup.init()\n",
    "np.set_printoptions(precision=6)"
   ]
  },
  {
   "cell_type": "markdown",
   "id": "39dc09ee",
   "metadata": {},
   "source": [
    "Could put this in npv() rather than copying the base model\n",
    "but it's useful to have a base model in the global namespace\n",
    "for plotting purposes."
   ]
  },
  {
   "cell_type": "code",
   "execution_count": 7,
   "id": "abff43ed",
   "metadata": {
    "lines_to_next_cell": 1,
    "tags": []
   },
   "outputs": [],
   "source": [
    "def sample_prior_perm(N):\n",
    "    lperms = geostat.gaussian_fields(model.mesh, N, r=0.8)\n",
    "    return lperms"
   ]
  },
  {
   "cell_type": "code",
   "execution_count": 8,
   "id": "a5f8caad",
   "metadata": {
    "lines_to_next_cell": 1,
    "tags": []
   },
   "outputs": [],
   "source": [
    "def perm_transf(x):\n",
    "    return .1 + np.exp(5*x)"
   ]
  },
  {
   "cell_type": "code",
   "execution_count": 10,
   "id": "b09b53e5",
   "metadata": {
    "tags": []
   },
   "outputs": [],
   "source": [
    "def set_perm(model, log_perm_array):\n",
    "    \"\"\"Set perm. in model code (both x and y components).\"\"\"\n",
    "    p = perm_transf(log_perm_array)\n",
    "    p = p.reshape(model.shape)\n",
    "    model.Gridded.K = np.stack([p, p])"
   ]
  },
  {
   "cell_type": "markdown",
   "id": "3cf80a6a",
   "metadata": {},
   "source": [
    "## Model case"
   ]
  },
  {
   "cell_type": "code",
   "execution_count": 11,
   "id": "cad1e0f5",
   "metadata": {},
   "outputs": [],
   "source": [
    "def new_mod(**kwargs):\n",
    "    \"\"\"Create new model, based on `globals()['model']`.\"\"\"\n",
    "    # Init\n",
    "    modln = copy.deepcopy(model)  # dont overwrite\n",
    "    # pperm gets special treatment (transformation)\n",
    "    set_perm(modln, kwargs.pop('perm', pperm))\n",
    "    # Set other attrs\n",
    "    for key, val in kwargs.items():\n",
    "        setattr(modln, key, val)\n",
    "    # Sanitize\n",
    "    modln.config_wells(modln.inj_xy, modln.inj_rates,\n",
    "                       modln.prod_xy, modln.prod_rates)\n",
    "    return modln"
   ]
  },
  {
   "cell_type": "code",
   "execution_count": 12,
   "id": "099a7acb",
   "metadata": {
    "tags": []
   },
   "outputs": [],
   "source": [
    "model = simulator.ResSim(Nx=20, Ny=20, Lx=2, Ly=1)\n",
    "seed = rnd.seed(3)\n",
    "pperm = sample_prior_perm(1)"
   ]
  },
  {
   "cell_type": "code",
   "execution_count": 13,
   "id": "31381455",
   "metadata": {
    "tags": []
   },
   "outputs": [],
   "source": [
    "xy_4corners = np.dstack(np.meshgrid(\n",
    "    np.array([.12, .87]) * model.Lx,\n",
    "    np.array([.12, .87]) * model.Ly,\n",
    ")).reshape((-1, 2))"
   ]
  },
  {
   "cell_type": "code",
   "execution_count": 14,
   "id": "d6d51377",
   "metadata": {
    "lines_to_end_of_cell_marker": 2,
    "lines_to_next_cell": 2,
    "tags": []
   },
   "outputs": [
    {
     "data": {
      "application/vnd.jupyter.widget-view+json": {
       "model_id": "462dd0c60ea34006b6a3cf9c899f72c8",
       "version_major": 2,
       "version_minor": 0
      },
      "image/png": "[encoded data removed]",
      "text/html": [
       "\n",
       "            <div style=\"display: inline-block;\">\n",
       "                <div class=\"jupyter-widgets widget-label\" style=\"text-align: center;\">\n",
       "                    Model case\n",
       "                </div>\n",
       "                <img src='data:image/png;base64,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' width=640.0/>\n",
       "            </div>\n",
       "        "
      ],
      "text/plain": [
       "Canvas(toolbar=Toolbar(toolitems=[('Home', 'Reset original view', 'home', 'home'), ('Back', 'Back to previous …"
      ]
     },
     "metadata": {},
     "output_type": "display_data"
    }
   ],
   "source": [
    "rate0 = 1.5\n",
    "model = new_mod(\n",
    "    name = \"Base model\",\n",
    "    inj_xy  = [[model.Lx/2, model.Ly/2]],\n",
    "    prod_xy = xy_4corners,\n",
    "    inj_rates  = rate0 * np.ones((1, 1)) / 1,\n",
    "    prod_rates = rate0 * np.ones((4, 1)) / 4,\n",
    ")\n",
    "\n",
    "fig, ax = freshfig(model.name, figsize=(1, .6), rel=True)\n",
    "model.plt_field(ax, pperm, \"pperm\", wells=True, colorbar=True);\n",
    "fig.tight_layout()"
   ]
  },
  {
   "cell_type": "markdown",
   "id": "bec9c0b4",
   "metadata": {},
   "source": [
    "#### Simulation"
   ]
  },
  {
   "cell_type": "markdown",
   "id": "2438e915",
   "metadata": {},
   "source": [
    "Like `forward_model`, but w/o setting params"
   ]
  },
  {
   "cell_type": "code",
   "execution_count": 15,
   "id": "d87b5399",
   "metadata": {
    "lines_to_next_cell": 1,
    "tags": []
   },
   "outputs": [],
   "source": [
    "def sim(model, wsat, pbar=False, leave=False):\n",
    "    \"\"\"Simulate reservoir.\"\"\"\n",
    "    integrator = model.time_stepper(dt)\n",
    "    wsats = simulator.recurse(integrator, nTime, wsat, pbar=pbar, leave=leave)\n",
    "    # Extract production time series from water saturation fields\n",
    "    wells = model.xy2ind(*model.prod_xy.T)\n",
    "    prods = np.array([wsat[wells] for wsat in wsats])\n",
    "    return wsats, prods"
   ]
  },
  {
   "cell_type": "code",
   "execution_count": 18,
   "id": "beb5a6f8",
   "metadata": {
    "tags": []
   },
   "outputs": [],
   "source": [
    "wsat0 = np.zeros(model.Nxy)\n",
    "T = 1\n",
    "dt = 0.025\n",
    "nTime = round(T/dt)"
   ]
  },
  {
   "cell_type": "code",
   "execution_count": null,
   "id": "5cdd32ff",
   "metadata": {},
   "outputs": [],
   "source": [
    "def plot_final_sweep(model):\n",
    "    \"\"\"Simulate reservoir, plot final oil saturation.\"\"\"\n",
    "    title = plotting.dash_join(f\"Final sweep\", getattr(model, \"name\", \"\"))\n",
    "    wsats, prods = sim(model, wsat0)\n",
    "    fig, ax = freshfig(title, figsize=(1, .6), rel=True)\n",
    "    model.plt_field(ax, wsats[-1], \"oil\", wells=True, colorbar=True)\n",
    "    fig.tight_layout()"
   ]
  },
  {
   "cell_type": "markdown",
   "id": "90334c45",
   "metadata": {},
   "source": [
    "Let us plot the final sweep given these well settings"
   ]
  },
  {
   "cell_type": "code",
   "execution_count": 42,
   "id": "bdb5ed6d",
   "metadata": {
    "lines_to_next_cell": 1
   },
   "outputs": [
    {
     "data": {
      "application/vnd.jupyter.widget-view+json": {
       "model_id": "abbf1b2dc3f4464b845d33b29adb814e",
       "version_major": 2,
       "version_minor": 0
      },
      "image/png": "[encoded data removed]",
      "text/html": [
       "\n",
       "            <div style=\"display: inline-block;\">\n",
       "                <div class=\"jupyter-widgets widget-label\" style=\"text-align: center;\">\n",
       "                    Final sweep \n",
       "                </div>\n",
       "                <img src='data:image/png;base64,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' width=640.0/>\n",
       "            </div>\n",
       "        "
      ],
      "text/plain": [
       "Canvas(toolbar=Toolbar(toolitems=[('Home', 'Reset original view', 'home', 'home'), ('Back', 'Back to previous …"
      ]
     },
     "metadata": {},
     "output_type": "display_data"
    }
   ],
   "source": [
    "wsats, prods = sim(model, wsat0)\n",
    "plot_final_sweep(model)"
   ]
  },
  {
   "cell_type": "markdown",
   "id": "5846cfb8",
   "metadata": {},
   "source": [
    "## EnOpt"
   ]
  },
  {
   "cell_type": "code",
   "execution_count": 20,
   "id": "c3512997",
   "metadata": {
    "tags": []
   },
   "outputs": [],
   "source": [
    "@dataclass\n",
    "class Momentum:\n",
    "    \"\"\"Gradient momentum (provides history memorisation).\"\"\"\n",
    "\n",
    "    # Note: I also tried rolling average with a maxlen deque\n",
    "    #       but the results of cursory testing were slightly worse.\n",
    "    b: float = 0.9\n",
    "\n",
    "    def update(self, v):\n",
    "        if not hasattr(self, 'val'):\n",
    "            self.reset()\n",
    "        self.val *= self.b\n",
    "        self.val += (1-self.b) * v\n",
    "\n",
    "    def reset(self, val=0):\n",
    "        self.val = val"
   ]
  },
  {
   "cell_type": "code",
   "execution_count": 21,
   "id": "03c4370a",
   "metadata": {
    "tags": []
   },
   "outputs": [],
   "source": [
    "def EnGrad(obj, u, chol, precond=False):\n",
    "    U, _ = utils.center(rnd.randn(N, len(u)) @ chol.T)\n",
    "    J, _ = utils.center(obj(u + U))\n",
    "    if precond:\n",
    "        g = U.T @ J / (N-1)\n",
    "    else:\n",
    "        g = utils.rinv(U, reg=.1, tikh=True) @ J\n",
    "    return g"
   ]
  },
  {
   "cell_type": "code",
   "execution_count": 22,
   "id": "7623f211",
   "metadata": {
    "tags": []
   },
   "outputs": [],
   "source": [
    "def EnOpt(obj, u, chol, sign=+1,\n",
    "          # Step modifiers:\n",
    "          regulator=None, xSteps=(1,), normed=True, precond=True,\n",
    "          # Stopping criteria:\n",
    "          nIter=100, rtol=1e-4):\n",
    "    \"\"\"Gradient/steepest *descent* using ensemble (LLS) gradient and backtracking.\n",
    "\n",
    "    - `rtol` specified how large an improvement is required to update the iterate.\n",
    "      Large values makes backtracking more reluctant to accept an update,\n",
    "      resulting in *faster* declaration of convergence.\n",
    "      Setting to 0 is not recommended, because if the objective function is flat\n",
    "      in the neighborhood, then the path could just go in circles on that flat.\n",
    "    \"\"\"\n",
    "\n",
    "    def backtrack(base_step):\n",
    "        \"\"\"Line search by bisection.\"\"\"\n",
    "        with tqdm(total=len(xSteps), desc=\"Backtrack\", leave=False) as pbar:\n",
    "            for i, xStep in enumerate(xSteps):\n",
    "                pbar.update(1)\n",
    "                x = path[-1] + sign * xStep * base_step\n",
    "                J = obj(x)\n",
    "                if sign*(J - objs[-1]) > atol:\n",
    "                    pbar.update(len(xSteps))  # needed in Jupyter\n",
    "                    return x, J, i\n",
    "\n",
    "    # Init\n",
    "    if regulator:\n",
    "        regulator.reset()\n",
    "    J = obj(u)\n",
    "    atol = max(1e-8, abs(J)) * rtol\n",
    "    info, path, objs = {}, [], []\n",
    "\n",
    "    for itr in range(nIter):\n",
    "        path.append(u)\n",
    "        objs.append(J)\n",
    "\n",
    "        # Compute search direction\n",
    "        grad = EnGrad(obj, u, chol, precond=precond)\n",
    "        if normed:\n",
    "            grad /= utils.mnorm(grad)\n",
    "        if regulator:\n",
    "            regulator.update(grad)\n",
    "\n",
    "        # Update iterate\n",
    "        if not regulator or not (updated := backtrack(regulator.val)):\n",
    "            if regulator:\n",
    "                regulator.reset(grad)\n",
    "                info.setdefault('resets', []).append(itr)\n",
    "            # Fallback to pure grad\n",
    "            if not (updated := backtrack(grad)):\n",
    "                # Stop if lower J not found\n",
    "                status = \"Converged ✅\"\n",
    "                break\n",
    "        u, J, i = updated\n",
    "        info.setdefault('nDeclined', []).append(i)\n",
    "\n",
    "    else:\n",
    "        status = \"Ran out of iters ❌\"\n",
    "\n",
    "    print(f\"{status:<9} {itr=:<5}  {path[-1]=}  {objs[-1]=:.2f}\")\n",
    "    return np.array(path), np.array(objs), info"
   ]
  },
  {
   "cell_type": "code",
   "execution_count": 23,
   "id": "f8b7c184",
   "metadata": {
    "lines_to_next_cell": 2,
    "tags": []
   },
   "outputs": [],
   "source": [
    "N = 10\n",
    "xSteps = [.4 * 1/2**i for i in range(8)]\n",
    "utils.nCPU = True"
   ]
  },
  {
   "cell_type": "markdown",
   "id": "bacdd99e",
   "metadata": {
    "lines_to_next_cell": 2
   },
   "source": [
    "## NPV objective functions"
   ]
  },
  {
   "cell_type": "code",
   "execution_count": 24,
   "id": "be9935ee",
   "metadata": {
    "lines_to_next_cell": 1,
    "tags": []
   },
   "outputs": [],
   "source": [
    "## Objectives\n",
    "def prod2npv(model, prods):\n",
    "    \"\"\"Net present value (NPV), i.e. monetarily discounted, total oil production.\"\"\"\n",
    "    discounts = .99 ** np.arange(nTime + 1)\n",
    "    prods = 1 - prods                   # water --> oil\n",
    "    prods = prods * model.prod_rates.T  # volume = saturation * rate\n",
    "    prods = np.sum(prods, -1)           # sum over wells\n",
    "    value = prods @ discounts           # sum in time, incld. discount factors\n",
    "    # Compute cost of water injection\n",
    "    # PS: We don't bother with cost of water production,\n",
    "    # since it is implicitly approximated by reduction in oil production.\n",
    "    inj_rates = model.inj_rates\n",
    "    if inj_rates.shape[1] == 1:\n",
    "        inj_rates = np.tile(inj_rates, (1, nTime))\n",
    "    cost = np.sum(inj_rates, 0)\n",
    "    cost = cost @ discounts[:-1]\n",
    "    return value - .5*cost"
   ]
  },
  {
   "cell_type": "code",
   "execution_count": 25,
   "id": "8cdf36ae",
   "metadata": {
    "tags": []
   },
   "outputs": [],
   "source": [
    "def npv(**kwargs):\n",
    "    \"\"\"NPV from model config.\"\"\"\n",
    "    # Config\n",
    "    try:\n",
    "        model = new_mod(**kwargs)\n",
    "        # Simulate\n",
    "        wsats, prods = sim(model, wsat0)\n",
    "    except Exception:\n",
    "        return 0  # Invalid model params. Penalize. Use `raise` for debugging.\n",
    "    return prod2npv(model, prods)"
   ]
  },
  {
   "cell_type": "code",
   "execution_count": 26,
   "id": "d263ff30",
   "metadata": {
    "tags": []
   },
   "outputs": [],
   "source": [
    "def npv_in_injectors(xys):\n",
    "    \"\"\"`npv(inj_xy)`. Input shape `(nEns, 2*nInj)`.\"\"\"\n",
    "    xys, singleton = utils.atleast_2d(xys)\n",
    "    xys = xys.reshape((len(xys), -1, 2))  # (nEns, 2*nInj) --> (nEns, nInj, 2)\n",
    "    Js = apply(npv, inj_xy=xys, unzip=False,\n",
    "               pbar=not singleton, leave=False)\n",
    "    return Js[0] if singleton else Js"
   ]
  },
  {
   "cell_type": "code",
   "execution_count": 27,
   "id": "d73adf8f",
   "metadata": {
    "tags": []
   },
   "outputs": [],
   "source": [
    "def npv_in_x_of_inj0_with_fixed_y(x):\n",
    "    \"\"\"Like `npv_in_injectors` but with `y` fixed. Input shape `(nEns, 1)` or `(1,)`.\"\"\"\n",
    "    xs = x\n",
    "    ys = y * np.ones_like(xs)\n",
    "    xys = np.hstack([xs, ys])\n",
    "    Js = npv_in_injectors(xys)\n",
    "    return Js\n",
    "\n",
    "obj = npv_in_x_of_inj0_with_fixed_y\n",
    "y = model.Ly/2"
   ]
  },
  {
   "cell_type": "code",
   "execution_count": 28,
   "id": "32a6d717",
   "metadata": {},
   "outputs": [
    {
     "data": {
      "application/vnd.jupyter.widget-view+json": {
       "model_id": "289404c7bbea432e853a4b26feab2714",
       "version_major": 2,
       "version_minor": 0
      },
      "image/png": "[encoded data removed]",
      "text/html": [
       "\n",
       "            <div style=\"display: inline-block;\">\n",
       "                <div class=\"jupyter-widgets widget-label\" style=\"text-align: center;\">\n",
       "                    npv_in_x_of_inj0_with_fixed_y(0.5)\n",
       "                </div>\n",
       "                <img src='data:image/png;base64,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' width=700.0/>\n",
       "            </div>\n",
       "        "
      ],
      "text/plain": [
       "Canvas(toolbar=Toolbar(toolitems=[('Home', 'Reset original view', 'home', 'home'), ('Back', 'Back to previous …"
      ]
     },
     "metadata": {},
     "output_type": "display_data"
    },
    {
     "data": {
      "application/vnd.jupyter.widget-view+json": {
       "model_id": "",
       "version_major": 2,
       "version_minor": 0
      },
      "text/plain": [
       "npv's:   0%|          | 0/201 [00:00<?, ?it/s]"
      ]
     },
     "metadata": {},
     "output_type": "display_data"
    },
    {
     "data": {
      "application/vnd.jupyter.widget-view+json": {
       "model_id": "",
       "version_major": 2,
       "version_minor": 0
      },
      "text/plain": [
       "npv's:   0%|          | 0/10 [00:00<?, ?it/s]"
      ]
     },
     "metadata": {},
     "output_type": "display_data"
    },
    {
     "data": {
      "application/vnd.jupyter.widget-view+json": {
       "model_id": "",
       "version_major": 2,
       "version_minor": 0
      },
      "text/plain": [
       "Backtrack:   0%|          | 0/8 [00:00<?, ?it/s]"
      ]
     },
     "metadata": {},
     "output_type": "display_data"
    },
    {
     "data": {
      "application/vnd.jupyter.widget-view+json": {
       "model_id": "",
       "version_major": 2,
       "version_minor": 0
      },
      "text/plain": [
       "npv's:   0%|          | 0/10 [00:00<?, ?it/s]"
      ]
     },
     "metadata": {},
     "output_type": "display_data"
    },
    {
     "data": {
      "application/vnd.jupyter.widget-view+json": {
       "model_id": "",
       "version_major": 2,
       "version_minor": 0
      },
      "text/plain": [
       "Backtrack:   0%|          | 0/8 [00:00<?, ?it/s]"
      ]
     },
     "metadata": {},
     "output_type": "display_data"
    },
    {
     "data": {
      "application/vnd.jupyter.widget-view+json": {
       "model_id": "",
       "version_major": 2,
       "version_minor": 0
      },
      "text/plain": [
       "npv's:   0%|          | 0/10 [00:00<?, ?it/s]"
      ]
     },
     "metadata": {},
     "output_type": "display_data"
    },
    {
     "data": {
      "application/vnd.jupyter.widget-view+json": {
       "model_id": "",
       "version_major": 2,
       "version_minor": 0
      },
      "text/plain": [
       "Backtrack:   0%|          | 0/8 [00:00<?, ?it/s]"
      ]
     },
     "metadata": {},
     "output_type": "display_data"
    },
    {
     "name": "stdout",
     "output_type": "stream",
     "text": [
      "Converged ✅ itr=2      path[-1]=array([0.9])  objs[-1]=17.38\n"
     ]
    },
    {
     "data": {
      "application/vnd.jupyter.widget-view+json": {
       "model_id": "",
       "version_major": 2,
       "version_minor": 0
      },
      "text/plain": [
       "npv's:   0%|          | 0/10 [00:00<?, ?it/s]"
      ]
     },
     "metadata": {},
     "output_type": "display_data"
    },
    {
     "data": {
      "application/vnd.jupyter.widget-view+json": {
       "model_id": "",
       "version_major": 2,
       "version_minor": 0
      },
      "text/plain": [
       "Backtrack:   0%|          | 0/8 [00:00<?, ?it/s]"
      ]
     },
     "metadata": {},
     "output_type": "display_data"
    },
    {
     "data": {
      "application/vnd.jupyter.widget-view+json": {
       "model_id": "",
       "version_major": 2,
       "version_minor": 0
      },
      "text/plain": [
       "npv's:   0%|          | 0/10 [00:00<?, ?it/s]"
      ]
     },
     "metadata": {},
     "output_type": "display_data"
    },
    {
     "data": {
      "application/vnd.jupyter.widget-view+json": {
       "model_id": "",
       "version_major": 2,
       "version_minor": 0
      },
      "text/plain": [
       "Backtrack:   0%|          | 0/8 [00:00<?, ?it/s]"
      ]
     },
     "metadata": {},
     "output_type": "display_data"
    },
    {
     "data": {
      "application/vnd.jupyter.widget-view+json": {
       "model_id": "",
       "version_major": 2,
       "version_minor": 0
      },
      "text/plain": [
       "npv's:   0%|          | 0/10 [00:00<?, ?it/s]"
      ]
     },
     "metadata": {},
     "output_type": "display_data"
    },
    {
     "data": {
      "application/vnd.jupyter.widget-view+json": {
       "model_id": "",
       "version_major": 2,
       "version_minor": 0
      },
      "text/plain": [
       "Backtrack:   0%|          | 0/8 [00:00<?, ?it/s]"
      ]
     },
     "metadata": {},
     "output_type": "display_data"
    },
    {
     "data": {
      "application/vnd.jupyter.widget-view+json": {
       "model_id": "",
       "version_major": 2,
       "version_minor": 0
      },
      "text/plain": [
       "npv's:   0%|          | 0/10 [00:00<?, ?it/s]"
      ]
     },
     "metadata": {},
     "output_type": "display_data"
    },
    {
     "data": {
      "application/vnd.jupyter.widget-view+json": {
       "model_id": "",
       "version_major": 2,
       "version_minor": 0
      },
      "text/plain": [
       "Backtrack:   0%|          | 0/8 [00:00<?, ?it/s]"
      ]
     },
     "metadata": {},
     "output_type": "display_data"
    },
    {
     "name": "stdout",
     "output_type": "stream",
     "text": [
      "Converged ✅ itr=3      path[-1]=array([0.8])  objs[-1]=17.94\n"
     ]
    },
    {
     "data": {
      "application/vnd.jupyter.widget-view+json": {
       "model_id": "",
       "version_major": 2,
       "version_minor": 0
      },
      "text/plain": [
       "npv's:   0%|          | 0/10 [00:00<?, ?it/s]"
      ]
     },
     "metadata": {},
     "output_type": "display_data"
    },
    {
     "data": {
      "application/vnd.jupyter.widget-view+json": {
       "model_id": "",
       "version_major": 2,
       "version_minor": 0
      },
      "text/plain": [
       "Backtrack:   0%|          | 0/8 [00:00<?, ?it/s]"
      ]
     },
     "metadata": {},
     "output_type": "display_data"
    },
    {
     "data": {
      "application/vnd.jupyter.widget-view+json": {
       "model_id": "",
       "version_major": 2,
       "version_minor": 0
      },
      "text/plain": [
       "npv's:   0%|          | 0/10 [00:00<?, ?it/s]"
      ]
     },
     "metadata": {},
     "output_type": "display_data"
    },
    {
     "data": {
      "application/vnd.jupyter.widget-view+json": {
       "model_id": "",
       "version_major": 2,
       "version_minor": 0
      },
      "text/plain": [
       "Backtrack:   0%|          | 0/8 [00:00<?, ?it/s]"
      ]
     },
     "metadata": {},
     "output_type": "display_data"
    },
    {
     "name": "stdout",
     "output_type": "stream",
     "text": [
      "Converged ✅ itr=1      path[-1]=array([0.8])  objs[-1]=17.94\n"
     ]
    },
    {
     "data": {
      "application/vnd.jupyter.widget-view+json": {
       "model_id": "",
       "version_major": 2,
       "version_minor": 0
      },
      "text/plain": [
       "npv's:   0%|          | 0/10 [00:00<?, ?it/s]"
      ]
     },
     "metadata": {},
     "output_type": "display_data"
    },
    {
     "data": {
      "application/vnd.jupyter.widget-view+json": {
       "model_id": "",
       "version_major": 2,
       "version_minor": 0
      },
      "text/plain": [
       "Backtrack:   0%|          | 0/8 [00:00<?, ?it/s]"
      ]
     },
     "metadata": {},
     "output_type": "display_data"
    },
    {
     "data": {
      "application/vnd.jupyter.widget-view+json": {
       "model_id": "",
       "version_major": 2,
       "version_minor": 0
      },
      "text/plain": [
       "npv's:   0%|          | 0/10 [00:00<?, ?it/s]"
      ]
     },
     "metadata": {},
     "output_type": "display_data"
    },
    {
     "data": {
      "application/vnd.jupyter.widget-view+json": {
       "model_id": "",
       "version_major": 2,
       "version_minor": 0
      },
      "text/plain": [
       "Backtrack:   0%|          | 0/8 [00:00<?, ?it/s]"
      ]
     },
     "metadata": {},
     "output_type": "display_data"
    },
    {
     "data": {
      "application/vnd.jupyter.widget-view+json": {
       "model_id": "",
       "version_major": 2,
       "version_minor": 0
      },
      "text/plain": [
       "npv's:   0%|          | 0/10 [00:00<?, ?it/s]"
      ]
     },
     "metadata": {},
     "output_type": "display_data"
    },
    {
     "data": {
      "application/vnd.jupyter.widget-view+json": {
       "model_id": "",
       "version_major": 2,
       "version_minor": 0
      },
      "text/plain": [
       "Backtrack:   0%|          | 0/8 [00:00<?, ?it/s]"
      ]
     },
     "metadata": {},
     "output_type": "display_data"
    },
    {
     "name": "stdout",
     "output_type": "stream",
     "text": [
      "Converged ✅ itr=2      path[-1]=array([0.8])  objs[-1]=17.94\n"
     ]
    },
    {
     "data": {
      "application/vnd.jupyter.widget-view+json": {
       "model_id": "",
       "version_major": 2,
       "version_minor": 0
      },
      "text/plain": [
       "npv's:   0%|          | 0/10 [00:00<?, ?it/s]"
      ]
     },
     "metadata": {},
     "output_type": "display_data"
    },
    {
     "data": {
      "application/vnd.jupyter.widget-view+json": {
       "model_id": "",
       "version_major": 2,
       "version_minor": 0
      },
      "text/plain": [
       "Backtrack:   0%|          | 0/8 [00:00<?, ?it/s]"
      ]
     },
     "metadata": {},
     "output_type": "display_data"
    },
    {
     "data": {
      "application/vnd.jupyter.widget-view+json": {
       "model_id": "",
       "version_major": 2,
       "version_minor": 0
      },
      "text/plain": [
       "npv's:   0%|          | 0/10 [00:00<?, ?it/s]"
      ]
     },
     "metadata": {},
     "output_type": "display_data"
    },
    {
     "data": {
      "application/vnd.jupyter.widget-view+json": {
       "model_id": "",
       "version_major": 2,
       "version_minor": 0
      },
      "text/plain": [
       "Backtrack:   0%|          | 0/8 [00:00<?, ?it/s]"
      ]
     },
     "metadata": {},
     "output_type": "display_data"
    },
    {
     "data": {
      "application/vnd.jupyter.widget-view+json": {
       "model_id": "",
       "version_major": 2,
       "version_minor": 0
      },
      "text/plain": [
       "npv's:   0%|          | 0/10 [00:00<?, ?it/s]"
      ]
     },
     "metadata": {},
     "output_type": "display_data"
    },
    {
     "data": {
      "application/vnd.jupyter.widget-view+json": {
       "model_id": "",
       "version_major": 2,
       "version_minor": 0
      },
      "text/plain": [
       "Backtrack:   0%|          | 0/8 [00:00<?, ?it/s]"
      ]
     },
     "metadata": {},
     "output_type": "display_data"
    },
    {
     "data": {
      "application/vnd.jupyter.widget-view+json": {
       "model_id": "",
       "version_major": 2,
       "version_minor": 0
      },
      "text/plain": [
       "npv's:   0%|          | 0/10 [00:00<?, ?it/s]"
      ]
     },
     "metadata": {},
     "output_type": "display_data"
    },
    {
     "data": {
      "application/vnd.jupyter.widget-view+json": {
       "model_id": "",
       "version_major": 2,
       "version_minor": 0
      },
      "text/plain": [
       "Backtrack:   0%|          | 0/8 [00:00<?, ?it/s]"
      ]
     },
     "metadata": {},
     "output_type": "display_data"
    },
    {
     "name": "stdout",
     "output_type": "stream",
     "text": [
      "Converged ✅ itr=3      path[-1]=array([0.8])  objs[-1]=18.34\n"
     ]
    },
    {
     "data": {
      "application/vnd.jupyter.widget-view+json": {
       "model_id": "",
       "version_major": 2,
       "version_minor": 0
      },
      "text/plain": [
       "npv's:   0%|          | 0/10 [00:00<?, ?it/s]"
      ]
     },
     "metadata": {},
     "output_type": "display_data"
    },
    {
     "data": {
      "application/vnd.jupyter.widget-view+json": {
       "model_id": "",
       "version_major": 2,
       "version_minor": 0
      },
      "text/plain": [
       "Backtrack:   0%|          | 0/8 [00:00<?, ?it/s]"
      ]
     },
     "metadata": {},
     "output_type": "display_data"
    },
    {
     "data": {
      "application/vnd.jupyter.widget-view+json": {
       "model_id": "",
       "version_major": 2,
       "version_minor": 0
      },
      "text/plain": [
       "npv's:   0%|          | 0/10 [00:00<?, ?it/s]"
      ]
     },
     "metadata": {},
     "output_type": "display_data"
    },
    {
     "data": {
      "application/vnd.jupyter.widget-view+json": {
       "model_id": "",
       "version_major": 2,
       "version_minor": 0
      },
      "text/plain": [
       "Backtrack:   0%|          | 0/8 [00:00<?, ?it/s]"
      ]
     },
     "metadata": {},
     "output_type": "display_data"
    },
    {
     "data": {
      "application/vnd.jupyter.widget-view+json": {
       "model_id": "",
       "version_major": 2,
       "version_minor": 0
      },
      "text/plain": [
       "npv's:   0%|          | 0/10 [00:00<?, ?it/s]"
      ]
     },
     "metadata": {},
     "output_type": "display_data"
    },
    {
     "data": {
      "application/vnd.jupyter.widget-view+json": {
       "model_id": "",
       "version_major": 2,
       "version_minor": 0
      },
      "text/plain": [
       "Backtrack:   0%|          | 0/8 [00:00<?, ?it/s]"
      ]
     },
     "metadata": {},
     "output_type": "display_data"
    },
    {
     "data": {
      "application/vnd.jupyter.widget-view+json": {
       "model_id": "",
       "version_major": 2,
       "version_minor": 0
      },
      "text/plain": [
       "npv's:   0%|          | 0/10 [00:00<?, ?it/s]"
      ]
     },
     "metadata": {},
     "output_type": "display_data"
    },
    {
     "data": {
      "application/vnd.jupyter.widget-view+json": {
       "model_id": "",
       "version_major": 2,
       "version_minor": 0
      },
      "text/plain": [
       "Backtrack:   0%|          | 0/8 [00:00<?, ?it/s]"
      ]
     },
     "metadata": {},
     "output_type": "display_data"
    },
    {
     "name": "stdout",
     "output_type": "stream",
     "text": [
      "Converged ✅ itr=3      path[-1]=array([0.7])  objs[-1]=18.34\n"
     ]
    }
   ],
   "source": [
    "# Plot entire objective\n",
    "fig, ax = freshfig(f\"{obj.__name__}({y})\", figsize=(7, 3))\n",
    "ax.set(xlabel=\"x\", ylabel=\"NPV\")\n",
    "xx = np.linspace(0, model.Lx, 201)\n",
    "npvs = obj(np.atleast_2d(xx).T)\n",
    "ax.plot(xx, npvs, \"slategrey\", lw=3)\n",
    "\n",
    "# Optimize\n",
    "L = .3 * np.eye(1)\n",
    "shifts = {}\n",
    "u0s = model.Lx * np.array([[.05, .1, .2, .8, .9, .95]]).T\n",
    "for i, u0 in enumerate(u0s):\n",
    "    path, objs, info = EnOpt(obj, u0, L, regulator=None, xSteps=xSteps)\n",
    "    shift = .3*i  # for visual distinction\n",
    "    ax.plot(path, objs - shift, '-o', c=f'C{i+1}')\n",
    "fig.tight_layout()"
   ]
  },
  {
   "cell_type": "code",
   "execution_count": 29,
   "id": "b22994d6",
   "metadata": {},
   "outputs": [
    {
     "data": {
      "application/vnd.jupyter.widget-view+json": {
       "model_id": "c4921533312f443e90258ca5f75a976d",
       "version_major": 2,
       "version_minor": 0
      },
      "image/png": "[encoded data removed]",
      "text/html": [
       "\n",
       "            <div style=\"display: inline-block;\">\n",
       "                <div class=\"jupyter-widgets widget-label\" style=\"text-align: center;\">\n",
       "                    npv_in_injectors\n",
       "                </div>\n",
       "                <img src='data:image/png;base64,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' width=1100.0/>\n",
       "            </div>\n",
       "        "
      ],
      "text/plain": [
       "Canvas(toolbar=Toolbar(toolitems=[('Home', 'Reset original view', 'home', 'home'), ('Back', 'Back to previous …"
      ]
     },
     "metadata": {},
     "output_type": "display_data"
    },
    {
     "data": {
      "application/vnd.jupyter.widget-view+json": {
       "model_id": "",
       "version_major": 2,
       "version_minor": 0
      },
      "text/plain": [
       "npv's:   0%|          | 0/400 [00:00<?, ?it/s]"
      ]
     },
     "metadata": {},
     "output_type": "display_data"
    },
    {
     "data": {
      "application/vnd.jupyter.widget-view+json": {
       "model_id": "",
       "version_major": 2,
       "version_minor": 0
      },
      "text/plain": [
       "npv's:   0%|          | 0/10 [00:00<?, ?it/s]"
      ]
     },
     "metadata": {},
     "output_type": "display_data"
    },
    {
     "data": {
      "application/vnd.jupyter.widget-view+json": {
       "model_id": "",
       "version_major": 2,
       "version_minor": 0
      },
      "text/plain": [
       "Backtrack:   0%|          | 0/8 [00:00<?, ?it/s]"
      ]
     },
     "metadata": {},
     "output_type": "display_data"
    },
    {
     "data": {
      "application/vnd.jupyter.widget-view+json": {
       "model_id": "",
       "version_major": 2,
       "version_minor": 0
      },
      "text/plain": [
       "npv's:   0%|          | 0/10 [00:00<?, ?it/s]"
      ]
     },
     "metadata": {},
     "output_type": "display_data"
    },
    {
     "data": {
      "application/vnd.jupyter.widget-view+json": {
       "model_id": "",
       "version_major": 2,
       "version_minor": 0
      },
      "text/plain": [
       "Backtrack:   0%|          | 0/8 [00:00<?, ?it/s]"
      ]
     },
     "metadata": {},
     "output_type": "display_data"
    },
    {
     "data": {
      "application/vnd.jupyter.widget-view+json": {
       "model_id": "",
       "version_major": 2,
       "version_minor": 0
      },
      "text/plain": [
       "npv's:   0%|          | 0/10 [00:00<?, ?it/s]"
      ]
     },
     "metadata": {},
     "output_type": "display_data"
    },
    {
     "data": {
      "application/vnd.jupyter.widget-view+json": {
       "model_id": "",
       "version_major": 2,
       "version_minor": 0
      },
      "text/plain": [
       "Backtrack:   0%|          | 0/8 [00:00<?, ?it/s]"
      ]
     },
     "metadata": {},
     "output_type": "display_data"
    },
    {
     "data": {
      "application/vnd.jupyter.widget-view+json": {
       "model_id": "",
       "version_major": 2,
       "version_minor": 0
      },
      "text/plain": [
       "Backtrack:   0%|          | 0/8 [00:00<?, ?it/s]"
      ]
     },
     "metadata": {},
     "output_type": "display_data"
    },
    {
     "name": "stdout",
     "output_type": "stream",
     "text": [
      "Converged ✅ itr=2      path[-1]=array([0.723249, 0.415928])  objs[-1]=18.21\n"
     ]
    },
    {
     "data": {
      "application/vnd.jupyter.widget-view+json": {
       "model_id": "",
       "version_major": 2,
       "version_minor": 0
      },
      "text/plain": [
       "npv's:   0%|          | 0/10 [00:00<?, ?it/s]"
      ]
     },
     "metadata": {},
     "output_type": "display_data"
    },
    {
     "data": {
      "application/vnd.jupyter.widget-view+json": {
       "model_id": "",
       "version_major": 2,
       "version_minor": 0
      },
      "text/plain": [
       "Backtrack:   0%|          | 0/8 [00:00<?, ?it/s]"
      ]
     },
     "metadata": {},
     "output_type": "display_data"
    },
    {
     "data": {
      "application/vnd.jupyter.widget-view+json": {
       "model_id": "",
       "version_major": 2,
       "version_minor": 0
      },
      "text/plain": [
       "npv's:   0%|          | 0/10 [00:00<?, ?it/s]"
      ]
     },
     "metadata": {},
     "output_type": "display_data"
    },
    {
     "data": {
      "application/vnd.jupyter.widget-view+json": {
       "model_id": "",
       "version_major": 2,
       "version_minor": 0
      },
      "text/plain": [
       "Backtrack:   0%|          | 0/8 [00:00<?, ?it/s]"
      ]
     },
     "metadata": {},
     "output_type": "display_data"
    },
    {
     "data": {
      "application/vnd.jupyter.widget-view+json": {
       "model_id": "",
       "version_major": 2,
       "version_minor": 0
      },
      "text/plain": [
       "npv's:   0%|          | 0/10 [00:00<?, ?it/s]"
      ]
     },
     "metadata": {},
     "output_type": "display_data"
    },
    {
     "data": {
      "application/vnd.jupyter.widget-view+json": {
       "model_id": "",
       "version_major": 2,
       "version_minor": 0
      },
      "text/plain": [
       "Backtrack:   0%|          | 0/8 [00:00<?, ?it/s]"
      ]
     },
     "metadata": {},
     "output_type": "display_data"
    },
    {
     "data": {
      "application/vnd.jupyter.widget-view+json": {
       "model_id": "",
       "version_major": 2,
       "version_minor": 0
      },
      "text/plain": [
       "npv's:   0%|          | 0/10 [00:00<?, ?it/s]"
      ]
     },
     "metadata": {},
     "output_type": "display_data"
    },
    {
     "data": {
      "application/vnd.jupyter.widget-view+json": {
       "model_id": "",
       "version_major": 2,
       "version_minor": 0
      },
      "text/plain": [
       "Backtrack:   0%|          | 0/8 [00:00<?, ?it/s]"
      ]
     },
     "metadata": {},
     "output_type": "display_data"
    },
    {
     "data": {
      "application/vnd.jupyter.widget-view+json": {
       "model_id": "",
       "version_major": 2,
       "version_minor": 0
      },
      "text/plain": [
       "npv's:   0%|          | 0/10 [00:00<?, ?it/s]"
      ]
     },
     "metadata": {},
     "output_type": "display_data"
    },
    {
     "data": {
      "application/vnd.jupyter.widget-view+json": {
       "model_id": "",
       "version_major": 2,
       "version_minor": 0
      },
      "text/plain": [
       "Backtrack:   0%|          | 0/8 [00:00<?, ?it/s]"
      ]
     },
     "metadata": {},
     "output_type": "display_data"
    },
    {
     "data": {
      "application/vnd.jupyter.widget-view+json": {
       "model_id": "",
       "version_major": 2,
       "version_minor": 0
      },
      "text/plain": [
       "npv's:   0%|          | 0/10 [00:00<?, ?it/s]"
      ]
     },
     "metadata": {},
     "output_type": "display_data"
    },
    {
     "data": {
      "application/vnd.jupyter.widget-view+json": {
       "model_id": "",
       "version_major": 2,
       "version_minor": 0
      },
      "text/plain": [
       "Backtrack:   0%|          | 0/8 [00:00<?, ?it/s]"
      ]
     },
     "metadata": {},
     "output_type": "display_data"
    },
    {
     "data": {
      "application/vnd.jupyter.widget-view+json": {
       "model_id": "",
       "version_major": 2,
       "version_minor": 0
      },
      "text/plain": [
       "Backtrack:   0%|          | 0/8 [00:00<?, ?it/s]"
      ]
     },
     "metadata": {},
     "output_type": "display_data"
    },
    {
     "name": "stdout",
     "output_type": "stream",
     "text": [
      "Converged ✅ itr=5      path[-1]=array([0.75347 , 0.528647])  objs[-1]=18.34\n"
     ]
    },
    {
     "data": {
      "application/vnd.jupyter.widget-view+json": {
       "model_id": "",
       "version_major": 2,
       "version_minor": 0
      },
      "text/plain": [
       "npv's:   0%|          | 0/10 [00:00<?, ?it/s]"
      ]
     },
     "metadata": {},
     "output_type": "display_data"
    },
    {
     "data": {
      "application/vnd.jupyter.widget-view+json": {
       "model_id": "",
       "version_major": 2,
       "version_minor": 0
      },
      "text/plain": [
       "Backtrack:   0%|          | 0/8 [00:00<?, ?it/s]"
      ]
     },
     "metadata": {},
     "output_type": "display_data"
    },
    {
     "data": {
      "application/vnd.jupyter.widget-view+json": {
       "model_id": "",
       "version_major": 2,
       "version_minor": 0
      },
      "text/plain": [
       "npv's:   0%|          | 0/10 [00:00<?, ?it/s]"
      ]
     },
     "metadata": {},
     "output_type": "display_data"
    },
    {
     "data": {
      "application/vnd.jupyter.widget-view+json": {
       "model_id": "",
       "version_major": 2,
       "version_minor": 0
      },
      "text/plain": [
       "Backtrack:   0%|          | 0/8 [00:00<?, ?it/s]"
      ]
     },
     "metadata": {},
     "output_type": "display_data"
    },
    {
     "data": {
      "application/vnd.jupyter.widget-view+json": {
       "model_id": "",
       "version_major": 2,
       "version_minor": 0
      },
      "text/plain": [
       "npv's:   0%|          | 0/10 [00:00<?, ?it/s]"
      ]
     },
     "metadata": {},
     "output_type": "display_data"
    },
    {
     "data": {
      "application/vnd.jupyter.widget-view+json": {
       "model_id": "",
       "version_major": 2,
       "version_minor": 0
      },
      "text/plain": [
       "Backtrack:   0%|          | 0/8 [00:00<?, ?it/s]"
      ]
     },
     "metadata": {},
     "output_type": "display_data"
    },
    {
     "data": {
      "application/vnd.jupyter.widget-view+json": {
       "model_id": "",
       "version_major": 2,
       "version_minor": 0
      },
      "text/plain": [
       "npv's:   0%|          | 0/10 [00:00<?, ?it/s]"
      ]
     },
     "metadata": {},
     "output_type": "display_data"
    },
    {
     "data": {
      "application/vnd.jupyter.widget-view+json": {
       "model_id": "",
       "version_major": 2,
       "version_minor": 0
      },
      "text/plain": [
       "Backtrack:   0%|          | 0/8 [00:00<?, ?it/s]"
      ]
     },
     "metadata": {},
     "output_type": "display_data"
    },
    {
     "data": {
      "application/vnd.jupyter.widget-view+json": {
       "model_id": "",
       "version_major": 2,
       "version_minor": 0
      },
      "text/plain": [
       "npv's:   0%|          | 0/10 [00:00<?, ?it/s]"
      ]
     },
     "metadata": {},
     "output_type": "display_data"
    },
    {
     "data": {
      "application/vnd.jupyter.widget-view+json": {
       "model_id": "",
       "version_major": 2,
       "version_minor": 0
      },
      "text/plain": [
       "Backtrack:   0%|          | 0/8 [00:00<?, ?it/s]"
      ]
     },
     "metadata": {},
     "output_type": "display_data"
    },
    {
     "data": {
      "application/vnd.jupyter.widget-view+json": {
       "model_id": "",
       "version_major": 2,
       "version_minor": 0
      },
      "text/plain": [
       "Backtrack:   0%|          | 0/8 [00:00<?, ?it/s]"
      ]
     },
     "metadata": {},
     "output_type": "display_data"
    },
    {
     "name": "stdout",
     "output_type": "stream",
     "text": [
      "Converged ✅ itr=4      path[-1]=array([0.750314, 0.53891 ])  objs[-1]=18.34\n"
     ]
    },
    {
     "data": {
      "application/vnd.jupyter.widget-view+json": {
       "model_id": "",
       "version_major": 2,
       "version_minor": 0
      },
      "text/plain": [
       "npv's:   0%|          | 0/10 [00:00<?, ?it/s]"
      ]
     },
     "metadata": {},
     "output_type": "display_data"
    },
    {
     "data": {
      "application/vnd.jupyter.widget-view+json": {
       "model_id": "",
       "version_major": 2,
       "version_minor": 0
      },
      "text/plain": [
       "Backtrack:   0%|          | 0/8 [00:00<?, ?it/s]"
      ]
     },
     "metadata": {},
     "output_type": "display_data"
    },
    {
     "data": {
      "application/vnd.jupyter.widget-view+json": {
       "model_id": "",
       "version_major": 2,
       "version_minor": 0
      },
      "text/plain": [
       "npv's:   0%|          | 0/10 [00:00<?, ?it/s]"
      ]
     },
     "metadata": {},
     "output_type": "display_data"
    },
    {
     "data": {
      "application/vnd.jupyter.widget-view+json": {
       "model_id": "",
       "version_major": 2,
       "version_minor": 0
      },
      "text/plain": [
       "Backtrack:   0%|          | 0/8 [00:00<?, ?it/s]"
      ]
     },
     "metadata": {},
     "output_type": "display_data"
    },
    {
     "data": {
      "application/vnd.jupyter.widget-view+json": {
       "model_id": "",
       "version_major": 2,
       "version_minor": 0
      },
      "text/plain": [
       "npv's:   0%|          | 0/10 [00:00<?, ?it/s]"
      ]
     },
     "metadata": {},
     "output_type": "display_data"
    },
    {
     "data": {
      "application/vnd.jupyter.widget-view+json": {
       "model_id": "",
       "version_major": 2,
       "version_minor": 0
      },
      "text/plain": [
       "Backtrack:   0%|          | 0/8 [00:00<?, ?it/s]"
      ]
     },
     "metadata": {},
     "output_type": "display_data"
    },
    {
     "data": {
      "application/vnd.jupyter.widget-view+json": {
       "model_id": "",
       "version_major": 2,
       "version_minor": 0
      },
      "text/plain": [
       "npv's:   0%|          | 0/10 [00:00<?, ?it/s]"
      ]
     },
     "metadata": {},
     "output_type": "display_data"
    },
    {
     "data": {
      "application/vnd.jupyter.widget-view+json": {
       "model_id": "",
       "version_major": 2,
       "version_minor": 0
      },
      "text/plain": [
       "Backtrack:   0%|          | 0/8 [00:00<?, ?it/s]"
      ]
     },
     "metadata": {},
     "output_type": "display_data"
    },
    {
     "data": {
      "application/vnd.jupyter.widget-view+json": {
       "model_id": "",
       "version_major": 2,
       "version_minor": 0
      },
      "text/plain": [
       "npv's:   0%|          | 0/10 [00:00<?, ?it/s]"
      ]
     },
     "metadata": {},
     "output_type": "display_data"
    },
    {
     "data": {
      "application/vnd.jupyter.widget-view+json": {
       "model_id": "",
       "version_major": 2,
       "version_minor": 0
      },
      "text/plain": [
       "Backtrack:   0%|          | 0/8 [00:00<?, ?it/s]"
      ]
     },
     "metadata": {},
     "output_type": "display_data"
    },
    {
     "data": {
      "application/vnd.jupyter.widget-view+json": {
       "model_id": "",
       "version_major": 2,
       "version_minor": 0
      },
      "text/plain": [
       "Backtrack:   0%|          | 0/8 [00:00<?, ?it/s]"
      ]
     },
     "metadata": {},
     "output_type": "display_data"
    },
    {
     "name": "stdout",
     "output_type": "stream",
     "text": [
      "Converged ✅ itr=4      path[-1]=array([0.7888  , 0.473383])  objs[-1]=18.42\n"
     ]
    }
   ],
   "source": [
    "obj = npv_in_injectors\n",
    "fig, axs = plotting.figure12(obj.__name__)\n",
    "\n",
    "# Plot entire objective\n",
    "\n",
    "X, Y = model.mesh\n",
    "XY = np.vstack([X.ravel(), Y.ravel()]).T\n",
    "npvs = obj(XY)\n",
    "model.plt_field(axs[0], npvs, \"NPV\", wells=True, argmax=True, colorbar=True);\n",
    "fig.tight_layout()\n",
    "\n",
    "# Optimize\n",
    "\n",
    "L = .1 * np.eye(2)\n",
    "for color in ['C0', 'C2', 'C7', 'C9']:\n",
    "    u0 = rnd.rand(2) * model.domain[1]\n",
    "    path, objs, info = EnOpt(obj, u0, L, regulator=Momentum(0.3), xSteps=xSteps, precond=False)\n",
    "    plotting.add_path12(*axs, path, objs, color=color)"
   ]
  },
  {
   "cell_type": "markdown",
   "id": "25e1f76a",
   "metadata": {},
   "source": [
    "#### Comments\n",
    "- Some get stuck in local minima\n",
    "- Smaller steps towards end\n",
    "- Notice that discreteness of npv_in_injectors function means that\n",
    "  they dont all CV to exactly the same"
   ]
  },
  {
   "cell_type": "code",
   "execution_count": 30,
   "id": "54d5ce6d",
   "metadata": {},
   "outputs": [
    {
     "data": {
      "application/vnd.jupyter.widget-view+json": {
       "model_id": "17a367cc3d47470a893233a8f78ead68",
       "version_major": 2,
       "version_minor": 0
      },
      "image/png": "[encoded data removed]",
      "text/html": [
       "\n",
       "            <div style=\"display: inline-block;\">\n",
       "                <div class=\"jupyter-widgets widget-label\" style=\"text-align: center;\">\n",
       "                    Final sweep npv_in_injectors\n",
       "                </div>\n",
       "                <img src='data:image/png;base64,iVBORw0KGgoAAAANSUhEUgAAAoAAAAEgCAYAAAAkOcJQAAAAOXRFWHRTb2Z0d2FyZQBNYXRwbG90bGliIHZlcnNpb24zLjcuMSwgaHR0cHM6Ly9tYXRwbG90bGliLm9yZy/bCgiHAAAACXBIWXMAAA9hAAAPYQGoP6dpAAAh6ElEQVR4nO3de3CU1f3H8U+y4bdZkCQCCWTHREEIVC5Gx2QRO1zGURFbURtAB0U7acO0olaJZNI2gwgUAQuitKNgyk2tl4BjvUwrimVEIMgQsGOJUSQmklUEIQslWSA5vz+Y7Bh2g5Bkk92c92tm/9jz7Hf3+3BInk/O8+xujDHGCAAAANaI7ewGAAAA0LEIgAAAAJYhAAIAAFiGAAgAAGAZAiAAAIBlCIAAAACWIQACAABYhgAIAABgGQIgAACAZQiAAAAAliEAAgAAWIYACAAAYBkCIAAAgGUIgAAAAJYhAAIAAFiGAAgAAGAZAiAAAIBlCIAAAACWIQACAABYhgAIAABgGQIgAACAZQiAAAAAliEAAgAAWIYACAAAYBkCIAAAgGUIgAAAAJYhAAIAAFiGAAgAAGCZqA2Ax48f1+zZszV+/Hj16tVLMTExWr169XnXHz16VHl5eUpOTlaPHj00btw47dq1K3wNAwAARIioDYCHDh3S448/rr179+rKK6+8oNrGxkbdcssteumllzRjxgwtWrRIBw8e1NixY/X555+HqWMAAIDIENfZDbRWamqqvF6v+vXrp507dyorK+u8a0tKSrR161a99tprysnJkSRNnjxZGRkZmj17tl566aVwtQ0AANDponYF0Ol0ql+/fq2qLSkpUd++fXXHHXcExpKTkzV58mS98cYb8vv97dUmAABAxInaANgWZWVluvrqqxUb23z3s7OzdeLECVVUVHRSZwAAAOEXtaeA28Lr9Wr06NFB46mpqZKkmpoaDR8+PGi73+9vtjrY2Nio77//Xr1791ZMTEz4GgYAAO3GGKNjx47J7XYHLQbZwsoAWFdXJ6fTGTQeHx8f2B7KggULNGfOnLD2BgAAOkZ1dbUuueSSzm6jU1gZAF0uV8jr/Orr6wPbQyksLNQjjzwSuF9bW6v09HRVV1crISEhPM0CAIB25fP5lJaWpp49e3Z2K53GygDY9A7iszWNud3ukHVOpzPkymFCQgIBEACAKGPz5VtWnvjOzMzUrl271NjY2Gy8tLRU3bt3V0ZGRid1BgAAEH5dPgB6vV6Vl5fr1KlTgbGcnBx9++232rBhQ2Ds0KFDeu211/Tzn/885CofAABAVxHVp4CXL1+uo0ePqqamRpL05ptv6uuvv5YkPfDAA0pMTFRhYaHWrFmj/fv367LLLpN0JgCOHDlSv/zlL/Xf//5Xffr00V//+lc1NDTwJg8AANDlRXUAfPLJJ/XVV18F7m/YsCGwqnf33XcrMTExZJ3D4dA777yjRx99VE8//bTq6uqUlZWl1atXa/DgwR3SOwAAQGeJMcaYzm4iWvl8PiUmJqq2tpY3gQAAECU4fltwDSAAAACaIwACAABYhgAIAABgGQIgAACAZQiAAAAAliEAAgAAWIYACAAAYBkCIAAAgGUIgAAAAJYhAAIAAFiGAAgAAGAZAiAAAIBlCIAAAACWIQACAABYhgAIAABgGQIgAACAZQiAAAAAliEAAgAAWIYACAAAYBkCIAAAgGUIgAAAAJYhAAIAAFiGAAgAAGAZAiAAAIBlCIAAAACWIQACAABYhgAIAABgGQIgAACAZQiAAAAAliEAAgAAWCZqA6Df71dBQYHcbrdcLpc8Ho82btx4XrXvvfeexo0bpz59+igpKUnZ2dlat25dmDsGAACIDFEbAO+77z4tWbJEU6dO1bJly+RwODRhwgRt2bLlnHX/+Mc/dOONN+rkyZN67LHHNH/+fLlcLk2bNk1Lly7toO4BAAA6T4wxxnR2Exdqx44d8ng8Wrx4sfLz8yVJ9fX1GjZsmFJSUrR169YWa2+88UZ9+umn+vLLL+V0OiVJp0+f1pAhQ9SjRw/t2bPnvPvw+XxKTExUbW2tEhIS2rZTAACgQ3D8jtIVwJKSEjkcDuXl5QXG4uPjlZubq23btqm6urrFWp/Pp4svvjgQ/iQpLi5Offr0kcvlCmvfAAAAkSAqA2BZWZkyMjKCUnt2drYkaffu3S3Wjh07Vp9++qmKior0xRdfaN++fZo7d6527typWbNmhbNtAACAiBDX2Q20htfrVWpqatB401hNTU2LtUVFRdq/f7/mz5+vefPmSZK6d++u9evXa+LEied8Xb/fL7/fH7jv8/la0z4AAECnisoVwLq6umancJvEx8cHtrfE6XQqIyNDOTk5+vvf/64XXnhB11xzje6++25t3779nK+7YMECJSYmBm5paWlt2xEAAIBOEJUrgC6Xq9lKXJP6+vrA9pbMmDFD27dv165duxQbeyb/Tp48WUOHDtVDDz2k0tLSFmsLCwv1yCOPBO77fD5CIAAAiDpRuQKYmpoqr9cbNN405na7Q9adPHlSxcXFuuWWWwLhT5K6deumm2++WTt37tTJkydbfF2n06mEhIRmNwAAgGgTlQEwMzNTFRUVQdfgNa3eZWZmhqw7fPiwTp8+rYaGhqBtp06dUmNjY8htAAAAXUlUBsCcnBw1NDRoxYoVgTG/369Vq1bJ4/EETstWVVWpvLw88JiUlBQlJSXp9ddfb7bSd/z4cb355psaMmQIHwUDAAC6vKi8BtDj8WjSpEkqLCzUwYMHNXDgQK1Zs0aVlZUqLi4OPG7atGnavHmzmj7r2uFwKD8/X3/84x81cuRITZs2TQ0NDSouLtbXX3+tF154obN2CQAAoMNEZQCUpLVr16qoqEjr1q3TkSNHNGLECL311lsaPXr0Oev+8Ic/qH///lq2bJnmzJkjv9+vESNGqKSkRL/4xS86qHsAAIDOE5VfBRcp+CoZAACiD8fvKL0GEAAAAK1HAAQAALAMARAAAMAyBEAAAADLEAABAAAsQwAEAACwDAEQAADAMgRAAAAAyxAAAQAALEMABAAAsAwBEAAAwDIEQAAAAMsQAAEAACxDAAQAALAMARAAAMAyBEAAAADLEAABAAAsQwAEAACwDAEQAADAMgRAAAAAyxAAAQAALEMABAAAsAwBEAAAwDIEQAAAAMsQAAEAACxDAAQAALAMARAAAMAyBEAAAADLEAABAAAsQwAEAACwTNQGQL/fr4KCArndbrlcLnk8Hm3cuPG861955RVde+216tGjh5KSkjRq1Cht2rQpjB0DAABEhqgNgPfdd5+WLFmiqVOnatmyZXI4HJowYYK2bNnyo7WPPfaY7rrrLqWlpWnJkiWaN2+eRowYoQMHDnRA5wAAAJ0rxhhjOruJC7Vjxw55PB4tXrxY+fn5kqT6+noNGzZMKSkp2rp1a4u127dv16hRo/TnP/9ZDz/8cJv68Pl8SkxMVG1trRISEtr0XAAAoGNw/I7SFcCSkhI5HA7l5eUFxuLj45Wbm6tt27apurq6xdqnnnpK/fr100MPPSRjjI4fP94RLQMAAESMqAyAZWVlysjICErt2dnZkqTdu3e3WPv+++8rKytLTz/9tJKTk9WzZ0+lpqZq+fLl4WwZAAAgYsR1dgOt4fV6lZqaGjTeNFZTUxOy7siRIzp06JA++ugjbdq0SbNnz1Z6erpWrVqlBx54QN26ddP06dNbfF2/3y+/3x+47/P52rgnAAAAHS8qVwDr6urkdDqDxuPj4wPbQ2k63Xv48GE9//zzys/P1+TJk/X222/riiuu0Lx58875ugsWLFBiYmLglpaW1sY9AQAA6HhRGQBdLlezlbgm9fX1ge0t1UlSt27dlJOTExiPjY3VlClT9PXXX6uqqqrF1y0sLFRtbW3gdq5rDQEAACJVVJ4CTk1NDfmRLV6vV5LkdrtD1vXq1Uvx8fFKSkqSw+Foti0lJUXSmdPE6enpIeudTmfIlUcAAIBoEpUrgJmZmaqoqAi6Bq+0tDSwPZTY2FhlZmbqu+++08mTJ5tta7puMDk5uf0bBgAAiCBRGQBzcnLU0NCgFStWBMb8fr9WrVolj8cTuDavqqpK5eXlzWqnTJmihoYGrVmzJjBWX1+vF198UVdccUWLq4cAAABdRVSeAvZ4PJo0aZIKCwt18OBBDRw4UGvWrFFlZaWKi4sDj5s2bZo2b96sH37W9fTp0/X888/r/vvvV0VFhdLT07Vu3Tp99dVXevPNNztjdwAAADpUVAZASVq7dq2Kioq0bt06HTlyRCNGjNBbb72l0aNHn7PO5XJp06ZNmjVrlv72t7/pf//7nzIzM/X222/rpptu6qDuAQAAOk9UfhVcpOCrZAAAiD4cv6P0GkAAAAC0HgEQAADAMgRAAAAAyxAAAQAALEMABAAAsAwBEAAAwDIEQAAAAMsQAAEAACxDAAQAALAMARAAAMAyBEAAAADLEAABAAAsQwAEAACwDAEQAADAMgRAAAAAyxAAAQAALEMABAAAsAwBEAAAwDIEQAAAAMsQAAEAACxDAAQAALAMARAAAMAyBEAAAADLEAABAAAsQwAEAACwDAEQAADAMgRAAAAAyxAAAQAALEMABAAAsAwBEAAAwDIEQAAAAMtEbQD0+/0qKCiQ2+2Wy+WSx+PRxo0bL/h5brjhBsXExGjGjBlh6BIAACDyRG0AvO+++7RkyRJNnTpVy5Ytk8Ph0IQJE7Rly5bzfo4NGzZo27ZtYewSAAAg8kRlANyxY4defvllLViwQIsXL1ZeXp42bdqkSy+9VLNmzTqv56ivr9fMmTNVUFAQ5m4BAAAiS1QGwJKSEjkcDuXl5QXG4uPjlZubq23btqm6uvpHn2PRokVqbGxUfn5+OFsFAACIOFEZAMvKypSRkaGEhIRm49nZ2ZKk3bt3n7O+qqpKTzzxhBYuXCiXyxWuNgEAACJSXGc30Bper1epqalB401jNTU156yfOXOmrrrqKt15550X9Lp+v19+vz9w3+fzXVA9AABAJIjKAFhXVyen0xk0Hh8fH9jekg8++EDr169XaWnpBb/uggULNGfOnAuuAwAAiCRReQrY5XI1W4lrUl9fH9geyunTp/Xggw/qnnvuUVZW1gW/bmFhoWprawO387nWEAAAINJE5QpgamqqDhw4EDTu9XolSW63O2Td2rVr9dlnn+m5555TZWVls23Hjh1TZWWlUlJS1L1795D1Tqcz5MojAABANInKFcDMzExVVFQEXYPXdFo3MzMzZF1VVZVOnTql6667Tv379w/cpDPhsH///nr33XfD2jsAAEBnizHGmM5u4kKVlpZq5MiRWrx4ceBjXPx+v4YNG6bevXtr+/btks4EvhMnTmjIkCGSpPLycpWXlwc93+23364JEybo17/+tTweT8g3mITi8/mUmJio2traoHckAwCAyMTxO0pPAXs8Hk2aNEmFhYU6ePCgBg4cqDVr1qiyslLFxcWBx02bNk2bN29WU8YdMmRIIAyerX///rrttts6on0AAIBOFZUBUDpzyraoqEjr1q3TkSNHNGLECL311lsaPXp0Z7cGAAAQ0aLyFHCkYAkZAIDow/E7St8EAgAAgNYjAAIAAFiGAAgAAGAZAiAAAIBlCIAAAACWIQACAABYhgAIAABgGQIgAACAZQiAAAAAliEAAgAAWIYACAAAYBkCIAAAgGUIgAAAAJYhAAIAAFiGAAgAAGAZAiAAAIBlCIAAAACWIQACAABYhgAIAABgGQIgAACAZQiAAAAAliEAAgAAWIYACAAAYBkCIAAAgGUIgAAAAJYhAAIAAFiGAAgAAGAZAiAAAIBlCIAAAACWIQACAABYJmoDoN/vV0FBgdxut1wulzwejzZu3PijdRs2bNCUKVM0YMAAde/eXYMHD9bMmTN19OjR8DcNAAAQAWKMMaazm2iNu+66SyUlJfrd736nQYMGafXq1fr444/1wQcf6Kc//WmLdX369JHb7dZtt92m9PR0/ec//9Gzzz6rAQMGaNeuXXK5XOfdg8/nU2Jiompra5WQkNAeuwUAAMKM43eUBsAdO3bI4/Fo8eLFys/PlyTV19dr2LBhSklJ0datW1us/fe//62xY8c2G1u7dq3uvfderVy5Ur/61a/Ouw/+AwEAEH04fkfpKeCSkhI5HA7l5eUFxuLj45Wbm6tt27apurq6xdqzw58k3X777ZKkvXv3tnuvAAAAkSYqA2BZWZkyMjKCUnt2drYkaffu3Rf0fN98842kM6eHAQAAurq4zm6gNbxer1JTU4PGm8Zqamou6PkWLlwoh8OhnJyccz7O7/fL7/cH7vt8vgt6HQAAgEgQlSuAdXV1cjqdQePx8fGB7efrpZdeUnFxsWbOnKlBgwad87ELFixQYmJi4JaWlnZhjQMAAESAqAyALper2Upck/r6+sD28/Hhhx8qNzdXN910k+bPn/+jjy8sLFRtbW3gdq5rDQEAACJVVJ4CTk1N1YEDB4LGvV6vJMntdv/oc+zZs0e33nqrhg0bppKSEsXF/fg/hdPpDLnyCAAAEE2icgUwMzNTFRUVQdfglZaWBrafy759+zR+/HilpKTonXfe0UUXXRSuVgEAACJOVAbAnJwcNTQ0aMWKFYExv9+vVatWyePxBK7Nq6qqUnl5ebPab775RjfeeKNiY2P1r3/9S8nJyR3aOwAAQGeLylPAHo9HkyZNUmFhoQ4ePKiBAwdqzZo1qqysVHFxceBx06ZN0+bNm/XDz7oeP368vvzyS82aNUtbtmzRli1bAtv69u2rG264oUP3BQAAoKNFZQCUznx7R1FRkdatW6cjR45oxIgReuuttzR69Ohz1u3Zs0eStGjRoqBtY8aMIQACAIAuLyq/Ci5S8FUyAABEH47fUXoNIAAAAFqPAAgAAGAZAiAAAIBlCIAAAACWIQACAABYhgAIAABgGQIgAACAZQiAAAAAliEAAgAAWIYACAAAYBkCIAAAgGUIgAAAAJYhAAIAAFiGAAgAAGAZAiAAAIBlCIAAAACWIQACAABYhgAIAABgGQIgAACAZQiAAAAAliEAAgAAWIYACAAAYBkCIAAAgGUIgAAAAJYhAAIAAFiGAAgAAGAZAiAAAIBlCIAAAACWIQACAABYhgAIAABgmagNgH6/XwUFBXK73XK5XPJ4PNq4ceN51R44cECTJ09WUlKSEhISNHHiRH355Zdh7hgAACAyRG0AvO+++7RkyRJNnTpVy5Ytk8Ph0IQJE7Rly5Zz1h0/flzjxo3T5s2b9fvf/15z5sxRWVmZxowZo8OHD3dQ9wAAAJ0nxhhjOruJC7Vjxw55PB4tXrxY+fn5kqT6+noNGzZMKSkp2rp1a4u1ixYtUkFBgXbs2KGsrCxJUnl5uYYNG6ZZs2bpT3/603n34fP5lJiYqNraWiUkJLRtpwAAQIfg+B2lK4AlJSVyOBzKy8sLjMXHxys3N1fbtm1TdXX1OWuzsrIC4U+ShgwZouuvv16vvvpqWPsGAACIBFEZAMvKypSRkRGU2rOzsyVJu3fvDlnX2NioTz75RNdcc03QtuzsbO3bt0/Hjh1r934BAAAiSVxnN9AaXq9XqampQeNNYzU1NSHrvv/+e/n9/h+tHTx4cMh6v98vv98fuF9bWyvpzFIyAACIDk3H7Si8Cq7dRGUArKurk9PpDBqPj48PbG+pTlKraiVpwYIFmjNnTtB4WlrajzcNAAAiyuHDh5WYmNjZbXSKqAyALper2Upck/r6+sD2luoktapWkgoLC/XII48E7h89elSXXnqpqqqqrP0PFCl8Pp/S0tJUXV1t7QW9kYK5iCzMR+RgLiJHbW2t0tPT1atXr85updNEZQBMTU3VgQMHgsa9Xq8kye12h6zr1auXnE5n4HEXUiudWTkMtXqYmJjID3OESEhIYC4iBHMRWZiPyMFcRI7Y2Kh8K0S7iMo9z8zMVEVFRdC1d6WlpYHtocTGxmr48OHauXNn0LbS0lINGDBAPXv2bPd+AQAAIklUBsCcnBw1NDRoxYoVgTG/369Vq1bJ4/EErsmrqqpSeXl5UO3HH3/cLAR+9tln2rRpkyZNmtQxOwAAANCJovIUsMfj0aRJk1RYWKiDBw9q4MCBWrNmjSorK1VcXBx43LRp07R58+Zm7/L57W9/q5UrV+qWW25Rfn6+unXrpiVLlqhv376aOXPmBfXhdDo1e/bskKeF0bGYi8jBXEQW5iNyMBeRg7mI0m8Ckc68aaOoqEgvvPCCjhw5ohEjRmju3Lm66aabAo8ZO3ZsUACUpK+//loPP/yw3n33XTU2Nmrs2LFaunSpBg4c2NG7AQAA0OGiNgACAACgdaLyGkAAAAC0HgEQAADAMgRAAAAAyxAAQ/D7/SooKJDb7ZbL5ZLH49HGjRvPq/bAgQOaPHmykpKSlJCQoIkTJ+rLL78Mc8ddV2vnYsOGDZoyZYoGDBig7t27a/DgwZo5c6aOHj0a/qa7qLb8XPzQDTfcoJiYGM2YMSMMXdqjrfPxyiuv6Nprr1WPHj2UlJSkUaNGadOmTWHsuOtqy1y89957GjdunPr06aOkpCRlZ2dr3bp1Ye646zp+/Lhmz56t8ePHq1evXoqJidHq1avPu/7o0aPKy8tTcnKyevTooXHjxmnXrl3ha7gzGQS58847TVxcnMnPzzfPPfecufbaa01cXJz58MMPz1l37NgxM2jQIJOSkmIWLlxolixZYtLS0swll1xiDh061EHddy2tnYvevXub4cOHm6KiIrNy5Urz4IMPmv/7v/8zQ4YMMSdOnOig7ruW1s7FD61fv9706NHDSDL3339/GLvt+toyH7NnzzYxMTFm0qRJ5tlnnzXPPPOMmT59ulm7dm0HdN71tHYu3njjDRMTE2NGjRplnnnmGbN8+XIzevRoI8ksWbKkg7rvWvbv328kmfT0dDN27Fgjyaxateq8ahsaGsyoUaNMjx49zGOPPWaWL19urrjiCtOzZ09TUVER3sY7AQHwLKWlpUaSWbx4cWCsrq7OXH755ebaa689Z+3ChQuNJLNjx47A2N69e43D4TCFhYVh67mrastcfPDBB0Fja9asMZLMypUr27vVLq8tc/HDx1922WXm8ccfJwC2UVvmY9u2bSYmJoaA0U7aMhc33HCDcbvdpr6+PjB26tQpc/nll5sRI0aEreeurL6+3ni9XmOMMR9//PEFBcBXXnnFSDKvvfZaYOzgwYMmKSnJ3HXXXeFot1NxCvgsJSUlcjgcysvLC4zFx8crNzdX27ZtU3V19Tlrs7KylJWVFRgbMmSIrr/+er366qth7bsrastcjB07Nmjs9ttvlyTt3bu33Xvt6toyF00WLVqkxsZG5efnh7NVK7RlPp566in169dPDz30kIwxOn78eEe03GW1ZS58Pp8uvvjiZh9GHBcXpz59+sjlcoW1767K6XSqX79+raotKSlR3759dccddwTGkpOTNXnyZL3xxhvy+/3t1WZEIACepaysTBkZGUFf1J2dnS1J2r17d8i6xsZGffLJJ7rmmmuCtmVnZ2vfvn06duxYu/fblbV2LlryzTffSJL69OnTLv3ZpK1zUVVVpSeeeEILFy7kwNYO2jIf77//vrKysvT0008rOTlZPXv2VGpqqpYvXx7OlrustszF2LFj9emnn6qoqEhffPGF9u3bp7lz52rnzp2aNWtWONtGCGVlZbr66qsVG9s8GmVnZ+vEiROqqKjopM7CIyq/Ci6cvF6vUlNTg8abxmpqakLWff/99/L7/T9aO3jw4Hbstmtr7Vy0ZOHChXI4HMrJyWmX/mzS1rmYOXOmrrrqKt15551h6c82rZ2PI0eO6NChQ/roo4+0adMmzZ49W+np6Vq1apUeeOABdevWTdOnTw9r711NW342ioqKtH//fs2fP1/z5s2TJHXv3l3r16/XxIkTw9MwWuT1ejV69Oig8R/O5fDhwzu6rbAhAJ6lrq4u5HcDxsfHB7a3VCepVbUIrbVzEcpLL72k4uJizZo1S4MGDWq3Hm3Rlrn44IMPtH79epWWloatP9u0dj6aTvcePnxYL7/8sqZMmSJJysnJ0fDhwzVv3jwC4AVqy8+G0+lURkaGcnJydMcdd6ihoUErVqzQ3XffrY0bN2rkyJFh6xvB2vOYEw0IgGdxuVwhz/PX19cHtrdUJ6lVtQittXNxtg8//FC5ubm66aabNH/+/Hbt0RatnYvTp0/rwQcf1D333NPs2li0TVt/T3Xr1q3ZSnhsbKymTJmi2bNnq6qqSunp6WHoumtqy++pGTNmaPv27dq1a1fgtOPkyZM1dOhQPfTQQ/zR1MHa65gTLbgG8Cypqanyer1B401jbrc7ZF2vXr3kdDpbVYvQWjsXP7Rnzx7deuutGjZsmEpKShQXx988rdHauVi7dq0+++wzTZ8+XZWVlYGbJB07dkyVlZU6ceJE2Pruqtryeyo+Pl69e/eWw+Foti0lJUXSmdPEOH+tnYuTJ0+quLhYt9xyS7Nrzrp166abb75ZO3fu1MmTJ8PTNEJqj2NONCEAniUzM1MVFRXy+XzNxpv+EsvMzAxZFxsbq+HDh2vnzp1B20pLSzVgwAD17Nmz3fvtylo7F0327dun8ePHKyUlRe+8844uuuiicLXa5bV2LqqqqnTq1Cldd9116t+/f+AmnQmH/fv317vvvhvW3ruitvyeyszM1HfffRcULpquVUtOTm7/hruw1s7F4cOHdfr0aTU0NARtO3XqlBobG0NuQ/hkZmZq165damxsbDZeWlqq7t27KyMjo5M6C5PO/hyaSLN9+/agz3Sqr683AwcONB6PJzD21Vdfmb179zarfeKJJ4wk8/HHHwfGysvLjcPhMAUFBeFvvotpy1x4vV4zYMAA43a7zf79+zuq5S6rtXOxd+9e8/rrrwfdJJkJEyaY119/3dTU1HTovnQFbfnZWLp0qZFkVqxYERirq6szAwYMMFdccUX4m+9iWjsXp0+fNklJSSYjI8P4/f7A+LFjx8wll1xihgwZ0jE70IWd63MAa2pqzN69e83JkycDYy+//HLQ5wB+9913JikpyUyZMqUjWu5QBMAQJk2aZOLi4syjjz5qnnvuOTNq1CgTFxdnNm/eHHjMmDFjzNn52efzmcsvv9ykpKSYRYsWmaVLl5q0tDTjdrvNwYMHO3o3uoTWzsWVV15pJJlZs2aZdevWNbu9++67Hb0bXUJr5yIU8UHQbdba+Thx4oQZOnSo6datm8nPzzdPP/20ycrKMg6Hw7zzzjsdvRtdQmvnYt68eUaSueqqq8zSpUvNk08+aX7yk58YSeaFF17o6N3oMp555hkzd+5c85vf/MZIMnfccYeZO3eumTt3rjl69Kgxxph7773XSGq2QHD69GkzcuRIc9FFF5k5c+aYv/zlL2bo0KGmZ8+epry8vJP2JnwIgCHU1dWZ/Px8069fP+N0Ok1WVpb55z//2ewxLR3oqqurTU5OjklISDAXXXSR+dnPfmY+//zzjmq9y2ntXEhq8TZmzJgO3IOuoy0/F2cjALZdW+bj22+/Nffee6/p1auXcTqdxuPxBNXi/LVlLl588UWTnZ1tkpKSjMvlMh6Px5SUlHRU613SpZde2uLv/6bAFyoAGmPM999/b3Jzc03v3r1N9+7dzZgxY5qd1etKYowxJmznlwEAABBxeBMIAACAZQiAAAAAliEAAgAAWIYACAAAYBkCIAAAgGUIgAAAAJYhAAIAAFjm/wElo1sNPPUGqQAAAABJRU5ErkJggg==' width=640.0/>\n",
       "            </div>\n",
       "        "
      ],
      "text/plain": [
       "Canvas(toolbar=Toolbar(toolitems=[('Home', 'Reset original view', 'home', 'home'), ('Back', 'Back to previous …"
      ]
     },
     "metadata": {},
     "output_type": "display_data"
    }
   ],
   "source": [
    "model = new_mod(inj_xy=path[-1].reshape((-1, 2)),\n",
    "                name=f\"Optimized in {obj.__name__}\")\n",
    "plot_final_sweep(model)"
   ]
  },
  {
   "cell_type": "code",
   "execution_count": 31,
   "id": "9b0f8f0a",
   "metadata": {},
   "outputs": [],
   "source": [
    "def transform_xys(xys):\n",
    "    \"\"\"Transform infinite plane to `(0, Lx) x (0, Ly)`.\"\"\"\n",
    "    def realline_to_0L(x, L, compress=1):\n",
    "        sigmoid = lambda z: 1/(1 + np.exp(-z))  # noqa\n",
    "        x = (x - L/2) * L * compress\n",
    "        return L * sigmoid(x)\n",
    "\n",
    "    xys = np.array(xys, dtype=float)\n",
    "\n",
    "    # Loop over (x, y)\n",
    "    for i0, L in zip([0, 1], model.domain[1]):\n",
    "        ii = slice(i0, None, 2)\n",
    "        xys[..., ii] = realline_to_0L(xys[..., ii], L, 1)\n",
    "    return xys"
   ]
  },
  {
   "cell_type": "code",
   "execution_count": 32,
   "id": "d71123c3",
   "metadata": {
    "lines_to_next_cell": 1
   },
   "outputs": [],
   "source": [
    "def npv_in_injectors_transformed(xys):\n",
    "    return npv_in_injectors(transform_xys(xys))"
   ]
  },
  {
   "cell_type": "code",
   "execution_count": 33,
   "id": "0db9c48f",
   "metadata": {},
   "outputs": [
    {
     "data": {
      "application/vnd.jupyter.widget-view+json": {
       "model_id": "2b4f15b622ea4437aec4b1deb68d2e17",
       "version_major": 2,
       "version_minor": 0
      },
      "image/png": "[encoded data removed]",
      "text/html": [
       "\n",
       "            <div style=\"display: inline-block;\">\n",
       "                <div class=\"jupyter-widgets widget-label\" style=\"text-align: center;\">\n",
       "                    npv_in_injectors_transformed\n",
       "                </div>\n",
       "                <img src='data:image/png;base64,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' width=1100.0/>\n",
       "            </div>\n",
       "        "
      ],
      "text/plain": [
       "Canvas(toolbar=Toolbar(toolitems=[('Home', 'Reset original view', 'home', 'home'), ('Back', 'Back to previous …"
      ]
     },
     "metadata": {},
     "output_type": "display_data"
    },
    {
     "data": {
      "application/vnd.jupyter.widget-view+json": {
       "model_id": "",
       "version_major": 2,
       "version_minor": 0
      },
      "text/plain": [
       "npv's:   0%|          | 0/10 [00:00<?, ?it/s]"
      ]
     },
     "metadata": {},
     "output_type": "display_data"
    },
    {
     "data": {
      "application/vnd.jupyter.widget-view+json": {
       "model_id": "",
       "version_major": 2,
       "version_minor": 0
      },
      "text/plain": [
       "Backtrack:   0%|          | 0/8 [00:00<?, ?it/s]"
      ]
     },
     "metadata": {},
     "output_type": "display_data"
    },
    {
     "data": {
      "application/vnd.jupyter.widget-view+json": {
       "model_id": "",
       "version_major": 2,
       "version_minor": 0
      },
      "text/plain": [
       "npv's:   0%|          | 0/10 [00:00<?, ?it/s]"
      ]
     },
     "metadata": {},
     "output_type": "display_data"
    },
    {
     "data": {
      "application/vnd.jupyter.widget-view+json": {
       "model_id": "",
       "version_major": 2,
       "version_minor": 0
      },
      "text/plain": [
       "Backtrack:   0%|          | 0/8 [00:00<?, ?it/s]"
      ]
     },
     "metadata": {},
     "output_type": "display_data"
    },
    {
     "data": {
      "application/vnd.jupyter.widget-view+json": {
       "model_id": "",
       "version_major": 2,
       "version_minor": 0
      },
      "text/plain": [
       "npv's:   0%|          | 0/10 [00:00<?, ?it/s]"
      ]
     },
     "metadata": {},
     "output_type": "display_data"
    },
    {
     "data": {
      "application/vnd.jupyter.widget-view+json": {
       "model_id": "",
       "version_major": 2,
       "version_minor": 0
      },
      "text/plain": [
       "Backtrack:   0%|          | 0/8 [00:00<?, ?it/s]"
      ]
     },
     "metadata": {},
     "output_type": "display_data"
    },
    {
     "data": {
      "application/vnd.jupyter.widget-view+json": {
       "model_id": "",
       "version_major": 2,
       "version_minor": 0
      },
      "text/plain": [
       "npv's:   0%|          | 0/10 [00:00<?, ?it/s]"
      ]
     },
     "metadata": {},
     "output_type": "display_data"
    },
    {
     "data": {
      "application/vnd.jupyter.widget-view+json": {
       "model_id": "",
       "version_major": 2,
       "version_minor": 0
      },
      "text/plain": [
       "Backtrack:   0%|          | 0/8 [00:00<?, ?it/s]"
      ]
     },
     "metadata": {},
     "output_type": "display_data"
    },
    {
     "data": {
      "application/vnd.jupyter.widget-view+json": {
       "model_id": "",
       "version_major": 2,
       "version_minor": 0
      },
      "text/plain": [
       "npv's:   0%|          | 0/10 [00:00<?, ?it/s]"
      ]
     },
     "metadata": {},
     "output_type": "display_data"
    },
    {
     "data": {
      "application/vnd.jupyter.widget-view+json": {
       "model_id": "",
       "version_major": 2,
       "version_minor": 0
      },
      "text/plain": [
       "Backtrack:   0%|          | 0/8 [00:00<?, ?it/s]"
      ]
     },
     "metadata": {},
     "output_type": "display_data"
    },
    {
     "data": {
      "application/vnd.jupyter.widget-view+json": {
       "model_id": "",
       "version_major": 2,
       "version_minor": 0
      },
      "text/plain": [
       "npv's:   0%|          | 0/10 [00:00<?, ?it/s]"
      ]
     },
     "metadata": {},
     "output_type": "display_data"
    },
    {
     "data": {
      "application/vnd.jupyter.widget-view+json": {
       "model_id": "",
       "version_major": 2,
       "version_minor": 0
      },
      "text/plain": [
       "Backtrack:   0%|          | 0/8 [00:00<?, ?it/s]"
      ]
     },
     "metadata": {},
     "output_type": "display_data"
    },
    {
     "data": {
      "application/vnd.jupyter.widget-view+json": {
       "model_id": "",
       "version_major": 2,
       "version_minor": 0
      },
      "text/plain": [
       "npv's:   0%|          | 0/10 [00:00<?, ?it/s]"
      ]
     },
     "metadata": {},
     "output_type": "display_data"
    },
    {
     "data": {
      "application/vnd.jupyter.widget-view+json": {
       "model_id": "",
       "version_major": 2,
       "version_minor": 0
      },
      "text/plain": [
       "Backtrack:   0%|          | 0/8 [00:00<?, ?it/s]"
      ]
     },
     "metadata": {},
     "output_type": "display_data"
    },
    {
     "data": {
      "application/vnd.jupyter.widget-view+json": {
       "model_id": "",
       "version_major": 2,
       "version_minor": 0
      },
      "text/plain": [
       "npv's:   0%|          | 0/10 [00:00<?, ?it/s]"
      ]
     },
     "metadata": {},
     "output_type": "display_data"
    },
    {
     "data": {
      "application/vnd.jupyter.widget-view+json": {
       "model_id": "",
       "version_major": 2,
       "version_minor": 0
      },
      "text/plain": [
       "Backtrack:   0%|          | 0/8 [00:00<?, ?it/s]"
      ]
     },
     "metadata": {},
     "output_type": "display_data"
    },
    {
     "data": {
      "application/vnd.jupyter.widget-view+json": {
       "model_id": "",
       "version_major": 2,
       "version_minor": 0
      },
      "text/plain": [
       "npv's:   0%|          | 0/10 [00:00<?, ?it/s]"
      ]
     },
     "metadata": {},
     "output_type": "display_data"
    },
    {
     "data": {
      "application/vnd.jupyter.widget-view+json": {
       "model_id": "",
       "version_major": 2,
       "version_minor": 0
      },
      "text/plain": [
       "Backtrack:   0%|          | 0/8 [00:00<?, ?it/s]"
      ]
     },
     "metadata": {},
     "output_type": "display_data"
    },
    {
     "data": {
      "application/vnd.jupyter.widget-view+json": {
       "model_id": "",
       "version_major": 2,
       "version_minor": 0
      },
      "text/plain": [
       "Backtrack:   0%|          | 0/8 [00:00<?, ?it/s]"
      ]
     },
     "metadata": {},
     "output_type": "display_data"
    },
    {
     "name": "stdout",
     "output_type": "stream",
     "text": [
      "Converged ✅ itr=8      path[-1]=array([0.760458, 2.036399, 3.282515, 2.078538])  objs[-1]=20.59\n"
     ]
    }
   ],
   "source": [
    "obj = npv_in_injectors_transformed\n",
    "\n",
    "u0 = np.array([0, 0] + [2, 0])\n",
    "model = new_mod(\n",
    "    name = \"Lower 2 corners\",\n",
    "    prod_xy = xy_4corners[:2],\n",
    "    inj_xy  = transform_xys(u0).reshape((2, 2)),\n",
    "    prod_rates = rate0 * np.ones((2, 1)) / 2,\n",
    "    inj_rates  = rate0 * np.ones((2, 1)) / 2,\n",
    ")\n",
    "fig, axs = plotting.figure12(obj.__name__)\n",
    "model.plt_field(axs[0], pperm, \"pperm\", wells=True, colorbar=True)\n",
    "\n",
    "L = .1 * np.eye(len(u0))\n",
    "path, objs, info = EnOpt(obj, u0, L, regulator=Momentum(.1), xSteps=xSteps, precond=False, rtol=1e-8)\n",
    "path = transform_xys(path)\n",
    "\n",
    "plotting.add_path12(*axs, path[:, :2], objs, color='C0')\n",
    "plotting.add_path12(*axs, path[:, 2:], color='C5')\n",
    "fig.tight_layout()"
   ]
  },
  {
   "cell_type": "markdown",
   "id": "48d29464",
   "metadata": {},
   "source": [
    "Let's optimize"
   ]
  },
  {
   "cell_type": "code",
   "execution_count": 34,
   "id": "4706d601",
   "metadata": {
    "lines_to_next_cell": 1
   },
   "outputs": [
    {
     "data": {
      "application/vnd.jupyter.widget-view+json": {
       "model_id": "1c46f07036d241b5afd4806c8adaef34",
       "version_major": 2,
       "version_minor": 0
      },
      "image/png": "[encoded data removed]",
      "text/html": [
       "\n",
       "            <div style=\"display: inline-block;\">\n",
       "                <div class=\"jupyter-widgets widget-label\" style=\"text-align: center;\">\n",
       "                    Final sweep npv_in_injectors_transformed\n",
       "                </div>\n",
       "                <img src='data:image/png;base64,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' width=640.0/>\n",
       "            </div>\n",
       "        "
      ],
      "text/plain": [
       "Canvas(toolbar=Toolbar(toolitems=[('Home', 'Reset original view', 'home', 'home'), ('Back', 'Back to previous …"
      ]
     },
     "metadata": {},
     "output_type": "display_data"
    }
   ],
   "source": [
    "model = new_mod(inj_xy=path[-1].reshape((-1, 2)),\n",
    "                name=f\"Optimzed in {obj.__name__}\")\n",
    "plot_final_sweep(model)"
   ]
  },
  {
   "cell_type": "markdown",
   "id": "2786bcee",
   "metadata": {},
   "source": [
    "## Rates"
   ]
  },
  {
   "cell_type": "code",
   "execution_count": 35,
   "id": "45587afc",
   "metadata": {
    "lines_to_next_cell": 1,
    "tags": []
   },
   "outputs": [],
   "source": [
    "def npv_in_rates(inj_rates):\n",
    "    \"\"\"`npv(inj_rates)`. Input shape `(nEns, nInj)`.\"\"\"\n",
    "    inj_rates, singleton = utils.atleast_2d(inj_rates)\n",
    "    nEns = len(inj_rates)\n",
    "    inj_rates = inj_rates.reshape((nEns, -1, 1))  # (nEns, nInj) --> (nEns, nInj, 1)\n",
    "    total_rate = np.sum(inj_rates, axis=1).squeeze()  # (nEns,)\n",
    "    nProd = len(model.prod_rates)\n",
    "    prod_rates = (np.ones((1, nProd, nEns)) * total_rate/nProd).T\n",
    "    Js = apply(npv, inj_rates=inj_rates, prod_rates=prod_rates, unzip=False,\n",
    "               pbar=not singleton, leave=False)\n",
    "    return Js[0] if singleton else Js"
   ]
  },
  {
   "cell_type": "code",
   "execution_count": 36,
   "id": "ab461a21",
   "metadata": {
    "tags": []
   },
   "outputs": [],
   "source": [
    "# Restore default well config\n",
    "model = new_mod(\n",
    "    name = \"Base model\",\n",
    "    inj_xy  = [[model.Lx/2, model.Ly/2]],\n",
    "    prod_xy = xy_4corners,\n",
    "    inj_rates  = rate0 * np.ones((1, 1)) / 1,\n",
    "    prod_rates = rate0 * np.ones((4, 1)) / 4,\n",
    ")"
   ]
  },
  {
   "cell_type": "code",
   "execution_count": 37,
   "id": "f7100773-1299-408c-9c7f-f0ad27879a9a",
   "metadata": {
    "lines_to_end_of_cell_marker": 2,
    "tags": []
   },
   "outputs": [
    {
     "data": {
      "application/vnd.jupyter.widget-view+json": {
       "model_id": "",
       "version_major": 2,
       "version_minor": 0
      },
      "text/plain": [
       "npv's:   0%|          | 0/21 [00:00<?, ?it/s]"
      ]
     },
     "metadata": {},
     "output_type": "display_data"
    },
    {
     "data": {
      "application/vnd.jupyter.widget-view+json": {
       "model_id": "3c7c7e4569544508ae33675c855a4f94",
       "version_major": 2,
       "version_minor": 0
      },
      "image/png": "[encoded data removed]",
      "text/html": [
       "\n",
       "            <div style=\"display: inline-block;\">\n",
       "                <div class=\"jupyter-widgets widget-label\" style=\"text-align: center;\">\n",
       "                    npv_in_rates\n",
       "                </div>\n",
       "                <img src='data:image/png;base64,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' width=640.0/>\n",
       "            </div>\n",
       "        "
      ],
      "text/plain": [
       "Canvas(toolbar=Toolbar(toolitems=[('Home', 'Reset original view', 'home', 'home'), ('Back', 'Back to previous …"
      ]
     },
     "metadata": {},
     "output_type": "display_data"
    },
    {
     "data": {
      "application/vnd.jupyter.widget-view+json": {
       "model_id": "",
       "version_major": 2,
       "version_minor": 0
      },
      "text/plain": [
       "npv's:   0%|          | 0/10 [00:00<?, ?it/s]"
      ]
     },
     "metadata": {},
     "output_type": "display_data"
    },
    {
     "data": {
      "application/vnd.jupyter.widget-view+json": {
       "model_id": "",
       "version_major": 2,
       "version_minor": 0
      },
      "text/plain": [
       "Backtrack:   0%|          | 0/8 [00:00<?, ?it/s]"
      ]
     },
     "metadata": {},
     "output_type": "display_data"
    },
    {
     "data": {
      "application/vnd.jupyter.widget-view+json": {
       "model_id": "",
       "version_major": 2,
       "version_minor": 0
      },
      "text/plain": [
       "npv's:   0%|          | 0/10 [00:00<?, ?it/s]"
      ]
     },
     "metadata": {},
     "output_type": "display_data"
    },
    {
     "data": {
      "application/vnd.jupyter.widget-view+json": {
       "model_id": "",
       "version_major": 2,
       "version_minor": 0
      },
      "text/plain": [
       "Backtrack:   0%|          | 0/8 [00:00<?, ?it/s]"
      ]
     },
     "metadata": {},
     "output_type": "display_data"
    },
    {
     "data": {
      "application/vnd.jupyter.widget-view+json": {
       "model_id": "",
       "version_major": 2,
       "version_minor": 0
      },
      "text/plain": [
       "npv's:   0%|          | 0/10 [00:00<?, ?it/s]"
      ]
     },
     "metadata": {},
     "output_type": "display_data"
    },
    {
     "data": {
      "application/vnd.jupyter.widget-view+json": {
       "model_id": "",
       "version_major": 2,
       "version_minor": 0
      },
      "text/plain": [
       "Backtrack:   0%|          | 0/8 [00:00<?, ?it/s]"
      ]
     },
     "metadata": {},
     "output_type": "display_data"
    },
    {
     "data": {
      "application/vnd.jupyter.widget-view+json": {
       "model_id": "",
       "version_major": 2,
       "version_minor": 0
      },
      "text/plain": [
       "npv's:   0%|          | 0/10 [00:00<?, ?it/s]"
      ]
     },
     "metadata": {},
     "output_type": "display_data"
    },
    {
     "data": {
      "application/vnd.jupyter.widget-view+json": {
       "model_id": "",
       "version_major": 2,
       "version_minor": 0
      },
      "text/plain": [
       "Backtrack:   0%|          | 0/8 [00:00<?, ?it/s]"
      ]
     },
     "metadata": {},
     "output_type": "display_data"
    },
    {
     "data": {
      "application/vnd.jupyter.widget-view+json": {
       "model_id": "",
       "version_major": 2,
       "version_minor": 0
      },
      "text/plain": [
       "npv's:   0%|          | 0/10 [00:00<?, ?it/s]"
      ]
     },
     "metadata": {},
     "output_type": "display_data"
    },
    {
     "data": {
      "application/vnd.jupyter.widget-view+json": {
       "model_id": "",
       "version_major": 2,
       "version_minor": 0
      },
      "text/plain": [
       "Backtrack:   0%|          | 0/8 [00:00<?, ?it/s]"
      ]
     },
     "metadata": {},
     "output_type": "display_data"
    },
    {
     "data": {
      "application/vnd.jupyter.widget-view+json": {
       "model_id": "",
       "version_major": 2,
       "version_minor": 0
      },
      "text/plain": [
       "npv's:   0%|          | 0/10 [00:00<?, ?it/s]"
      ]
     },
     "metadata": {},
     "output_type": "display_data"
    },
    {
     "data": {
      "application/vnd.jupyter.widget-view+json": {
       "model_id": "",
       "version_major": 2,
       "version_minor": 0
      },
      "text/plain": [
       "Backtrack:   0%|          | 0/8 [00:00<?, ?it/s]"
      ]
     },
     "metadata": {},
     "output_type": "display_data"
    },
    {
     "data": {
      "application/vnd.jupyter.widget-view+json": {
       "model_id": "",
       "version_major": 2,
       "version_minor": 0
      },
      "text/plain": [
       "npv's:   0%|          | 0/10 [00:00<?, ?it/s]"
      ]
     },
     "metadata": {},
     "output_type": "display_data"
    },
    {
     "data": {
      "application/vnd.jupyter.widget-view+json": {
       "model_id": "",
       "version_major": 2,
       "version_minor": 0
      },
      "text/plain": [
       "Backtrack:   0%|          | 0/8 [00:00<?, ?it/s]"
      ]
     },
     "metadata": {},
     "output_type": "display_data"
    },
    {
     "data": {
      "application/vnd.jupyter.widget-view+json": {
       "model_id": "",
       "version_major": 2,
       "version_minor": 0
      },
      "text/plain": [
       "npv's:   0%|          | 0/10 [00:00<?, ?it/s]"
      ]
     },
     "metadata": {},
     "output_type": "display_data"
    },
    {
     "data": {
      "application/vnd.jupyter.widget-view+json": {
       "model_id": "",
       "version_major": 2,
       "version_minor": 0
      },
      "text/plain": [
       "Backtrack:   0%|          | 0/8 [00:00<?, ?it/s]"
      ]
     },
     "metadata": {},
     "output_type": "display_data"
    },
    {
     "name": "stdout",
     "output_type": "stream",
     "text": [
      "Converged ✅ itr=7      path[-1]=array([1.75625])  objs[-1]=17.29\n"
     ]
    },
    {
     "data": {
      "application/vnd.jupyter.widget-view+json": {
       "model_id": "",
       "version_major": 2,
       "version_minor": 0
      },
      "text/plain": [
       "npv's:   0%|          | 0/10 [00:00<?, ?it/s]"
      ]
     },
     "metadata": {},
     "output_type": "display_data"
    },
    {
     "data": {
      "application/vnd.jupyter.widget-view+json": {
       "model_id": "",
       "version_major": 2,
       "version_minor": 0
      },
      "text/plain": [
       "Backtrack:   0%|          | 0/8 [00:00<?, ?it/s]"
      ]
     },
     "metadata": {},
     "output_type": "display_data"
    },
    {
     "data": {
      "application/vnd.jupyter.widget-view+json": {
       "model_id": "",
       "version_major": 2,
       "version_minor": 0
      },
      "text/plain": [
       "npv's:   0%|          | 0/10 [00:00<?, ?it/s]"
      ]
     },
     "metadata": {},
     "output_type": "display_data"
    },
    {
     "data": {
      "application/vnd.jupyter.widget-view+json": {
       "model_id": "",
       "version_major": 2,
       "version_minor": 0
      },
      "text/plain": [
       "Backtrack:   0%|          | 0/8 [00:00<?, ?it/s]"
      ]
     },
     "metadata": {},
     "output_type": "display_data"
    },
    {
     "data": {
      "application/vnd.jupyter.widget-view+json": {
       "model_id": "",
       "version_major": 2,
       "version_minor": 0
      },
      "text/plain": [
       "npv's:   0%|          | 0/10 [00:00<?, ?it/s]"
      ]
     },
     "metadata": {},
     "output_type": "display_data"
    },
    {
     "data": {
      "application/vnd.jupyter.widget-view+json": {
       "model_id": "",
       "version_major": 2,
       "version_minor": 0
      },
      "text/plain": [
       "Backtrack:   0%|          | 0/8 [00:00<?, ?it/s]"
      ]
     },
     "metadata": {},
     "output_type": "display_data"
    },
    {
     "data": {
      "application/vnd.jupyter.widget-view+json": {
       "model_id": "",
       "version_major": 2,
       "version_minor": 0
      },
      "text/plain": [
       "npv's:   0%|          | 0/10 [00:00<?, ?it/s]"
      ]
     },
     "metadata": {},
     "output_type": "display_data"
    },
    {
     "data": {
      "application/vnd.jupyter.widget-view+json": {
       "model_id": "",
       "version_major": 2,
       "version_minor": 0
      },
      "text/plain": [
       "Backtrack:   0%|          | 0/8 [00:00<?, ?it/s]"
      ]
     },
     "metadata": {},
     "output_type": "display_data"
    },
    {
     "data": {
      "application/vnd.jupyter.widget-view+json": {
       "model_id": "",
       "version_major": 2,
       "version_minor": 0
      },
      "text/plain": [
       "npv's:   0%|          | 0/10 [00:00<?, ?it/s]"
      ]
     },
     "metadata": {},
     "output_type": "display_data"
    },
    {
     "data": {
      "application/vnd.jupyter.widget-view+json": {
       "model_id": "",
       "version_major": 2,
       "version_minor": 0
      },
      "text/plain": [
       "Backtrack:   0%|          | 0/8 [00:00<?, ?it/s]"
      ]
     },
     "metadata": {},
     "output_type": "display_data"
    },
    {
     "data": {
      "application/vnd.jupyter.widget-view+json": {
       "model_id": "",
       "version_major": 2,
       "version_minor": 0
      },
      "text/plain": [
       "npv's:   0%|          | 0/10 [00:00<?, ?it/s]"
      ]
     },
     "metadata": {},
     "output_type": "display_data"
    },
    {
     "data": {
      "application/vnd.jupyter.widget-view+json": {
       "model_id": "",
       "version_major": 2,
       "version_minor": 0
      },
      "text/plain": [
       "Backtrack:   0%|          | 0/8 [00:00<?, ?it/s]"
      ]
     },
     "metadata": {},
     "output_type": "display_data"
    },
    {
     "data": {
      "application/vnd.jupyter.widget-view+json": {
       "model_id": "",
       "version_major": 2,
       "version_minor": 0
      },
      "text/plain": [
       "npv's:   0%|          | 0/10 [00:00<?, ?it/s]"
      ]
     },
     "metadata": {},
     "output_type": "display_data"
    },
    {
     "data": {
      "application/vnd.jupyter.widget-view+json": {
       "model_id": "",
       "version_major": 2,
       "version_minor": 0
      },
      "text/plain": [
       "Backtrack:   0%|          | 0/8 [00:00<?, ?it/s]"
      ]
     },
     "metadata": {},
     "output_type": "display_data"
    },
    {
     "data": {
      "application/vnd.jupyter.widget-view+json": {
       "model_id": "",
       "version_major": 2,
       "version_minor": 0
      },
      "text/plain": [
       "npv's:   0%|          | 0/10 [00:00<?, ?it/s]"
      ]
     },
     "metadata": {},
     "output_type": "display_data"
    },
    {
     "data": {
      "application/vnd.jupyter.widget-view+json": {
       "model_id": "",
       "version_major": 2,
       "version_minor": 0
      },
      "text/plain": [
       "Backtrack:   0%|          | 0/8 [00:00<?, ?it/s]"
      ]
     },
     "metadata": {},
     "output_type": "display_data"
    },
    {
     "data": {
      "application/vnd.jupyter.widget-view+json": {
       "model_id": "",
       "version_major": 2,
       "version_minor": 0
      },
      "text/plain": [
       "npv's:   0%|          | 0/10 [00:00<?, ?it/s]"
      ]
     },
     "metadata": {},
     "output_type": "display_data"
    },
    {
     "data": {
      "application/vnd.jupyter.widget-view+json": {
       "model_id": "",
       "version_major": 2,
       "version_minor": 0
      },
      "text/plain": [
       "Backtrack:   0%|          | 0/8 [00:00<?, ?it/s]"
      ]
     },
     "metadata": {},
     "output_type": "display_data"
    },
    {
     "data": {
      "application/vnd.jupyter.widget-view+json": {
       "model_id": "",
       "version_major": 2,
       "version_minor": 0
      },
      "text/plain": [
       "npv's:   0%|          | 0/10 [00:00<?, ?it/s]"
      ]
     },
     "metadata": {},
     "output_type": "display_data"
    },
    {
     "data": {
      "application/vnd.jupyter.widget-view+json": {
       "model_id": "",
       "version_major": 2,
       "version_minor": 0
      },
      "text/plain": [
       "Backtrack:   0%|          | 0/8 [00:00<?, ?it/s]"
      ]
     },
     "metadata": {},
     "output_type": "display_data"
    },
    {
     "data": {
      "application/vnd.jupyter.widget-view+json": {
       "model_id": "",
       "version_major": 2,
       "version_minor": 0
      },
      "text/plain": [
       "npv's:   0%|          | 0/10 [00:00<?, ?it/s]"
      ]
     },
     "metadata": {},
     "output_type": "display_data"
    },
    {
     "data": {
      "application/vnd.jupyter.widget-view+json": {
       "model_id": "",
       "version_major": 2,
       "version_minor": 0
      },
      "text/plain": [
       "Backtrack:   0%|          | 0/8 [00:00<?, ?it/s]"
      ]
     },
     "metadata": {},
     "output_type": "display_data"
    },
    {
     "name": "stdout",
     "output_type": "stream",
     "text": [
      "Converged ✅ itr=10     path[-1]=array([1.75625])  objs[-1]=17.29\n"
     ]
    }
   ],
   "source": [
    "obj = npv_in_rates\n",
    "\n",
    "xx = np.linspace(0.1, 5, 21)\n",
    "npvs = obj(np.atleast_2d(xx).T)\n",
    "\n",
    "fig, ax = freshfig(obj.__name__, figsize=(1, .4), rel=True)\n",
    "ax.grid()\n",
    "ax.set(xlabel=\"rate\", ylabel=\"NPV\")\n",
    "ax.plot(xx, npvs, \"slategrey\")\n",
    "\n",
    "for i, u0 in enumerate(np.array([[.1, 5]]).T):\n",
    "    L = .1 * np.eye(len(u0))\n",
    "    path, objs, info = EnOpt(obj, u0, L, xSteps=xSteps, precond=False, rtol=1e-8)\n",
    "    shift = i+1  # for visual distinction\n",
    "    ax.plot(path, objs - shift, '-o', color=f'C{i+1}')\n",
    "fig.tight_layout()"
   ]
  },
  {
   "cell_type": "markdown",
   "id": "f5001767",
   "metadata": {},
   "source": [
    "# Triangles"
   ]
  },
  {
   "cell_type": "code",
   "execution_count": 38,
   "id": "fa190150-ded7-4f92-b25a-0d396aef5fa0",
   "metadata": {
    "tags": []
   },
   "outputs": [],
   "source": [
    "triangle = [0, 135, -135]\n",
    "wells = dict(\n",
    "    inj_xy = ([[model.Lx/2, model.Ly/2]] +\n",
    "              [utils.xy_p_normed(th + 90, *model.domain[1]) for th in triangle]),\n",
    "    prod_xy = [utils.xy_p_normed(th - 90, *model.domain[1]) for th in triangle],\n",
    "    inj_rates = rate0 * np.ones((4, 1)) / 4,\n",
    "    prod_rates = rate0 * np.ones((3, 1)) / 3,\n",
    ")\n",
    "model = new_mod(**wells)"
   ]
  },
  {
   "cell_type": "code",
   "execution_count": 39,
   "id": "605b220b",
   "metadata": {
    "tags": []
   },
   "outputs": [],
   "source": [
    "fig, ax = freshfig(\"Triangle case\", figsize=(1, .6), rel=True)\n",
    "model.plt_field(ax, pperm, \"pperm\", wells=True, colorbar=True);\n",
    "fig.tight_layout()"
   ]
  },
  {
   "cell_type": "code",
   "execution_count": 40,
   "id": "105a5a95",
   "metadata": {
    "tags": []
   },
   "outputs": [
    {
     "data": {
      "application/vnd.jupyter.widget-view+json": {
       "model_id": "741a902320e64b19b1508568f652c252",
       "version_major": 2,
       "version_minor": 0
      },
      "text/plain": [
       "HBox(children=(Output(), VBox(children=(FloatSlider(value=0.7, continuous_update=False, description='i0', max=…"
      ]
     },
     "metadata": {},
     "output_type": "display_data"
    }
   ],
   "source": [
    "def final_sweep_given_inj_rates(**kwargs):\n",
    "    inj_rates = np.array([list(kwargs.values())]).T\n",
    "    prod_rates = np.ones((3, 1)) / 3 * np.sum(inj_rates)\n",
    "    model = new_mod(inj_rates=inj_rates, prod_rates=prod_rates)\n",
    "    wsats, prods = sim(model, wsat0)\n",
    "    npv = prod2npv(model, prods)\n",
    "    print(f\"NPV for these injection_rates: {npv:.5f}\")\n",
    "    return wsats[-1]"
   ]
  },
  {
   "cell_type": "code",
   "execution_count": null,
   "id": "6a737b69",
   "metadata": {},
   "outputs": [],
   "source": [
    "final_sweep_given_inj_rates.controls = dict(\n",
    "    i0 = (0, 1.4),\n",
    "    i1 = (0, 1.4),\n",
    "    i2 = (0, 1.4),\n",
    "    i3 = (0, 1.4),\n",
    ")"
   ]
  },
  {
   "cell_type": "code",
   "execution_count": null,
   "id": "37e92712",
   "metadata": {},
   "outputs": [],
   "source": [
    "plotting.field_console(model, final_sweep_given_inj_rates, \"oil\", wells=True, figsize=(1, .6))"
   ]
  },
  {
   "cell_type": "markdown",
   "id": "a44ac819",
   "metadata": {},
   "source": [
    "## Optim triangles"
   ]
  },
  {
   "cell_type": "code",
   "execution_count": null,
   "id": "f5a93f0a",
   "metadata": {
    "tags": []
   },
   "outputs": [],
   "source": [
    "u0 = .7*np.ones(len(model.inj_rates))\n",
    "L = .1 * np.eye(len(u0))\n",
    "path, objs, info = EnOpt(npv_in_rates, u0, L, xSteps=xSteps, precond=False, rtol=1e-8)"
   ]
  },
  {
   "cell_type": "markdown",
   "id": "01a15115",
   "metadata": {},
   "source": [
    "Now try setting these values in the interactive widget above."
   ]
  }
 ],
 "metadata": {
  "jupytext": {
   "cell_metadata_filter": "-all",
   "encoding": "# -*- coding: utf-8 -*-",
   "formats": "auto:light,ipynb",
   "main_language": "python",
   "notebook_metadata_filter": "-all"
  },
  "kernelspec": {
   "display_name": "Python 3 (ipykernel)",
   "language": "python",
   "name": "python3"
  },
  "language_info": {
   "codemirror_mode": {
    "name": "ipython",
    "version": 3
   },
   "file_extension": ".py",
   "mimetype": "text/x-python",
   "name": "python",
   "nbconvert_exporter": "python",
   "pygments_lexer": "ipython3",
   "version": "3.9.16"
  }
 },
 "nbformat": 4,
 "nbformat_minor": 5
}
