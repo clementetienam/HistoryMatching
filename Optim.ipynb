{
 "cells": [
  {
   "cell_type": "markdown",
   "id": "34513a2d",
   "metadata": {},
   "source": [
    "# Production optimisation with ensembles – an interactive tutorial\n",
    "\n",
    "Copyright Patrick N. Raanes, NORCE, 2023.\n",
    "\n",
    "This is a self-contained tutorial on production optimisation using ensemble methods.\n",
    "- Please have a look at the [history matching (HM) tutorial](MAIN.ipynb)\n",
    "  for an introduction to Python, Jupyter notebooks, and this reservoir simulator."
   ]
  },
  {
   "cell_type": "markdown",
   "id": "2835db98",
   "metadata": {},
   "source": [
    "If you're on **Google Colab**, run the cell below to install the requirements.\n",
    "Otherwise (and assuming you have done the installation described in the README),\n",
    "you can skip/delete this cell."
   ]
  },
  {
   "cell_type": "markdown",
   "id": "c37d8dda",
   "metadata": {},
   "source": [
    "# TODO:\n",
    "- Use Bezier curves to parametrize well rates ?\n",
    "- Make user widget for manual optimisation\n",
    "- 1D: Plot ensemble of npv curves\n",
    "- Plot ensemble of pdfs of npvs, including\n",
    "  strategies: reactive control, nominal optimization, robust optimization\n",
    "- Use model with many injectors, producers ? jansen2010closed_prez\n",
    "- Cite essen, jansen, chen, fonseca, stordal, raanes"
   ]
  },
  {
   "cell_type": "code",
   "execution_count": null,
   "id": "845b37c5",
   "metadata": {
    "tags": []
   },
   "outputs": [],
   "source": [
    "## Imports\n",
    "remote = \"https://raw.githubusercontent.com/patnr/HistoryMatching\"\n",
    "!wget -qO- {remote}/master/colab_bootstrap.sh | bash -s"
   ]
  },
  {
   "cell_type": "code",
   "execution_count": null,
   "id": "cbda0ba3",
   "metadata": {
    "tags": []
   },
   "outputs": [],
   "source": [
    "from dataclasses import dataclass"
   ]
  },
  {
   "cell_type": "code",
   "execution_count": null,
   "id": "7b309b9f",
   "metadata": {},
   "outputs": [],
   "source": [
    "import numpy as np\n",
    "from matplotlib import pyplot as plt"
   ]
  },
  {
   "cell_type": "code",
   "execution_count": null,
   "id": "7e259476",
   "metadata": {},
   "outputs": [],
   "source": [
    "from tools import mpl_setup"
   ]
  },
  {
   "cell_type": "code",
   "execution_count": null,
   "id": "424623cf",
   "metadata": {},
   "outputs": [],
   "source": [
    "mpl_setup.init()\n",
    "from tqdm.auto import tqdm"
   ]
  },
  {
   "cell_type": "code",
   "execution_count": null,
   "id": "013280e6",
   "metadata": {
    "tags": []
   },
   "outputs": [],
   "source": [
    "plt.ion()\n",
    "np.set_printoptions(precision=6)"
   ]
  },
  {
   "cell_type": "code",
   "execution_count": null,
   "id": "79f29241-2486-4bf6-81fb-9e8a7459f866",
   "metadata": {
    "tags": []
   },
   "outputs": [],
   "source": [
    "%matplotlib inline"
   ]
  },
  {
   "cell_type": "code",
   "execution_count": null,
   "id": "a77aac4d",
   "metadata": {
    "tags": []
   },
   "outputs": [],
   "source": [
    "import copy"
   ]
  },
  {
   "cell_type": "code",
   "execution_count": null,
   "id": "f2fd1298",
   "metadata": {
    "tags": []
   },
   "outputs": [],
   "source": [
    "import numpy.random as rnd\n",
    "import TPFA_ResSim as simulator\n",
    "# from matplotlib.ticker import LogLocator\n",
    "from mpl_tools.place import freshfig\n",
    "# from numpy import sqrt\n",
    "from struct_tools import DotDict as Dict"
   ]
  },
  {
   "cell_type": "code",
   "execution_count": null,
   "id": "467ea26f",
   "metadata": {},
   "outputs": [],
   "source": [
    "import tools.plotting as plotting\n",
    "# import tools.localization as loc\n",
    "from tools import geostat, utils\n",
    "from tools.utils import apply"
   ]
  },
  {
   "cell_type": "markdown",
   "id": "3b72688b",
   "metadata": {
    "lines_to_next_cell": 2
   },
   "source": [
    "from tools.utils import center"
   ]
  },
  {
   "cell_type": "code",
   "execution_count": null,
   "id": "e2100c58",
   "metadata": {
    "tags": []
   },
   "outputs": [],
   "source": [
    "## Aux\n",
    "def final_sweep(title=\"\", **kwargs):\n",
    "    model = model_setup(**kwargs)\n",
    "    wsats, prods = sim(model, wsat0)\n",
    "    plotting.single.model = model\n",
    "    fig, ax = freshfig(f\"Final sweep {title}\", figsize=(1, .6), rel=True)\n",
    "    plotting.single.field(ax, wsats[-1], \"oil\", wells=True, colorbar=True)\n",
    "    fig.tight_layout()"
   ]
  },
  {
   "cell_type": "code",
   "execution_count": null,
   "id": "10d0e30d",
   "metadata": {
    "lines_to_next_cell": 1,
    "tags": []
   },
   "outputs": [],
   "source": [
    "# Could put this in npv() rather than copying the base model\n",
    "# but it's useful to have a base model in the global namespace\n",
    "# for plotting purposes.\n",
    "perm = Dict()"
   ]
  },
  {
   "cell_type": "code",
   "execution_count": null,
   "id": "abff43ed",
   "metadata": {
    "lines_to_next_cell": 1,
    "tags": []
   },
   "outputs": [],
   "source": [
    "def sample_prior_perm(N):\n",
    "    lperms = geostat.gaussian_fields(model.mesh, N, r=0.8)\n",
    "    return lperms"
   ]
  },
  {
   "cell_type": "code",
   "execution_count": null,
   "id": "a5f8caad",
   "metadata": {
    "lines_to_next_cell": 1,
    "tags": []
   },
   "outputs": [],
   "source": [
    "def perm_transf(x):\n",
    "    return .1 + np.exp(5*x)"
   ]
  },
  {
   "cell_type": "code",
   "execution_count": null,
   "id": "f7d55e26",
   "metadata": {
    "lines_to_next_cell": 1,
    "tags": []
   },
   "outputs": [],
   "source": [
    "plotting.styles[\"pperm\"][\"levels\"] = np.linspace(-4, 4, 21)\n",
    "plotting.styles[\"pperm\"][\"cticks\"] = np.arange(-4, 4+1)"
   ]
  },
  {
   "cell_type": "code",
   "execution_count": null,
   "id": "b09b53e5",
   "metadata": {
    "tags": []
   },
   "outputs": [],
   "source": [
    "def set_perm(model, log_perm_array):\n",
    "    \"\"\"Set perm. in model code (both x and y components).\"\"\"\n",
    "    p = perm_transf(log_perm_array)\n",
    "    p = p.reshape(model.shape)\n",
    "    model.Gridded.K = np.stack([p, p])"
   ]
  },
  {
   "cell_type": "code",
   "execution_count": null,
   "id": "c3512997",
   "metadata": {
    "tags": []
   },
   "outputs": [],
   "source": [
    "@dataclass\n",
    "class Momentum:\n",
    "    \"\"\"Gradient momentum (provides history memorisation).\"\"\"\n",
    "\n",
    "    # Note: I also tried rolling average with a maxlen deque\n",
    "    #       but the results of cursory testing were slightly worse.\n",
    "    b: float = 0.9\n",
    "\n",
    "    def update(self, v):\n",
    "        if not hasattr(self, 'val'):\n",
    "            self.reset()\n",
    "        self.val *= self.b\n",
    "        self.val += (1-self.b) * v\n",
    "\n",
    "    def reset(self, val=0):\n",
    "        self.val = val"
   ]
  },
  {
   "cell_type": "code",
   "execution_count": null,
   "id": "03c4370a",
   "metadata": {
    "tags": []
   },
   "outputs": [],
   "source": [
    "def EnGrad(obj, u, chol, precond=False):\n",
    "    U, _ = utils.center(rnd.randn(N, len(u)) @ chol.T)\n",
    "    J, _ = utils.center(obj(u + U))\n",
    "    if precond:\n",
    "        g = U.T @ J / (N-1)\n",
    "    else:\n",
    "        g = utils.rinv(U, reg=.1, tikh=True) @ J\n",
    "    return g"
   ]
  },
  {
   "cell_type": "code",
   "execution_count": null,
   "id": "7623f211",
   "metadata": {
    "tags": []
   },
   "outputs": [],
   "source": [
    "## EnOpt\n",
    "def EnOpt(obj, u, chol, sign=+1,\n",
    "          # Step modifiers:\n",
    "          regulator=None, xSteps=(1,), normed=True, precond=True,\n",
    "          # Stopping criteria:\n",
    "          nIter=100, rtol=1e-4):\n",
    "    \"\"\"Gradient/steepest *descent* using ensemble (LLS) gradient and backtracking.\n",
    "\n",
    "    - `rtol` specified how large an improvement is required to update the iterate.\n",
    "      Large values makes backtracking more reluctant to accept an update,\n",
    "      resulting in *faster* declaration of convergence.\n",
    "      Setting to 0 is not recommended, because if the objective function is flat\n",
    "      in the neighborhood, then the path could just go in circles on that flat.\n",
    "    \"\"\"\n",
    "\n",
    "    def backtrack(base_step):\n",
    "        \"\"\"Line search by bisection.\"\"\"\n",
    "        with tqdm(total=len(xSteps), desc=\"Backtrack\", leave=False) as pbar:\n",
    "            for i, xStep in enumerate(xSteps):\n",
    "                pbar.update(1)\n",
    "                x = path[-1] + sign * xStep * base_step\n",
    "                J = obj(x)\n",
    "                if sign*(J - objs[-1]) > atol:\n",
    "                    pbar.update(len(xSteps))  # needed in Jupyter\n",
    "                    return x, J, i\n",
    "\n",
    "    # Init\n",
    "    if regulator:\n",
    "        regulator.reset()\n",
    "    J = obj(u)\n",
    "    atol = max(1e-8, abs(J)) * rtol\n",
    "    info, path, objs = {}, [], []\n",
    "\n",
    "    for itr in range(nIter):\n",
    "        path.append(u)\n",
    "        objs.append(J)\n",
    "\n",
    "        # Compute search direction\n",
    "        grad = EnGrad(obj, u, chol, precond=precond)\n",
    "        if normed:\n",
    "            grad /= utils.mnorm(grad)\n",
    "        if regulator:\n",
    "            regulator.update(grad)\n",
    "\n",
    "        # Update iterate\n",
    "        if not regulator or not (updated := backtrack(regulator.val)):\n",
    "            if regulator:\n",
    "                regulator.reset(grad)\n",
    "                info.setdefault('resets', []).append(itr)\n",
    "            # Fallback to pure grad\n",
    "            if not (updated := backtrack(grad)):\n",
    "                # Stop if lower J not found\n",
    "                status = \"Converged ✅\"\n",
    "                break\n",
    "        u, J, i = updated\n",
    "        info.setdefault('nDeclined', []).append(i)\n",
    "\n",
    "    else:\n",
    "        status = \"Ran out of iters ❌\"\n",
    "\n",
    "    print(f\"{status:<9} {itr=:<5}  {path[-1]=}  {objs[-1]=:.2f}\")\n",
    "    return np.array(path), np.array(objs), info"
   ]
  },
  {
   "cell_type": "code",
   "execution_count": null,
   "id": "60a454bc",
   "metadata": {
    "tags": []
   },
   "outputs": [],
   "source": [
    "# ## Model case\n",
    "def model_setup(**kwargs):\n",
    "    \"\"\"Create new model, based on `globals()['model']`.\"\"\"\n",
    "    # Init\n",
    "    modln = copy.deepcopy(model)  # dont overwrite\n",
    "    # pperm gets special treatment (transformation)\n",
    "    set_perm(modln, kwargs.pop('perm', pperm))\n",
    "    # Set other attrs\n",
    "    for key, val in kwargs.items():\n",
    "        setattr(modln, key, val)\n",
    "    # Sanitize\n",
    "    modln.config_wells(modln.inj_xy, modln.inj_rates,\n",
    "                       modln.prod_xy, modln.prod_rates)\n",
    "    return modln"
   ]
  },
  {
   "cell_type": "code",
   "execution_count": null,
   "id": "099a7acb",
   "metadata": {
    "tags": []
   },
   "outputs": [],
   "source": [
    "model = simulator.ResSim(Nx=20, Ny=20, Lx=2, Ly=1)\n",
    "seed = rnd.seed(3)\n",
    "pperm = sample_prior_perm(1)"
   ]
  },
  {
   "cell_type": "code",
   "execution_count": null,
   "id": "31381455",
   "metadata": {
    "tags": []
   },
   "outputs": [],
   "source": [
    "xy_4corners = np.dstack(np.meshgrid(\n",
    "    np.array([.12, .87]) * model.Lx,\n",
    "    np.array([.12, .87]) * model.Ly,\n",
    ")).reshape((-1, 2))"
   ]
  },
  {
   "cell_type": "code",
   "execution_count": null,
   "id": "d6d51377",
   "metadata": {
    "lines_to_next_cell": 2,
    "tags": []
   },
   "outputs": [],
   "source": [
    "r0 = 1.5\n",
    "model = model_setup(\n",
    "    inj_xy = np.array([model.domain[1]]) / 2,\n",
    "    inj_rates = r0 * np.ones((1, 1)) / 1,\n",
    "    prod_rates = r0 * np.ones((4, 1)) / 4,\n",
    "    prod_xy = xy_4corners,\n",
    ")\n",
    "plotting.single.model = model\n",
    "plotting.single.coord_type = \"absolute\""
   ]
  },
  {
   "cell_type": "code",
   "execution_count": null,
   "id": "beb5a6f8",
   "metadata": {
    "lines_to_next_cell": 1,
    "tags": []
   },
   "outputs": [],
   "source": [
    "# Simulation\n",
    "wsat0 = np.zeros(model.Nxy)\n",
    "T = 1\n",
    "dt = 0.025\n",
    "nTime = round(T/dt)"
   ]
  },
  {
   "cell_type": "code",
   "execution_count": null,
   "id": "d87b5399",
   "metadata": {
    "tags": []
   },
   "outputs": [],
   "source": [
    "# Like `forward_model`, but w/o setting params\n",
    "def sim(model, wsat, pbar=False, leave=False):\n",
    "    \"\"\"Simulate reservoir.\"\"\"\n",
    "    integrator = model.time_stepper(dt)\n",
    "    wsats = simulator.recurse(integrator, nTime, wsat, pbar=pbar, leave=leave)\n",
    "    # Extract production time series from water saturation fields\n",
    "    wells = model.xy2ind(*model.prod_xy.T)\n",
    "    prods = np.array([wsat[wells] for wsat in wsats])\n",
    "    return wsats, prods"
   ]
  },
  {
   "cell_type": "code",
   "execution_count": null,
   "id": "be9935ee",
   "metadata": {
    "lines_to_next_cell": 1,
    "tags": []
   },
   "outputs": [],
   "source": [
    "## Objectives\n",
    "def prod2npv(model, prods):\n",
    "    \"\"\"Net present value (NPV), i.e. monetarily discounted, total oil production.\"\"\"\n",
    "    discounts = .99 ** np.arange(nTime + 1)\n",
    "    prods = 1 - prods                   # water --> oil\n",
    "    prods = prods * model.prod_rates.T  # volume = saturation * rate\n",
    "    prods = np.sum(prods, -1)           # sum over wells\n",
    "    value = prods @ discounts           # sum in time, incld. discount factors\n",
    "    # Compute cost of water injection\n",
    "    # PS: We don't bother with cost of water production,\n",
    "    # since it is implicitly approximated by reduction in oil production.\n",
    "    inj_rates = model.inj_rates\n",
    "    if inj_rates.shape[1] == 1:\n",
    "        inj_rates = np.tile(inj_rates, (1, nTime))\n",
    "    cost = np.sum(inj_rates, 0)\n",
    "    cost = cost @ discounts[:-1]\n",
    "    return value - .5*cost"
   ]
  },
  {
   "cell_type": "code",
   "execution_count": null,
   "id": "8cdf36ae",
   "metadata": {
    "tags": []
   },
   "outputs": [],
   "source": [
    "def npv(**kwargs):\n",
    "    \"\"\"NPV from model config.\"\"\"\n",
    "    # Config\n",
    "    try:\n",
    "        model = model_setup(**kwargs)\n",
    "        # Simulate\n",
    "        wsats, prods = sim(model, wsat0)\n",
    "    except Exception:\n",
    "        return 0  # Invalid model params. Penalize. Use `raise` for debugging.\n",
    "    return prod2npv(model, prods)"
   ]
  },
  {
   "cell_type": "code",
   "execution_count": null,
   "id": "d263ff30",
   "metadata": {
    "tags": []
   },
   "outputs": [],
   "source": [
    "def npv_in_injectors(xys):\n",
    "    \"\"\"`npv(inj_xy)`. Input shape `(nEns, 2*nInj)`.\"\"\"\n",
    "    xys, singleton = utils.atleast_2d(xys)\n",
    "    xys = xys.reshape((len(xys), -1, 2))  # (nEns, 2*nInj) --> (nEns, nInj, 2)\n",
    "    Js = apply(npv, inj_xy=xys, unzip=False,\n",
    "               pbar=not singleton, leave=False)\n",
    "    return Js[0] if singleton else Js"
   ]
  },
  {
   "cell_type": "code",
   "execution_count": null,
   "id": "d73adf8f",
   "metadata": {
    "tags": []
   },
   "outputs": [],
   "source": [
    "def npv_in_x_of_inj0_with_fixed_y(x):\n",
    "    \"\"\"Like `npv_in_injectors` but with `y` fixed. Input shape `(nEns, 1)` or `(1,)`.\"\"\"\n",
    "    xs = x\n",
    "    ys = y * np.ones_like(xs)\n",
    "    xys = np.hstack([xs, ys])\n",
    "    Js = npv_in_injectors(xys)\n",
    "    return Js\n",
    "\n",
    "obj = npv_in_x_of_inj0_with_fixed_y\n",
    "y = model.Ly/2"
   ]
  },
  {
   "cell_type": "code",
   "execution_count": null,
   "id": "f8b7c184",
   "metadata": {
    "lines_to_next_cell": 2,
    "tags": []
   },
   "outputs": [],
   "source": [
    "## Optim params\n",
    "N = 10\n",
    "xSteps = [.4 * 1/2**i for i in range(8)]\n",
    "utils.nCPU = True"
   ]
  },
  {
   "cell_type": "code",
   "execution_count": null,
   "id": "534c5ec4-89da-468f-84f9-6d27518d7d92",
   "metadata": {
    "tags": []
   },
   "outputs": [],
   "source": [
    "# Plot objective\n",
    "fig, ax = freshfig(f\"{obj.__name__}({y})\", figsize=(7, 3))\n",
    "ax.set(xlabel=\"x\", ylabel=\"NPV\")\n",
    "xx = np.linspace(0, model.Lx, 201)\n",
    "npvs = obj(np.atleast_2d(xx).T)\n",
    "ax.plot(xx, npvs, \"slategrey\", lw=3)\n",
    "\n",
    "# Optimize\n",
    "L = .3 * np.eye(1)\n",
    "shifts = {}\n",
    "u0s = model.Lx * np.array([[.05, .1, .2, .8, .9, .95]]).T\n",
    "for i, u0 in enumerate(u0s):\n",
    "    path, objs, info = EnOpt(obj, u0, L, regulator=None, xSteps=xSteps)\n",
    "    shift = .3*i  # for visual distinction\n",
    "    ax.plot(path, objs - shift, '-o', c=f'C{i+1}')\n",
    "fig.tight_layout()"
   ]
  },
  {
   "cell_type": "code",
   "execution_count": null,
   "id": "8f9a8cc7-6bfe-418a-a3bb-a06461cdac0a",
   "metadata": {
    "tags": []
   },
   "outputs": [],
   "source": [
    "obj = npv_in_injectors\n",
    "fig, axs = plotting.figure12(obj.__name__)\n",
    "\n",
    "# Plot objective\n",
    "X, Y = model.mesh\n",
    "XY = np.vstack([X.ravel(), Y.ravel()]).T\n",
    "npvs = npv_in_injectors(XY)\n",
    "plotting.field(axs[0], npvs, \"obj\", wells=True, argmax=True, colorbar=True);\n",
    "\n",
    "# Optimize\n",
    "# - Some get stuck in local minima\n",
    "# - Smaller steps towards end\n",
    "# - Notice that discreteness of npv_in_injectors function means that\n",
    "#   they dont all CV to exactly the same\n",
    "L = .1 * np.eye(2)\n",
    "for color in ['C0', 'C2', 'C6', 'C7', 'C8', 'C9']:\n",
    "    u0 = rnd.rand(2) * model.domain[1]\n",
    "    path, objs, info = EnOpt(obj, u0, L, regulator=Momentum(0.3), xSteps=xSteps, precond=False)\n",
    "    plotting.add_path12(*axs, path, objs, color=color)\n",
    "fig.tight_layout()"
   ]
  },
  {
   "cell_type": "code",
   "execution_count": null,
   "id": "210bc778",
   "metadata": {
    "tags": []
   },
   "outputs": [],
   "source": [
    "final_sweep(\"npv_in_injectors\", inj_xy=path[-1].reshape((-1, 2)))"
   ]
  },
  {
   "cell_type": "code",
   "execution_count": null,
   "id": "693e8a2e",
   "metadata": {
    "tags": []
   },
   "outputs": [],
   "source": [
    "def transform_xys(xys):\n",
    "    \"\"\"Transform infinite plane to `(0, Lx) x (0, Ly)`.\"\"\"\n",
    "    xys = np.array(xys, dtype=float)\n",
    "\n",
    "    def realline_to_0L(x, L, compress=1):\n",
    "        sigmoid = lambda z: 1/(1 + np.exp(-z))  # noqa\n",
    "        x = (x - L/2) * L * compress\n",
    "        return L * sigmoid(x)\n",
    "\n",
    "    # Loop over (x, y)\n",
    "    for i0, L in zip([0, 1], model.domain[1]):\n",
    "        ii = slice(i0, None, 2)\n",
    "        xys[..., ii] = realline_to_0L(xys[..., ii], L, 1)\n",
    "    return xys"
   ]
  },
  {
   "cell_type": "code",
   "execution_count": null,
   "id": "3dda870e",
   "metadata": {
    "lines_to_next_cell": 1,
    "tags": []
   },
   "outputs": [],
   "source": [
    "def npv_in_injectors_transformed(xys):\n",
    "    \"\"\"Like `npv_in_injectors` but with transformation of (x, y).\"\"\"\n",
    "    xys = transform_xys(xys)\n",
    "    Js = npv_in_injectors(xys)\n",
    "    return Js"
   ]
  },
  {
   "cell_type": "code",
   "execution_count": null,
   "id": "dd92736d-e657-4100-9c03-af05f5b39c2f",
   "metadata": {
    "tags": []
   },
   "outputs": [],
   "source": [
    "## Optimize 2 inj_xy\n",
    "u0 = np.array([0, 0] + [2, 0])\n",
    "model = model_setup(\n",
    "    prod_xy = xy_4corners[:2],\n",
    "    inj_xy = transform_xys(u0).reshape((2, 2)),\n",
    "    prod_rates = r0 * np.ones((2, 1)) / 2,\n",
    "    inj_rates = r0 * np.ones((2, 1)) / 2,\n",
    ")\n",
    "plotting.single.model = model\n",
    "fig, axs = plotting.figure12(\"npv_in_injectors_transformed\")\n",
    "plotting.field(axs[0], pperm, \"pperm\", wells=True, colorbar=True)\n",
    "\n",
    "L = .1 * np.eye(len(u0))\n",
    "path, objs, info = EnOpt(npv_in_injectors_transformed, u0, L,\n",
    "                         regulator=Momentum(.1), xSteps=xSteps, precond=False, rtol=1e-8)\n",
    "path = transform_xys(path)\n",
    "\n",
    "plotting.add_path12(*axs, path[:, :2], objs, color='C0')\n",
    "plotting.add_path12(*axs, path[:, 2:], color='C5')\n",
    "fig.tight_layout()"
   ]
  },
  {
   "cell_type": "code",
   "execution_count": null,
   "id": "440107fc",
   "metadata": {
    "tags": []
   },
   "outputs": [],
   "source": [
    "final_sweep(\"npv_in_injectors_transformed\", inj_xy=path[-1].reshape((-1, 2)))"
   ]
  },
  {
   "cell_type": "code",
   "execution_count": null,
   "id": "45587afc",
   "metadata": {
    "lines_to_next_cell": 1,
    "tags": []
   },
   "outputs": [],
   "source": [
    "## Rates\n",
    "def npv_in_rates(inj_rates):\n",
    "    \"\"\"`npv(inj_rates)`. Input shape `(nEns, nInj)`.\"\"\"\n",
    "    inj_rates, singleton = utils.atleast_2d(inj_rates)\n",
    "    nEns = len(inj_rates)\n",
    "    inj_rates = inj_rates.reshape((nEns, -1, 1))  # (nEns, nInj) --> (nEns, nInj, 1)\n",
    "    total_rate = np.sum(inj_rates, axis=1).squeeze()  # (nEns,)\n",
    "    nProd = len(model.prod_rates)\n",
    "    prod_rates = (np.ones((1, nProd, nEns)) * total_rate/nProd).T\n",
    "    Js = apply(npv, inj_rates=inj_rates, prod_rates=prod_rates, unzip=False,\n",
    "               pbar=not singleton, leave=False)\n",
    "    return Js[0] if singleton else Js"
   ]
  },
  {
   "cell_type": "code",
   "execution_count": null,
   "id": "ab461a21",
   "metadata": {
    "tags": []
   },
   "outputs": [],
   "source": [
    "# Restore default well config\n",
    "model = model_setup(\n",
    "    inj_xy = np.array([model.domain[1]]) / 2,\n",
    "    inj_rates = r0 * np.ones((1, 1)) / 1,\n",
    "    prod_rates = r0 * np.ones((4, 1)) / 4,\n",
    "    prod_xy = xy_4corners,\n",
    ")\n",
    "plotting.single.model = model"
   ]
  },
  {
   "cell_type": "code",
   "execution_count": null,
   "id": "f7100773-1299-408c-9c7f-f0ad27879a9a",
   "metadata": {
    "lines_to_end_of_cell_marker": 2,
    "tags": []
   },
   "outputs": [],
   "source": [
    "obj = npv_in_rates\n",
    "\n",
    "xx = np.linspace(0.1, 5, 21)\n",
    "npvs = obj(np.atleast_2d(xx).T)\n",
    "\n",
    "fig, ax = freshfig(obj.__name__)\n",
    "ax.grid()\n",
    "ax.set(xlabel=\"rate\", ylabel=\"NPV\")\n",
    "ax.plot(xx, npvs, \"slategrey\")\n",
    "\n",
    "for i, u0 in enumerate(np.array([[.1, 5]]).T):\n",
    "    L = .1 * np.eye(len(u0))\n",
    "    path, objs, info = EnOpt(obj, u0, L, xSteps=xSteps, precond=False, rtol=1e-8)\n",
    "    shift = i+1  # for visual distinction\n",
    "    ax.plot(path, objs - shift, '-o', color=f'C{i+1}')"
   ]
  },
  {
   "cell_type": "markdown",
   "id": "f5001767",
   "metadata": {},
   "source": [
    "# Triangles"
   ]
  },
  {
   "cell_type": "code",
   "execution_count": null,
   "id": "fa190150-ded7-4f92-b25a-0d396aef5fa0",
   "metadata": {
    "tags": []
   },
   "outputs": [],
   "source": [
    "triangle = [0, 135, -135]\n",
    "wells = dict(\n",
    "    inj_xy = ([[model.Lx/2, model.Ly/2]] +\n",
    "              [utils.xy_p_normed(th, *model.domain[1]) for th in +90 + triangle]),\n",
    "    prod_xy = [utils.xy_p_normed(th, *model.domain[1]) for th in -90 + triangle],\n",
    "    inj_rates = r0 * np.ones((4, 1)) / 4,\n",
    "    prod_rates = r0 * np.ones((3, 1)) / 3,\n",
    ")\n",
    "\n",
    "# fig, ax = freshfig(\"Triangles\")\n",
    "model = model_setup(**wells)\n",
    "plotting.single.model = model\n",
    "# plotting.field(ax, pperm, \"pperm\", wells=True, colorbar=True)"
   ]
  },
  {
   "cell_type": "code",
   "execution_count": null,
   "id": "605b220b",
   "metadata": {
    "lines_to_next_cell": 1,
    "tags": []
   },
   "outputs": [],
   "source": [
    "def final_sweep2(i0, i1, i2, i3):\n",
    "    inj_rates = np.array([[i0, i1, i2, i3]]).T\n",
    "    prod_rates = np.ones((3, 1)) / 3 * np.sum(inj_rates)\n",
    "    model = model_setup(inj_rates=inj_rates, prod_rates=prod_rates)\n",
    "    plotting.single.model = model\n",
    "    wsats, prods = sim(model, wsat0)\n",
    "    npv = prod2npv(model, prods)\n",
    "    print(f\"NPV: {npv:.5f}\")\n",
    "    return wsats[-1]\n",
    "    # fig, ax = freshfig(f\"Final sweep {title}\", figsize=(1, .6), rel=True)\n",
    "    # plotting.single.field(ax, wsats[-1], \"oil\", wells=True, colorbar=True)\n",
    "    # fig.tight_layout()"
   ]
  },
  {
   "cell_type": "code",
   "execution_count": null,
   "id": "105a5a95",
   "metadata": {
    "tags": []
   },
   "outputs": [],
   "source": [
    "final_sweep2.controls = dict(\n",
    "    i0 = (0, 1.9),\n",
    "    i1 = (0, 1.9),\n",
    "    i2 = (0, 1.9),\n",
    "    i3 = (0, 1.9),\n",
    ")"
   ]
  },
  {
   "cell_type": "code",
   "execution_count": null,
   "id": "1c33d537",
   "metadata": {
    "tags": []
   },
   "outputs": [],
   "source": [
    "plotting.field_console(final_sweep2, \"oil\", wells=True)"
   ]
  },
  {
   "cell_type": "code",
   "execution_count": null,
   "id": "f5a93f0a",
   "metadata": {
    "tags": []
   },
   "outputs": [],
   "source": [
    "## Optim triangles\n",
    "u0 = .7*np.ones(len(model.inj_rates))\n",
    "L = .1 * np.eye(len(u0))\n",
    "path, objs, info = EnOpt(npv_in_rates, u0, L, xSteps=xSteps, precond=False, rtol=1e-8)\n",
    "# final_sweep(\"Triangles\", **wells)"
   ]
  }
 ],
 "metadata": {
  "jupytext": {
   "cell_metadata_filter": "-all",
   "encoding": "# -*- coding: utf-8 -*-",
   "formats": "auto:light,ipynb",
   "main_language": "python",
   "notebook_metadata_filter": "-all"
  },
  "kernelspec": {
   "display_name": "Python 3 (ipykernel)",
   "language": "python",
   "name": "python3"
  },
  "language_info": {
   "codemirror_mode": {
    "name": "ipython",
    "version": 3
   },
   "file_extension": ".py",
   "mimetype": "text/x-python",
   "name": "python",
   "nbconvert_exporter": "python",
   "pygments_lexer": "ipython3",
   "version": "3.9.16"
  }
 },
 "nbformat": 4,
 "nbformat_minor": 5
}
