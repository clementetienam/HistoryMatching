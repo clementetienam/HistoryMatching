{
 "cells": [
  {
   "cell_type": "markdown",
   "metadata": {},
   "source": [
    "# History matching tutorial\n",
    "This notebook presents a tutorial on history matching (HM) using ensemble methods.\n",
    "It is a work in progress."
   ]
  },
  {
   "cell_type": "code",
   "execution_count": null,
   "metadata": {},
   "outputs": [],
   "source": [
    "# Import tools, model, and ensemble-generator\n",
    "from common import *\n",
    "import model\n",
    "from res_gen import gen_ens"
   ]
  },
  {
   "cell_type": "code",
   "execution_count": null,
   "metadata": {},
   "outputs": [],
   "source": [
    "try:\n",
    "    __IPYTHON__\n",
    "    from IPython import get_ipython\n",
    "    is_notebook_or_qt = 'zmq' in str(type(get_ipython())).lower()\n",
    "except (NameError,ImportError):\n",
    "    is_notebook_or_qt = False"
   ]
  },
  {
   "cell_type": "code",
   "execution_count": null,
   "metadata": {
    "lines_to_next_cell": 1
   },
   "outputs": [],
   "source": [
    "if is_notebook_or_qt:\n",
    "    mpl.rcParams.update({'font.size': 13})\n",
    "    mpl.rcParams[\"figure.figsize\"] = [8,6]\n",
    "else:\n",
    "    fig_placement_load()"
   ]
  },
  {
   "cell_type": "code",
   "execution_count": null,
   "metadata": {
    "lines_to_next_cell": 1
   },
   "outputs": [],
   "source": [
    "def validate_ens(E):\n",
    "    # assert E.max() <= 1 + 1e-10\n",
    "    # assert E.min() >= 0 - 1e-10\n",
    "    if (E.max() <= 1 + 1e-10) or (E.min() >= 0 - 1e-10):\n",
    "        print(\"Warning: clipping ensemble.\")\n",
    "        E.clip(0,1,out=E)\n",
    "    return E"
   ]
  },
  {
   "cell_type": "markdown",
   "metadata": {},
   "source": [
    "## Model and case\n",
    "The reservoir model, which takes $\\approx 100$ lines of python code, is a 2D, two-phase, immiscible, incompressible simulator using TPFA,\n",
    "grabbed from http://folk.ntnu.no/andreas/papers/ResSimMatlab.pdf\n",
    "\n",
    "The model supports inhomogeneous permeabilities and porosities, but to keep things as simple as possible we will only be estimating the water saturation.\n",
    "Specifically, we will focus on the initial saturation, as is commonplace in ensemble HM.\n",
    "The data will be production saturations."
   ]
  },
  {
   "cell_type": "code",
   "execution_count": null,
   "metadata": {},
   "outputs": [],
   "source": [
    "# Set well locations and relative throughput\n",
    "np.random.seed(1)\n",
    "model.injectors, model.producers, model.Q = init_Q(rand((3,2)).T, rand((3,4)).T)"
   ]
  },
  {
   "cell_type": "markdown",
   "metadata": {},
   "source": [
    "## Initial ensemble\n",
    "We generate Gaussian fields with a given variogram to provide an initial ensemble, as well as the (statistically indistinguishable) truth. Below we plot some of the realizations."
   ]
  },
  {
   "cell_type": "code",
   "execution_count": null,
   "metadata": {
    "lines_to_next_cell": 2
   },
   "outputs": [],
   "source": [
    "## Gen surfaces of water saturation\n",
    "N = 40\n",
    "sill = 0.7\n",
    "E0, Cov = gen_ens(N+1,model.grid,sill)\n",
    "\n",
    "# Pick first one as \"truth\"\n",
    "x0, E0 = E0[0], E0[1:]\n",
    "print(\"Error Initially: %.4f\"%norm(x0-E0.mean(0)))\n",
    "\n",
    "\n",
    "# Plot\n",
    "vm = (.2,1)\n",
    "fig, axs = freshfig(23,nrows=3,ncols=4,sharex=True,sharey=True)\n",
    "plot_realizations(axs,E0,\"Initial\",vm)"
   ]
  },
  {
   "cell_type": "markdown",
   "metadata": {},
   "source": [
    "## Simulation of the synthetic truth\n",
    "Plotted below is the oil saturation before/after production.\n",
    "Injection wells (numbered) have blue triangle markers, production have orange.\n",
    "The obs. locations used for Kriging are marked with white dots."
   ]
  },
  {
   "cell_type": "code",
   "execution_count": null,
   "metadata": {},
   "outputs": [],
   "source": [
    "dt = 0.025\n",
    "nT = 28\n",
    "tt = dt*(1+arange(nT))\n",
    "saturation,production = model.simulate(nT,x0,dt,dt_plot=None)\n",
    "xx = saturation # \"x\" for unknown-state\n",
    "\n",
    "# Plot\n",
    "fig, axs = freshfig(19,figsize=(12,6),ncols=2,sharey=True)\n",
    "chxx = plot_field(axs[0], 1-x0      , vm); axs[0].set_title(\"Truth\")\n",
    "chEr = plot_field(axs[1], 1-xx[-1]  , vm); axs[1].set_title(\"Truth at t=end\")\n",
    "plot_wells(axs[0], model.injectors)\n",
    "plot_wells(axs[0], model.producers, False)\n",
    "fig_colorbar(fig, chxx)"
   ]
  },
  {
   "cell_type": "markdown",
   "metadata": {},
   "source": [
    "## Noisy obs\n",
    "The observations are corrupted with a little bit of noise."
   ]
  },
  {
   "cell_type": "code",
   "execution_count": null,
   "metadata": {
    "lines_to_next_cell": 2
   },
   "outputs": [],
   "source": [
    "p = len(model.producers)\n",
    "R = 0.01**2 * np.eye(p)\n",
    "RR = sp.linalg.block_diag(*[R]*nT)\n",
    "yy = np.copy(production)\n",
    "for iT in range(nT):\n",
    "    yy[iT] += R @ randn(p)\n",
    "\n",
    "fig, ax_prod = freshfig(2)\n",
    "hh_y = plot_prod(ax_prod,production,dt,nT,obs=yy)"
   ]
  },
  {
   "cell_type": "markdown",
   "metadata": {},
   "source": [
    "Perhaps the ensemble spread is too large for history matching methods to be\n",
    "effective (because they produce too nonlinear behaviours). In that case, we\n",
    "might adjust our test case by reducing the initial (prior) ensemble spread,\n",
    "also adjusting its mean towards the truth. A less artifical means is Kriging\n",
    "(geostatistics), illustrated below. However, with the default parameters,\n",
    "this adjustment is not necessary, but is left for completeness."
   ]
  },
  {
   "cell_type": "code",
   "execution_count": null,
   "metadata": {
    "lines_to_next_cell": 2,
    "scrolled": false
   },
   "outputs": [],
   "source": [
    "## Initial Kriging/ES\n",
    "# kriging_inds = linspace(0, M-1, 10).astype(int)\n",
    "# kriging_obs = x0[kriging_inds]\n",
    "# Cxy = Cov[:,kriging_inds]\n",
    "# Cyy = Cov[kriging_inds][:,kriging_inds]\n",
    "# Reg = Cxy @ nla.pinv(Cyy)\n",
    "# Kriged = x0.mean() + Reg @ (kriging_obs-x0.mean())\n",
    "\n",
    "# print(\"Error for Krig.: %.4f\"%norm(x0-Kriged))\n",
    "# TODO: use Kriged (ie. best) covariance to generate spread\n",
    "\n",
    "# Eb = Kriged + 0.4*center(E0)\n",
    "# fig, axs = freshfig(24,nrows=3,ncols=4,sharex=True,sharey=True)\n",
    "# axs[0,0].plot(*array([ind2xy(j) for j in kriging_inds]).T, 'w.',ms=10)\n",
    "# plot_realizations(axs,Eb,\"Krig/Prior\",vm)\n",
    "\n",
    "\n",
    "# TODO\n",
    "# Eb = E0 + (Reg @ (kriging_obs-E0[:,kriging_inds]).T).T\n",
    "Eb = E0.copy()\n",
    "\n",
    "Eb = validate_ens(Eb)"
   ]
  },
  {
   "cell_type": "markdown",
   "metadata": {},
   "source": [
    "In practice, of course, we would not be using an explicit `Cov` matrix for this, because it would be too large.\n",
    "However, since this synthetic case in being made that way, let's go ahead an inspect what kind of spectrum it has."
   ]
  },
  {
   "cell_type": "code",
   "execution_count": null,
   "metadata": {},
   "outputs": [],
   "source": [
    "## Inspect eigenvalue specturm\n",
    "eigs = nla.eigvalsh(Cov)[::-1]\n",
    "fig, ax = freshfig(21)\n",
    "#ax.loglog(eigs)\n",
    "ax.semilogx(eigs)\n",
    "ax.grid(True,\"minor\",axis=\"x\")\n",
    "ax.grid(True,\"major\",axis=\"y\")\n",
    "ax.set(xlabel=\"eigenvalue #\",ylabel=\"var.\",title=\"Spectrum of initial, true cov\");"
   ]
  },
  {
   "cell_type": "markdown",
   "metadata": {},
   "source": [
    "It appears that the spectrum tails off around $N=30$, so maybe this ensemble size will suffice. However, try plotting the above using `loglog` instead of `semilogx`, and you might not be so convinced. Nevertheless, as we shall see, it does seem to yield tolerable results, even without localization."
   ]
  },
  {
   "cell_type": "markdown",
   "metadata": {},
   "source": [
    "## Assimilate w/ ES\n",
    "First, we assimilate using the batch method: ensemble smoother (ES)."
   ]
  },
  {
   "cell_type": "code",
   "execution_count": null,
   "metadata": {},
   "outputs": [],
   "source": [
    "# Forecast\n",
    "prior_production = np.zeros((nT,N,p))\n",
    "for n,xn in enumerate(Eb):\n",
    "    _,prior_production[:,n,:] = model.simulate(nT,xn,dt,dt_plot=None)\n",
    "\n",
    "# ## Plot prior production\n",
    "for iw, Ew in enumerate(1-np.moveaxis(array(prior_production),2,0)):\n",
    "    ax_prod.plot(tt, Ew, color=hh_y[iw].get_color(), alpha=0.1)\n",
    "\n",
    "# Analysis\n",
    "Eo = prior_production.swapaxes(0,1).reshape((N,nT*p))\n",
    "Y  = center(Eo)\n",
    "X  = center(Eb)\n",
    "D  = randn((N, p*nT)) @ sqrt(RR)\n",
    "\n",
    "XY = X.T @ Y\n",
    "CY = Y.T @ Y + RR*(N-1)\n",
    "KG_ES = XY @ nla.pinv(CY)\n",
    "ES = Eb + (yy.ravel() - (Eo+D)) @ KG_ES.T\n",
    "\n",
    "ES = validate_ens(ES)"
   ]
  },
  {
   "cell_type": "markdown",
   "metadata": {},
   "source": [
    "## Assimilate w/ EnKS\n",
    "Next, we test using the EnKS."
   ]
  },
  {
   "cell_type": "code",
   "execution_count": null,
   "metadata": {},
   "outputs": [],
   "source": [
    "EnKS = Eb.copy()\n",
    "E    = Eb.copy()\n",
    "EnKS_production = np.zeros((nT,N,p))\n",
    "\n",
    "for iT in range(nT):\n",
    "    # Forecast\n",
    "    for n,xn in enumerate(E):\n",
    "        E[n],EnKS_production[iT,n] = model.simulate(1,xn,dt,dt_plot=None)\n",
    "\n",
    "    # Obs ens\n",
    "    Eo = EnKS_production[iT]\n",
    "    Y  = center(Eo)\n",
    "    D  = randn((N, p)) @ sqrt(R)\n",
    "    CY = Y.T @ Y + R*(N-1)\n",
    "    Ci = nla.pinv(CY)\n",
    "\n",
    "    # Analysis filter\n",
    "    X = center(E)\n",
    "    XY = X.T @ Y\n",
    "    KG_EnKS = XY @ Ci\n",
    "    E = E + (yy[iT] - (Eo+D)) @ KG_EnKS.T\n",
    "\n",
    "    # Analysis smoother\n",
    "    XK = center(EnKS)\n",
    "    XY = XK.T @ Y\n",
    "    KG_EnKS = XY @ Ci\n",
    "    EnKS = EnKS + (yy[iT] - (Eo+D)) @ KG_EnKS.T\n",
    "\n",
    "print(\"Error for prior: %.4f\"%norm(x0-Eb.mean(axis=0)))\n",
    "print(\"Error for ES   : %.4f\"%norm(x0-ES .mean(axis=0)))\n",
    "print(\"Error for EnKS : %.4f\"%norm(x0-EnKS.mean(axis=0)))"
   ]
  },
  {
   "cell_type": "markdown",
   "metadata": {},
   "source": [
    "## Compare ensemble mean fields\n",
    "Plots of petroleum saturation fields."
   ]
  },
  {
   "cell_type": "code",
   "execution_count": null,
   "metadata": {},
   "outputs": [],
   "source": [
    "fig, axs = freshfig(25,figsize=(8,8),nrows=2,ncols=2,sharey=True,sharex=True)\n",
    "chxx = plot_field(axs[0,0], 1-x0               , vm); axs[0,0].set_title(\"Truth\")\n",
    "chE0 = plot_field(axs[0,1], 1-Eb  .mean(axis=0), vm); axs[0,1].set_title(\"Prior mean\")\n",
    "chEa = plot_field(axs[1,0], 1-ES  .mean(axis=0), vm); axs[1,0].set_title(\"ES\")\n",
    "chEr = plot_field(axs[1,1], 1-EnKS.mean(axis=0), vm); axs[1,1].set_title(\"EnKS\")\n",
    "fig_colorbar(fig, chxx)"
   ]
  },
  {
   "cell_type": "markdown",
   "metadata": {},
   "source": [
    "## Correlation fields\n",
    "Plot of correlation fields (of the saturation at t=0) vs. a specific point"
   ]
  },
  {
   "cell_type": "code",
   "execution_count": null,
   "metadata": {
    "scrolled": false
   },
   "outputs": [],
   "source": [
    "fig, axs = freshfig(22, figsize=(8,8), nrows=2, ncols=2, sharex=True, sharey=True)\n",
    "i_well = 2\n",
    "xy = model.producers[i_well,:2]\n",
    "z = plot_corr_field_vs(axs[0,0],E0   ,xy,\"Initial\")\n",
    "# z = plot_corr_field_vs(axs[0,1],Eb   ,xy,\"Kriged\")\n",
    "z = plot_corr_field_vs(axs[1,0],ES   ,xy,\"ES\")\n",
    "z = plot_corr_field_vs(axs[1,1],EnKS ,xy,\"EnKS\")\n",
    "fig_colorbar(fig, z)"
   ]
  },
  {
   "cell_type": "markdown",
   "metadata": {},
   "source": [
    "## Kalman gains\n",
    "Plot of Kalman gain fields vs. specific observations."
   ]
  },
  {
   "cell_type": "code",
   "execution_count": null,
   "metadata": {},
   "outputs": [],
   "source": [
    "fig, axs = freshfig(33, figsize=(8,8), nrows=2, ncols=2, sharex=True, sharey=True)\n",
    "def pkg(ax, z):\n",
    "    a, b = KG_EnKS.min(), KG_EnKS.max()\n",
    "    return plot_field(ax, z, cmap=mpl.cm.PiYG_r, vmin=a, vmax=b)\n",
    "i_last = i_well + (nT-1)*p\n",
    "collections = pkg(axs[0,0], KG_ES  .T[i_well])\n",
    "collections = pkg(axs[0,1], KG_ES  .T[i_last])\n",
    "collections = pkg(axs[1,1], KG_EnKS.T[i_well])\n",
    "# Turn off EnKS/initial axis\n",
    "for s in axs[1,0].spines.values(): s.set_color(\"w\")\n",
    "axs[1,0].tick_params(colors=\"w\")\n",
    "\n",
    "axs[0,0].set_title(\"t=1\")\n",
    "axs[0,1].set_title(\"t=end\")\n",
    "axs[0,0].set_ylabel(\"ES\")\n",
    "axs[1,0].set_ylabel(\"EnKS\")\n",
    "for ax in axs.ravel():\n",
    "    ax.plot(*model.producers[i_well,:2], '*k',ms=10)\n",
    "fig.suptitle(f\"KG for a given well obs.\\n\"\n",
    "             \"Note how the impact is displaced in time.\")\n",
    "fig_colorbar(fig, collections)\n"
   ]
  },
  {
   "cell_type": "markdown",
   "metadata": {},
   "source": [
    "## Posterior realizations"
   ]
  },
  {
   "cell_type": "code",
   "execution_count": null,
   "metadata": {},
   "outputs": [],
   "source": [
    "fig, axs = freshfig(27,nrows=3,ncols=4,sharex=True,sharey=True)\n",
    "plot_realizations(axs,ES,\"ES\",vm)"
   ]
  },
  {
   "cell_type": "code",
   "execution_count": null,
   "metadata": {
    "scrolled": false
   },
   "outputs": [],
   "source": [
    "fig, axs = freshfig(28,nrows=3,ncols=4,sharex=True,sharey=True)\n",
    "plot_realizations(axs,EnKS,\"EnKS\",vm)"
   ]
  },
  {
   "cell_type": "markdown",
   "metadata": {},
   "source": [
    "## Production plots for EnKS"
   ]
  },
  {
   "cell_type": "code",
   "execution_count": null,
   "metadata": {},
   "outputs": [],
   "source": [
    "fig, ax = freshfig(35)\n",
    "hh_y = plot_prod(ax,production,dt,nT,obs=yy)\n",
    "\n",
    "for iw, Ew in enumerate(1-np.moveaxis(array(EnKS_production),2,0)):\n",
    "    ax.plot(tt, Ew, color=hh_y[iw].get_color(), alpha=0.1)\n",
    "    \n",
    "## Forecast production from filter analysis\n",
    "Ef = E.copy()\n",
    "prodf = []\n",
    "\n",
    "for iT in range(50):\n",
    "    # Forecast\n",
    "    Eo = np.zeros((N,p))\n",
    "    for n,xn in enumerate(Ef):\n",
    "        Ef[n],Eo[n] = model.simulate(1,xn,dt,dt_plot=None)\n",
    "    prodf.append(Eo)\n",
    "\n",
    "ttf = tt[-1] + dt*(1+arange(iT+1))\n",
    "for iw, Ew in enumerate(1-np.moveaxis(array(prodf),2,0)):\n",
    "    ax.plot(ttf, Ew, color=hh_y[iw].get_color(), alpha=0.1)\n",
    "\n",
    "ax.axvspan(ttf[0],ttf[-1], alpha=.1, color=\"b\")"
   ]
  }
 ],
 "metadata": {
  "jupytext": {
   "formats": "ipynb,py:light"
  },
  "kernelspec": {
   "display_name": "Python 3",
   "language": "python",
   "name": "python3"
  },
  "language_info": {
   "codemirror_mode": {
    "name": "ipython",
    "version": 3
   },
   "file_extension": ".py",
   "mimetype": "text/x-python",
   "name": "python",
   "nbconvert_exporter": "python",
   "pygments_lexer": "ipython3",
   "version": "3.7.7"
  }
 },
 "nbformat": 4,
 "nbformat_minor": 4
}
