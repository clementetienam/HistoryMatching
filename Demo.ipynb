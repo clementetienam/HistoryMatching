{
 "cells": [
  {
   "cell_type": "code",
   "execution_count": null,
   "metadata": {},
   "outputs": [],
   "source": [
    "from common import *\n",
    "import model\n",
    "from res_gen import gen_ens\n",
    "\n",
    "mpl.rcParams[\"figure.figsize\"] = [8,6]"
   ]
  },
  {
   "cell_type": "code",
   "execution_count": null,
   "metadata": {},
   "outputs": [],
   "source": [
    "np.random.seed(1)\n",
    "model.injectors, model.producers, model.Q = init_Q(rand((3,5)).T, rand((3,10)).T)"
   ]
  },
  {
   "cell_type": "code",
   "execution_count": null,
   "metadata": {},
   "outputs": [],
   "source": [
    "## Gen surfaces of S0\n",
    "N = 40\n",
    "sill = 0.7\n",
    "E0, Cov = gen_ens(N+1,model.grid,sill)\n",
    "x0, E0 = E0[0], E0[1:]\n",
    "vm = (.2,1)\n",
    "if True:\n",
    "    fig, axs = freshfig(23,nrows=3,ncols=4,sharex=True,sharey=True)\n",
    "    plot_realizations(axs,E0,\"Initial\",vm)"
   ]
  },
  {
   "cell_type": "code",
   "execution_count": null,
   "metadata": {},
   "outputs": [],
   "source": [
    "## Inspect eigenvalue specturm\n",
    "eigs = nla.eigvalsh(Cov)[::-1]\n",
    "fig, ax = freshfig(21)\n",
    "# ax.loglog(eigs)\n",
    "ax.semilogx(eigs)\n",
    "ax.grid(True,\"minor\",axis=\"x\")\n",
    "ax.grid(True,\"major\",axis=\"y\")\n",
    "ax.set(xlabel=\"eigenvalue #\",ylabel=\"var.\",title=\"Spectrum of initial, true cov\");"
   ]
  },
  {
   "cell_type": "code",
   "execution_count": null,
   "metadata": {
    "scrolled": false
   },
   "outputs": [],
   "source": [
    "## Initial Kriging/ES\n",
    "inds_krigin = linspace(0, M-1, 10).astype(int)\n",
    "yy = x0[inds_krigin]\n",
    "Cxy = Cov[:,inds_krigin]\n",
    "Cyy = Cov[inds_krigin][:,inds_krigin]\n",
    "Reg = Cxy @ nla.pinv(Cyy)\n",
    "Kriged = x0.mean() + Reg @ (yy-x0.mean())\n",
    "\n",
    "print(\"Error for Krig.: %.4f\"%norm(x0-Kriged))\n",
    "# TODO: use Kriged (ie. best) covariance to generate spread\n",
    "Eb = Kriged + 0.4*center(E0)\n",
    "if True:\n",
    "    fig, axs = freshfig(24,nrows=3,ncols=4,sharex=True,sharey=True)\n",
    "    plot_realizations(axs,Eb,\"Krig/Prior\",vm)"
   ]
  },
  {
   "cell_type": "code",
   "execution_count": null,
   "metadata": {},
   "outputs": [],
   "source": [
    "## Simulate truth\n",
    "dt = 0.025\n",
    "nT = 28\n",
    "saturation,production = model.simulate(nT,x0,dt,dt_plot=None)\n",
    "xx = saturation"
   ]
  },
  {
   "cell_type": "code",
   "execution_count": null,
   "metadata": {},
   "outputs": [],
   "source": [
    "## Noisy obs\n",
    "p = len(model.producers)\n",
    "R = 0.01**2 * np.eye(p)\n",
    "RR = sp.linalg.block_diag(*[R]*nT)\n",
    "yy = np.copy(production)\n",
    "for iT in range(nT):\n",
    "    yy[iT] += R @ randn(p)\n",
    "\n",
    "if True:\n",
    "    fig, ax = freshfig(2)\n",
    "    hh_y = plot_prod(ax,production,dt,nT,obs=yy)"
   ]
  },
  {
   "cell_type": "code",
   "execution_count": null,
   "metadata": {},
   "outputs": [],
   "source": [
    "## Assimilate w/ ES\n",
    "\n",
    "# Forecast\n",
    "Eo = np.zeros((N,nT*p))\n",
    "for n,xn in enumerate(Eb):\n",
    "    saturation,production = model.simulate(nT,xn,dt,dt_plot=None)\n",
    "    Eo[n] = production.ravel()\n",
    "\n",
    "# Analysis\n",
    "Y  = center(Eo)\n",
    "X  = center(Eb)\n",
    "D  = randn((N, p*nT)) @ sqrt(RR)\n",
    "\n",
    "XY = X.T @ Y\n",
    "CY = Y.T @ Y + RR*(N-1)\n",
    "KG_ES = XY @ nla.pinv(CY)\n",
    "ES = Eb + (yy.ravel() - (Eo+D)) @ KG_ES.T\n",
    "\n",
    "print(\"Error for prior: %.4f\"%norm(x0-Eb.mean(axis=0)))\n",
    "print(\"Error for ES   : %.4f\"%norm(x0-ES .mean(axis=0)))"
   ]
  },
  {
   "cell_type": "code",
   "execution_count": null,
   "metadata": {},
   "outputs": [],
   "source": [
    "## Assimilate w/ EnKS\n",
    "EnKS = Eb.copy()\n",
    "E    = Eb.copy()\n",
    "\n",
    "EnKS_production = []\n",
    "for iT in range(nT):\n",
    "    # Forecast\n",
    "    Eo = np.zeros((N,p))\n",
    "    for n,xn in enumerate(E):\n",
    "        E[n],Eo[n] = model.simulate(1,xn,dt,dt_plot=None)\n",
    "    EnKS_production.append(Eo)\n",
    "\n",
    "    # Obs ens\n",
    "    Y  = center(Eo)\n",
    "    D  = randn((N, p)) @ sqrt(R)\n",
    "    CY = Y.T @ Y + R*(N-1)\n",
    "    Ci = nla.pinv(CY)\n",
    "\n",
    "    # Analysis filter\n",
    "    X = center(E)\n",
    "    XY = X.T @ Y\n",
    "    KG_EnKS = XY @ Ci\n",
    "    E = E + (yy[iT] - (Eo+D)) @ KG_EnKS.T\n",
    "\n",
    "    # Analysis smoother\n",
    "    XK = center(EnKS)\n",
    "    XY = XK.T @ Y\n",
    "    KG_EnKS = XY @ Ci\n",
    "    EnKS = EnKS + (yy[iT] - (Eo+D)) @ KG_EnKS.T"
   ]
  },
  {
   "cell_type": "code",
   "execution_count": null,
   "metadata": {},
   "outputs": [],
   "source": [
    "##\n",
    "print(\"Error for EnKS : %.4f\"%norm(x0-EnKS.mean(axis=0)))\n",
    "if True:\n",
    "    fig, axs = freshfig(25,figsize=(8,8),nrows=2,ncols=2,sharey=True,sharex=True)\n",
    "    chxx = plot_field(axs[0,0], 1-x0               , vm); axs[0,0].set_title(\"Truth\")\n",
    "    chE0 = plot_field(axs[0,1], 1-Eb  .mean(axis=0), vm); axs[0,1].set_title(\"Prior mean\")\n",
    "    chEa = plot_field(axs[1,0], 1-ES  .mean(axis=0), vm); axs[1,0].set_title(\"ES\")\n",
    "    # chEr = plot_field(axs[1,1], 1-EnKS.mean(axis=0), vm); axs[1,1].set_title(\"EnKS\")\n",
    "    chEr = plot_field(axs[1,1], 1-xx[-1]           , vm); axs[1,1].set_title(\"Trusizeth t=end\")\n",
    "    plot_wells(axs[0,0], model.injectors)\n",
    "    plot_wells(axs[0,0], model.producers, False)\n",
    "    axs[0,0].plot(*array([ind2xy(j) for j in inds_krigin]).T, 'w.',ms=3)\n",
    "    fig_colorbar(fig, chxx)"
   ]
  },
  {
   "cell_type": "code",
   "execution_count": null,
   "metadata": {},
   "outputs": [],
   "source": [
    "## Correlations\n",
    "if True:\n",
    "    fig, axs = freshfig(22, figsize=(8,8), nrows=2, ncols=2, sharex=True, sharey=True)\n",
    "    xy = model.producers[4,:2]\n",
    "    z = plot_corr_field_vs(axs[0,0],E0   ,xy,\"Initial\")\n",
    "    z = plot_corr_field_vs(axs[0,1],Eb   ,xy,\"Kriged\")\n",
    "    z = plot_corr_field_vs(axs[1,0],ES   ,xy,\"ES\")\n",
    "    z = plot_corr_field_vs(axs[1,1],EnKS ,xy,\"EnKS\")\n",
    "    fig_colorbar(fig, z)"
   ]
  },
  {
   "cell_type": "code",
   "execution_count": null,
   "metadata": {},
   "outputs": [],
   "source": [
    "model.producers[i_well,:2]"
   ]
  },
  {
   "cell_type": "code",
   "execution_count": null,
   "metadata": {},
   "outputs": [],
   "source": [
    "## Kalman gains\n",
    "fig, axs = freshfig(33, figsize=(8,8), nrows=2, ncols=2, sharex=True, sharey=True)\n",
    "def pkg(ax, z):\n",
    "    a, b = KG_EnKS.min(), KG_EnKS.max()\n",
    "    return plot_field(ax, z, cmap=mpl.cm.PiYG_r, vmin=a, vmax=b)\n",
    "i_well = 4\n",
    "i_last = i_well + (nT-1)*p\n",
    "collections = pkg(axs[0,0], KG_ES  .T[i_well])\n",
    "collections = pkg(axs[0,1], KG_ES  .T[i_last])\n",
    "collections = pkg(axs[1,1], KG_EnKS.T[i_well])\n",
    "# Turn off EnKS/initial axis\n",
    "for s in axs[1,0].spines.values(): s.set_color(\"w\")\n",
    "axs[1,0].tick_params(colors=\"w\")\n",
    "\n",
    "axs[0,0].set_title(\"t=1\")\n",
    "axs[0,1].set_title(\"t=end\")\n",
    "axs[0,0].set_ylabel(\"ES\")\n",
    "axs[1,0].set_ylabel(\"EnKS\")\n",
    "for ax in axs.ravel():\n",
    "    ax.plot(*model.producers[i_well,:2], '*k',ms=10)\n",
    "fig.suptitle(f\"KG for a given well obs.\\n\"\n",
    "             \"Note how the impact is displaced in time.\")\n",
    "fig_colorbar(fig, collections)\n"
   ]
  },
  {
   "cell_type": "code",
   "execution_count": null,
   "metadata": {},
   "outputs": [],
   "source": [
    "fig, axs = freshfig(25,nrows=3,ncols=4,sharex=True,sharey=True)\n",
    "plot_realizations(axs,ES,\"ES\",vm)"
   ]
  },
  {
   "cell_type": "code",
   "execution_count": null,
   "metadata": {
    "scrolled": true
   },
   "outputs": [],
   "source": [
    "fig, axs = freshfig(26,nrows=3,ncols=4,sharex=True,sharey=True)\n",
    "plot_realizations(axs,EnKS,\"EnKS\",vm)"
   ]
  },
  {
   "cell_type": "code",
   "execution_count": null,
   "metadata": {},
   "outputs": [],
   "source": [
    "## EnKS production plot\n",
    "fig, ax = freshfig(35)\n",
    "tt = dt*(1+arange(nT))\n",
    "for iw, Ew in enumerate(1-np.moveaxis(array(EnKS_production),2,0)):\n",
    "    ax.plot(tt, Ew, color=hh_y[iw].get_color(), alpha=0.2)\n",
    "    \n",
    "## Forecast production from filter analysis\n",
    "Ef = E.copy()\n",
    "prodf = []\n",
    "\n",
    "for iT in range(nT):\n",
    "    # Forecast\n",
    "    Eo = np.zeros((N,p))\n",
    "    for n,xn in enumerate(Ef):\n",
    "        Ef[n],Eo[n] = model.simulate(1,xn,dt,dt_plot=None)\n",
    "    prodf.append(Eo)\n",
    "\n",
    "ttf = tt[-1] + dt*(1+arange(nT))\n",
    "for iw, Ew in enumerate(1-np.moveaxis(array(prodf),2,0)):\n",
    "    ax.plot(ttf, Ew, color=hh_y[iw].get_color(), alpha=0.2)\n",
    "\n",
    "ax.axvspan(ttf[0],ttf[-1], alpha=.1, color=\"b\")"
   ]
  }
 ],
 "metadata": {
  "kernelspec": {
   "display_name": "Python 3",
   "language": "python",
   "name": "python3"
  },
  "language_info": {
   "codemirror_mode": {
    "name": "ipython",
    "version": 3
   },
   "file_extension": ".py",
   "mimetype": "text/x-python",
   "name": "python",
   "nbconvert_exporter": "python",
   "pygments_lexer": "ipython3",
   "version": "3.7.7"
  }
 },
 "nbformat": 4,
 "nbformat_minor": 4
}
