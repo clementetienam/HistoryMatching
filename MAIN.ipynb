{
 "cells": [
  {
   "cell_type": "markdown",
   "id": "1d2f2c2b",
   "metadata": {},
   "source": [
    "# Tutorial on ensemble history matching and optimisation\n",
    "\n",
    "Copyright Patrick N. Raanes, NORCE, 2020.\n",
    "\n",
    "This (Jupyter/Python) notebook presents\n",
    "a tutorial on history matching (HM) using ensemble methods.\n",
    "\n",
    "This is a work in progress.\n",
    "Details may be lacking.\n",
    "Don't hesitate to send me an email with any questions you have."
   ]
  },
  {
   "cell_type": "markdown",
   "id": "e27a5bec",
   "metadata": {},
   "source": [
    "## Jupyter notebooks\n",
    "the format used for these tutorials.\n",
    "Notebooks combine **cells** of code (Python) with cells of text (markdown).\n",
    "The exercises in these tutorials only require light Python experience.\n",
    "For example, edit the cell below (double-click it),\n",
    "insert your name,\n",
    "and run it (press \"Run\" in the toolbar)."
   ]
  },
  {
   "cell_type": "code",
   "execution_count": null,
   "id": "1636bf3b",
   "metadata": {},
   "outputs": [],
   "source": [
    "name = \"Batman\"\n",
    "print(\"Hello world! I'm \" + name)"
   ]
  },
  {
   "cell_type": "markdown",
   "id": "e7bf8c4f",
   "metadata": {},
   "source": [
    "You will likely be more efficient if you know these\n",
    "**keyboard shortcuts** to interact with cells:\n",
    "\n",
    "| Navigate                      |    | Edit              |    | Exit           |    | Run                              |    | Run & go to next                  |\n",
    "| -------------                 | -- | ----------------- | -- | --------       | -- | -------                          | -- | -----------------                 |\n",
    "| <kbd>↓</kbd> and <kbd>↑</kbd> |    | <kbd>Enter</kbd>  |    | <kbd>Esc</kbd> |    | <kbd>Ctrl</kbd>+<kbd>Enter</kbd> |    | <kbd>Shift</kbd>+<kbd>Enter</kbd> |\n",
    "\n",
    "When you open a notebook it starts a **session (kernel/runtime)**\n",
    "of Python in the background.\n",
    "All of the Python code cells (in a given notebook) are connected\n",
    "(they use the same Python kernel and thus share variables, functions, and classes).\n",
    "Thus, the **order** in which you run the cells matters."
   ]
  },
  {
   "cell_type": "markdown",
   "id": "8e5cea51",
   "metadata": {},
   "source": [
    "One thing you must know is how to **restart** the Python session,\n",
    "which clears all of your variables, functions, etc,\n",
    "so that you can start over.\n",
    "Test this now by going through the top menu bar:\n",
    "`Kernel` → `Restart & Clear Output`.\n",
    "But rembember to run the above cell again!"
   ]
  },
  {
   "cell_type": "markdown",
   "id": "9730a86c",
   "metadata": {},
   "source": [
    "There is a huge amount of libraries available in **Python**,\n",
    "including the popular `scipy` (with `numpy` at its core) and `matplotlib` packages.\n",
    "These are imported (and abbreviated) as `sp`, `np`, and `mpl` and `plt`.\n",
    "Try them out by running the following, which illustrates some algebra\n",
    "using syntax reminiscent of Matlab."
   ]
  },
  {
   "cell_type": "code",
   "execution_count": null,
   "id": "1ea62e8f",
   "metadata": {},
   "outputs": [],
   "source": [
    "import numpy as np\n",
    "from matplotlib import pyplot as plt\n",
    "import mpl_setup\n",
    "mpl_setup.init()"
   ]
  },
  {
   "cell_type": "code",
   "execution_count": null,
   "id": "3a792ea9",
   "metadata": {},
   "outputs": [],
   "source": [
    "# Use numpy's arrays for vectors and matrices. Example constructions:\n",
    "a  = np.arange(10)  # Alternatively: np.array([0,1,2,3,4,5,6,7,8,9])\n",
    "Id = 2*np.eye(10)   # Alternatively: np.diag(2*np.ones(10))"
   ]
  },
  {
   "cell_type": "code",
   "execution_count": null,
   "id": "50d79d8b",
   "metadata": {},
   "outputs": [],
   "source": [
    "print(\"Indexing examples:\")\n",
    "print(\"a         =\", a)\n",
    "print(\"a[3]      =\", a[3])\n",
    "print(\"a[0:3]    =\", a[0:3])\n",
    "print(\"a[:3]     =\", a[:3])\n",
    "print(\"a[3:]     =\", a[3:])\n",
    "print(\"a[-1]     =\", a[-1])\n",
    "print(\"Id[:3,:3] =\", Id[:3, :3], sep=\"\\n\")"
   ]
  },
  {
   "cell_type": "code",
   "execution_count": null,
   "id": "4dd2d5bb",
   "metadata": {},
   "outputs": [],
   "source": [
    "print(\"\\nLinear algebra examples:\")\n",
    "print(\"100+a  =\", 100+a)\n",
    "print(\"Id@a   =\", Id@a)\n",
    "print(\"Id*a   =\", Id*a, sep=\"\\n\")"
   ]
  },
  {
   "cell_type": "code",
   "execution_count": null,
   "id": "03421900",
   "metadata": {},
   "outputs": [],
   "source": [
    "plt.title(\"Plotting example\")\n",
    "plt.ylabel(\"$i \\\\, x^2$\")\n",
    "for i in range(4):\n",
    "    plt.plot(i * a**2, label=\"i = %d\" % i)\n",
    "plt.legend();"
   ]
  },
  {
   "cell_type": "markdown",
   "id": "d91c1164",
   "metadata": {},
   "source": [
    "## Setup"
   ]
  },
  {
   "cell_type": "markdown",
   "id": "f52e1584",
   "metadata": {},
   "source": [
    "Run the following cells to import some tools..."
   ]
  },
  {
   "cell_type": "code",
   "execution_count": null,
   "id": "75c9d6f9",
   "metadata": {},
   "outputs": [],
   "source": [
    "from copy import deepcopy"
   ]
  },
  {
   "cell_type": "code",
   "execution_count": null,
   "id": "e8fcb27b",
   "metadata": {},
   "outputs": [],
   "source": [
    "import scipy.linalg as sla\n",
    "from matplotlib import ticker\n",
    "from mpl_tools.place import freshfig\n",
    "from numpy.random import randn\n",
    "from numpy import sqrt\n",
    "from struct_tools import DotDict as Dict\n",
    "from tqdm.auto import tqdm as progbar\n",
    "from IPython.display import display"
   ]
  },
  {
   "cell_type": "markdown",
   "id": "f2c79d70",
   "metadata": {},
   "source": [
    "and the model, ..."
   ]
  },
  {
   "cell_type": "code",
   "execution_count": null,
   "id": "760d586d",
   "metadata": {
    "lines_to_next_cell": 2
   },
   "outputs": [],
   "source": [
    "import geostat\n",
    "import simulator\n",
    "import simulator.plotting as plots\n",
    "from simulator import simulate\n",
    "from tools import RMS, RMS_all, center, mean0, pad0, svd0, inflate_ens"
   ]
  },
  {
   "cell_type": "code",
   "execution_count": null,
   "id": "c5718f2d",
   "metadata": {},
   "outputs": [],
   "source": [
    "plots.COORD_TYPE = \"absolute\"\n",
    "plt.rcParams['image.cmap'] = 'jet'"
   ]
  },
  {
   "cell_type": "markdown",
   "id": "6440a86e",
   "metadata": {},
   "source": [
    "... and initialize some data containers."
   ]
  },
  {
   "cell_type": "code",
   "execution_count": null,
   "id": "d6e09c20",
   "metadata": {},
   "outputs": [],
   "source": [
    "# Permeability\n",
    "perm = Dict()\n",
    "\n",
    "# Production (water saturation)\n",
    "prod = Dict(\n",
    "    past   = Dict(),\n",
    "    future = Dict(),\n",
    ")\n",
    "\n",
    "# Water saturation\n",
    "wsat = Dict(\n",
    "    initial = Dict(),\n",
    "    past    = Dict(),\n",
    "    future  = Dict(),\n",
    ")"
   ]
  },
  {
   "cell_type": "markdown",
   "id": "e52e36d6",
   "metadata": {},
   "source": [
    "Enable exact reproducibility by setting random generator seed."
   ]
  },
  {
   "cell_type": "code",
   "execution_count": null,
   "id": "a6832e8a",
   "metadata": {},
   "outputs": [],
   "source": [
    "seed = np.random.seed(4)  # very easy\n",
    "# seed = np.random.seed(5)  # hard\n",
    "# seed = np.random.seed(6)  # very easy\n",
    "# seed = np.random.seed(7)  # easy"
   ]
  },
  {
   "cell_type": "markdown",
   "id": "26e0c440",
   "metadata": {},
   "source": [
    "## Model and case specification\n",
    "The reservoir model, which takes up about 100 lines of python code, is a 2D, two-phase, immiscible, incompressible simulator using TPFA. It was translated from the matlab code here http://folk.ntnu.no/andreas/papers/ResSimMatlab.pdf"
   ]
  },
  {
   "cell_type": "code",
   "execution_count": null,
   "id": "c56947dc",
   "metadata": {
    "lines_to_next_cell": 1
   },
   "outputs": [],
   "source": [
    "model = simulator.ResSim(Nx=20, Ny=20, Lx=2, Ly=1)"
   ]
  },
  {
   "cell_type": "markdown",
   "id": "4eeea91c",
   "metadata": {},
   "source": [
    "#### Permeability sampling\n",
    "We will estimate the log permeability field.\n",
    "We parameterize the permeability parameters via some transform, which becomes part of the forward model. *If* we use the exponential, then we will we working with log-permeabilities. At any rate, the transform should be chosen so that the parameterized permeabilities are suited for ensemble methods, i.e. are distributed as a Gaussian.  But this consideration must be weighted against the fact that that nonlinearity (which is also difficult for ensemble methods) in the transform might add to the nonlinearity of the total/composite forward model.  However, since this is a synthetic case, we can freely choose *both* the distribution of the parameterized permeabilities, *and* the transform.  Here we use Gaussian fields, and a \"perturbed\" exponential function (to render the problem a little more complex)."
   ]
  },
  {
   "cell_type": "code",
   "execution_count": null,
   "id": "31f6ab7e",
   "metadata": {
    "lines_to_next_cell": 1
   },
   "outputs": [],
   "source": [
    "def sample_prior_perm(N=1):\n",
    "    lperms = geostat.gaussian_fields(model.mesh(), N, r=0.8)\n",
    "    return lperms"
   ]
  },
  {
   "cell_type": "code",
   "execution_count": null,
   "id": "eb3dc094",
   "metadata": {
    "lines_to_next_cell": 1
   },
   "outputs": [],
   "source": [
    "def perm_transf(x):\n",
    "    return .1 + np.exp(5*x)\n",
    "    # return 1000*np.exp(3*x)"
   ]
  },
  {
   "cell_type": "markdown",
   "id": "f1486212",
   "metadata": {},
   "source": [
    "Lastly, for any type of parameter, one typically has to write a \"setter\" function that takes the vector of paramter parameter values, and applies it to the model implementation. We could merge this functionality with `perm_transf` (and indead the \"setter\" function is part of the composite forward model) but it is convenient to separate implementation specifics from the mathematics going on in `perm_transf`."
   ]
  },
  {
   "cell_type": "code",
   "execution_count": null,
   "id": "ea31b375",
   "metadata": {
    "lines_to_next_cell": 1
   },
   "outputs": [],
   "source": [
    "def set_perm(model, log_perm_array):\n",
    "    \"\"\"Set perm. in model code. Duplicates the perm. values in x- and y- dir.\"\"\"\n",
    "    p = perm_transf(log_perm_array)\n",
    "    p = p.reshape(model.shape)\n",
    "    model.Gridded.K = np.stack([p, p])"
   ]
  },
  {
   "cell_type": "markdown",
   "id": "ed92a786",
   "metadata": {},
   "source": [
    "Now, let's sample the permeabilitiy of the (synthetic) truth."
   ]
  },
  {
   "cell_type": "code",
   "execution_count": null,
   "id": "b420aeb8",
   "metadata": {},
   "outputs": [],
   "source": [
    "perm.Truth = sample_prior_perm()\n",
    "set_perm(model, perm.Truth)"
   ]
  },
  {
   "cell_type": "markdown",
   "id": "d115f07a",
   "metadata": {},
   "source": [
    "#### Well specification\n",
    "We here specify the wells as point *sources* and *sinks*, giving their placement and flux.\n",
    "\n",
    "The boundary conditions are of the Dirichlet type, specifying zero flux. The source terms must therefore equal the sink terms. This is ensured by the `config_wells` function used below.\n",
    "\n",
    "The code below configures the wells on a grid. Try `print(wells)` to see how to easily specify another well configuration."
   ]
  },
  {
   "cell_type": "code",
   "execution_count": null,
   "id": "3c8cfb73",
   "metadata": {},
   "outputs": [],
   "source": [
    "wells = [.1, .9]\n",
    "wells = np.dstack(np.meshgrid(wells, wells)).reshape((-1, 2))\n",
    "rates = np.ones((len(wells), 1))  # ==> all wells use the same (constant) rate\n",
    "model.config_wells(\n",
    "    # Each row in `inj` and `prod` should be a tuple: (x, y, rate),\n",
    "    # where x, y ∈ (0, 1) and rate > 0.\n",
    "    inj  = [[0.50, 0.50, 1.00]],\n",
    "    prod = np.hstack((wells, rates)),\n",
    ");"
   ]
  },
  {
   "cell_type": "markdown",
   "id": "e53b541a",
   "metadata": {},
   "source": [
    "#### Plot true field"
   ]
  },
  {
   "cell_type": "code",
   "execution_count": null,
   "id": "8e01f7c0",
   "metadata": {
    "lines_to_next_cell": 2
   },
   "outputs": [],
   "source": [
    "fig, ax = freshfig(\"True perm. field\")\n",
    "# cs = plots.field(model, ax, perm.Truth)\n",
    "cs = plots.field(model, ax, perm_transf(perm.Truth),\n",
    "                 locator=ticker.LogLocator(), cmap=\"viridis\")\n",
    "plots.well_scatter(model, ax, model.producers, inj=False)\n",
    "plots.well_scatter(model, ax, model.injectors, inj=True)\n",
    "fig.colorbar(cs)\n",
    "plt.pause(.1)"
   ]
  },
  {
   "cell_type": "markdown",
   "id": "d8c4ef89",
   "metadata": {},
   "source": [
    "#### Define obs operator\n",
    "The data will consist in the water saturation of the production (at the well locations). I.e. there is no well model."
   ]
  },
  {
   "cell_type": "code",
   "execution_count": null,
   "id": "ce22b562",
   "metadata": {},
   "outputs": [],
   "source": [
    "obs_inds = [model.xy2ind(x, y) for (x, y, _) in model.producers]\n",
    "def obs(water_sat):\n",
    "    return [water_sat[i] for i in obs_inds]\n",
    "obs.length = len(obs_inds)"
   ]
  },
  {
   "cell_type": "markdown",
   "id": "9b4d0e19",
   "metadata": {},
   "source": [
    "#### Simulation to generate the synthetic truth evolution and data"
   ]
  },
  {
   "cell_type": "code",
   "execution_count": null,
   "id": "42a07392",
   "metadata": {},
   "outputs": [],
   "source": [
    "wsat.initial.Truth = np.zeros(model.M)\n",
    "T     = 1\n",
    "dt    = 0.025\n",
    "nTime = round(T/dt)\n",
    "(wsat.past.Truth,\n",
    " prod.past.Truth) = simulate(model.step, nTime, wsat.initial.Truth, dt, obs)"
   ]
  },
  {
   "cell_type": "markdown",
   "id": "83b5add8",
   "metadata": {},
   "source": [
    "##### Animation\n",
    "Run the code cells below to get an animation of the oil saturation evoluation.\n",
    "Injection (resp. production) wells are marked with triangles pointing down (resp. up)."
   ]
  },
  {
   "cell_type": "code",
   "execution_count": null,
   "id": "9f833e5c",
   "metadata": {
    "lines_to_next_cell": 2
   },
   "outputs": [],
   "source": [
    "%%capture\n",
    "animation = plots.dashboard(model, perm.Truth, wsat.past.Truth, prod.past.Truth);"
   ]
  },
  {
   "cell_type": "code",
   "execution_count": null,
   "id": "8c6f910d",
   "metadata": {},
   "outputs": [],
   "source": [
    "# Note: can take up to a minute to appear\n",
    "animation"
   ]
  },
  {
   "cell_type": "markdown",
   "id": "47c9a851",
   "metadata": {},
   "source": [
    "#### Noisy obs\n",
    "In reality, observations are never perfect. To account for this, we corrupt the observations by adding a bit of noise."
   ]
  },
  {
   "cell_type": "code",
   "execution_count": null,
   "id": "f9ac156c",
   "metadata": {
    "lines_to_next_cell": 2
   },
   "outputs": [],
   "source": [
    "prod.past.Noisy = prod.past.Truth.copy()\n",
    "nProd           = len(model.producers)  # num. of obs (each time)\n",
    "R               = 1e-3 * np.eye(nProd)\n",
    "for iT in range(nTime):\n",
    "    prod.past.Noisy[iT] += sqrt(R) @ randn(nProd)"
   ]
  },
  {
   "cell_type": "markdown",
   "id": "4ad0c37a",
   "metadata": {},
   "source": [
    "Plot of observations (and their noise):"
   ]
  },
  {
   "cell_type": "code",
   "execution_count": null,
   "id": "5851588d",
   "metadata": {},
   "outputs": [],
   "source": [
    "fig, ax = freshfig(\"Observations\")\n",
    "hh_y = plots.production1(ax, prod.past.Truth, obs=prod.past.Noisy)\n",
    "plt.pause(.1)"
   ]
  },
  {
   "cell_type": "markdown",
   "id": "a530a5eb",
   "metadata": {},
   "source": [
    "## Prior\n",
    "The prior ensemble is generated in the same manner as the (synthetic) truth, using the same mean and covariance.  Thus, the members are \"statistically indistinguishable\" to the truth. This assumption underlies ensemble methods."
   ]
  },
  {
   "cell_type": "code",
   "execution_count": null,
   "id": "182abea3",
   "metadata": {},
   "outputs": [],
   "source": [
    "N = 200\n",
    "perm.Prior = sample_prior_perm(N)"
   ]
  },
  {
   "cell_type": "code",
   "execution_count": null,
   "id": "b0969395",
   "metadata": {},
   "outputs": [],
   "source": [
    "# Note that field (before transformation) is Gaussian with (expected) mean 0 and variance 1.\n",
    "print(\"Prior mean:\", np.mean(perm.Prior))\n",
    "print(\"Prior var.:\", np.var(perm.Prior))"
   ]
  },
  {
   "cell_type": "markdown",
   "id": "20ebcaa1",
   "metadata": {},
   "source": [
    "Let us inspect the parameter values in the form of their histogram."
   ]
  },
  {
   "cell_type": "code",
   "execution_count": null,
   "id": "f30c1494",
   "metadata": {},
   "outputs": [],
   "source": [
    "fig, ax = freshfig(\"Perm. -- marginal distribution\", figsize=(1.3, .5), rel=1)\n",
    "for label, data in perm.items():\n",
    "\n",
    "    ax.hist(\n",
    "        perm_transf(data.ravel()),\n",
    "        perm_transf(np.linspace(-3, 3, 32)),\n",
    "        # \"Downscale\" ens counts by N. Necessary because `density` kw\n",
    "        # doesnt work \"correctly\" with log-scale.\n",
    "        weights = (np.ones(model.M*N)/N if label != \"Truth\" else None),\n",
    "        label=label, alpha=0.3)\n",
    "\n",
    "    ax.set(xscale=\"log\", xlabel=\"Permeability\", ylabel=\"Count\")\n",
    "    ax.legend();\n",
    "plt.pause(.1)"
   ]
  },
  {
   "cell_type": "markdown",
   "id": "ce481243",
   "metadata": {},
   "source": [
    "The above histogram should be Gaussian histogram if perm_transf is purely exponential:"
   ]
  },
  {
   "cell_type": "markdown",
   "id": "f4440d26",
   "metadata": {},
   "source": [
    "Below we can see some realizations (members) from the ensemble."
   ]
  },
  {
   "cell_type": "code",
   "execution_count": null,
   "id": "4a04c353",
   "metadata": {},
   "outputs": [],
   "source": [
    "plots.fields(model, plots.field, perm.Prior, \"Prior\");"
   ]
  },
  {
   "cell_type": "markdown",
   "id": "9baa02f9",
   "metadata": {},
   "source": [
    "#### Eigenvalue specturm\n",
    "In practice, of course, we would not be using an explicit `Cov` matrix when generating the prior ensemble, because it would be too large.  However, since this synthetic case in being made that way, let's inspect its spectrum."
   ]
  },
  {
   "cell_type": "code",
   "execution_count": null,
   "id": "0a5c24ad",
   "metadata": {},
   "outputs": [],
   "source": [
    "U, svals, VT = sla.svd(perm.Prior)\n",
    "ii = 1 + np.arange(len(svals))\n",
    "fig, ax = freshfig(\"Spectrum of true cov.\", figsize=(1.3, .5), rel=1)\n",
    "ax.loglog(ii, svals)\n",
    "# ax.semilogx(ii, svals)\n",
    "ax.grid(True, \"minor\", axis=\"x\")\n",
    "ax.grid(True, \"major\", axis=\"y\")\n",
    "ax.set(xlabel=\"eigenvalue #\", ylabel=\"variance\");\n",
    "plt.pause(.1)"
   ]
  },
  {
   "cell_type": "markdown",
   "id": "aa89b0b2",
   "metadata": {},
   "source": [
    "## Assimilation"
   ]
  },
  {
   "cell_type": "markdown",
   "id": "e57b1621",
   "metadata": {},
   "source": [
    "#### Exc (optional)\n",
    "Before going into iterative methods, we note that\n",
    "the ensemble smoother (ES) is favoured over the ensemble Kalman smoother (EnKS) for history matching. This may come as a surprise, because the EnKS processes the observations sequentially, like the ensemble Kalman filter (EnKF), not in the batch manner of the ES. Because sequential processing is more gradual, one would expect it to achieve better accuracy than batch approaches. However, the ES is preferred because the uncertainty in the state fields is often of less importance than the uncertainty in the parameter fields. More imperatively, (re)starting the simulators (e.g. ECLIPSE) from updated state fields (as well as parameter fields) is a troublesome affair; the fields may have become \"unphysical\" (or \"not realisable\") because of the ensemble update, which may hinder the simulator from producing meaningful output (it may crash, or have trouble converging). On the other hand, by going back to the parameter fields before geological modelling (using fast model update (FMU)) tends to yield more realistic parameter fields. Finally, since restarts tend to yield convergence issues in the simulator the following inequality is usually large.\n",
    "\n",
    "$$\n",
    "\\begin{align}\n",
    "\t\\max_n \\sum_{t}^{} T_t^n < \\sum_{t}^{} \\max_n T_t^n,\n",
    "\t\\label{eqn:max_sum_sum_max}\n",
    "\\end{align}\n",
    "$$\n",
    "skjervheim2011ensemble\n",
    "Here, $T_t^n$"
   ]
  },
  {
   "cell_type": "markdown",
   "id": "0702974e",
   "metadata": {},
   "source": [
    "#### Propagation\n",
    "Ensemble methods obtain observation-parameter sensitivities from the covariances of the ensemble run through the model. Note that this for-loop is \"embarrasingly parallelizable\", because each iterate is complete indepdendent (requires no communication) from the others."
   ]
  },
  {
   "cell_type": "code",
   "execution_count": null,
   "id": "ec9bc135",
   "metadata": {
    "lines_to_next_cell": 1
   },
   "outputs": [],
   "source": [
    "multiprocess = False  # multiprocessing?"
   ]
  },
  {
   "cell_type": "code",
   "execution_count": null,
   "id": "39727cb1",
   "metadata": {
    "lines_to_next_cell": 1
   },
   "outputs": [],
   "source": [
    "def forward_model(nTime, wsats0, perms, Q_prod=None, desc=\"En. forecast\"):\n",
    "    \"\"\"Run forward model, i.e. forecast. Input args should be ensembles.\n",
    "\n",
    "    The main work consts of running the reservoir simulator\n",
    "    for each realisation in the ensemble.\n",
    "    However, the simulator only inputs/outputs state variables,\n",
    "    so we also have to take the necessary steps to set the parameter values\n",
    "    (implicitly used by the simulator). Setting parameter values\n",
    "    is as much part of the forward model as running the simulator.\n",
    "    \"\"\"\n",
    "    # Compose ensemble\n",
    "    if Q_prod is None:\n",
    "        E = zip(wsats0, perms)\n",
    "    else:\n",
    "        E = zip(wsats0, perms, Q_prod)\n",
    "\n",
    "    def forecast1(x):\n",
    "        # Since some parameters are implemented not as input/output of the model,\n",
    "        # but as instance attributes, there is a risk (especially with multiprocessing)\n",
    "        # that the values that are set for one member overwrites the values\n",
    "        # that should be used by another member. We will do a deepcopy to avoid this.\n",
    "        # Alternatively, we can re-initialize the model each time.\n",
    "        model_n = deepcopy(model)\n",
    "\n",
    "        if Q_prod is None:\n",
    "            wsat0, perm = x\n",
    "            # Set ensemble\n",
    "            set_perm(model_n, perm)\n",
    "        else:\n",
    "            wsat0, perm, q_prod = x\n",
    "            # Set production rates\n",
    "            model_n.config_wells(\n",
    "                inj  = model_n.injectors,\n",
    "                prod = np.hstack((wells, q_prod[:, None])),\n",
    "            )\n",
    "            # Set ensemble\n",
    "            set_perm(model_n, perm)\n",
    "\n",
    "        # Simulate\n",
    "        s, p = simulate(model_n.step, nTime, wsat0, dt, obs, pbar=False)\n",
    "        return s, p\n",
    "\n",
    "    # Allocate\n",
    "    production = np.zeros((N, nTime, nProd))\n",
    "    saturation = np.zeros((N, nTime+1, model.M))\n",
    "\n",
    "    # Dispatch\n",
    "    if multiprocess:\n",
    "        import multiprocessing_on_dill as mpd\n",
    "        with mpd.Pool() as pool:\n",
    "            E = list(progbar(pool.imap(forecast1, E), total=N, desc=desc))\n",
    "        # Write\n",
    "        for n, member in enumerate(E):\n",
    "            saturation[n], production[n] = member\n",
    "\n",
    "    else:\n",
    "        for n, xn in enumerate(progbar(list(E), \"Members\")):\n",
    "            s, p = forecast1(xn)\n",
    "            # Write\n",
    "            saturation[n], production[n] = s, p\n",
    "\n",
    "    return saturation, production"
   ]
  },
  {
   "cell_type": "markdown",
   "id": "2da018fd",
   "metadata": {},
   "source": [
    "Note that the forward model not only takes an ensemble of permeability fields, but also an ensemble of initial water saturations. This is not because the initial saturations are uncertain (unknown); indeed, this case study assumes that it is perfectly known (i.e. equal to the true initial water saturation, which is a constant field of 0). Therefore, the initial water saturation is set to the true value for each member (giving it uncertainty 0)."
   ]
  },
  {
   "cell_type": "code",
   "execution_count": null,
   "id": "bec28cbd",
   "metadata": {},
   "outputs": [],
   "source": [
    "wsat.initial.Prior = np.tile(wsat.initial.Truth, (N, 1))"
   ]
  },
  {
   "cell_type": "markdown",
   "id": "ef173e62",
   "metadata": {},
   "source": [
    "So why does the forward_model take saturation as an input? Beacuse the posterior of this state (i.e. time-dependent) variable does depend on the method used for the conditioning, and will later be used to restart the simulations so as to generate future predictions."
   ]
  },
  {
   "cell_type": "markdown",
   "id": "60b309aa",
   "metadata": {},
   "source": [
    "Now we run the forward model."
   ]
  },
  {
   "cell_type": "code",
   "execution_count": null,
   "id": "90e9602e",
   "metadata": {
    "lines_to_next_cell": 1
   },
   "outputs": [],
   "source": [
    "(wsat.past.Prior,\n",
    " prod.past.Prior) = forward_model(nTime, wsat.initial.Prior, perm.Prior)"
   ]
  },
  {
   "cell_type": "markdown",
   "id": "ab4ad082",
   "metadata": {},
   "source": [
    "### Ensemble smoother"
   ]
  },
  {
   "cell_type": "code",
   "execution_count": null,
   "id": "575f8d1d",
   "metadata": {
    "lines_to_next_cell": 1
   },
   "outputs": [],
   "source": [
    "class ES_update:\n",
    "    \"\"\"Update/conditioning (Bayes' rule) of an ensemble, given a vector of obs.\n",
    "\n",
    "    Implementats the \"ensemble smoother\" (ES) algorithm,\n",
    "    with \"perturbed observations\".\n",
    "    NB: obs_err_cov is treated as diagonal. Alternative: use `sla.sqrtm`.\n",
    "\n",
    "    Why have we chosen to use a class (and not a function)?\n",
    "    Because this allows storing `KGdY`, for later use.\n",
    "    This \"on-the-fly\" application follows directly from state-augmentation formalism.\n",
    "\n",
    "    NB: some of these formulea appear transposed, and reversed,\n",
    "    compared to (EnKF) literature standards. The reason is that\n",
    "    we stack the members as rows instead of the conventional columns.\n",
    "    Rationale: https://nansencenter.github.io/DAPPER/dapper/index.html#conventions\n",
    "    \"\"\"\n",
    "\n",
    "    def __init__(self, obs_ens, observation, obs_err_cov):\n",
    "        \"\"\"Prepare the update.\"\"\"\n",
    "        Y           = mean0(obs_ens)\n",
    "        obs_cov     = obs_err_cov*(N-1) + Y.T@Y\n",
    "        obs_pert    = randn(N, len(observation)) @ sqrt(obs_err_cov)\n",
    "        innovations = observation - (obs_ens + obs_pert)\n",
    "\n",
    "        # (pre-) Kalman gain * Innovations\n",
    "        # Also called the X5 matrix by Evensen'2003.\n",
    "        self.KGdY = innovations @ sla.pinv2(obs_cov) @ Y.T\n",
    "\n",
    "    def __call__(self, E):\n",
    "        \"\"\"Do the update.\"\"\"\n",
    "        return E + self.KGdY @ mean0(E)"
   ]
  },
  {
   "cell_type": "code",
   "execution_count": null,
   "id": "c1c75cc2",
   "metadata": {},
   "outputs": [],
   "source": [
    "# #### Update\n",
    "ES = ES_update(\n",
    "    obs_ens     = prod.past.Prior.reshape((N, -1)),\n",
    "    observation = prod.past.Noisy.reshape(-1),\n",
    "    obs_err_cov = sla.block_diag(*[R]*nTime),\n",
    ")"
   ]
  },
  {
   "cell_type": "code",
   "execution_count": null,
   "id": "9f5b36f1",
   "metadata": {},
   "outputs": [],
   "source": [
    "# Apply update\n",
    "perm.ES = ES(perm.Prior)"
   ]
  },
  {
   "cell_type": "markdown",
   "id": "fb276134",
   "metadata": {},
   "source": [
    "#### Plot ES\n",
    "Let's plot the updated, initial ensemble."
   ]
  },
  {
   "cell_type": "code",
   "execution_count": null,
   "id": "81e25718",
   "metadata": {
    "lines_to_next_cell": 1
   },
   "outputs": [],
   "source": [
    "plots.fields(model, plots.field, perm.ES, \"ES (posterior)\");"
   ]
  },
  {
   "cell_type": "markdown",
   "id": "7e73f69c",
   "metadata": {},
   "source": [
    "We will see some more diagnostics later."
   ]
  },
  {
   "cell_type": "markdown",
   "id": "fb643fec",
   "metadata": {},
   "source": [
    "### Iterative ensemble smoother\n",
    "The following is (almost) all that distinguishes all of the fully-Bayesian iterative ensemble smoothers in the literature."
   ]
  },
  {
   "cell_type": "code",
   "execution_count": null,
   "id": "f2f08f39",
   "metadata": {
    "lines_to_next_cell": 1
   },
   "outputs": [],
   "source": [
    "def iES_flavours(w, T, Y, Y0, dy, Cowp, za, N, nIter, itr, MDA, flavour):\n",
    "    N1 = N - 1\n",
    "    Cow1 = Cowp(1.0)\n",
    "\n",
    "    if MDA:  # View update as annealing (progressive assimilation).\n",
    "        Cow1 = Cow1 @ T  # apply previous update\n",
    "        dw = dy @ Y.T @ Cow1\n",
    "        if 'PertObs' in flavour:   # == \"ES-MDA\". By Emerick/Reynolds\n",
    "            D   = mean0(randn(*Y.shape)) * sqrt(nIter)\n",
    "            T  -= (Y + D) @ Y.T @ Cow1\n",
    "        elif 'Sqrt' in flavour:    # == \"ETKF-ish\". By Raanes\n",
    "            T   = Cowp(0.5) * sqrt(za) @ T\n",
    "        elif 'Order1' in flavour:  # == \"DEnKF-ish\". By Emerick\n",
    "            T  -= 0.5 * Y @ Y.T @ Cow1\n",
    "        Tinv = np.eye(N)  # [as initialized] coz MDA does not de-condition.\n",
    "\n",
    "    else:  # View update as Gauss-Newton optimzt. of log-posterior.\n",
    "        grad  = Y0@dy - w*za                  # Cost function gradient\n",
    "        dw    = grad@Cow1                     # Gauss-Newton step\n",
    "        # ETKF-ish\". By Bocquet/Sakov.\n",
    "        if 'Sqrt' in flavour:\n",
    "            # Sqrt-transforms\n",
    "            T     = Cowp(0.5) * sqrt(N1)\n",
    "            Tinv  = Cowp(-.5) / sqrt(N1)\n",
    "            # Tinv saves time [vs tinv(T)] when Nx<N\n",
    "        # \"EnRML\". By Oliver/Chen/Raanes/Evensen/Stordal.\n",
    "        elif 'PertObs' in flavour:\n",
    "            if itr == 0:\n",
    "                D = mean0(randn(*Y.shape))\n",
    "                iES_flavours.D = D\n",
    "            else:\n",
    "                D = iES_flavours.D\n",
    "            gradT = -(Y+D)@Y0.T + N1*(np.eye(N) - T)\n",
    "            T     = T + gradT@Cow1\n",
    "            # Tinv= tinv(T, threshold=N1)  # unstable\n",
    "            Tinv  = sla.inv(T+1)           # the +1 is for stability.\n",
    "        # \"DEnKF-ish\". By Raanes.\n",
    "        elif 'Order1' in flavour:\n",
    "            # Included for completeness; does not make much sense.\n",
    "            gradT = -0.5*Y@Y0.T + N1*(np.eye(N) - T)\n",
    "            T     = T + gradT@Cow1\n",
    "            Tinv  = sla.pinv2(T)\n",
    "\n",
    "    return dw, T, Tinv"
   ]
  },
  {
   "cell_type": "markdown",
   "id": "d5d54053",
   "metadata": {},
   "source": [
    "This outer function loops through the iterations, forecasting, de/re-composing the ensemble, performing the linear regression, validating step, and making statistics."
   ]
  },
  {
   "cell_type": "code",
   "execution_count": null,
   "id": "f0be5215",
   "metadata": {},
   "outputs": [],
   "source": [
    "def iES(ensemble, observation, obs_err_cov,\n",
    "        flavour=\"Sqrt\", MDA=False, bundle=False,\n",
    "        stepsize=1, nIter=10, wtol=1e-4):\n",
    "\n",
    "    E = ensemble\n",
    "    N = len(E)\n",
    "    N1 = N - 1\n",
    "    Rm12T = np.diag(sqrt(1/np.diag(obs_err_cov)))  # TODO?\n",
    "\n",
    "    stats = Dict()\n",
    "    stats.J_lklhd  = np.full(nIter, np.nan)\n",
    "    stats.J_prior  = np.full(nIter, np.nan)\n",
    "    stats.J_postr  = np.full(nIter, np.nan)\n",
    "    stats.rmse     = np.full(nIter, np.nan)\n",
    "    stats.stepsize = np.full(nIter, np.nan)\n",
    "    stats.dw       = np.full(nIter, np.nan)\n",
    "\n",
    "    if bundle:\n",
    "        if isinstance(bundle, bool):\n",
    "            EPS = 1e-4  # Sakov/Boc use T=EPS*eye(N), with EPS=1e-4, but I ...\n",
    "        else:\n",
    "            EPS = bundle\n",
    "    else:\n",
    "        EPS = 1.0  # ... prefer using  T=EPS*T, yielding a conditional cloud shape\n",
    "\n",
    "    # Init ensemble decomposition.\n",
    "    X0, x0 = center(E)    # Decompose ensemble.\n",
    "    w      = np.zeros(N)  # Control vector for the mean state.\n",
    "    T      = np.eye(N)    # Anomalies transform matrix.\n",
    "    Tinv   = np.eye(N)\n",
    "    # Explicit Tinv [instead of tinv(T)] allows for merging MDA code\n",
    "    # with iEnKS/EnRML code, and flop savings in 'Sqrt' case.\n",
    "\n",
    "    for itr in range(nIter):\n",
    "        # Reconstruct smoothed ensemble.\n",
    "        E = x0 + (w + EPS*T)@X0\n",
    "        stats.rmse[itr] = RMS(perm.Truth, E).rmse\n",
    "\n",
    "        # Forecast.\n",
    "        E_state, E_obs = forward_model(nTime, wsat.initial.Prior, E, desc=f\"Iteration {itr}\")\n",
    "        E_obs = E_obs.reshape((N, -1))\n",
    "\n",
    "        # Undo the bundle scaling of ensemble.\n",
    "        if EPS != 1.0:\n",
    "            E     = inflate_ens(E, 1/EPS)\n",
    "            E_obs = inflate_ens(E_obs, 1/EPS)\n",
    "\n",
    "        # Prepare analysis.Ç\n",
    "        y      = observation        # Get current obs.\n",
    "        Y, xo  = center(E_obs)      # Get obs {anomalies, mean}.\n",
    "        dy     = (y - xo) @ Rm12T   # Transform obs space.\n",
    "        Y      = Y        @ Rm12T   # Transform obs space.\n",
    "        Y0     = Tinv @ Y           # \"De-condition\" the obs anomalies.\n",
    "\n",
    "        # Set \"cov normlzt fctr\" za (\"effective ensemble size\")\n",
    "        # => pre_infl^2 = (N-1)/za.\n",
    "        za = N1\n",
    "        if MDA:\n",
    "            # inflation (factor: nIter) of the ObsErrCov.\n",
    "            za *= nIter\n",
    "\n",
    "        # Compute Cowp: the (approx) posterior cov. of w\n",
    "        # (estiamted at this iteration), raised to some power.\n",
    "        V, s, UT = svd0(Y0)\n",
    "        def Cowp(expo): return (V * (pad0(s**2, N) + za)**-expo) @ V.T\n",
    "\n",
    "        # TODO: NB: these stats are only valid for Sqrt\n",
    "        stat2 = Dict(\n",
    "            J_prior = w@w * N1,\n",
    "            J_lklhd = dy@dy,\n",
    "        )\n",
    "        # J_posterior is sum of the other two\n",
    "        stat2.J_postr = stat2.J_prior + stat2.J_lklhd\n",
    "        # Take root, insert for [itr]:\n",
    "        for name in stat2:\n",
    "            stats[name][itr] = sqrt(stat2[name])\n",
    "\n",
    "        # Accept previous increment? ...\n",
    "        if (not MDA) and itr > 0 and stats.J_postr[itr] > np.nanmin(stats.J_postr):\n",
    "            # ... No. Restore previous ensemble & lower the stepsize (dont compute new increment).\n",
    "            stepsize   /= 10\n",
    "            w, T, Tinv  = old  # noqa\n",
    "        else:\n",
    "            # ... Yes. Store this ensemble, boost the stepsize, and compute new increment.\n",
    "            old         = w, T, Tinv\n",
    "            stepsize   *= 2\n",
    "            stepsize    = min(1, stepsize)\n",
    "            dw, T, Tinv = iES_flavours(w, T, Y, Y0, dy, Cowp, za, N, nIter, itr, MDA, flavour)\n",
    "\n",
    "        stats.      dw[itr] = dw@dw / N\n",
    "        stats.stepsize[itr] = stepsize\n",
    "\n",
    "        # Step\n",
    "        w = w + stepsize*dw\n",
    "\n",
    "        if stepsize * np.sqrt(dw@dw/N) < wtol:\n",
    "            break\n",
    "\n",
    "    stats.nIter = itr + 1\n",
    "\n",
    "    if not MDA:\n",
    "        # The last step (dw, T) must be discarded,\n",
    "        # because it cannot be validated without re-running the model.\n",
    "        w, T, Tinv  = old\n",
    "\n",
    "    # Reconstruct the ensemble.\n",
    "    E = x0 + (w+T)@X0\n",
    "\n",
    "    return E, stats"
   ]
  },
  {
   "cell_type": "markdown",
   "id": "febefcb8",
   "metadata": {},
   "source": [
    "#### Apply the iES"
   ]
  },
  {
   "cell_type": "code",
   "execution_count": null,
   "id": "91ff1a36",
   "metadata": {
    "lines_to_next_cell": 2
   },
   "outputs": [],
   "source": [
    "perm.iES, stats_iES = iES(\n",
    "    ensemble    = perm.Prior,\n",
    "    observation = prod.past.Noisy.reshape(-1),\n",
    "    obs_err_cov = sla.block_diag(*[R]*nTime),\n",
    "    flavour=\"Sqrt\", MDA=False, bundle=False, stepsize=1,\n",
    ")"
   ]
  },
  {
   "cell_type": "markdown",
   "id": "a32827a9",
   "metadata": {},
   "source": [
    "#### Plot iES\n",
    "Let's plot the updated, initial ensemble."
   ]
  },
  {
   "cell_type": "code",
   "execution_count": null,
   "id": "ce05013d",
   "metadata": {},
   "outputs": [],
   "source": [
    "plots.fields(model, plots.field, perm.iES, \"iES (posterior)\");"
   ]
  },
  {
   "cell_type": "markdown",
   "id": "bfcd91c7",
   "metadata": {},
   "source": [
    "The following plots the cost function(s) together with the error compared to the true (pre-)perm field as a function of the iteration number. Note that the relationship between the (total, i.e. posterior) cost function  and the RMSE is not necessarily monotonic. Re-running the experiments with a different seed is instructive. It may be observed that the iterations are not always very successful."
   ]
  },
  {
   "cell_type": "code",
   "execution_count": null,
   "id": "28a58da6",
   "metadata": {},
   "outputs": [],
   "source": [
    "fig, ax = freshfig(\"iES Objective function\")\n",
    "ls = dict(J_prior=\":\", J_lklhd=\"--\", J_postr=\"-\")\n",
    "for name, J in stats_iES.items():\n",
    "    try:\n",
    "        ax.plot(J, color=\"b\", label=name.split(\"J_\")[1], ls=ls[name])\n",
    "    except IndexError:\n",
    "        pass\n",
    "ax.set_xlabel(\"iteration\")\n",
    "ax.set_ylabel(\"RMS mismatch\", color=\"b\")\n",
    "ax.tick_params(axis='y', labelcolor=\"b\")\n",
    "ax.legend()\n",
    "ax2 = ax.twinx()  # axis for rmse\n",
    "ax2.set_ylabel('RMS error', color=\"r\")\n",
    "ax2.plot(stats_iES.rmse, color=\"r\")\n",
    "ax2.tick_params(axis='y', labelcolor=\"r\")\n",
    "plt.pause(.1)"
   ]
  },
  {
   "cell_type": "markdown",
   "id": "76b12ef4",
   "metadata": {},
   "source": [
    "### Diagnostics\n",
    "In terms of root-mean-square error (RMSE), the ES is expected to improve on the prior. The \"expectation\" wording indicates that this is true on average, but not always. To be specific, it means that it is guaranteed to hold true if the RMSE is calculated for infinitely many experiments (each time simulating a new synthetic truth and observations from the prior). The reason for this is that the ES uses the Kalman update, which is the BLUE (best linear unbiased estimate), and \"best\" means that the variance must get reduced. However, note that this requires the ensemble to be infinitely big, which it most certainly is not in our case. Therefore, we do not need to be very unlucky to observe that the RMSE has actually increased. Despite this, as we will see later, the data match might yield a different conclusions concerning the utility of the update."
   ]
  },
  {
   "cell_type": "code",
   "execution_count": null,
   "id": "4e8d97f5",
   "metadata": {},
   "outputs": [],
   "source": [
    "print(\"Stats vs. true field\")\n",
    "RMS_all(perm, vs=\"Truth\")"
   ]
  },
  {
   "cell_type": "markdown",
   "id": "ada437f5",
   "metadata": {},
   "source": [
    "### Plot of means\n",
    "Let's plot mean fields.\n",
    "\n",
    "NB: Caution! Mean fields are liable to smoother than the truth. This is a phenomenon familiar from geostatistics (e.g. Kriging). As such, their importance must not be overstated (they're just one esitmator out of many). Instead, whenever a decision is to be made, all of the members should be included in the decision-making process. This does not mean that you must eyeball each field, but that decision analyses should be based on expected values with respect to ensembles."
   ]
  },
  {
   "cell_type": "code",
   "execution_count": null,
   "id": "e85fd4e4",
   "metadata": {},
   "outputs": [],
   "source": [
    "perm._means = Dict((k, perm[k].mean(axis=0)) for k in perm if not k.startswith(\"_\"))"
   ]
  },
  {
   "cell_type": "code",
   "execution_count": null,
   "id": "12e54053",
   "metadata": {},
   "outputs": [],
   "source": [
    "plots.fields(model, plots.field, perm._means, \"Truth and mean fields.\");"
   ]
  },
  {
   "cell_type": "markdown",
   "id": "8d542ba5",
   "metadata": {},
   "source": [
    "### Past production (data mismatch)\n",
    "In synthetic experiments such as this one, is is instructive to computing the \"error\": the difference/mismatch of the (supposedly) unknown parameters and the truth.  Of course, in real life, the truth is not known.  Moreover, at the end of the day, we mainly care about production rates.  Therefore, let us now compute the \"residual\" (i.e. the mismatch between predicted and true *observations*), which we get from the predicted production \"profiles\"."
   ]
  },
  {
   "cell_type": "code",
   "execution_count": null,
   "id": "786c600c",
   "metadata": {},
   "outputs": [],
   "source": [
    "(wsat.past.ES,\n",
    " prod.past.ES) = forward_model(nTime, wsat.initial.Prior, perm.ES)"
   ]
  },
  {
   "cell_type": "code",
   "execution_count": null,
   "id": "fff13859",
   "metadata": {
    "lines_to_next_cell": 1
   },
   "outputs": [],
   "source": [
    "(wsat.past.iES,\n",
    " prod.past.iES) = forward_model(nTime, wsat.initial.Prior, perm.iES)"
   ]
  },
  {
   "cell_type": "markdown",
   "id": "fcbbe564",
   "metadata": {},
   "source": [
    "We can also apply the ES update directly to the production data of the prior, which doesn't require running the model again (in contrast to what we had to do immediately above). Let us try that as well."
   ]
  },
  {
   "cell_type": "code",
   "execution_count": null,
   "id": "4b2ad8d9",
   "metadata": {
    "lines_to_next_cell": 1
   },
   "outputs": [],
   "source": [
    "def with_flattening(fun):\n",
    "    \"\"\"Redefine `fun` so that it first flattens the input.\"\"\"\n",
    "    def fun2(xx):\n",
    "        shape = xx.shape\n",
    "        xx = xx.reshape((shape[0], -1))\n",
    "        yy = fun(xx)\n",
    "        return yy.reshape(shape)\n",
    "    return fun2"
   ]
  },
  {
   "cell_type": "code",
   "execution_count": null,
   "id": "b2bc175e",
   "metadata": {
    "lines_to_next_cell": 2
   },
   "outputs": [],
   "source": [
    "prod.past.ES0 = with_flattening(ES)(prod.past.Prior)"
   ]
  },
  {
   "cell_type": "markdown",
   "id": "5b438bae",
   "metadata": {},
   "source": [
    "Plot them all together:"
   ]
  },
  {
   "cell_type": "code",
   "execution_count": null,
   "id": "e473abe1",
   "metadata": {},
   "outputs": [],
   "source": [
    "v = plots.productions(prod.past, \"Past\")\n",
    "display(v)"
   ]
  },
  {
   "cell_type": "markdown",
   "id": "a97040b4",
   "metadata": {},
   "source": [
    "#### RMS summary"
   ]
  },
  {
   "cell_type": "code",
   "execution_count": null,
   "id": "dbb3a465",
   "metadata": {},
   "outputs": [],
   "source": [
    "print(\"Stats vs. past production (i.e. NOISY observations)\")\n",
    "RMS_all(prod.past, vs=\"Noisy\")"
   ]
  },
  {
   "cell_type": "markdown",
   "id": "1a13e5a1",
   "metadata": {
    "lines_to_next_cell": 2
   },
   "source": [
    "Note that the data mismatch is significantly reduced. This may be the case even if the updated permeability field did not have a reduced rmse (overall, relative to that of the prior prior). The \"direct\" forecast (essentially just linear regression) may achieve even lower rmse, but generally, less realistic production plots."
   ]
  },
  {
   "cell_type": "markdown",
   "id": "0dc38dbb",
   "metadata": {},
   "source": [
    "##### Comment on prior\n",
    "Note that the prior \"surrounds\" the data. This the likely situation in our synthetic case, where the truth was generated by the same random draw process as the ensemble.\n",
    "\n",
    "In practice, this is often not the case. If so, you might want to go back to your geologists and tell them that something is amiss. You should then produce a revised prior with better properties.\n",
    "\n",
    "Note: the above instructions sound like statistical heresy. We are using the data twice over (on the prior, and later to update/condition the prior). However, this is justified to the extent that prior information is difficult to quantify and encode. Too much prior adaptation, however, and you risk overfitting! Ineed, it is a delicate matter."
   ]
  },
  {
   "cell_type": "markdown",
   "id": "a22fc79d",
   "metadata": {},
   "source": [
    "##### Comment on posterior\n",
    "If the assumptions (statistical indistinguishability, Gaussianity) are not too far off, then the ensemble posteriors (ES, EnKS, ES0) should also surround the data, but with a tighter fit."
   ]
  },
  {
   "cell_type": "markdown",
   "id": "51022f58",
   "metadata": {},
   "source": [
    "## Prediction\n",
    "We now prediction the future production (and saturation fields) by forecasting using the (updated) estimates."
   ]
  },
  {
   "cell_type": "code",
   "execution_count": null,
   "id": "f2fce795",
   "metadata": {},
   "outputs": [],
   "source": [
    "print(\"Future/prediction\")"
   ]
  },
  {
   "cell_type": "code",
   "execution_count": null,
   "id": "41d1cd57",
   "metadata": {},
   "outputs": [],
   "source": [
    "(wsat.future.Truth,\n",
    " prod.future.Truth) = simulate(model.step, nTime, wsat.past.Truth[-1], dt, obs)"
   ]
  },
  {
   "cell_type": "code",
   "execution_count": null,
   "id": "9c32af3b",
   "metadata": {},
   "outputs": [],
   "source": [
    "(wsat.future.Prior,\n",
    " prod.future.Prior) = forward_model(nTime, wsat.past.Prior[:, -1, :], perm.Prior)"
   ]
  },
  {
   "cell_type": "code",
   "execution_count": null,
   "id": "30d17f34",
   "metadata": {},
   "outputs": [],
   "source": [
    "(wsat.future.ES,\n",
    " prod.future.ES) = forward_model(nTime, wsat.past.ES[:, -1, :], perm.ES)"
   ]
  },
  {
   "cell_type": "code",
   "execution_count": null,
   "id": "1a55f824",
   "metadata": {},
   "outputs": [],
   "source": [
    "(wsat.future.iES,\n",
    " prod.future.iES) = forward_model(nTime, wsat.past.iES[:, -1, :], perm.iES)"
   ]
  },
  {
   "cell_type": "code",
   "execution_count": null,
   "id": "6e8f8c0a",
   "metadata": {},
   "outputs": [],
   "source": [
    "prod.future.ES0 = with_flattening(ES)(prod.future.Prior)"
   ]
  },
  {
   "cell_type": "markdown",
   "id": "700f6489",
   "metadata": {},
   "source": [
    "#### Plot future production"
   ]
  },
  {
   "cell_type": "code",
   "execution_count": null,
   "id": "ca4f1f39",
   "metadata": {},
   "outputs": [],
   "source": [
    "v = plots.productions(prod.future, \"Future\");\n",
    "display(v)"
   ]
  },
  {
   "cell_type": "code",
   "execution_count": null,
   "id": "f8fc23d8",
   "metadata": {
    "lines_to_next_cell": 1
   },
   "outputs": [],
   "source": [
    "print(\"Stats vs. (supposedly unknown) future production\")\n",
    "RMS_all(prod.future, vs=\"Truth\")"
   ]
  },
  {
   "cell_type": "markdown",
   "id": "c43498d9",
   "metadata": {},
   "source": [
    "## EnOpt"
   ]
  },
  {
   "cell_type": "markdown",
   "id": "43026311",
   "metadata": {},
   "source": [
    "This section is still in construction. There are many details missing."
   ]
  },
  {
   "cell_type": "markdown",
   "id": "07a23967",
   "metadata": {},
   "source": [
    "Cost function definition: total oil from production wells. This cost function takes for an ensemble of (wsat, perm) and controls (Q_prod) and outputs the corresponding ensemble of total oil productions."
   ]
  },
  {
   "cell_type": "code",
   "execution_count": null,
   "id": "a680c6a0",
   "metadata": {
    "lines_to_next_cell": 1
   },
   "outputs": [],
   "source": [
    "def total_oil(E, Eu):\n",
    "    wsat, perm = E\n",
    "    wsat, prod = forward_model(nTime, wsat, perm, Q_prod=Eu)\n",
    "    return np.sum(prod, axis=(1, 2))"
   ]
  },
  {
   "cell_type": "markdown",
   "id": "beaa4157",
   "metadata": {},
   "source": [
    "Define step modulator by adding momentum to vanilla gradient descent."
   ]
  },
  {
   "cell_type": "code",
   "execution_count": null,
   "id": "8957ded5",
   "metadata": {
    "lines_to_next_cell": 1
   },
   "outputs": [],
   "source": [
    "def GDM(beta1=0.9):\n",
    "    \"\"\"Gradient descent with (historical) momentum.\"\"\"\n",
    "    grad1 = 0\n",
    "\n",
    "    def set_historical(g):\n",
    "        nonlocal grad1\n",
    "        grad1 = beta1*grad1 + (1-beta1)*g\n",
    "\n",
    "    def step(g):\n",
    "        set_historical(g)\n",
    "        return grad1\n",
    "\n",
    "    return step"
   ]
  },
  {
   "cell_type": "markdown",
   "id": "a2d677c4",
   "metadata": {},
   "source": [
    "Define EnOpt"
   ]
  },
  {
   "cell_type": "code",
   "execution_count": null,
   "id": "158183e1",
   "metadata": {
    "lines_to_next_cell": 1
   },
   "outputs": [],
   "source": [
    "def EnOpt(wsats0, perms, u, C12, stepsize=1, nIter=10):\n",
    "    N = len(wsats0)\n",
    "    E = wsats0, perms\n",
    "\n",
    "    stepper = GDM()\n",
    "\n",
    "    print(\"Initial controls:\", u)\n",
    "    J = total_oil(E, np.tile(u, (N, 1))).mean()\n",
    "    print(\"Total oil, averaged, initial: %.3f\" % J)\n",
    "\n",
    "    for _itr in progbar(range(nIter), desc=\"EnOpt\"):\n",
    "        Eu = u + randn(N, len(u)) @ C12.T\n",
    "        Eu = Eu.clip(1e-5)\n",
    "\n",
    "        Ej = total_oil(E, Eu)\n",
    "        # print(\"Approx. total oil, average: %.3f\"%Ej.mean())\n",
    "\n",
    "        Xu = mean0(Eu)\n",
    "        Xj = mean0(Ej)\n",
    "\n",
    "        G  = Xj.T @ Xu / (N-1)\n",
    "\n",
    "        du = stepper(G)\n",
    "        u  = u + stepsize*du\n",
    "        u  = u.clip(1e-5)\n",
    "\n",
    "    print(\"Final controls:\", u)\n",
    "    J = total_oil(E, np.tile(u, (N, 1))).mean()\n",
    "    print(\"Total oil, averaged, final: %.3f\" % J)\n",
    "    return u"
   ]
  },
  {
   "cell_type": "markdown",
   "id": "5327856c",
   "metadata": {},
   "source": [
    "Run EnOpt"
   ]
  },
  {
   "cell_type": "code",
   "execution_count": null,
   "id": "1ede9d2e",
   "metadata": {},
   "outputs": [],
   "source": [
    "# u0  = model.producers[:, 2]\n",
    "u0  = np.random.rand(nProd)\n",
    "u0 /= sum(u0)\n",
    "C12 = 0.03 * np.eye(nProd)\n",
    "u   = EnOpt(wsat.past.ES[:, -1, :], perm.ES, u0, C12, stepsize=10)\n",
    "# u   = EnOpt(wsat.past.iES[:, -1, :], perm.iES, u0, C12, stepsize=10)"
   ]
  }
 ],
 "metadata": {
  "jupytext": {
   "cell_metadata_filter": "-all",
   "encoding": "# -*- coding: utf-8 -*-",
   "formats": "auto:light,ipynb",
   "main_language": "python",
   "notebook_metadata_filter": "-all"
  },
  "kernelspec": {
   "display_name": "Python 3",
   "language": "python",
   "name": "python3"
  },
  "language_info": {
   "codemirror_mode": {
    "name": "ipython",
    "version": 3
   },
   "file_extension": ".py",
   "mimetype": "text/x-python",
   "name": "python",
   "nbconvert_exporter": "python",
   "pygments_lexer": "ipython3",
   "version": "3.7.10"
  }
 },
 "nbformat": 4,
 "nbformat_minor": 5
}
