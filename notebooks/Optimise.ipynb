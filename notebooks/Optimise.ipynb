{
 "cells": [
  {
   "cell_type": "markdown",
   "id": "34513a2d",
   "metadata": {},
   "source": [
    "# Production optimisation with ensembles – an interactive tutorial\n",
    "\n",
    "Copyright Patrick N. Raanes, NORCE, 2023.\n",
    "\n",
    "This is a tutorial on production optimisation using ensemble methods.\n",
    "Please also have a look at the [history matching (HM) tutorial](HistoryMatch.ipynb)\n",
    "for an introduction to Python, Jupyter notebooks, and the reservoir simulator."
   ]
  },
  {
   "cell_type": "markdown",
   "id": "81d5ca1b",
   "metadata": {},
   "source": [
    "#### Install\n",
    "If you're on **Google Colab**, run the cell below to install the requirements.\n",
    "Otherwise (and assuming you have done the installation described in the README),\n",
    "you can skip/delete this cell."
   ]
  },
  {
   "cell_type": "code",
   "execution_count": null,
   "id": "845b37c5",
   "metadata": {},
   "outputs": [],
   "source": [
    "remote = \"https://raw.githubusercontent.com/patnr/HistoryMatching\"\n",
    "!wget -qO- {remote}/master/colab_bootstrap.sh | bash -s"
   ]
  },
  {
   "cell_type": "markdown",
   "id": "ff3a8dc1",
   "metadata": {},
   "source": [
    "#### Imports"
   ]
  },
  {
   "cell_type": "code",
   "execution_count": null,
   "id": "cbda0ba3",
   "metadata": {
    "tags": []
   },
   "outputs": [],
   "source": [
    "import copy\n",
    "from dataclasses import dataclass\n",
    "\n",
    "import numpy as np\n",
    "import numpy.random as rnd\n",
    "import TPFA_ResSim as simulator\n",
    "\n",
    "from tools import geostat, plotting, utils\n",
    "from tools.utils import center, apply, progbar, mesh2list"
   ]
  },
  {
   "cell_type": "markdown",
   "id": "5cfb6217",
   "metadata": {},
   "source": [
    "#### Config"
   ]
  },
  {
   "cell_type": "code",
   "execution_count": null,
   "id": "7b309b9f",
   "metadata": {
    "tags": []
   },
   "outputs": [],
   "source": [
    "plotting.init()\n",
    "np.set_printoptions(precision=4, sign=' ', floatmode=\"fixed\")"
   ]
  },
  {
   "cell_type": "markdown",
   "id": "39dc09ee",
   "metadata": {},
   "source": [
    "## Define model\n",
    "We start with the same settings as in the previous tutorial (on history matching).\n",
    "This will serve as our default/base model.\n",
    "It is convenient to define it in the global namespace."
   ]
  },
  {
   "cell_type": "markdown",
   "id": "3cf80a6a",
   "metadata": {},
   "source": [
    "#### Grid"
   ]
  },
  {
   "cell_type": "code",
   "execution_count": null,
   "id": "71f24abc-f9bd-434f-81a0-f4a0b2d64348",
   "metadata": {
    "tags": []
   },
   "outputs": [],
   "source": [
    "model = simulator.ResSim(Nx=20, Ny=20, Lx=2, Ly=1, name=\"Base model\")"
   ]
  },
  {
   "cell_type": "markdown",
   "id": "06b5edcb",
   "metadata": {},
   "source": [
    "#### Permeability"
   ]
  },
  {
   "cell_type": "code",
   "execution_count": null,
   "id": "abff43ed",
   "metadata": {
    "tags": []
   },
   "outputs": [],
   "source": [
    "seed = rnd.seed(3)\n",
    "model.K = .1 + np.exp(5 * geostat.gaussian_fields(model.mesh, 1, r=0.8))"
   ]
  },
  {
   "cell_type": "markdown",
   "id": "ea345aec",
   "metadata": {},
   "source": [
    "#### Wells\n",
    "List of coordinates (x, y) of the 4 cornerns of the rectangular domain"
   ]
  },
  {
   "cell_type": "code",
   "execution_count": null,
   "id": "a5f8caad",
   "metadata": {
    "tags": []
   },
   "outputs": [],
   "source": [
    "near01 = np.array([.12, .87])\n",
    "xy_4corners = [[x, y]\n",
    "               for y in model.Ly*near01\n",
    "               for x in model.Lx*near01]"
   ]
  },
  {
   "cell_type": "markdown",
   "id": "15dd25b2-84ed-4b2c-a6aa-d7b16d2d9526",
   "metadata": {
    "tags": []
   },
   "source": [
    "Suggested total rate of production."
   ]
  },
  {
   "cell_type": "code",
   "execution_count": null,
   "id": "f9a4766b-805f-497d-b70b-5cb88f26e694",
   "metadata": {
    "tags": []
   },
   "outputs": [],
   "source": [
    "rate0 = 1.5"
   ]
  },
  {
   "cell_type": "markdown",
   "id": "3dd3fde9",
   "metadata": {},
   "source": [
    "Note that the production and injection rates add up to the same\n",
    "(at each time step), as they must (or model will raise an error)."
   ]
  },
  {
   "cell_type": "code",
   "execution_count": null,
   "id": "af653561",
   "metadata": {
    "tags": []
   },
   "outputs": [],
   "source": [
    "model.inj_xy = [[model.Lx/2, model.Ly/2]]\n",
    "model.prod_xy = xy_4corners\n",
    "model.inj_rates  = rate0 * np.ones((1, 1)) / 1\n",
    "model.prod_rates = rate0 * np.ones((4, 1)) / 4"
   ]
  },
  {
   "cell_type": "markdown",
   "id": "ca0d14af-f2a4-4e88-90cd-9df4eb9fe216",
   "metadata": {
    "tags": []
   },
   "source": [
    "#### Plot"
   ]
  },
  {
   "cell_type": "code",
   "execution_count": null,
   "id": "7f0c9a66-12d8-471e-998b-16f540904c16",
   "metadata": {
    "tags": []
   },
   "outputs": [],
   "source": [
    "fig, ax = plotting.freshfig(model.name)\n",
    "model.plt_field(ax, model.K[0], \"perm\", grid=True);"
   ]
  },
  {
   "cell_type": "markdown",
   "id": "a9b536c9-eda5-45a7-96dd-b172cfc6e01f",
   "metadata": {},
   "source": [
    "#### Simulations"
   ]
  },
  {
   "cell_type": "code",
   "execution_count": null,
   "id": "beb5a6f8",
   "metadata": {
    "lines_to_next_cell": 1,
    "tags": []
   },
   "outputs": [],
   "source": [
    "wsat0 = np.zeros(model.Nxy)\n",
    "T = 1\n",
    "dt = 0.025\n",
    "nTime = round(T/dt)"
   ]
  },
  {
   "cell_type": "markdown",
   "id": "81c0fda0-9ef5-44e6-affe-3291f883ccc6",
   "metadata": {},
   "source": [
    "Let us plot the final sweep of the base model configuration."
   ]
  },
  {
   "cell_type": "code",
   "execution_count": null,
   "id": "bbf8f55c",
   "metadata": {
    "lines_to_next_cell": 1,
    "tags": []
   },
   "outputs": [],
   "source": [
    "def plot_final_sweep(model):\n",
    "    \"\"\"Simulate reservoir, plot final oil saturation.\"\"\"\n",
    "    wsats = model.sim(dt, nTime, wsat0, pbar=False)\n",
    "    _, ax = plotting.freshfig(\"Final sweep -- \" + model.name)\n",
    "    model.plt_field(ax, wsats[-1], \"oil\")"
   ]
  },
  {
   "cell_type": "code",
   "execution_count": null,
   "id": "bdb5ed6d",
   "metadata": {
    "lines_to_next_cell": 1,
    "tags": []
   },
   "outputs": [],
   "source": [
    "plot_final_sweep(model)"
   ]
  },
  {
   "cell_type": "markdown",
   "id": "5846cfb8",
   "metadata": {},
   "source": [
    "## NPV objective function\n",
    "The NPV (objective) function,\n",
    "similar to the `forward_model` of the history matching tutorial,\n",
    "entails configuring and running/simulating the model.\n",
    "But the main output is now the economical net value (profit),\n",
    "while some other variables are included as diagnostics.\n",
    "Also, importantly, note that it's all wrapped in error penalisation."
   ]
  },
  {
   "cell_type": "code",
   "execution_count": null,
   "id": "6cf149af",
   "metadata": {
    "lines_to_next_cell": 1,
    "tags": []
   },
   "outputs": [],
   "source": [
    "def npv(model, **params):\n",
    "    \"\"\"Discounted net present value (NPV) from model config.\"\"\"\n",
    "    try:\n",
    "        model = remake(model, **params)\n",
    "        wsats = model.sim(dt, nTime, wsat0, pbar=False)\n",
    "        # Sum over wells\n",
    "        prod_total = partial_volumes(model, wsats, \"prod\").sum(0)\n",
    "        inj_total  = partial_volumes(model, wsats, \"inj\").sum(0)\n",
    "        # Sum in time\n",
    "        prod_total = prod_total @ discounts\n",
    "        inj_total = inj_total @ discounts\n",
    "        # Add up\n",
    "        value = (price_of_oil * prod_total -\n",
    "                 price_of_inj * inj_total)\n",
    "        other = dict(wsats=wsats, prod_total=prod_total, inj_total=inj_total)\n",
    "    except Exception:\n",
    "        # Invalid model params ⇒ penalize.\n",
    "        # Use `raise` for debugging.\n",
    "        value, other = 0, None\n",
    "    return value, other"
   ]
  },
  {
   "cell_type": "markdown",
   "id": "1199ae7a",
   "metadata": {},
   "source": [
    "Note that water injection has a cost.\n",
    "Is seems a reasonable simplification to let this serve as a stand-in\n",
    "also for the cost of GHG emissions.\n",
    "We don't bother with cost of water *production*,\n",
    "since it is implicitly approximated by reduction in oil production.\n",
    "\n",
    "The following values are not motivated by any realism.\n",
    "However, the 1-to-1 relationship implied by mass balance of the simulator\n",
    "means that the (volumetric) price of injection must be cheapter than for oil\n",
    "in order for production (even at 100% oil saturation) to be profitable."
   ]
  },
  {
   "cell_type": "code",
   "execution_count": null,
   "id": "9b6ddc1f",
   "metadata": {
    "lines_to_next_cell": 1,
    "tags": []
   },
   "outputs": [],
   "source": [
    "price_of_inj = 50\n",
    "price_of_oil = 100\n",
    "discounts = .99 ** np.arange(nTime)"
   ]
  },
  {
   "cell_type": "markdown",
   "id": "d5336d9d",
   "metadata": {},
   "source": [
    "Note that, being defined in the global namespace,\n",
    "these values cannot be manipulated by our ensemble methods.\n",
    "*I.e. we cannot atm. optimise \"robustly\" with respect to price fluctuations.*"
   ]
  },
  {
   "cell_type": "markdown",
   "id": "c37f9363",
   "metadata": {},
   "source": [
    "#### Parameter setter\n",
    "Unlike the history matching tutorial, we define a parameter setter also\n",
    "outside of the forward model. This will be convenient since we will do\n",
    "several distinct \"cases\", i.e. model configurations with differences not\n",
    "generated via our methods.  On the other hand, we do not bother to\n",
    "implement/support permability parameterisation, as in the previous tutorial.\n",
    "Note that setting parameters is not generally as trivial a task as it is here.\n",
    "It might involve reshaping arrays, translating units, read/write to file, etc.\n",
    "Indeed, from a \"task runner\" perspective, there is no hard distinction between\n",
    "writing parameters and running simulations."
   ]
  },
  {
   "cell_type": "code",
   "execution_count": null,
   "id": "c3512997",
   "metadata": {
    "lines_to_next_cell": 1,
    "tags": []
   },
   "outputs": [],
   "source": [
    "def remake(model, **params):\n",
    "    \"\"\"Instantiate new model config.\"\"\"\n",
    "    model = copy.deepcopy(model)\n",
    "    for k, v in params.items():\n",
    "        setattr(model, k, v)\n",
    "    return model"
   ]
  },
  {
   "cell_type": "markdown",
   "id": "9d62b39c",
   "metadata": {},
   "source": [
    "Let's store the base model."
   ]
  },
  {
   "cell_type": "code",
   "execution_count": null,
   "id": "03c4370a",
   "metadata": {
    "lines_to_next_cell": 1,
    "tags": []
   },
   "outputs": [],
   "source": [
    "original_model = remake(model)"
   ]
  },
  {
   "cell_type": "markdown",
   "id": "19d29c81",
   "metadata": {},
   "source": [
    "#### Extracting well flux from saturation fields\n",
    "Also contains some minor bookkeeping\n",
    "(for example, unify treatment of constant/variable rates)."
   ]
  },
  {
   "cell_type": "code",
   "execution_count": null,
   "id": "1beee428",
   "metadata": {
    "tags": []
   },
   "outputs": [],
   "source": [
    "def partial_volumes(model, wsats, inj_or_prod):\n",
    "    \"\"\"Essentially `saturation * rate` for `inj_or_prod` wells.\"\"\"\n",
    "    assert inj_or_prod in ['inj', 'prod']\n",
    "\n",
    "    if inj_or_prod == \"inj\":\n",
    "        rates = model.inj_rates\n",
    "        saturations = 1  # 100% water\n",
    "\n",
    "    elif inj_or_prod == \"prod\":\n",
    "        rates = model.prod_rates\n",
    "        well_inds = model.xy2ind(*model.prod_xy.T)\n",
    "        # Use trapezoidal rule to compute saturations on *intervals*\n",
    "        saturations = 0.5 * (wsats[:-1, well_inds] +\n",
    "                             wsats[+1:, well_inds])\n",
    "        saturations = (1 - saturations).T  # water --> oil\n",
    "\n",
    "    # Rates constant in time ⇒ replicate for all time steps\n",
    "    if rates.shape[1] == 1:\n",
    "        rates = np.tile(rates, (1, nTime))\n",
    "\n",
    "    # PS: Do not scale with model hx*hy\n",
    "    return dt * rates * saturations"
   ]
  },
  {
   "cell_type": "markdown",
   "id": "11582931",
   "metadata": {},
   "source": [
    "## EnOpt\n",
    "\n",
    "#### Ensemble gradient estimator\n",
    "EnOpt consists of gradient descent with ensemble gradient estimation."
   ]
  },
  {
   "cell_type": "code",
   "execution_count": null,
   "id": "a4f45e71",
   "metadata": {
    "lines_to_next_cell": 1,
    "tags": []
   },
   "outputs": [],
   "source": [
    "@dataclass\n",
    "class nabla_ens:\n",
    "    \"\"\"Ensemble gradient estimate (LLS regression).\"\"\"\n",
    "    chol:    float = 1.0   # Cholesky factor (or scalar std. dev.)\n",
    "    nEns:    int   = 10    # Size of control perturbation ensemble\n",
    "    precond: bool  = False # Use preconditioned form?\n",
    "    # Will be used later:\n",
    "    robustly:None  = None  # Method of treating robust objectives\n",
    "    obj_ux:  None  = None  # Conditional objective function\n",
    "    X:       None  = None  # Uncertainty ensemble\n",
    "\n",
    "    def eval(self, obj, u, pbar):\n",
    "        \"\"\"Estimate `∇ obj(u)`\"\"\"\n",
    "        U = utils.gaussian_noise(self.nEns, len(u), self.chol)\n",
    "        dU = center(U)[0]\n",
    "        dJ = self.obj_increments(obj, u, u + dU, pbar)\n",
    "        if self.precond:\n",
    "            g = dU.T @ dJ / (self.nEns-1)\n",
    "        else:\n",
    "            g = utils.rinv(dU, reg=.1, tikh=True) @ dJ\n",
    "        return g\n",
    "\n",
    "    def obj_increments(self, obj, u, U, pbar):\n",
    "        return apply(obj, U, pbar=pbar)  # don't need to `center`"
   ]
  },
  {
   "cell_type": "markdown",
   "id": "2438e915",
   "metadata": {},
   "source": [
    "Note the use of `apply` (which is a thin wrapper on top of `map` or a for loop)\n",
    "to compute `obj(u)` for each `u` in the ensemble `U`,\n",
    "which is done using parallelisation by multiprocessing.\n",
    "*PS: Colab only gives you 1 CPU, so this has no impact.*"
   ]
  },
  {
   "cell_type": "code",
   "execution_count": null,
   "id": "6196f266",
   "metadata": {},
   "outputs": [],
   "source": [
    "utils.nCPU = \"auto\""
   ]
  },
  {
   "cell_type": "markdown",
   "id": "18447ff7",
   "metadata": {},
   "source": [
    "#### Backtracking\n",
    "Another ingredient to successful gradient descent is line search.\n",
    "\n",
    "*PS: The `rtol>0` parameter specifies the minimal improvement required\n",
    "to accept the updated iterate.\n",
    "Larger values ⇒ more reluctance to accept update ⇒ *faster* declaration of convergence.\n",
    "Setting to 0 is not recommended because then it will not converge in flat neighborhoods.*\n",
    "TODO: implement Armijo-Goldstein."
   ]
  },
  {
   "cell_type": "code",
   "execution_count": null,
   "id": "d87b5399",
   "metadata": {
    "lines_to_next_cell": 1,
    "tags": []
   },
   "outputs": [],
   "source": [
    "@dataclass\n",
    "class backtracker:\n",
    "    \"\"\"Bisect until sufficient improvement.\"\"\"\n",
    "    sign:   int   = +1                                  # Search for max(+1) or min(-1)\n",
    "    xSteps: tuple = tuple(.5**(i+1) for i in range(8))  # Trial step lengths\n",
    "    rtol:   float = 1e-8                                # Convergence criterion\n",
    "    def eval(self, obj, u0, J0, search_direction, pbar):\n",
    "        atol = max(1e-8, abs(J0)) * self.rtol\n",
    "        pbar.reset(len(self.xSteps))\n",
    "        for i, step_length in enumerate(self.xSteps):\n",
    "            du = self.sign * step_length * search_direction\n",
    "            u1 = u0 + du\n",
    "            J1 = obj(u1)\n",
    "            dJ = J1 - J0\n",
    "            pbar.update()\n",
    "            if self.sign*dJ > atol:\n",
    "                pbar.reset(pbar.total)\n",
    "                return u1, J1, dict(nDeclined=i)"
   ]
  },
  {
   "cell_type": "markdown",
   "id": "cc0e95ca",
   "metadata": {},
   "source": [
    "Other acceleration techniques (AdaGrad, Nesterov, momentum,\n",
    "of which git commit `9937d5b2` contains a working implementation)\n",
    "could also be considered, but do not necessarily play nice with line search."
   ]
  },
  {
   "cell_type": "markdown",
   "id": "1ae1fc8d",
   "metadata": {},
   "source": [
    "#### Gradient descent\n",
    "The following implements gradient descent (GD)."
   ]
  },
  {
   "cell_type": "code",
   "execution_count": null,
   "id": "4439114d",
   "metadata": {
    "tags": []
   },
   "outputs": [],
   "source": [
    "def GD(objective, u, nabla=nabla_ens(), line_search=backtracker(), nrmlz=True, nIter=100, quiet=False):\n",
    "    \"\"\"Gradient (i.e. steepest) descent/ascent.\"\"\"\n",
    "\n",
    "    # Reusable progress bars (limits flickering scroll in Jupyter) w/ short np printout\n",
    "    with (progbar(total=nIter, desc=\"⏳ GD running\", leave=True,  disable=quiet) as pbar_gd,\n",
    "          progbar(total=10000, desc=\"→ grad. comp.\", leave=False, disable=quiet) as pbar_en,\n",
    "          progbar(total=10000, desc=\"→ line_search\", leave=False, disable=quiet) as pbar_ls,\n",
    "          np.printoptions(precision=2, threshold=2, edgeitems=1)):\n",
    "\n",
    "        states = [[u, objective(u), \"{cause for stopping}\"]]\n",
    "\n",
    "        for itr in range(nIter):\n",
    "            u, J, info = states[-1]\n",
    "            pbar_gd.set_postfix(u=f\"{u}\", obj=f\"{J:.3g}📈\")\n",
    "\n",
    "            grad = nabla.eval(objective, u, pbar_en)\n",
    "            if nrmlz:\n",
    "                grad /= np.sqrt(np.mean(grad**2))\n",
    "            updated = line_search.eval(objective, u, J, grad, pbar_ls)\n",
    "            pbar_gd.update()\n",
    "\n",
    "            if updated:\n",
    "                states.append(updated)\n",
    "            else:\n",
    "                cause = \"✅ GD converged\"\n",
    "                break\n",
    "        else:\n",
    "            cause = \"❌ GD ran out of iters\"\n",
    "        pbar_gd.set_description(cause)\n",
    "\n",
    "    states[0][-1] = cause\n",
    "    return [np.asarray(arr) for arr in zip(*states)]  # \"transpose\""
   ]
  },
  {
   "cell_type": "markdown",
   "id": "e7226ce4",
   "metadata": {},
   "source": [
    "## Sanity check\n",
    "It is always wise to do some dead simple testing.\n",
    "Let's test `GD` on some [well known](https://en.wikipedia.org/wiki/Test_functions_for_optimization) toy problems."
   ]
  },
  {
   "cell_type": "code",
   "execution_count": null,
   "id": "716eb24b",
   "metadata": {
    "tags": []
   },
   "outputs": [],
   "source": [
    "def obj(u):\n",
    "    # Center model domain, apply aspect ratio\n",
    "    u = u - [model.Lx/2, model.Ly/2]\n",
    "    u = u * [1, getattr(obj, 'aspect', 1)]\n",
    "\n",
    "    if obj.case == \"Quadratic\":\n",
    "        return np.mean(u*u, axis=-1)\n",
    "\n",
    "    elif obj.case == \"Rosenbrock\":\n",
    "        u = u * [4, 4]\n",
    "        u = u.T\n",
    "        t1 = u[1:] - u[:-1] * u[:-1]\n",
    "        t2 = u[:-1] - 1\n",
    "        return np.sum(100*(t1*t1) + t2*t2, 0)\n",
    "\n",
    "    elif obj.case == \"Rastrigin\":\n",
    "        u = u * [5.12, 5.12]\n",
    "        return 20 + (u*u - 5*np.cos(2*np.pi*u)).sum(-1)"
   ]
  },
  {
   "cell_type": "markdown",
   "id": "e9bf5298-378c-4569-aee3-83b8e9a9b10d",
   "metadata": {},
   "source": [
    "Note that this objective function supports ensemble input (`u`) without the use of `apply`.\n",
    "Thus -- for this case -- it would have been better had we not used `apply` in `nabla_ens`,\n",
    "since multi-threaded `numpy` has less overhead than multiprocessing and is therefore faster.\n",
    "Generally speaking, it may *sometimes* be better to leave parallelisation to the\n",
    "model/simulator/objective function, since it is \"closer to the metal\"\n",
    "and can therefore do more speed optimisations.\n",
    "In fact, due to the overhead of multiprocessing, it is better to make `apply` use a plain for loop for this trivial case,\n",
    "which is done by setting `nCPU = False`."
   ]
  },
  {
   "cell_type": "code",
   "execution_count": null,
   "id": "b6adad79",
   "metadata": {
    "tags": []
   },
   "outputs": [],
   "source": [
    "@plotting.interact(case=['Quadratic', 'Rosenbrock', 'Rastrigin'],\n",
    "                   seed=(1, 10), nTrial=(1, 20), aspect=(-1, 1, .1),\n",
    "                   nIter=(0, 20), xStep=(0, 30, .1),\n",
    "                   sdev=(0.01, 5), nEns=(2, 100))\n",
    "def plot(case, seed=5, nTrial=2, aspect=0, nIter=10, xStep=0,\n",
    "         sdev=.1, precond=False, nrmlz=True, nEns=10):\n",
    "\n",
    "    obj.aspect = 10**aspect\n",
    "    obj.case = case\n",
    "    fig, axs = plotting.figure12(\"Toy problems\")\n",
    "\n",
    "    for i in range(nTrial):\n",
    "        rnd.seed(100*seed + i)\n",
    "        u0 = rnd.rand(2) * model.domain[1]\n",
    "        xSteps = [xStep] if xStep else backtracker.xSteps\n",
    "\n",
    "        utils.nCPU = False  # no multiprocessing\n",
    "        path, objs, info = GD(obj, u0,\n",
    "                              nabla_ens(sdev, nEns, precond),\n",
    "                              backtracker(-1, xSteps),\n",
    "                              nrmlz=nrmlz, nIter=nIter,\n",
    "                              quiet=True)\n",
    "        utils.nCPU = True  # restore\n",
    "\n",
    "        plotting.add_path12(*axs, path, objs, color=f\"C{i}\", labels=False)\n",
    "        axs[1].set_yscale(\"log\")\n",
    "\n",
    "    model.plt_field(axs[0], obj(mesh2list(*model.mesh)), wells=False, cmap=\"cividis\",\n",
    "                    norm=plotting.LogNorm() if case in [\"Rosenbrock\"] else None)"
   ]
  },
  {
   "cell_type": "markdown",
   "id": "bacdd99e",
   "metadata": {},
   "source": [
    "## Case: Optimize injector location\n",
    "Let's try optimising the location (x, y) of the injector well.\n",
    "The objective function is simply a thin wrapper around `npv`\n",
    "which translates its single (vector) input argument into `kwargs`,\n",
    "and discards all output except the scalar NPV."
   ]
  },
  {
   "cell_type": "code",
   "execution_count": null,
   "id": "e974eec0",
   "metadata": {
    "lines_to_next_cell": 1,
    "tags": []
   },
   "outputs": [],
   "source": [
    "def npv_inj_xy(xys):\n",
    "    return npv(model, inj_xy=xys)[0]"
   ]
  },
  {
   "cell_type": "code",
   "execution_count": null,
   "id": "fddd9448",
   "metadata": {
    "tags": []
   },
   "outputs": [],
   "source": [
    "obj = npv_inj_xy\n",
    "model = original_model"
   ]
  },
  {
   "cell_type": "markdown",
   "id": "d16ee3b9",
   "metadata": {},
   "source": [
    "The model is sufficiently cheap that we can afford to compute the objective\n",
    "over its entire 2D domain, and plot it."
   ]
  },
  {
   "cell_type": "code",
   "execution_count": null,
   "id": "b997a5a7",
   "metadata": {
    "tags": []
   },
   "outputs": [],
   "source": [
    "npvs = apply(obj, mesh2list(*model.mesh), pbar=\"obj(mesh)\")\n",
    "npvs = np.asarray(npvs)"
   ]
  },
  {
   "cell_type": "markdown",
   "id": "2d65eb28",
   "metadata": {},
   "source": [
    "We have in effect conducted an exhaustive computation of the objective function,\n",
    "so that we already know the true, global, optimum:"
   ]
  },
  {
   "cell_type": "code",
   "execution_count": null,
   "id": "f5c44e67",
   "metadata": {
    "tags": []
   },
   "outputs": [],
   "source": [
    "argmax = npvs.argmax()\n",
    "print(\"Global (exhaustive search) optimum:\", f\"{npvs[argmax]:.4}\",\n",
    "      \"at (x={:.2}, y={:.2})\".format(*model.ind2xy(argmax)))"
   ]
  },
  {
   "cell_type": "markdown",
   "id": "6c951a75",
   "metadata": {},
   "source": [
    "Note that the optimum is not quite in the centre of the domain,\n",
    "which is caused by the asymmetry of the permeability field.\n",
    "\n",
    "Now let's try EnOpt from a few different starting/initial guesses,\n",
    "and plot the optimisation paths along with the contours of the objective\n",
    "*PS: code for both tasks must be in same cell in order to plot on same figure*."
   ]
  },
  {
   "cell_type": "code",
   "execution_count": null,
   "id": "c981cf9c",
   "metadata": {},
   "outputs": [],
   "source": [
    "# Optimize, plot paths\n",
    "fig, axs = plotting.figure12(obj.__name__)\n",
    "for color in ['C0', 'C2', 'C7', 'C9']:\n",
    "    u0 = rnd.rand(2) * model.domain[1]\n",
    "    path, objs, info = GD(obj, u0, nabla_ens(.1))\n",
    "    plotting.add_path12(*axs, path, objs, color=color, labels=False)\n",
    "model.plt_field(axs[0], npvs, \"NPV\", argmax=True, wells=False);"
   ]
  },
  {
   "cell_type": "markdown",
   "id": "5c5173c1",
   "metadata": {},
   "source": [
    "Note that\n",
    "\n",
    "- The increase in objective function for each step is guaranteed by the line search\n",
    "  (but could cause getting stuck in a local minimum). It is also what causes\n",
    "  the step size to vanish towards later iterations.\n",
    "- EnOpt uses gradient descent, which is a \"local\" optimizer (being gradient based).\n",
    "  Therefore it can get stuck in local mimima, for example (depends on the random\n",
    "  numbers used) the corner areas outside a producer.\n",
    "- Even when they find the global minimum, the optimisation paths don't\n",
    "  converge on the exact same point (depending on their starting point / initial guess).\n",
    "  This will be further explained in the following case."
   ]
  },
  {
   "cell_type": "markdown",
   "id": "eb73cf19",
   "metadata": {},
   "source": [
    "Plot of final sweep of the result of the final optimisation trial."
   ]
  },
  {
   "cell_type": "code",
   "execution_count": null,
   "id": "e3385f85",
   "metadata": {
    "lines_to_next_cell": 1
   },
   "outputs": [],
   "source": [
    "plot_final_sweep(remake(model, inj_xy=path[-1], name=f\"Optimal for {obj.__name__}\"))"
   ]
  },
  {
   "cell_type": "markdown",
   "id": "840ae67d",
   "metadata": {},
   "source": [
    "## Case: Optimize x-coordinate of single injector\n",
    "\n",
    "The setters in `remake` and ResSim simplify defining the objective.\n",
    "Still, sometimes we need to pre-process the arguments some more.\n",
    "For example, suppose we only want to vary the x-coordinate of the injector(s),\n",
    "while keeping the y-coordinate fixed."
   ]
  },
  {
   "cell_type": "code",
   "execution_count": null,
   "id": "a6f6b539",
   "metadata": {},
   "outputs": [],
   "source": [
    "def npv_x_with_fixed_y(xs):\n",
    "    xys = np.stack([xs, xs], -1) # ⇒ (1d or 2d)\n",
    "    xys[..., 1] = y  # fix constant value\n",
    "    return npv(model, inj_xy=xys)[0]\n",
    "\n",
    "y = model.Ly/2"
   ]
  },
  {
   "cell_type": "markdown",
   "id": "10ad8d43",
   "metadata": {},
   "source": [
    "*PS: The use of `...` is a trick that allows operating on the last axis of `xys`,\n",
    "which works both when it's 1d and 2d.*\n",
    "Also note that we could of course have re-used `npv_inj_xy` to define `npv_x_with_fixed_y`.\n",
    "This will be our approach for the subsequent case."
   ]
  },
  {
   "cell_type": "code",
   "execution_count": null,
   "id": "4b905aeb",
   "metadata": {},
   "outputs": [],
   "source": [
    "obj = npv_x_with_fixed_y\n",
    "model = original_model\n",
    "\n",
    "x_grid = np.linspace(0, model.Lx, 201)\n",
    "npvs = apply(obj, x_grid, pbar=\"obj(x_grid)\")"
   ]
  },
  {
   "cell_type": "code",
   "execution_count": null,
   "id": "d7028613-44aa-4326-bffd-51262d9c0c81",
   "metadata": {},
   "outputs": [],
   "source": [
    "# Plot objective\n",
    "fig, ax = plotting.freshfig(f\"{obj.__name__}({y})\", figsize=(7, 3))\n",
    "ax.set(xlabel=\"x\", ylabel=\"NPV\")\n",
    "ax.plot(x_grid, npvs, \"slategrey\", lw=3);\n",
    "\n",
    "# Optimize, plot paths\n",
    "u0s = model.Lx * np.array([[.05, .1, .2, .8, .9, .95]]).T\n",
    "for i, u0 in enumerate(u0s):\n",
    "    path, objs, info = GD(obj, u0, nabla_ens(.3))\n",
    "    shift = .3*i  # for visual distinction\n",
    "    ax.plot(path, objs - shift, '-o', c=f'C{i+1}')\n",
    "fig.tight_layout()"
   ]
  },
  {
   "cell_type": "markdown",
   "id": "37144d51",
   "metadata": {},
   "source": [
    "Note that the objective functions appears to jump at regular intervals.\n",
    "This would be even more apparent (no slanting of the \"walls\") with a higher resolution.\n",
    "The phenomenon is due to the fact that the model always collocates wells with grid cell centres.\n",
    "Other than this, as we might expect, the objective is nice and convex,\n",
    "and EnOpt is able to find the minimum, for several different starting positions,\n",
    "without much trouble."
   ]
  },
  {
   "cell_type": "markdown",
   "id": "fe8af7de-46d2-45e9-ab05-154273454086",
   "metadata": {},
   "source": [
    "## Case: Optimize coordinates of 2 injectors"
   ]
  },
  {
   "cell_type": "markdown",
   "id": "2958c356",
   "metadata": {},
   "source": [
    "With 2 injectors, it's more interesting (not necessary) to also only have 2 producers.\n",
    "So let's configure our model for that, placing the 2 producers at the lower corners."
   ]
  },
  {
   "cell_type": "code",
   "execution_count": null,
   "id": "908b93d8-5d72-4a71-8ed9-67cf2fb3bdae",
   "metadata": {
    "lines_to_next_cell": 1
   },
   "outputs": [],
   "source": [
    "model = remake(original_model,\n",
    "    name = \"Lower 2 corners\",\n",
    "    prod_xy = xy_4corners[:2],\n",
    "    prod_rates = rate0 * np.ones((2, 1)) / 2\n",
    ")"
   ]
  },
  {
   "cell_type": "markdown",
   "id": "64f40b47-a9e7-444c-8986-5d064943be8c",
   "metadata": {},
   "source": [
    "Now, as you might imagine, the optimal injector positions will be somewhere near the upper edge.\n",
    "But boundaries are a problem for basic EnOpt.\n",
    "Because of its Gaussian character, its gradient estimation will often sample points\n",
    "outside of the domain.\n",
    "This won't crash our optimisation, since the `npv` function\n",
    "catches all exceptions and converts them to a penalty,\n",
    "but the gradient near the border will then seem to indicate that the border is a bad place to be,\n",
    "which is not necessarily the case.\n",
    "\n",
    "- One quickfix to this issue is to truncate the ensemble members to the valid domain.\n",
    "- A more sophisticated alternative is to use a non-Gaussian generalisation\n",
    "  of EnOpt that samples from a Beta (e.g.) distribution,\n",
    "  and uses a different formula than LLS regression to estimate the average gradient (ref. Mathias).\n",
    "- The above two solutions are somewhat technically demanding,\n",
    "  since they require communicating the boundaries to the gradient estimator.\n",
    "  A simpler solution is to transform the control variables\n",
    "  so that the domain is the whole of $\\mathcal{R}^d$.\n",
    "\n",
    "Note that these approaches can only constrain the control variables themselves,\n",
    "not functions thereof (e.g. there might be rate constraints, while the control\n",
    "variables are actually pressures, WBHP).\n",
    "\n",
    "Below, we take the transformation approach."
   ]
  },
  {
   "cell_type": "code",
   "execution_count": null,
   "id": "58d1fc6b-5c8c-4065-9572-6a576a01f134",
   "metadata": {
    "lines_to_next_cell": 1
   },
   "outputs": [],
   "source": [
    "def coordinate_transform(xys):\n",
    "    \"\"\"Map `ℝ --> (0, L)` with `origin ↦ domain centre`, in both dims (axis 1).\"\"\"\n",
    "    # An alternative to reshape/undo is slicing with 0::2 and 1::2\n",
    "    xy2d = np.array(xys, dtype=float).reshape((-1, 2))\n",
    "    xy2d[:, 0] = sigmoid(xy2d[:, 0], model.Lx)  # transform x\n",
    "    xy2d[:, 1] = sigmoid(xy2d[:, 1], model.Ly)  # transform y\n",
    "    return xy2d.reshape(np.shape(xys))"
   ]
  },
  {
   "cell_type": "code",
   "execution_count": null,
   "id": "db103787-1afd-4686-9ac0-08c1a63ae9d0",
   "metadata": {
    "lines_to_next_cell": 1
   },
   "outputs": [],
   "source": [
    "def sigmoid(x, height, width=1):\n",
    "    return height/(1 + np.exp(-x/width))"
   ]
  },
  {
   "cell_type": "code",
   "execution_count": null,
   "id": "53579f83",
   "metadata": {
    "lines_to_next_cell": 1
   },
   "outputs": [],
   "source": [
    "inj_xys0 = [[-1, 0], [+1, 0]]\n",
    "model = remake(model,\n",
    "    inj_xy = coordinate_transform(inj_xys0),\n",
    "    inj_rates = rate0 * np.ones((2, 1)) / 2,\n",
    ")"
   ]
  },
  {
   "cell_type": "markdown",
   "id": "06b7a1ee",
   "metadata": {},
   "source": [
    "The objective function is otherwise unchanged."
   ]
  },
  {
   "cell_type": "code",
   "execution_count": null,
   "id": "195c7564",
   "metadata": {},
   "outputs": [],
   "source": [
    "def npv_xy_transf(xys):\n",
    "    return npv_inj_xy(coordinate_transform(xys))\n",
    "\n",
    "obj = npv_xy_transf"
   ]
  },
  {
   "cell_type": "markdown",
   "id": "ae376dbc-ee35-4743-b6ee-e6036988441f",
   "metadata": {},
   "source": [
    "The objective is now a function of `2*nInj = 4` variables.\n",
    "It is therefore difficult to plot (requires cross-sections or other projections)\n",
    "and anyway computing it would be `nPixels_per_dim^nInj` times more costly.\n",
    "We therefore just plot the (known) permeability field along with initial well layout."
   ]
  },
  {
   "cell_type": "code",
   "execution_count": null,
   "id": "54d5ce6d",
   "metadata": {},
   "outputs": [],
   "source": [
    "# Optimize\n",
    "u0 = np.ravel(inj_xys0)\n",
    "path, objs, info = GD(obj, u0, nabla_ens(.1))\n",
    "path = coordinate_transform(path)\n",
    "\n",
    "# Plot optimisation trajectory\n",
    "fig, axs = plotting.figure12(obj.__name__)\n",
    "plotting.add_path12(*axs, path[:, :2], objs, color='C1')\n",
    "plotting.add_path12(*axs, path[:, 2:], color='C3')\n",
    "model.plt_field(axs[0], model.K[0], \"perm\");"
   ]
  },
  {
   "cell_type": "markdown",
   "id": "8dc52007-6547-4ee0-b3dd-7793d3bb5767",
   "metadata": {},
   "source": [
    "Seems reasonable.\n",
    "A useful sanity check is provided by inspecting the resulting flow pattern."
   ]
  },
  {
   "cell_type": "code",
   "execution_count": null,
   "id": "5926bf71",
   "metadata": {
    "lines_to_next_cell": 1
   },
   "outputs": [],
   "source": [
    "plot_final_sweep(remake(model, inj_xy=path[-1], name=f\"Optimal for {obj.__name__}\"))"
   ]
  },
  {
   "cell_type": "markdown",
   "id": "96b9ea9a-e60a-4922-b41e-1557ba22a822",
   "metadata": {},
   "source": [
    "## Case: Optimize single rate\n",
    "\n",
    "When setting the injection rate(s), we must also\n",
    "set the total production rates to be the same (this is a model constraint),\n",
    "and vice-versa.\n",
    "\n",
    "Thus, as above, we need to pre-compute something before calling `npv()`."
   ]
  },
  {
   "cell_type": "code",
   "execution_count": null,
   "id": "68dc81cc",
   "metadata": {
    "tags": []
   },
   "outputs": [],
   "source": [
    "def equalize(rates, nWell):\n",
    "    \"\"\"Distribute the total rate equally among `nWell`.\"\"\"\n",
    "    return np.tile(rates.sum(0) / nWell, (nWell, 1))\n",
    "\n",
    "def npv_in_inj_rates(inj_rates):\n",
    "    prod_rates = equalize(inj_rates, model.nProd)\n",
    "    return npv(model, inj_rates=inj_rates, prod_rates=prod_rates)[0]\n",
    "\n",
    "obj = npv_in_inj_rates\n",
    "model = original_model"
   ]
  },
  {
   "cell_type": "markdown",
   "id": "0ec2e186",
   "metadata": {},
   "source": [
    "Again, we are able and can afford to compute and plot the entire objective."
   ]
  },
  {
   "cell_type": "code",
   "execution_count": null,
   "id": "d6d51377",
   "metadata": {
    "tags": []
   },
   "outputs": [],
   "source": [
    "rate_grid = np.linspace(0.1, 5, 21)\n",
    "npvs = apply(obj, rate_grid, pbar=\"obj(rate_grid)\")"
   ]
  },
  {
   "cell_type": "markdown",
   "id": "bec9c0b4",
   "metadata": {},
   "source": [
    "It makes sense that there is an optimum sweet spot somewhere in the middle.\n",
    "- Little water injection ⇒ little oil production.\n",
    "- Much water injection ⇒ very pricey, whereas reservoir contains finite amount of oil."
   ]
  },
  {
   "cell_type": "code",
   "execution_count": null,
   "id": "02566b75",
   "metadata": {
    "tags": []
   },
   "outputs": [],
   "source": [
    "# Optimize\n",
    "fig, ax = plotting.freshfig(obj.__name__)\n",
    "ax.grid()\n",
    "ax.set(xlabel=\"rate\", ylabel=\"NPV\")\n",
    "ax.plot(rate_grid, npvs, \"slategrey\")\n",
    "\n",
    "for i, u0 in enumerate(np.array([[.1, 5]]).T):\n",
    "    path, objs, info = GD(obj, u0, nabla_ens(.1))\n",
    "    shift = i+1  # for visual distinction\n",
    "    ax.plot(path, objs - shift, '-o', color=f'C{i+1}')\n",
    "fig.tight_layout()\n",
    "plotting.show()"
   ]
  },
  {
   "cell_type": "markdown",
   "id": "c54574b7",
   "metadata": {},
   "source": [
    "## Case: multiple rates (with interactive/manual optimisation)\n",
    "The objective is again the npv as a function of the injection rate."
   ]
  },
  {
   "cell_type": "code",
   "execution_count": null,
   "id": "4164def5",
   "metadata": {
    "tags": []
   },
   "outputs": [],
   "source": [
    "obj = npv_in_inj_rates"
   ]
  },
  {
   "cell_type": "markdown",
   "id": "cb98c4cd-88be-4768-a43d-89c36889d403",
   "metadata": {},
   "source": [
    "But this time let's have more injectors,\n",
    "and therefore also rearrange the producers."
   ]
  },
  {
   "cell_type": "code",
   "execution_count": null,
   "id": "fa190150-ded7-4f92-b25a-0d396aef5fa0",
   "metadata": {
    "tags": []
   },
   "outputs": [],
   "source": [
    "triangle = [0, 135, -135]\n",
    "wells = dict(\n",
    "    inj_xy = ([[model.Lx/2, model.Ly/2]] +\n",
    "              [utils.pCircle(th + 90, *model.domain[1]) for th in triangle]),\n",
    "    prod_xy = [utils.pCircle(th - 90, *model.domain[1]) for th in triangle],\n",
    "    inj_rates  = rate0 * np.ones((4, 1)) / 4,\n",
    "    prod_rates = rate0 * np.ones((3, 1)) / 3,\n",
    ")\n",
    "model = remake(model, **wells, name=\"Triangle case\")"
   ]
  },
  {
   "cell_type": "markdown",
   "id": "1ae872f7-e5de-453e-aeff-bc706bb34dee",
   "metadata": {},
   "source": [
    "Show well layout"
   ]
  },
  {
   "cell_type": "code",
   "execution_count": null,
   "id": "605b220b",
   "metadata": {
    "tags": []
   },
   "outputs": [],
   "source": [
    "fig, ax = plotting.freshfig(model.name)\n",
    "model.plt_field(ax, model.K[0], \"perm\");"
   ]
  },
  {
   "cell_type": "markdown",
   "id": "62e1ab3d-4a67-4d5a-bb01-5ab394d83d34",
   "metadata": {},
   "source": [
    "Define function that takes injection rates and computes final sweep, i.e. saturation field.\n",
    "Also print (with terminal color codes) the resulting NPV."
   ]
  },
  {
   "cell_type": "code",
   "execution_count": null,
   "id": "9ae98889-5bdd-417f-bb3f-f67e4f8d52c2",
   "metadata": {
    "tags": []
   },
   "outputs": [],
   "source": [
    "@plotting.interact(\n",
    "    inj0_rate = (0, 1.4),\n",
    "    inj1_rate = (0, 1.4),\n",
    "    inj2_rate = (0, 1.4),\n",
    "    inj3_rate = (0, 1.4),\n",
    "    side=\"right\", wrap=False,\n",
    ")\n",
    "def interactive_rate_optim(**kwargs):\n",
    "    rates = np.array([list(kwargs.values())]).T\n",
    "    value, info = npv(model, inj_rates=rates, prod_rates=equalize(rates, model.nProd))\n",
    "    _, ax = plotting.freshfig(f\"Interactive controls as for '{obj.__name__}'\")\n",
    "    model.plt_field(ax, info['wsats'][-1], \"oil\", title=f\"Final sweep. Resulting NPV: {value:.2f}\")"
   ]
  },
  {
   "cell_type": "markdown",
   "id": "a44ac819",
   "metadata": {},
   "source": [
    "#### Automatic (EnOpt) optimisation\n",
    "Run EnOpt (below)."
   ]
  },
  {
   "cell_type": "code",
   "execution_count": null,
   "id": "f5a93f0a",
   "metadata": {},
   "outputs": [],
   "source": [
    "u0 = .7*np.ones(model.nInj)\n",
    "path, objs, info = GD(obj, u0, nabla_ens(.1))\n",
    "print(\"Controls suggested by EnOpt:\", path[-1])"
   ]
  },
  {
   "cell_type": "markdown",
   "id": "6913f083-4eda-4d30-810e-439ac6a83e77",
   "metadata": {},
   "source": [
    "Now try setting\n",
    "the resulting suggested values in the interactive widget above.\n",
    "Were you able to find equally good settings?"
   ]
  },
  {
   "cell_type": "markdown",
   "id": "b07f24f0",
   "metadata": {},
   "source": [
    "# Robust optimisation\n",
    "Robust optimisation problems have a particular structure,\n",
    "namely the objective is an *average*:"
   ]
  },
  {
   "cell_type": "code",
   "execution_count": null,
   "id": "19436f13",
   "metadata": {
    "lines_to_next_cell": 1
   },
   "outputs": [],
   "source": [
    "def obj(u=None, x=None):\n",
    "    return np.mean([obj1(u, x) for x in uq_ens])"
   ]
  },
  {
   "cell_type": "markdown",
   "id": "e0c9e4c9",
   "metadata": {},
   "source": [
    "Of course, we still have to define the\n",
    "\n",
    "- ensemble (`uq_ens`) providing the uncertainty quantification (UQ)\n",
    "  of some parameter(s), over which the average is computed.\n",
    "- conditional objective (`obj1`),\n",
    "  thus labelled because it applies to 1 member in `uq_ens`.\n",
    "\n",
    "This objective function becomes very costly to evaluate,\n",
    "since it involves $2 n_{\\text{Ens}}$ evaluations/simulations.\n",
    "But \"there are no problems -- only opportunities\" or\n",
    "perhaps less pompously \"every problem carries the seed of its own solution\".\n",
    "Indeed we can exploit the structure of the robust-optimisation `obj` above\n",
    "by the following patch to the way `nabla_ens` computes the increments of `obj`."
   ]
  },
  {
   "cell_type": "code",
   "execution_count": null,
   "id": "66cda4d1",
   "metadata": {
    "lines_to_next_cell": 1
   },
   "outputs": [],
   "source": [
    "def dJ_robust(self, obj, u, U, pbar):\n",
    "    if self.robustly == \"Paired\":\n",
    "        dJ = apply(self.obj_ux, U, x=self.X, pbar=pbar)\n",
    "\n",
    "    elif self.robustly == \"StoSAG\":\n",
    "        uu = np.tile(u, (self.nEns, 1))  # replicate u\n",
    "        JU = apply(self.obj_ux, U, x=self.X, pbar=pbar)\n",
    "        Ju = apply(self.obj_ux, uu, x=self.X, pbar=pbar)\n",
    "        dJ = np.asarray(JU) - Ju\n",
    "\n",
    "    elif self.robustly in [\"Mean-model\", \"Fragile\"]:\n",
    "        x1 = np.tile(self.X.mean(0), (self.nEns, 1))  # replicate x\n",
    "        dJ = apply(self.obj_ux, U, x=x1, pbar=pbar)\n",
    "\n",
    "    else:  # Regular/\"naive\" (M*N costly) form\n",
    "        dJ = apply(obj, U, pbar=pbar)\n",
    "\n",
    "    return dJ"
   ]
  },
  {
   "cell_type": "code",
   "execution_count": null,
   "id": "1990eee6",
   "metadata": {},
   "outputs": [],
   "source": [
    "nabla_ens.obj_increments = dJ_robust"
   ]
  },
  {
   "cell_type": "markdown",
   "id": "9147fb83",
   "metadata": {},
   "source": [
    "Note that the computational cost of is $2 n_{\\text{Ens}}$ simulations\n",
    "rather than $n_{\\text{Ens}}^2$ (assuming ensembles of equal size, $n_{\\text{Ens}}$).\n",
    "For small $n_{\\text{Ens}}$ this cost saving is not palpable,\n",
    "especially since backtracking will also perform a few iterations of $n_{\\text{Ens}}$ evaluations.\n",
    "But if $n_{\\text{Ens}} > 30$ the cost savings become salient.\n",
    "\n",
    "PS: The cost of `nabla_ens.obj_increments` could be further reduced to just $n_{\\text{Ens}}$ simulations\n",
    "by not computing `Ju`, instead obtaining these objective values\n",
    "from the latest `backtracker` evaluations.\n",
    "However, for the sake of code simplicity,\n",
    "we do not implement the necessary intercommunication,\n",
    "preferring to keep `GD` and `backtracker` entirely generic,\n",
    "i.e. unaware of any conditional objectives."
   ]
  },
  {
   "cell_type": "markdown",
   "id": "85971ef0",
   "metadata": {},
   "source": [
    "## Case: Optimize injector location (x, y) under uncertain permeability"
   ]
  },
  {
   "cell_type": "markdown",
   "id": "74ddb39b",
   "metadata": {},
   "source": [
    "### Uncertainty quantification"
   ]
  },
  {
   "cell_type": "code",
   "execution_count": null,
   "id": "b340187b",
   "metadata": {},
   "outputs": [],
   "source": [
    "nEns = 31\n",
    "rnd.seed(5)\n",
    "uq_ens = .1 + np.exp(5 * geostat.gaussian_fields(model.mesh, nEns, r=0.8))"
   ]
  },
  {
   "cell_type": "markdown",
   "id": "4ce090ba",
   "metadata": {},
   "source": [
    "Plot"
   ]
  },
  {
   "cell_type": "code",
   "execution_count": null,
   "id": "23389094",
   "metadata": {
    "lines_to_next_cell": 1
   },
   "outputs": [],
   "source": [
    "plotting.fields(model, uq_ens, \"perm\");"
   ]
  },
  {
   "cell_type": "markdown",
   "id": "297ce495",
   "metadata": {},
   "source": [
    "### Conditional objective\n",
    "The *conditional* objective consists of the `npv`\n",
    "at some `inj_xy=u` for a  given permability `K=x`."
   ]
  },
  {
   "cell_type": "code",
   "execution_count": null,
   "id": "06fdc721",
   "metadata": {},
   "outputs": [],
   "source": [
    "def obj1(u, x):\n",
    "    return npv(model, inj_xy=u, K=x)[0]\n",
    "\n",
    "model = original_model"
   ]
  },
  {
   "cell_type": "markdown",
   "id": "f7f06545",
   "metadata": {},
   "source": [
    "### Ensemble of objectives\n",
    "\n",
    "NB: since it involves $n_{\\text{Ens}}$ model simulations for each grid cell,\n",
    "computing the ensemble of conditional objective surfaces can take quite long.\n",
    "So you should skip these computations if you're on a slow computer."
   ]
  },
  {
   "cell_type": "code",
   "execution_count": null,
   "id": "112b2cad",
   "metadata": {},
   "outputs": [],
   "source": [
    "try:\n",
    "    import google.colab  # type: ignore\n",
    "    my_computer_is_fast = False # Colab is slow\n",
    "except ImportError:\n",
    "    my_computer_is_fast = True"
   ]
  },
  {
   "cell_type": "code",
   "execution_count": null,
   "id": "1d91325d",
   "metadata": {},
   "outputs": [],
   "source": [
    "if my_computer_is_fast:\n",
    "    npv_mesh = apply(lambda x: [obj1(u, x) for u in mesh2list(*model.mesh)], uq_ens)\n",
    "    plotting.fields(model, npv_mesh, \"NPV\", \"xy of inj, conditional on perm\");\n",
    "\n",
    "    # Thus we know the global optimum of the total/robust objective.\n",
    "    npv_avrg = np.mean(npv_mesh, 0)\n",
    "    argmax = npv_avrg.argmax()\n",
    "    print(\"Global (exhaustive search) optimum:\",\n",
    "          f\"obj={npv_avrg[argmax]:.4}\",\n",
    "          \"(x={:.2}, y={:.2})\".format(*model.ind2xy(argmax)))"
   ]
  },
  {
   "cell_type": "markdown",
   "id": "4695d2da",
   "metadata": {},
   "source": [
    "### Optimize, plot paths"
   ]
  },
  {
   "cell_type": "code",
   "execution_count": null,
   "id": "4c26c2db",
   "metadata": {},
   "outputs": [],
   "source": [
    "fig, axs = plotting.figure12(obj1.__name__)\n",
    "if my_computer_is_fast:\n",
    "    model.plt_field(axs[0], npv_avrg, \"NPV\", argmax=True, wells=False, finalize=False)\n",
    "\n",
    "    # Use \"naive\" ensemble gradient\n",
    "    for color in ['C0', 'C2']:\n",
    "        u0 = rnd.rand(2) * model.domain[1]\n",
    "        path, objs, info = GD(obj, u0, nabla_ens(.1, nEns=nEns))\n",
    "        plotting.add_path12(*axs, path, objs, color=color, labels=False)\n",
    "\n",
    "# Use StoSAG ensemble gradient\n",
    "for color in ['C7', 'C9']:\n",
    "    u0 = rnd.rand(2) * model.domain[1]\n",
    "    path, objs, info = GD(obj, u0, nabla_ens(.1, nEns=nEns, obj_ux=obj1, X=uq_ens, robustly=\"StoSAG\"))\n",
    "    plotting.add_path12(*axs, path, objs, color=color, labels=False)\n",
    "\n",
    "fig.tight_layout();"
   ]
  },
  {
   "cell_type": "markdown",
   "id": "7bb97cb1",
   "metadata": {},
   "source": [
    "Clearly, optimising the full objective with \"naive\" EnOpt is very costly,\n",
    "but gets significantly faster using robust EnOpt (StoSAG), in particular if $n_{\\text{Ens}} > 30$.\n",
    "\n",
    "You may also want to experiment with the other alternatives for `robustly`, i.e. \"Mean-model\" and \"Paired\".\n",
    "\n",
    "Let us store the optimum of the last trial of StoSAG."
   ]
  },
  {
   "cell_type": "code",
   "execution_count": null,
   "id": "4818ab28",
   "metadata": {},
   "outputs": [],
   "source": [
    "ctrl_robust = path[-1]"
   ]
  },
  {
   "cell_type": "markdown",
   "id": "68aa4c70",
   "metadata": {},
   "source": [
    "### Nominally (conditionally/individually) optimal controls\n",
    "\n",
    "It is also (academically) interesting to consider the optimum for the conditional objective,\n",
    "i.e. for a single uncertain parameter member/realisation vector in `uq_ens`.\n",
    "We can thus generate an ensemble of such nominally optimal control strategies."
   ]
  },
  {
   "cell_type": "code",
   "execution_count": null,
   "id": "00efcb79",
   "metadata": {},
   "outputs": [],
   "source": [
    "ctrl_ens_nominal = []\n",
    "for x in progbar(uq_ens, desc=\"Nominal optim.\"):\n",
    "    u0 = rnd.rand(2) * model.domain[1]\n",
    "    path, objs, info = GD(lambda u: obj1(u, x), u0, nabla_ens(.1, nEns=nEns), quiet=True)\n",
    "    ctrl_ens_nominal.append(path[-1])"
   ]
  },
  {
   "cell_type": "markdown",
   "id": "c80da273",
   "metadata": {},
   "source": [
    "Alternatively, since we have already computed the npv for each pixel/cell\n",
    "for each uncertain ensemble member, we can get the global nominal optima."
   ]
  },
  {
   "cell_type": "code",
   "execution_count": null,
   "id": "82e874e7",
   "metadata": {},
   "outputs": [],
   "source": [
    "if my_computer_is_fast:\n",
    "    ctrl_ens_nominal2 = model.ind2xy(np.asarray(npv_mesh).argmax(axis=1)).T"
   ]
  },
  {
   "cell_type": "markdown",
   "id": "1693a483",
   "metadata": {},
   "source": [
    "The following scatter-plots the nominal optima (`ctrl_ens_nominal`)\n",
    "for the injector well. The scatter locations are labelled with the corresponding uncertainty realisation."
   ]
  },
  {
   "cell_type": "code",
   "execution_count": null,
   "id": "55120de6",
   "metadata": {},
   "outputs": [],
   "source": [
    "fig, ax = plotting.freshfig(\"Optima\")\n",
    "cmap = plotting.plt.get_cmap('tab20')\n",
    "lbl_props = dict(fontsize=\"small\", fontweight=\"bold\")\n",
    "sct_props = dict(s=6**2, edgecolor=\"w\", zorder=3)\n",
    "lbls = []\n",
    "for n, (x, y) in enumerate(ctrl_ens_nominal):\n",
    "    color = cmap(n % 20)\n",
    "    ax.scatter(x, y, color=color, **sct_props)\n",
    "    lbls.append(ax.text(x, y, n, c=color, **lbl_props))\n",
    "    if my_computer_is_fast:\n",
    "        x2, y2 = ctrl_ens_nominal2[n]\n",
    "        ax.plot([x, x2], [y, y2], '-', color=color, lw=2)\n",
    "ax.scatter(*ctrl_robust, s=8**2, color=\"w\")\n",
    "utils.adjust_text(lbls, precision=.1);\n",
    "model.plt_field(ax, np.zeros_like(model.mesh[0]), \"domain\",\n",
    "                wells=False, colorbar=False, grid=True);"
   ]
  },
  {
   "cell_type": "markdown",
   "id": "f1f68034",
   "metadata": {},
   "source": [
    "Also drawn are lines to/from the true/global nominal optima (if `my_computer_is_fast`).\n",
    "It can be seen that EnOpt mostly, but not always, finds the global optimum\n",
    "for this case."
   ]
  },
  {
   "cell_type": "code",
   "execution_count": null,
   "id": "a7a122c3-5a85-40db-9fa2-3c4300c7261a",
   "metadata": {
    "tags": []
   },
   "outputs": [],
   "source": [
    "err = (ctrl_ens_nominal2 - ctrl_ens_nominal)\n",
    "err /= model.domain[1] # scale to [0, 1]\n",
    "RMS = np.sqrt(np.mean(err**2, -1))\n",
    "print(f\"Number of significantly suboptimal EnOpt answer: {sum(RMS > 0.1)} of {len(RMS)}\")"
   ]
  },
  {
   "cell_type": "markdown",
   "id": "c5500666",
   "metadata": {},
   "source": [
    "### Histogram (KDE) for each control strategy"
   ]
  },
  {
   "cell_type": "markdown",
   "id": "ded23f12",
   "metadata": {},
   "source": [
    "Let us assess (evaluate) the performance of the robust optimal control vector\n",
    "for each of the parameter possibilities (i.e. each realisation in `uq_ens`).\n",
    "*PS: this was of course already computed as part of the iterative optimisation\n",
    "procedure, but was not included it among its outputs.*"
   ]
  },
  {
   "cell_type": "code",
   "execution_count": null,
   "id": "54fb3da2",
   "metadata": {},
   "outputs": [],
   "source": [
    "npvs_robust = apply(lambda x: obj1(ctrl_robust, x), uq_ens)"
   ]
  },
  {
   "cell_type": "markdown",
   "id": "6fa3af09",
   "metadata": {},
   "source": [
    "We can do the same for each nominally optimal control vector.\n",
    "*PS: we could also do the same for `ctrl_ens_nominal2`.*"
   ]
  },
  {
   "cell_type": "code",
   "execution_count": null,
   "id": "407a06d9",
   "metadata": {},
   "outputs": [],
   "source": [
    "npvs_condnl = apply(lambda u: [obj1(u, x) for x in uq_ens], ctrl_ens_nominal)"
   ]
  },
  {
   "cell_type": "markdown",
   "id": "73a94340",
   "metadata": {},
   "source": [
    "Note that `npvs_condnl` is of shape `(nEns, nEns)`,\n",
    "the first index (i.e. each row) corresponds to a nominally optimal control parameter vector.\n",
    "We can construct a histogram for each one,\n",
    "but it's difficult to visualize several histograms together.\n",
    "Instead, following [Essen2009](#Essen2009), we use (Gaussian) kernel density estimation (KDE)\n",
    "to create a \"continuous\" histogram, i.e. an approximate probability density.\n",
    "The following code is a bit lengthy due to plotting details."
   ]
  },
  {
   "cell_type": "code",
   "execution_count": null,
   "id": "27067429",
   "metadata": {},
   "outputs": [],
   "source": [
    "from scipy.stats import gaussian_kde\n",
    "\n",
    "fig, ax = plotting.freshfig(\"NPV densities for optimal controls\", figsize=(7, 4))\n",
    "ax.set_xlabel(\"NPV\")\n",
    "ax.set_ylabel(\"Density (pdf)\");\n",
    "\n",
    "a, b = np.min(npvs_condnl), np.max(npvs_condnl)\n",
    "npv_grid = np.linspace(a, b, 100)\n",
    "\n",
    "lbls = []\n",
    "for n, npvs_n in enumerate(npvs_condnl):\n",
    "    color = cmap(n % 20)\n",
    "    kde = gaussian_kde(npvs_n)\n",
    "    ax.plot(npv_grid, kde(npv_grid), c=color, lw=1.2, alpha=.7)\n",
    "\n",
    "    # Label curves\n",
    "    x = a + n*(b-a)/nEns\n",
    "    lbls.append(ax.text(x, kde(x).item(), n, c=color, **lbl_props))\n",
    "    ax.scatter(x, kde(x), s=2, c=color)\n",
    "\n",
    "# Add robust strategy\n",
    "ax.plot(npv_grid, gaussian_kde(npvs_robust).evaluate(npv_grid), \"w\", lw=3)\n",
    "\n",
    "# Legend showing mean values\n",
    "leg = (f\"         Mean    Min\",\n",
    "       f\"Robust:  {np.mean(npvs_robust):<6.3g}  {np.min(npvs_robust):.3g}\",\n",
    "       f\"Nominal: {np.mean(npvs_condnl):<6.3g}  {np.min(npvs_condnl):.3g}\")\n",
    "ax.text(.02, .97, \"\\n\".join(leg), transform=ax.transAxes, va=\"top\", ha=\"left\",\n",
    "        fontsize=\"medium\", fontfamily=\"monospace\", bbox=dict(\n",
    "            facecolor='lightyellow', edgecolor='k', alpha=0.99,\n",
    "            boxstyle=\"round,pad=0.25\"))\n",
    "\n",
    "ax.tick_params(axis=\"y\", left=False, labelleft=False)\n",
    "ax.set(facecolor=\"k\", ylim=0, xlim=(a, b))\n",
    "utils.adjust_text(lbls)\n",
    "fig.tight_layout()\n",
    "plotting.show()"
   ]
  },
  {
   "cell_type": "markdown",
   "id": "b09616e1",
   "metadata": {},
   "source": [
    "# Multi-objective optimisation\n",
    "Compared to [Angga2022](#Angga2022) 5-spot case:\n",
    "\n",
    "- No compressibility\n",
    "- Different model rectangle\n",
    "- Simplified geology (permeability)\n",
    "- Injection is constant in time and across wells\n",
    "\n",
    "Only the 1st item would be hard to change."
   ]
  },
  {
   "cell_type": "code",
   "execution_count": null,
   "id": "4f42a0b1",
   "metadata": {},
   "outputs": [],
   "source": [
    "model = remake(original_model,\n",
    "    name = \"Angga2022-5spot\",\n",
    "    prod_xy = [[model.Lx/2, model.Ly/2]],\n",
    "    inj_xy = xy_4corners,\n",
    "    prod_rates  = rate0 * np.ones((1, 1)) / 1,\n",
    "    inj_rates = rate0 * np.ones((4, 1)) / 4,\n",
    ")\n",
    "\n",
    "plot_final_sweep(model)"
   ]
  },
  {
   "cell_type": "code",
   "execution_count": null,
   "id": "891cc06e",
   "metadata": {},
   "outputs": [],
   "source": [
    "def npv_in_prod_rates(prod_rates):\n",
    "    inj_rates = equalize(prod_rates, model.nInj)\n",
    "    return npv(model, prod_rates=prod_rates, inj_rates=inj_rates)[0]\n",
    "\n",
    "obj = npv_in_prod_rates"
   ]
  },
  {
   "cell_type": "markdown",
   "id": "83a20824",
   "metadata": {},
   "source": [
    "#### Optimize"
   ]
  },
  {
   "cell_type": "code",
   "execution_count": null,
   "id": "978515cc",
   "metadata": {},
   "outputs": [],
   "source": [
    "fig, ax = plotting.freshfig(obj.__name__)\n",
    "rate_grid = np.logspace(-2, 1, 31)\n",
    "optimal_rates = []\n",
    "# cost_multiplier = [.01, .04, .1, .4, .9, .99]\n",
    "__default__ = price_of_inj\n",
    "cost_multiplier = np.arange(0.1, 1, 0.1)\n",
    "for i, xCost in enumerate(cost_multiplier):\n",
    "    price_of_inj = __default__ * xCost\n",
    "    npvs = apply(obj, rate_grid, pbar=\"obj(rate_grid)\")\n",
    "    ax.plot(rate_grid, npvs, label=f\"{xCost:.1}\")\n",
    "    path, objs, info = GD(obj, np.array([2]), nabla_ens(.1))\n",
    "    optimal_rates.append(path[-1])\n",
    "price_of_inj = __default__  # restore\n",
    "ax.set_ylim(1e-2)\n",
    "ax.legend(title=\"×price_of_inj\")\n",
    "ax.set(xlabel=\"rate\", ylabel=\"NPV\")\n",
    "ax.grid()\n",
    "fig.tight_layout()\n",
    "plotting.show()"
   ]
  },
  {
   "cell_type": "markdown",
   "id": "a6f5c199",
   "metadata": {},
   "source": [
    "#### Pareto front\n",
    "Breakdown npv (into emissions and sales) for optima"
   ]
  },
  {
   "cell_type": "code",
   "execution_count": null,
   "id": "0bb3a669",
   "metadata": {
    "lines_to_next_cell": 2
   },
   "outputs": [],
   "source": [
    "sales = []\n",
    "emissions = []\n",
    "for i, prod_rates in enumerate(optimal_rates):\n",
    "    inj_rates = equalize(prod_rates, model.nInj)\n",
    "    value, other = npv(model, prod_rates=prod_rates, inj_rates=inj_rates)\n",
    "    sales.append(other['prod_total'])\n",
    "    emissions.append(other['inj_total'])"
   ]
  },
  {
   "cell_type": "code",
   "execution_count": null,
   "id": "37d0a431",
   "metadata": {},
   "outputs": [],
   "source": [
    "fig, ax = plotting.freshfig(\"Pareto front (npv-optimal settings for range of price_of_inj)\")\n",
    "ax.set(xlabel=\"npv (income only)\", ylabel=\"inj/emissions (expenses)\")\n",
    "ax.plot(sales, emissions, \"o-\")\n",
    "ax.grid()\n",
    "fig.tight_layout()"
   ]
  },
  {
   "cell_type": "markdown",
   "id": "e4e92bdc",
   "metadata": {},
   "source": [
    "## References"
   ]
  },
  {
   "cell_type": "markdown",
   "id": "4a82689f",
   "metadata": {},
   "source": [
    "<a id=\"Essen2009\">[Essen2009]</a>: van Essen, G., M. Zandvliet, P. Van den Hof, O. Bosgra, and J.-D. Jansen. *Robust waterflooding optimization of multiple geological scenarios.* **SPE Journal**, 14(01):202–210, 2009.\n",
    "\n",
    "<a id=\"Angga2022\">[Angga2022]</a>: Angga, I. G. A. G., M. Bellout, B. S. Kristoffersen, P. E. S. Bergmo, P. A. Slotte, and C. F. Berg. *Effect of CO2 tax on energy use in oil production: waterflooding optimization under different emission costs.* **SN Applied Sciences**, 4(11):313, 2022\n",
    "\n",
    "<a id=\"\">[Fonseca2017]</a>: Fonseca, R. M., B. Chen, J. D. Jansen, and A. Reynolds. *A stochastic simplex approximate gradient (StoSAG) for optimization under uncertainty.* **International Journal for Numerical Methods in Engineering**, 109(13):1756– 1776, 2017. doi: 10.1002/nme.5342.\n",
    "\n",
    "<a id=\"\">[Raanes2023]</a>: Raanes, P. N., A. S. Stordal, and R. J. Lorentzen. *Review of ensemble gradients for robust optimisation*, 2023. doi: 10.48550/arXiv.2304.12136\n",
    "\n",
    "<a id=\"\">[Chen2009]</a>: Chen, Y., D. S. Oliver, and D. Zhang. *Efficient ensemble-based closed- loop production optimization.* **SPE Journal**, 14(04):634–645, 2009. doi: 10.2118/112873-PA."
   ]
  }
 ],
 "metadata": {
  "jupytext": {
   "cell_metadata_filter": "-all",
   "encoding": "# -*- coding: utf-8 -*-",
   "formats": "ipynb,py",
   "main_language": "python",
   "notebook_metadata_filter": "-all"
  },
  "kernelspec": {
   "display_name": "Python 3 (ipykernel)",
   "language": "python",
   "name": "python3"
  },
  "language_info": {
   "codemirror_mode": {
    "name": "ipython",
    "version": 3
   },
   "file_extension": ".py",
   "mimetype": "text/x-python",
   "name": "python",
   "nbconvert_exporter": "python",
   "pygments_lexer": "ipython3",
   "version": "3.11.5"
  }
 },
 "nbformat": 4,
 "nbformat_minor": 5
}
