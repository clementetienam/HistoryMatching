{
 "cells": [
  {
   "cell_type": "markdown",
   "id": "34513a2d",
   "metadata": {},
   "source": [
    "# Production optimisation with ensembles – an interactive tutorial\n",
    "\n",
    "Copyright Patrick N. Raanes, NORCE, 2023.\n",
    "\n",
    "This is a tutorial on production optimisation using ensemble methods.\n",
    "Please also have a look at the [history matching (HM) tutorial](HistoryMatch.ipynb)\n",
    "for an introduction to Python, Jupyter notebooks, and this reservoir simulator.\n",
    "\n",
    "If you're on **Google Colab**, run the cell below to install the requirements.\n",
    "Otherwise (and assuming you have done the installation described in the README),\n",
    "you can skip/delete this cell."
   ]
  },
  {
   "cell_type": "code",
   "execution_count": null,
   "id": "845b37c5",
   "metadata": {
    "tags": []
   },
   "outputs": [],
   "source": [
    "remote = \"https://raw.githubusercontent.com/patnr/HistoryMatching\"\n",
    "!wget -qO- {remote}/master/colab_bootstrap.sh | bash -s"
   ]
  },
  {
   "cell_type": "markdown",
   "id": "ff3a8dc1",
   "metadata": {},
   "source": [
    "## Imports"
   ]
  },
  {
   "cell_type": "code",
   "execution_count": null,
   "id": "cbda0ba3",
   "metadata": {
    "tags": []
   },
   "outputs": [],
   "source": [
    "import copy"
   ]
  },
  {
   "cell_type": "code",
   "execution_count": null,
   "id": "7b309b9f",
   "metadata": {},
   "outputs": [],
   "source": [
    "import numpy as np\n",
    "import numpy.random as rnd\n",
    "import TPFA_ResSim as simulator\n",
    "from mpl_tools.place import freshfig\n",
    "from tqdm.auto import tqdm as progbar"
   ]
  },
  {
   "cell_type": "code",
   "execution_count": null,
   "id": "7e259476",
   "metadata": {},
   "outputs": [],
   "source": [
    "import tools.plotting as plotting\n",
    "from tools import geostat, mpl_setup, utils"
   ]
  },
  {
   "cell_type": "code",
   "execution_count": null,
   "id": "424623cf",
   "metadata": {},
   "outputs": [],
   "source": [
    "mpl_setup.init()\n",
    "np.set_printoptions(precision=4, sign=' ', floatmode=\"fixed\")"
   ]
  },
  {
   "cell_type": "markdown",
   "id": "39dc09ee",
   "metadata": {},
   "source": [
    "## Define model\n",
    "We start with the same settings as in the previous tutorial (on history matching).\n",
    "This will serve as our default/base model.\n",
    "It is convenient to define it in the global namespace."
   ]
  },
  {
   "cell_type": "markdown",
   "id": "3cf80a6a",
   "metadata": {},
   "source": [
    "#### Grid"
   ]
  },
  {
   "cell_type": "code",
   "execution_count": null,
   "id": "71f24abc-f9bd-434f-81a0-f4a0b2d64348",
   "metadata": {
    "tags": []
   },
   "outputs": [],
   "source": [
    "model = simulator.ResSim(Nx=20, Ny=20, Lx=2, Ly=1, name=\"Base model\")"
   ]
  },
  {
   "cell_type": "markdown",
   "id": "06b5edcb",
   "metadata": {},
   "source": [
    "#### Permeability"
   ]
  },
  {
   "cell_type": "code",
   "execution_count": null,
   "id": "abff43ed",
   "metadata": {
    "tags": []
   },
   "outputs": [],
   "source": [
    "seed = rnd.seed(3)\n",
    "model.K = .1 + np.exp(5 * geostat.gaussian_fields(model.mesh, 1, r=0.8))"
   ]
  },
  {
   "cell_type": "markdown",
   "id": "ea345aec",
   "metadata": {},
   "source": [
    "#### Wells\n",
    "List of coordinates (x, y) of the 4 cornerns of the rectangular domain"
   ]
  },
  {
   "cell_type": "code",
   "execution_count": null,
   "id": "a5f8caad",
   "metadata": {
    "tags": []
   },
   "outputs": [],
   "source": [
    "near01 = np.array([.12, .87])\n",
    "xy_4corners = [[x, y]\n",
    "               for y in model.Ly*near01\n",
    "               for x in model.Lx*near01]"
   ]
  },
  {
   "cell_type": "markdown",
   "id": "15dd25b2-84ed-4b2c-a6aa-d7b16d2d9526",
   "metadata": {
    "tags": []
   },
   "source": [
    "Suggested total rate of production."
   ]
  },
  {
   "cell_type": "code",
   "execution_count": null,
   "id": "f9a4766b-805f-497d-b70b-5cb88f26e694",
   "metadata": {
    "tags": []
   },
   "outputs": [],
   "source": [
    "rate0 = 1.5"
   ]
  },
  {
   "cell_type": "markdown",
   "id": "3dd3fde9",
   "metadata": {},
   "source": [
    "Note that the production and injection rates add up to the same\n",
    "(at each time step), as they must (or model will raise an error)."
   ]
  },
  {
   "cell_type": "code",
   "execution_count": null,
   "id": "af653561",
   "metadata": {},
   "outputs": [],
   "source": [
    "model.inj_xy = [[model.Lx/2, model.Ly/2]]\n",
    "model.prod_xy = xy_4corners\n",
    "model.inj_rates  = rate0 * np.ones((1, 1)) / 1\n",
    "model.prod_rates = rate0 * np.ones((4, 1)) / 4"
   ]
  },
  {
   "cell_type": "markdown",
   "id": "ca0d14af-f2a4-4e88-90cd-9df4eb9fe216",
   "metadata": {
    "tags": []
   },
   "source": [
    "#### Plot"
   ]
  },
  {
   "cell_type": "code",
   "execution_count": null,
   "id": "7f0c9a66-12d8-471e-998b-16f540904c16",
   "metadata": {
    "tags": []
   },
   "outputs": [],
   "source": [
    "fig, ax = freshfig(model.name, figsize=(1, .6), rel=True)\n",
    "model.plt_field(ax, model.K[0], \"perm\");\n",
    "fig.tight_layout()"
   ]
  },
  {
   "cell_type": "markdown",
   "id": "a9b536c9-eda5-45a7-96dd-b172cfc6e01f",
   "metadata": {},
   "source": [
    "#### Simulations"
   ]
  },
  {
   "cell_type": "code",
   "execution_count": null,
   "id": "beb5a6f8",
   "metadata": {
    "lines_to_next_cell": 1,
    "tags": []
   },
   "outputs": [],
   "source": [
    "wsat0 = np.zeros(model.Nxy)\n",
    "T = 1\n",
    "dt = 0.025\n",
    "nTime = round(T/dt)"
   ]
  },
  {
   "cell_type": "markdown",
   "id": "81c0fda0-9ef5-44e6-affe-3291f883ccc6",
   "metadata": {},
   "source": [
    "Let us plot the final sweep of the base model configuration."
   ]
  },
  {
   "cell_type": "code",
   "execution_count": null,
   "id": "bbf8f55c",
   "metadata": {
    "lines_to_next_cell": 1
   },
   "outputs": [],
   "source": [
    "def plot_final_sweep(model):\n",
    "    \"\"\"Simulate reservoir, plot final oil saturation.\"\"\"\n",
    "    wsats = model.sim(dt, nTime, wsat0, pbar=False)\n",
    "    title = \"Final sweep\" + (\" -- \" + model.name) if model.name else \"\"\n",
    "    fig, ax = freshfig(title, figsize=(1, .6), rel=True)\n",
    "    model.plt_field(ax, wsats[-1], \"oil\")\n",
    "    fig.tight_layout()"
   ]
  },
  {
   "cell_type": "code",
   "execution_count": null,
   "id": "bdb5ed6d",
   "metadata": {
    "lines_to_next_cell": 1
   },
   "outputs": [],
   "source": [
    "plot_final_sweep(model)"
   ]
  },
  {
   "cell_type": "markdown",
   "id": "5846cfb8",
   "metadata": {},
   "source": [
    "## NPV objective function\n",
    "The NPV (objective) function,\n",
    "similar to the `forward_model` of the history matching tutorial,\n",
    "entails configuring and simulating the model.\n",
    "But we also output some other variables and diagnostics,\n",
    "and wrap it all in error penalisation."
   ]
  },
  {
   "cell_type": "code",
   "execution_count": null,
   "id": "6cf149af",
   "metadata": {
    "lines_to_next_cell": 1
   },
   "outputs": [],
   "source": [
    "def npv(model, **params):\n",
    "    \"\"\"Discounted net present value (NPV) from model config.\"\"\"\n",
    "    try:\n",
    "        model = remake(model, **params)\n",
    "        wsats = model.sim(dt, nTime, wsat0, pbar=False)\n",
    "        # Sum over wells\n",
    "        prod_total = partial_volumes(model, wsats, \"prod\").sum(0)\n",
    "        inj_total  = partial_volumes(model, wsats, \"inj\").sum(0)\n",
    "        # Sum in time\n",
    "        prod_total = prod_total @ discounts\n",
    "        inj_total = inj_total @ discounts\n",
    "        # Add up\n",
    "        value = (price_of_oil * prod_total -\n",
    "                 price_of_inj * inj_total)\n",
    "        other = dict(wsats=wsats, prod_total=prod_total, inj_total=inj_total)\n",
    "    except Exception:\n",
    "        # Invalid model params ⇒ penalize.\n",
    "        # Use `raise` for debugging.\n",
    "        value, other = 0, None\n",
    "    return value, other"
   ]
  },
  {
   "cell_type": "markdown",
   "id": "1199ae7a",
   "metadata": {},
   "source": [
    "Note that water injection is assigned a cost.\n",
    "Is seems a reasonable simplification to let this serve as a stand-in\n",
    "also for the cost of GHG emissions.\n",
    "We don't bother with cost of water production,\n",
    "since it is implicitly approximated by reduction in oil production.\n",
    "\n",
    "\"Non-model\" parameters are defined in the global namespace.\n",
    "Their values are not motivated by any realism."
   ]
  },
  {
   "cell_type": "code",
   "execution_count": null,
   "id": "9b6ddc1f",
   "metadata": {
    "lines_to_next_cell": 1
   },
   "outputs": [],
   "source": [
    "price_of_inj = 5e3\n",
    "price_of_oil = 1e4\n",
    "discounts = .99 ** np.arange(nTime)"
   ]
  },
  {
   "cell_type": "markdown",
   "id": "d5336d9d",
   "metadata": {},
   "source": [
    "#### Setter\n",
    "Unlike the history matching tutorial, we define a parameter setter also\n",
    "outside of the forward model. This will be convenient since we will do\n",
    "several distinct \"cases\", i.e. model configurations with differences not\n",
    "generated via our methods.  On the other hand, we do not bother to\n",
    "implement/support permability parameterisation, as in the previous tutorial.\n",
    "Note that setting parameters is not generally as trivial a task as it is here.\n",
    "It might involve reshaping arrays, translating units, read/write to file, etc.\n",
    "Indeed, from a \"task runner\" perspective, there is no hard distinction between\n",
    "writing parameters and running simulations."
   ]
  },
  {
   "cell_type": "code",
   "execution_count": null,
   "id": "c3512997",
   "metadata": {
    "lines_to_next_cell": 1,
    "tags": []
   },
   "outputs": [],
   "source": [
    "def remake(model, **params):\n",
    "    \"\"\"Instantiate new model config.\"\"\"\n",
    "    model = copy.deepcopy(model)\n",
    "    for k, v in params.items():\n",
    "        setattr(model, k, v)\n",
    "    return model"
   ]
  },
  {
   "cell_type": "markdown",
   "id": "9d62b39c",
   "metadata": {},
   "source": [
    "Let's store the base model."
   ]
  },
  {
   "cell_type": "code",
   "execution_count": null,
   "id": "03c4370a",
   "metadata": {
    "lines_to_next_cell": 1,
    "tags": []
   },
   "outputs": [],
   "source": [
    "original_model = remake(model)"
   ]
  },
  {
   "cell_type": "markdown",
   "id": "19d29c81",
   "metadata": {},
   "source": [
    "#### Extract well flux from saturation fields\n",
    "Also contains some minor bookkeeping\n",
    "(for example, unify treatment of constant/variable rates)."
   ]
  },
  {
   "cell_type": "code",
   "execution_count": null,
   "id": "1beee428",
   "metadata": {},
   "outputs": [],
   "source": [
    "def partial_volumes(model, wsats, inj_or_prod):\n",
    "    \"\"\"Essentially `saturation * rate` for `inj_or_prod` wells.\"\"\"\n",
    "    # Saturations\n",
    "    if inj_or_prod == \"prod\":\n",
    "        # Oil (use trapezoid approx)\n",
    "        well_inds = model.xy2ind(*model.prod_xy.T)\n",
    "        saturations = 0.5 * (wsats[:-1, well_inds] +\n",
    "                             wsats[+1:, well_inds])\n",
    "        saturations = (1 - saturations).T  # water --> oil\n",
    "    elif inj_or_prod == \"inj\":\n",
    "        # Injector uses 100% water\n",
    "        saturations = 1\n",
    "    else:\n",
    "        raise KeyError\n",
    "\n",
    "    # Rates\n",
    "    rates = getattr(model, f\"{inj_or_prod}_rates\")\n",
    "    if (_nT := rates.shape[1]) == 1 and _nT != nTime:\n",
    "        # constant-in-time ⇒ replicate for all time steps\n",
    "        rates = np.tile(rates, (1, nTime))\n",
    "\n",
    "    volume_per_rate = dt * model.hx * model.hx\n",
    "\n",
    "    return volume_per_rate * rates * saturations"
   ]
  },
  {
   "cell_type": "markdown",
   "id": "11582931",
   "metadata": {},
   "source": [
    "## EnOpt"
   ]
  },
  {
   "cell_type": "markdown",
   "id": "b9acd311",
   "metadata": {},
   "source": [
    "#### Multiprocessing\n",
    "Ensemble methods are easily parallelizable, achieved hereunder by `apply`\n",
    "that we \"map\" on ensemble simulations."
   ]
  },
  {
   "cell_type": "code",
   "execution_count": null,
   "id": "0958a988-ef3f-45f0-947c-3f4e1f56d9d9",
   "metadata": {
    "lines_to_next_cell": 1
   },
   "outputs": [],
   "source": [
    "utils.nCPU = True"
   ]
  },
  {
   "cell_type": "markdown",
   "id": "5c47f5e6",
   "metadata": {},
   "source": [
    "It should be noted that -- in some cases -- it is best to leave the parallelisation to the\n",
    "model/simulator/objective function itself since it is \"closer to the metal\"\n",
    "and so can therefore do more speed optimisation. For example if the simulations\n",
    "can be vectorized over ensemble members, then multi-threaded `numpy` is likey faster)."
   ]
  },
  {
   "cell_type": "markdown",
   "id": "2c51b7cf",
   "metadata": {},
   "source": [
    "#### Ensemble gradient estimator\n",
    "EnOpt consists of gradient descent with ensemble gradient estimation.\n",
    "We wrap the gradient estimation function in another to fix its configuration parameters,\n",
    "(to avoid having to pass them through the caller, i.e. gradient descent)."
   ]
  },
  {
   "cell_type": "code",
   "execution_count": null,
   "id": "a4f45e71",
   "metadata": {
    "lines_to_next_cell": 1
   },
   "outputs": [],
   "source": [
    "def nabla_ens(chol=1.0, nEns=10, precond=False, normed=True):\n",
    "    \"\"\"Set parameters of `ens_grad`.\"\"\"\n",
    "    pbar = dict(desc=\"ens_grad\", leave=False)\n",
    "    def ens_grad(obj, u):\n",
    "        \"\"\"Compute ensemble gradient (LLS regression) for `obj` centered on `u`.\"\"\"\n",
    "        cholT = chol.T if isinstance(chol, np.ndarray) else chol * np.eye(len(u))\n",
    "        U = rnd.randn(nEns, len(u)) @ cholT\n",
    "        U = utils.center(U)[0]\n",
    "        J = utils.apply(obj, u + U, **pbar)\n",
    "        J = utils.center(J)[0]\n",
    "        if precond:\n",
    "            g = U.T @ J / (nEns-1)\n",
    "        else:\n",
    "            g = utils.rinv(U, reg=.1, tikh=True) @ J\n",
    "        if normed:\n",
    "            g /= utils.mnorm(g)\n",
    "        return g\n",
    "    return ens_grad"
   ]
  },
  {
   "cell_type": "markdown",
   "id": "2438e915",
   "metadata": {},
   "source": [
    "#### Backtracking\n",
    "Another ingredient to successful gradient descent is line search.\n",
    "\n",
    "Parameters:\n",
    "- `sign=+/-1`: max/min-imization.\n",
    "- `xSteps`: trial step lengths.\n",
    "- `rtol`: convergence criterion.\n",
    "  Specifies magnitude of improvement required to accept update of iterate.\n",
    "  Larger values ⇒ +reluctance to accept update ⇒ *faster* declaration of convergence.\n",
    "  Setting to 0 is not recommended, because if the objective function is flat\n",
    "  in the neighborhood, then the path could just go in circles on that flat."
   ]
  },
  {
   "cell_type": "code",
   "execution_count": null,
   "id": "d87b5399",
   "metadata": {
    "lines_to_next_cell": 1,
    "tags": []
   },
   "outputs": [],
   "source": [
    "def backtracker(sign=+1, xSteps=tuple(1/2**(i+1) for i in range(8)), rtol=1e-8):\n",
    "    \"\"\"Set parameters of `backtrack`.\"\"\"\n",
    "    def backtrack(x0, J0, objective, search_direction):\n",
    "        \"\"\"Line search by bisection.\"\"\"\n",
    "        atol = max(1e-8, abs(J0)) * rtol\n",
    "        with progbar(total=len(xSteps), desc=\"Backtrack\", leave=False) as pbar:\n",
    "            for i, step_length in enumerate(xSteps):\n",
    "                pbar.update(1)\n",
    "                dx = sign * step_length * search_direction\n",
    "                x1 = x0 + dx\n",
    "                J1 = objective(x1)\n",
    "                dJ = J1 - J0\n",
    "                if sign*dJ > atol:\n",
    "                    pbar.update(len(xSteps))  # needed in Jupyter\n",
    "                    return x1, J1, dict(nDeclined=i)\n",
    "    return backtrack"
   ]
  },
  {
   "cell_type": "markdown",
   "id": "cc0e95ca",
   "metadata": {},
   "source": [
    "#### Gradient descent\n",
    "Other acceleration techniques (AdaGrad, Nesterov, momentum,\n",
    "of which git commit `9937d5b2` contains a working implementation)\n",
    "could also be considered, but do not necessarily play nice with line search.\n",
    "\n",
    "The following implements gradient descent (GD)."
   ]
  },
  {
   "cell_type": "code",
   "execution_count": null,
   "id": "4439114d",
   "metadata": {},
   "outputs": [],
   "source": [
    "def GD(objective, x, nabla=nabla_ens(), line_search=backtracker(), nIter=100):\n",
    "    \"\"\"Gradient (i.e. steepest) descent/ascent.\"\"\"\n",
    "    J = objective(x)\n",
    "    path = [x]\n",
    "    objs = [J]\n",
    "    info = []  # ⇒ len+1 == len(path)\n",
    "    for itr in range(nIter):\n",
    "        grad = nabla(objective, x)\n",
    "        if (update := line_search(x, J, objective, grad)):\n",
    "            x, J, dct = update\n",
    "            path.append(x)\n",
    "            objs.append(J)\n",
    "            info.append(dct)\n",
    "        else:\n",
    "            status = \"Converged ✅\"\n",
    "            break\n",
    "    else:\n",
    "        status = \"Ran out of iters ❌\"\n",
    "    print(f\"{status:<9} {itr=:<5}  {x=!s}  {J=:.2f}\")\n",
    "    return np.asarray(path), np.asarray(objs), info"
   ]
  },
  {
   "cell_type": "markdown",
   "id": "bacdd99e",
   "metadata": {},
   "source": [
    "## Case: Optimize injector location\n",
    "Let's try optimising the location (x, y) of the injector well.\n",
    "\n",
    "The objective function is simply a thin wrapper around `npv`\n",
    "which translates its single (vector) input argument into `kwargs`,\n",
    "and discards all output except the scalar NPV."
   ]
  },
  {
   "cell_type": "code",
   "execution_count": null,
   "id": "e974eec0",
   "metadata": {
    "lines_to_next_cell": 1
   },
   "outputs": [],
   "source": [
    "def npv_inj_xy(xys):\n",
    "    return npv(model, inj_xy=xys)[0]"
   ]
  },
  {
   "cell_type": "code",
   "execution_count": null,
   "id": "fddd9448",
   "metadata": {},
   "outputs": [],
   "source": [
    "obj = npv_inj_xy\n",
    "model = original_model\n",
    "print(f\"Case: '{obj.__name__}' for '{model.name}'\")"
   ]
  },
  {
   "cell_type": "markdown",
   "id": "d16ee3b9",
   "metadata": {},
   "source": [
    "The model is sufficiently cheap that we can afford to compute the objective\n",
    "over its entire 2D domain, and plot it."
   ]
  },
  {
   "cell_type": "code",
   "execution_count": null,
   "id": "b997a5a7",
   "metadata": {},
   "outputs": [],
   "source": [
    "XY = np.stack(model.mesh, -1).reshape((-1, 2))\n",
    "npvs = utils.apply(obj, XY, desc=\"obj(entire domain)\")\n",
    "npvs = np.asarray(npvs)"
   ]
  },
  {
   "cell_type": "markdown",
   "id": "2d65eb28",
   "metadata": {},
   "source": [
    "We have in effect conducted an exhaustive computation of the objective function,\n",
    "so that we already know the true, global, optimum:"
   ]
  },
  {
   "cell_type": "code",
   "execution_count": null,
   "id": "f5c44e67",
   "metadata": {},
   "outputs": [],
   "source": [
    "argmax = npvs.argmax()\n",
    "print(\"Global (exhaustive search) optimum:\", f\"{npvs[argmax]:.4}\",\n",
    "      \"at (x={:.2}, y={:.2})\".format(*model.ind2xy(argmax)))"
   ]
  },
  {
   "cell_type": "markdown",
   "id": "6c951a75",
   "metadata": {},
   "source": [
    "Note that the optimum is not quite in the centre of the domain,\n",
    "which is caused by the randomness (including asymmetry) of the permeability field.\n",
    "\n",
    "Now let's try EnOpt from a few different starting/initial guesses,\n",
    "and plot the optimisation paths along with the contours of the objective\n",
    "*PS: code for both tasks must be in same cell in order to plot on same figure*."
   ]
  },
  {
   "cell_type": "code",
   "execution_count": null,
   "id": "c981cf9c",
   "metadata": {},
   "outputs": [],
   "source": [
    "# Plot objective\n",
    "fig, axs = plotting.figure12(obj.__name__)\n",
    "model.plt_field(axs[0], npvs, \"NPV\", argmax=True, wells=False);\n",
    "\n",
    "# Optimize, plot paths\n",
    "for color in ['C0', 'C2', 'C7', 'C9']:\n",
    "    u0 = rnd.rand(2) * model.domain[1]\n",
    "    path, objs, info = GD(obj, u0, nabla_ens(.1))\n",
    "    plotting.add_path12(*axs, path, objs, color=color, labels=False)\n",
    "fig.tight_layout()"
   ]
  },
  {
   "cell_type": "markdown",
   "id": "5c5173c1",
   "metadata": {},
   "source": [
    "##### Comments\n",
    "- The increase in objective function for each step is guaranteed by the line search\n",
    "  (but could cause getting stuck in a local minimum). It is also what causes\n",
    "  the step size to vanish towards later iterations.\n",
    "- EnOpt uses gradient descent, which is a \"local\" optimizer (being gradient based).\n",
    "  Therefore it can get stuck in local mimima, for example (depends on the random\n",
    "  numbers used) the corner areas outside a producer.\n",
    "- Even when they find the global minimum, the optimisation paths don't\n",
    "  converge on the exact same point (depending on their starting point / initial guess).\n",
    "  This will be further explained in the following case."
   ]
  },
  {
   "cell_type": "markdown",
   "id": "eb73cf19",
   "metadata": {},
   "source": [
    "Plot of final sweep of the result of the final optimisation trial."
   ]
  },
  {
   "cell_type": "code",
   "execution_count": null,
   "id": "e3385f85",
   "metadata": {
    "lines_to_next_cell": 1
   },
   "outputs": [],
   "source": [
    "plot_final_sweep(remake(model, inj_xy=path[-1], name=f\"Optimal for {obj.__name__}\"))"
   ]
  },
  {
   "cell_type": "markdown",
   "id": "840ae67d",
   "metadata": {},
   "source": [
    "## Case: Optimize x-coordinate of single injector\n",
    "\n",
    "The setters in `remake` and ResSim simplify much in defining the forward model.\n",
    "Still, sometimes we need to pre-process the arguments some more.\n",
    "For example, suppose we only want to vary the x-coordinate of the injector,\n",
    "while keeping the y-coordinate fixed."
   ]
  },
  {
   "cell_type": "code",
   "execution_count": null,
   "id": "a6f6b539",
   "metadata": {
    "lines_to_next_cell": 1
   },
   "outputs": [],
   "source": [
    "def npv_x_with_fixed_y(xs):\n",
    "    xys = np.stack([xs, xs], -1) # ⇒ (1d or 2d)\n",
    "    xys[..., 1] = y  # fix constant value\n",
    "    return npv(model, inj_xy=xys)[0]"
   ]
  },
  {
   "cell_type": "code",
   "execution_count": null,
   "id": "50da122e",
   "metadata": {},
   "outputs": [],
   "source": [
    "obj = npv_x_with_fixed_y\n",
    "model = original_model\n",
    "y = model.Ly/2\n",
    "print(f\"Case: '{obj.__name__}' for '{model.name}'\")"
   ]
  },
  {
   "cell_type": "markdown",
   "id": "10ad8d43",
   "metadata": {},
   "source": [
    "*PS: The use of `...` is a trick that allows operating on the last axis of `xys`,\n",
    "which works both when it's 1d and 2d.*\n",
    "Also note that we could of course have re-used `npv_inj_xy` to define `npv_x_with_fixed_y`.\n",
    "This will be our approach for the subsequent case."
   ]
  },
  {
   "cell_type": "code",
   "execution_count": null,
   "id": "4b905aeb",
   "metadata": {},
   "outputs": [],
   "source": [
    "xx = np.linspace(0, model.Lx, 201)\n",
    "npvs = utils.apply(obj, xx, desc=\"obj(entire domain)\")"
   ]
  },
  {
   "cell_type": "code",
   "execution_count": null,
   "id": "d7028613-44aa-4326-bffd-51262d9c0c81",
   "metadata": {},
   "outputs": [],
   "source": [
    "# Plot objective\n",
    "fig, ax = freshfig(f\"{obj.__name__}({y})\", figsize=(7, 3))\n",
    "ax.set(xlabel=\"x\", ylabel=\"NPV\")\n",
    "ax.plot(xx, npvs, \"slategrey\", lw=3);\n",
    "\n",
    "# Optimize, plot paths\n",
    "u0s = model.Lx * np.array([[.05, .1, .2, .8, .9, .95]]).T\n",
    "for i, u0 in enumerate(u0s):\n",
    "    path, objs, info = GD(obj, u0, nabla_ens(.3))\n",
    "    shift = .3*i  # for visual distinction\n",
    "    ax.plot(path, objs - shift, '-o', c=f'C{i+1}')\n",
    "fig.tight_layout()"
   ]
  },
  {
   "cell_type": "markdown",
   "id": "37144d51",
   "metadata": {},
   "source": [
    "Note that the objective functions appears to jump at regular intervals.\n",
    "This would be even more apparent (no slanting of the \"walls\") with a higher resolution.\n",
    "The phenomenon is due to the fact that the model always collocates wells with grid nodes.\n",
    "Other than this, as we might expect, the objective is nice and convex,\n",
    "and EnOpt is able to find the minimum, for several different starting positions,\n",
    "without much trouble."
   ]
  },
  {
   "cell_type": "markdown",
   "id": "fe8af7de-46d2-45e9-ab05-154273454086",
   "metadata": {},
   "source": [
    "## Case: Optimize coordinates of 2 injectors"
   ]
  },
  {
   "cell_type": "markdown",
   "id": "2958c356",
   "metadata": {},
   "source": [
    "With 2 injectors, it's more interesting (not necessary) to also only have 2 producers.\n",
    "So let's configure our model for that, placing the 2 producers at the lower corners."
   ]
  },
  {
   "cell_type": "code",
   "execution_count": null,
   "id": "908b93d8-5d72-4a71-8ed9-67cf2fb3bdae",
   "metadata": {
    "lines_to_next_cell": 1
   },
   "outputs": [],
   "source": [
    "model = remake(original_model,\n",
    "    name = \"Lower 2 corners\",\n",
    "    prod_xy = xy_4corners[:2],\n",
    "    prod_rates = rate0 * np.ones((2, 1)) / 2\n",
    ")"
   ]
  },
  {
   "cell_type": "markdown",
   "id": "64f40b47-a9e7-444c-8986-5d064943be8c",
   "metadata": {},
   "source": [
    "Now, as you might imagine, the optimal injector positions will be somewhere near the upper edge.\n",
    "But boundaries are a problem for basic EnOpt.\n",
    "Because of its Gaussian character, its gradient estimation will often sample points\n",
    "outside of the domain.\n",
    "This won't crash our optimisation, since the `npv` function\n",
    "catches all exceptions and converts them to a penalty,\n",
    "but the gradient near the border will then seem to indicate that the border is a bad place to be,\n",
    "which is not necessarily the case.\n",
    "\n",
    "- One quickfix to this issue is to truncate the ensemble members to the valid domain.\n",
    "- A more sophisticated alternative is to use a non-Gaussian generalisation\n",
    "  of EnOpt that samples from a Beta (e.g.) distribution,\n",
    "  and uses a different formula than LLS regression to estimate the average gradient (ref. Mathias).\n",
    "- The above two solutions are somewhat technically demanding,\n",
    "  since they require communicating the boundaries to the gradient estimator.\n",
    "  A simpler solution is to transform the control variables\n",
    "  so that the domain is the whole of $\\mathcal{R}^d$.\n",
    "\n",
    "Note that these approaches can only constrain the control variables themselves,\n",
    "not functions thereof (e.g. there might be rate constraints, while the control\n",
    "variables are actually pressures, WBHP).\n",
    "\n",
    "Below, we take the transformation approach."
   ]
  },
  {
   "cell_type": "code",
   "execution_count": null,
   "id": "58d1fc6b-5c8c-4065-9572-6a576a01f134",
   "metadata": {
    "lines_to_next_cell": 1
   },
   "outputs": [],
   "source": [
    "def coordinate_transform(xys):\n",
    "    \"\"\"Map `ℝ --> (0, L)` with `origin ↦ domain centre`, in both dims (axis 1).\"\"\"\n",
    "    # An alternative to reshape/undo is slicing with 0::2 and 1::2\n",
    "    xy2d = np.array(xys, dtype=float).reshape((-1, 2))\n",
    "    xy2d[:, 0] = sigmoid(xy2d[:, 0], model.Lx)  # transform x\n",
    "    xy2d[:, 1] = sigmoid(xy2d[:, 1], model.Ly)  # transform y\n",
    "    return xy2d.reshape(np.shape(xys))"
   ]
  },
  {
   "cell_type": "code",
   "execution_count": null,
   "id": "db103787-1afd-4686-9ac0-08c1a63ae9d0",
   "metadata": {
    "lines_to_next_cell": 1
   },
   "outputs": [],
   "source": [
    "def sigmoid(x, height, width=1):\n",
    "    return height/(1 + np.exp(-x/width))"
   ]
  },
  {
   "cell_type": "code",
   "execution_count": null,
   "id": "53579f83",
   "metadata": {
    "lines_to_next_cell": 1
   },
   "outputs": [],
   "source": [
    "inj_xys0 = [[-1, 0], [+1, 0]]\n",
    "model = remake(model,\n",
    "    inj_xy = coordinate_transform(inj_xys0),\n",
    "    inj_rates = rate0 * np.ones((2, 1)) / 2,\n",
    ")"
   ]
  },
  {
   "cell_type": "markdown",
   "id": "06b7a1ee",
   "metadata": {},
   "source": [
    "The objective function is otherwise unchanged."
   ]
  },
  {
   "cell_type": "code",
   "execution_count": null,
   "id": "195c7564",
   "metadata": {},
   "outputs": [],
   "source": [
    "def npv_xy_transf(xys):\n",
    "    return npv_inj_xy(coordinate_transform(xys))\n",
    "\n",
    "obj = npv_xy_transf\n",
    "print(f\"Case: '{obj.__name__}' for '{model.name}'\")"
   ]
  },
  {
   "cell_type": "markdown",
   "id": "ae376dbc-ee35-4743-b6ee-e6036988441f",
   "metadata": {},
   "source": [
    "The objective is now a function of `2*nInj = 4` variables.\n",
    "It is therefore difficult to plot (requires cross-sections or other projections)\n",
    "and anyway computing it would be `nPixels_per_dim^nInj` times more costly.\n",
    "We therefore just plot the (known) permeability field along with initial well layout."
   ]
  },
  {
   "cell_type": "code",
   "execution_count": null,
   "id": "54d5ce6d",
   "metadata": {},
   "outputs": [],
   "source": [
    "# Optimize\n",
    "u0 = np.ravel(inj_xys0)\n",
    "path, objs, info = GD(obj, u0, nabla_ens(.1))\n",
    "path = coordinate_transform(path)\n",
    "\n",
    "fig, axs = plotting.figure12(obj.__name__)\n",
    "model.plt_field(axs[0], model.K[0], \"perm\")\n",
    "\n",
    "# Plot optimisation trajectory\n",
    "plotting.add_path12(*axs, path[:, :2], objs, color='C1')\n",
    "plotting.add_path12(*axs, path[:, 2:], color='C3')\n",
    "fig.tight_layout()"
   ]
  },
  {
   "cell_type": "markdown",
   "id": "8dc52007-6547-4ee0-b3dd-7793d3bb5767",
   "metadata": {},
   "source": [
    "Seems reasonable.\n",
    "A useful sanity check is provided by inspecting the resulting flow pattern."
   ]
  },
  {
   "cell_type": "code",
   "execution_count": null,
   "id": "5926bf71",
   "metadata": {
    "lines_to_next_cell": 1
   },
   "outputs": [],
   "source": [
    "plot_final_sweep(remake(model, inj_xy=path[-1], name=f\"Optimal for {obj.__name__}\"))"
   ]
  },
  {
   "cell_type": "markdown",
   "id": "96b9ea9a-e60a-4922-b41e-1557ba22a822",
   "metadata": {},
   "source": [
    "## Case: Optimize single rate"
   ]
  },
  {
   "cell_type": "markdown",
   "id": "cc1d6c65",
   "metadata": {},
   "source": [
    "When setting the injection rate(s), we must also\n",
    "set the total production rates to be the same (this is a model constraint),\n",
    "and vice-versa."
   ]
  },
  {
   "cell_type": "code",
   "execution_count": null,
   "id": "9aaa8b5e-68de-402c-a125-6e55a75a1023",
   "metadata": {
    "lines_to_next_cell": 1
   },
   "outputs": [],
   "source": [
    "def equalize(rates, nWell):\n",
    "    \"\"\"Distribute the total rate equally among `nWell`.\"\"\"\n",
    "    return np.tile(rates.sum(0) / nWell, (nWell, 1))"
   ]
  },
  {
   "cell_type": "markdown",
   "id": "f42b2d71-bb6b-49fe-abfc-9494c7ab85c8",
   "metadata": {},
   "source": [
    "Thus, as above, we need to pre-compute something before calling `npv()`."
   ]
  },
  {
   "cell_type": "code",
   "execution_count": null,
   "id": "9b0f8f0a",
   "metadata": {},
   "outputs": [],
   "source": [
    "def npv_in_inj_rates(inj_rates):\n",
    "    prod_rates = equalize(inj_rates, model.nProd)\n",
    "    return npv(model, inj_rates=inj_rates, prod_rates=prod_rates)[0]\n",
    "\n",
    "obj = npv_in_inj_rates\n",
    "model = original_model\n",
    "print(f\"Case: '{obj.__name__}' for '{model.name}'\")"
   ]
  },
  {
   "cell_type": "markdown",
   "id": "0ec2e186",
   "metadata": {},
   "source": [
    "Again, we are able and can afford to compute and plot the entire objective."
   ]
  },
  {
   "cell_type": "code",
   "execution_count": null,
   "id": "d6d51377",
   "metadata": {
    "tags": []
   },
   "outputs": [],
   "source": [
    "rates = np.linspace(0.1, 5, 21)\n",
    "npvs = utils.apply(obj, rates, desc=\"obj(entire domain)\")"
   ]
  },
  {
   "cell_type": "markdown",
   "id": "bec9c0b4",
   "metadata": {},
   "source": [
    "It makes sense that there is an optimum sweet spot somewhere in the middle.\n",
    "- Little water injection ⇒ little oil production.\n",
    "- Much water injection ⇒ very pricey, whereas reservoir contains finite amount of oil."
   ]
  },
  {
   "cell_type": "code",
   "execution_count": null,
   "id": "02566b75",
   "metadata": {},
   "outputs": [],
   "source": [
    "# Optimize\n",
    "fig, ax = freshfig(obj.__name__, figsize=(1, .4), rel=True)\n",
    "ax.grid()\n",
    "ax.set(xlabel=\"rate\", ylabel=\"NPV\")\n",
    "ax.plot(rates, npvs, \"slategrey\")\n",
    "\n",
    "for i, u0 in enumerate(np.array([[.1, 5]]).T):\n",
    "    path, objs, info = GD(obj, u0, nabla_ens(.1))\n",
    "    shift = i+1  # for visual distinction\n",
    "    ax.plot(path, objs - shift, '-o', color=f'C{i+1}')\n",
    "fig.tight_layout()"
   ]
  },
  {
   "cell_type": "markdown",
   "id": "c54574b7",
   "metadata": {},
   "source": [
    "## Case: multiple rates (with interactive/manual optimisation)\n",
    "The objective is again the npv as a function of the injection rate."
   ]
  },
  {
   "cell_type": "code",
   "execution_count": null,
   "id": "4164def5",
   "metadata": {},
   "outputs": [],
   "source": [
    "obj = npv_in_inj_rates"
   ]
  },
  {
   "cell_type": "markdown",
   "id": "cb98c4cd-88be-4768-a43d-89c36889d403",
   "metadata": {},
   "source": [
    "But this time let's have more injectors,\n",
    "and therefore also rearrange the producers."
   ]
  },
  {
   "cell_type": "code",
   "execution_count": null,
   "id": "fa190150-ded7-4f92-b25a-0d396aef5fa0",
   "metadata": {
    "tags": []
   },
   "outputs": [],
   "source": [
    "triangle = [0, 135, -135]\n",
    "wells = dict(\n",
    "    inj_xy = ([[model.Lx/2, model.Ly/2]] +\n",
    "              [utils.xy_p_normed(th + 90, *model.domain[1]) for th in triangle]),\n",
    "    prod_xy = [utils.xy_p_normed(th - 90, *model.domain[1]) for th in triangle],\n",
    "    inj_rates  = rate0 * np.ones((4, 1)) / 4,\n",
    "    prod_rates = rate0 * np.ones((3, 1)) / 3,\n",
    ")\n",
    "model = remake(model, **wells, name=\"Triangle case\")\n",
    "print(f\"Case: '{obj.__name__}' for '{model.name}'\")"
   ]
  },
  {
   "cell_type": "markdown",
   "id": "1ae872f7-e5de-453e-aeff-bc706bb34dee",
   "metadata": {},
   "source": [
    "Show well layout"
   ]
  },
  {
   "cell_type": "code",
   "execution_count": null,
   "id": "605b220b",
   "metadata": {
    "tags": []
   },
   "outputs": [],
   "source": [
    "fig, ax = freshfig(model.name, figsize=(1, .6), rel=True)\n",
    "model.plt_field(ax, model.K[0], \"perm\");\n",
    "fig.tight_layout()"
   ]
  },
  {
   "cell_type": "markdown",
   "id": "62e1ab3d-4a67-4d5a-bb01-5ab394d83d34",
   "metadata": {},
   "source": [
    "Define function that takes injection rates and computes final sweep, i.e. saturation field.\n",
    "Also print (with terminal color codes) the resulting NPV."
   ]
  },
  {
   "cell_type": "code",
   "execution_count": null,
   "id": "105a5a95",
   "metadata": {
    "tags": []
   },
   "outputs": [],
   "source": [
    "def final_sweep_given_inj_rates(**kwargs):\n",
    "    inj_rates = np.array([list(kwargs.values())]).T\n",
    "    value, info = npv(model, inj_rates=inj_rates, prod_rates=equalize(inj_rates, model.nProd))\n",
    "    termcolor = \"\\x1b[37;46;1m\"\n",
    "    print(\"\\x1b[45m NPV for these injection_rates:\", f\"\\x1b[30;47;1m{value}\")\n",
    "    return info['wsats'][-1]"
   ]
  },
  {
   "cell_type": "markdown",
   "id": "e0922b5e-e473-4bc5-9975-d9aac0c7007c",
   "metadata": {},
   "source": [
    "By assigning `controls` to this function (the rate of each injector)..."
   ]
  },
  {
   "cell_type": "code",
   "execution_count": null,
   "id": "6a737b69",
   "metadata": {},
   "outputs": [],
   "source": [
    "final_sweep_given_inj_rates.controls = dict(\n",
    "    inj0_rate = (0, 1.4),\n",
    "    inj1_rate = (0, 1.4),\n",
    "    inj2_rate = (0, 1.4),\n",
    "    inj3_rate = (0, 1.4),\n",
    ")"
   ]
  },
  {
   "cell_type": "markdown",
   "id": "96e97713-6aac-49e7-9c03-c19b6bb48f5a",
   "metadata": {},
   "source": [
    "... the following widget allows us to \"interactively\" (but manually) optimize the rates.\n",
    "This is of course only feasible because the model is so simple and runs so fast."
   ]
  },
  {
   "cell_type": "code",
   "execution_count": null,
   "id": "37e92712",
   "metadata": {},
   "outputs": [],
   "source": [
    "plotting.field_console(model, final_sweep_given_inj_rates, \"oil\", wells=True, figsize=(1, .6))"
   ]
  },
  {
   "cell_type": "markdown",
   "id": "a44ac819",
   "metadata": {},
   "source": [
    "#### Automatic (EnOpt) optimisation\n",
    "Run EnOpt (below)."
   ]
  },
  {
   "cell_type": "code",
   "execution_count": null,
   "id": "f5a93f0a",
   "metadata": {
    "tags": []
   },
   "outputs": [],
   "source": [
    "u0 = .7*np.ones(model.nInj)\n",
    "path, objs, info = GD(obj, u0, nabla_ens(.1))"
   ]
  },
  {
   "cell_type": "markdown",
   "id": "6913f083-4eda-4d30-810e-439ac6a83e77",
   "metadata": {},
   "source": [
    "Now try setting\n",
    "the resulting suggested values in the interactive widget above.\n",
    "Were you able to find equally good settings?"
   ]
  },
  {
   "cell_type": "markdown",
   "id": "127449ed",
   "metadata": {},
   "source": [
    "## Case: 5-spot similar to Angga -- Make Pareto front\n",
    "Compared to Angga:\n",
    "\n",
    "- No compressibility\n",
    "- 20x20 vs. 60x60\n",
    "- Simplified geology (permeability)\n",
    "- Injection is constant in time and across wells\n",
    "\n",
    "Only the 1st item is hard to change."
   ]
  },
  {
   "cell_type": "code",
   "execution_count": null,
   "id": "afb967d7",
   "metadata": {},
   "outputs": [],
   "source": [
    "model = remake(original_model,\n",
    "    name = \"Angga\",\n",
    "    prod_xy = [[model.Lx/2, model.Ly/2]],\n",
    "    inj_xy = xy_4corners,\n",
    "    prod_rates  = rate0 * np.ones((1, 1)) / 1,\n",
    "    inj_rates = rate0 * np.ones((4, 1)) / 4,\n",
    ")\n",
    "\n",
    "plot_final_sweep(model)"
   ]
  },
  {
   "cell_type": "code",
   "execution_count": null,
   "id": "891cc06e",
   "metadata": {},
   "outputs": [],
   "source": [
    "def npv_in_prod_rates(prod_rates):\n",
    "    inj_rates = equalize(prod_rates, model.nInj)\n",
    "    return npv(model, prod_rates=prod_rates, inj_rates=inj_rates)[0]\n",
    "\n",
    "obj = npv_in_prod_rates\n",
    "print(f\"Case: '{obj.__name__}' for '{model.name}'\")"
   ]
  },
  {
   "cell_type": "markdown",
   "id": "83a20824",
   "metadata": {},
   "source": [
    "#### Optimize"
   ]
  },
  {
   "cell_type": "code",
   "execution_count": null,
   "id": "978515cc",
   "metadata": {},
   "outputs": [],
   "source": [
    "fig, ax = freshfig(obj.__name__, figsize=(1, .8), rel=True)\n",
    "rates = np.logspace(-2, 1, 31)\n",
    "optimal_rates = []\n",
    "# cost_multiplier = [.01, .04, .1, .4, .9, .99]\n",
    "__default__ = price_of_inj\n",
    "cost_multiplier = np.arange(0.1, 1, 0.1)\n",
    "for i, xCost in enumerate(cost_multiplier):\n",
    "    price_of_inj = __default__ * xCost\n",
    "    npvs = utils.apply(obj, rates, desc=\"obj(entire domain)\")\n",
    "    ax.plot(rates, npvs, label=f\"{xCost:.1}\")\n",
    "    path, objs, info = GD(obj, np.array([2]), nabla_ens(.1))\n",
    "    optimal_rates.append(path[-1])\n",
    "price_of_inj = __default__  # restore\n",
    "ax.set_ylim(1e-2)\n",
    "ax.legend(title=\"×price_of_inj\")\n",
    "ax.set(xlabel=\"rate\", ylabel=\"NPV\")\n",
    "fig.tight_layout()\n",
    "ax.grid()"
   ]
  },
  {
   "cell_type": "markdown",
   "id": "a6f5c199",
   "metadata": {},
   "source": [
    "#### Pareto front\n",
    "Breakdown npv (into emissions and sales) for optima"
   ]
  },
  {
   "cell_type": "code",
   "execution_count": null,
   "id": "0bb3a669",
   "metadata": {
    "lines_to_next_cell": 2
   },
   "outputs": [],
   "source": [
    "sales = []\n",
    "emissions = []\n",
    "for i, prod_rates in enumerate(optimal_rates):\n",
    "    inj_rates = equalize(prod_rates, model.nInj)\n",
    "    value, other = npv(model, prod_rates=prod_rates, inj_rates=inj_rates)\n",
    "    sales.append(other['prod_total'])\n",
    "    emissions.append(other['inj_total'])"
   ]
  },
  {
   "cell_type": "code",
   "execution_count": null,
   "id": "37d0a431",
   "metadata": {},
   "outputs": [],
   "source": [
    "fig, ax = freshfig(\"Pareto front (npv-optimal settings for range of price_of_inj)\", figsize=(1, .8), rel=True)\n",
    "ax.grid()\n",
    "ax.set(xlabel=\"npv (income only)\", ylabel=\"inj/emissions (expenses)\")\n",
    "ax.plot(sales, emissions, \"o-\")\n",
    "fig.tight_layout()"
   ]
  }
 ],
 "metadata": {
  "jupytext": {
   "cell_metadata_filter": "-all",
   "encoding": "# -*- coding: utf-8 -*-",
   "formats": "ipynb,auto:light",
   "main_language": "python",
   "notebook_metadata_filter": "-all"
  },
  "kernelspec": {
   "display_name": "Python 3 (ipykernel)",
   "language": "python",
   "name": "python3"
  },
  "language_info": {
   "codemirror_mode": {
    "name": "ipython",
    "version": 3
   },
   "file_extension": ".py",
   "mimetype": "text/x-python",
   "name": "python",
   "nbconvert_exporter": "python",
   "pygments_lexer": "ipython3",
   "version": "3.11.5"
  }
 },
 "nbformat": 4,
 "nbformat_minor": 5
}
